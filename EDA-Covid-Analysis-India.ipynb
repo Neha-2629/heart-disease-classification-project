{
 "cells": [
  {
   "cell_type": "markdown",
   "id": "580922cb",
   "metadata": {},
   "source": [
    "# EDA Of Covid 19 India Dataset\n",
    "\n",
    "## 1. Data\n",
    "The data is taken from Kaggle. The link for it is given below: Source: https://www.kaggle.com/sudalairajkumar/covid19-in-india"
   ]
  },
  {
   "cell_type": "code",
   "execution_count": 36,
   "id": "60b20a9c",
   "metadata": {},
   "outputs": [],
   "source": [
    "# Step 1: Import all the libraries\n",
    "import pandas as pd\n",
    "import numpy as np\n",
    "import matplotlib.pyplot as plt\n",
    "import seaborn as sns\n",
    "import plotly.express as px\n",
    "import plotly.subplots as make_subplots\n",
    "from datetime import datetime"
   ]
  },
  {
   "cell_type": "code",
   "execution_count": 37,
   "id": "13edf49f",
   "metadata": {},
   "outputs": [
    {
     "data": {
      "text/html": [
       "<div>\n",
       "<style scoped>\n",
       "    .dataframe tbody tr th:only-of-type {\n",
       "        vertical-align: middle;\n",
       "    }\n",
       "\n",
       "    .dataframe tbody tr th {\n",
       "        vertical-align: top;\n",
       "    }\n",
       "\n",
       "    .dataframe thead th {\n",
       "        text-align: right;\n",
       "    }\n",
       "</style>\n",
       "<table border=\"1\" class=\"dataframe\">\n",
       "  <thead>\n",
       "    <tr style=\"text-align: right;\">\n",
       "      <th></th>\n",
       "      <th>Sno</th>\n",
       "      <th>Date</th>\n",
       "      <th>Time</th>\n",
       "      <th>State/UnionTerritory</th>\n",
       "      <th>ConfirmedIndianNational</th>\n",
       "      <th>ConfirmedForeignNational</th>\n",
       "      <th>Cured</th>\n",
       "      <th>Deaths</th>\n",
       "      <th>Confirmed</th>\n",
       "    </tr>\n",
       "  </thead>\n",
       "  <tbody>\n",
       "    <tr>\n",
       "      <th>0</th>\n",
       "      <td>1</td>\n",
       "      <td>2020-01-30</td>\n",
       "      <td>6:00 PM</td>\n",
       "      <td>Kerala</td>\n",
       "      <td>1</td>\n",
       "      <td>0</td>\n",
       "      <td>0</td>\n",
       "      <td>0</td>\n",
       "      <td>1</td>\n",
       "    </tr>\n",
       "    <tr>\n",
       "      <th>1</th>\n",
       "      <td>2</td>\n",
       "      <td>2020-01-31</td>\n",
       "      <td>6:00 PM</td>\n",
       "      <td>Kerala</td>\n",
       "      <td>1</td>\n",
       "      <td>0</td>\n",
       "      <td>0</td>\n",
       "      <td>0</td>\n",
       "      <td>1</td>\n",
       "    </tr>\n",
       "    <tr>\n",
       "      <th>2</th>\n",
       "      <td>3</td>\n",
       "      <td>2020-02-01</td>\n",
       "      <td>6:00 PM</td>\n",
       "      <td>Kerala</td>\n",
       "      <td>2</td>\n",
       "      <td>0</td>\n",
       "      <td>0</td>\n",
       "      <td>0</td>\n",
       "      <td>2</td>\n",
       "    </tr>\n",
       "    <tr>\n",
       "      <th>3</th>\n",
       "      <td>4</td>\n",
       "      <td>2020-02-02</td>\n",
       "      <td>6:00 PM</td>\n",
       "      <td>Kerala</td>\n",
       "      <td>3</td>\n",
       "      <td>0</td>\n",
       "      <td>0</td>\n",
       "      <td>0</td>\n",
       "      <td>3</td>\n",
       "    </tr>\n",
       "    <tr>\n",
       "      <th>4</th>\n",
       "      <td>5</td>\n",
       "      <td>2020-02-03</td>\n",
       "      <td>6:00 PM</td>\n",
       "      <td>Kerala</td>\n",
       "      <td>3</td>\n",
       "      <td>0</td>\n",
       "      <td>0</td>\n",
       "      <td>0</td>\n",
       "      <td>3</td>\n",
       "    </tr>\n",
       "  </tbody>\n",
       "</table>\n",
       "</div>"
      ],
      "text/plain": [
       "   Sno        Date     Time State/UnionTerritory ConfirmedIndianNational  \\\n",
       "0    1  2020-01-30  6:00 PM               Kerala                       1   \n",
       "1    2  2020-01-31  6:00 PM               Kerala                       1   \n",
       "2    3  2020-02-01  6:00 PM               Kerala                       2   \n",
       "3    4  2020-02-02  6:00 PM               Kerala                       3   \n",
       "4    5  2020-02-03  6:00 PM               Kerala                       3   \n",
       "\n",
       "  ConfirmedForeignNational  Cured  Deaths  Confirmed  \n",
       "0                        0      0       0          1  \n",
       "1                        0      0       0          1  \n",
       "2                        0      0       0          2  \n",
       "3                        0      0       0          3  \n",
       "4                        0      0       0          3  "
      ]
     },
     "execution_count": 37,
     "metadata": {},
     "output_type": "execute_result"
    }
   ],
   "source": [
    "## Let's load the data and analyze its features\n",
    "\n",
    "covid_data = pd.read_csv('Data/covid_19_india.csv')\n",
    "covid_data.head()"
   ]
  },
  {
   "cell_type": "code",
   "execution_count": 38,
   "id": "14550202",
   "metadata": {},
   "outputs": [
    {
     "data": {
      "text/html": [
       "<div>\n",
       "<style scoped>\n",
       "    .dataframe tbody tr th:only-of-type {\n",
       "        vertical-align: middle;\n",
       "    }\n",
       "\n",
       "    .dataframe tbody tr th {\n",
       "        vertical-align: top;\n",
       "    }\n",
       "\n",
       "    .dataframe thead th {\n",
       "        text-align: right;\n",
       "    }\n",
       "</style>\n",
       "<table border=\"1\" class=\"dataframe\">\n",
       "  <thead>\n",
       "    <tr style=\"text-align: right;\">\n",
       "      <th></th>\n",
       "      <th>Sno</th>\n",
       "      <th>Date</th>\n",
       "      <th>Time</th>\n",
       "      <th>State/UnionTerritory</th>\n",
       "      <th>ConfirmedIndianNational</th>\n",
       "      <th>ConfirmedForeignNational</th>\n",
       "      <th>Cured</th>\n",
       "      <th>Deaths</th>\n",
       "      <th>Confirmed</th>\n",
       "    </tr>\n",
       "  </thead>\n",
       "  <tbody>\n",
       "    <tr>\n",
       "      <th>0</th>\n",
       "      <td>1</td>\n",
       "      <td>2020-01-30</td>\n",
       "      <td>6:00 PM</td>\n",
       "      <td>Kerala</td>\n",
       "      <td>1</td>\n",
       "      <td>0</td>\n",
       "      <td>0</td>\n",
       "      <td>0</td>\n",
       "      <td>1</td>\n",
       "    </tr>\n",
       "    <tr>\n",
       "      <th>1</th>\n",
       "      <td>2</td>\n",
       "      <td>2020-01-31</td>\n",
       "      <td>6:00 PM</td>\n",
       "      <td>Kerala</td>\n",
       "      <td>1</td>\n",
       "      <td>0</td>\n",
       "      <td>0</td>\n",
       "      <td>0</td>\n",
       "      <td>1</td>\n",
       "    </tr>\n",
       "    <tr>\n",
       "      <th>2</th>\n",
       "      <td>3</td>\n",
       "      <td>2020-02-01</td>\n",
       "      <td>6:00 PM</td>\n",
       "      <td>Kerala</td>\n",
       "      <td>2</td>\n",
       "      <td>0</td>\n",
       "      <td>0</td>\n",
       "      <td>0</td>\n",
       "      <td>2</td>\n",
       "    </tr>\n",
       "    <tr>\n",
       "      <th>3</th>\n",
       "      <td>4</td>\n",
       "      <td>2020-02-02</td>\n",
       "      <td>6:00 PM</td>\n",
       "      <td>Kerala</td>\n",
       "      <td>3</td>\n",
       "      <td>0</td>\n",
       "      <td>0</td>\n",
       "      <td>0</td>\n",
       "      <td>3</td>\n",
       "    </tr>\n",
       "    <tr>\n",
       "      <th>4</th>\n",
       "      <td>5</td>\n",
       "      <td>2020-02-03</td>\n",
       "      <td>6:00 PM</td>\n",
       "      <td>Kerala</td>\n",
       "      <td>3</td>\n",
       "      <td>0</td>\n",
       "      <td>0</td>\n",
       "      <td>0</td>\n",
       "      <td>3</td>\n",
       "    </tr>\n",
       "  </tbody>\n",
       "</table>\n",
       "</div>"
      ],
      "text/plain": [
       "   Sno       Date     Time State/UnionTerritory ConfirmedIndianNational  \\\n",
       "0    1 2020-01-30  6:00 PM               Kerala                       1   \n",
       "1    2 2020-01-31  6:00 PM               Kerala                       1   \n",
       "2    3 2020-02-01  6:00 PM               Kerala                       2   \n",
       "3    4 2020-02-02  6:00 PM               Kerala                       3   \n",
       "4    5 2020-02-03  6:00 PM               Kerala                       3   \n",
       "\n",
       "  ConfirmedForeignNational  Cured  Deaths  Confirmed  \n",
       "0                        0      0       0          1  \n",
       "1                        0      0       0          1  \n",
       "2                        0      0       0          2  \n",
       "3                        0      0       0          3  \n",
       "4                        0      0       0          3  "
      ]
     },
     "execution_count": 38,
     "metadata": {},
     "output_type": "execute_result"
    }
   ],
   "source": [
    "covid_data['Date'] = covid_data['Date'].astype('datetime64[ns]')\n",
    "covid_data.head()"
   ]
  },
  {
   "cell_type": "code",
   "execution_count": 39,
   "id": "a7905eb9",
   "metadata": {},
   "outputs": [
    {
     "data": {
      "text/plain": [
       "(14510, 9)"
      ]
     },
     "execution_count": 39,
     "metadata": {},
     "output_type": "execute_result"
    }
   ],
   "source": [
    "covid_data.shape"
   ]
  },
  {
   "cell_type": "code",
   "execution_count": 40,
   "id": "76011e7b",
   "metadata": {},
   "outputs": [
    {
     "name": "stdout",
     "output_type": "stream",
     "text": [
      "<class 'pandas.core.frame.DataFrame'>\n",
      "RangeIndex: 14510 entries, 0 to 14509\n",
      "Data columns (total 9 columns):\n",
      " #   Column                    Non-Null Count  Dtype         \n",
      "---  ------                    --------------  -----         \n",
      " 0   Sno                       14510 non-null  int64         \n",
      " 1   Date                      14510 non-null  datetime64[ns]\n",
      " 2   Time                      14510 non-null  object        \n",
      " 3   State/UnionTerritory      14510 non-null  object        \n",
      " 4   ConfirmedIndianNational   14510 non-null  object        \n",
      " 5   ConfirmedForeignNational  14510 non-null  object        \n",
      " 6   Cured                     14510 non-null  int64         \n",
      " 7   Deaths                    14510 non-null  int64         \n",
      " 8   Confirmed                 14510 non-null  int64         \n",
      "dtypes: datetime64[ns](1), int64(4), object(4)\n",
      "memory usage: 1020.4+ KB\n"
     ]
    }
   ],
   "source": [
    "covid_data.info()"
   ]
  },
  {
   "cell_type": "markdown",
   "id": "658a0820",
   "metadata": {},
   "source": [
    "### There are tital 9 features and 14510 entries for each column. Also we can see that there are no missing values in this dataset. The dt-type for features is: numeric and object"
   ]
  },
  {
   "cell_type": "code",
   "execution_count": 41,
   "id": "8c933ec9",
   "metadata": {},
   "outputs": [
    {
     "data": {
      "text/html": [
       "<div>\n",
       "<style scoped>\n",
       "    .dataframe tbody tr th:only-of-type {\n",
       "        vertical-align: middle;\n",
       "    }\n",
       "\n",
       "    .dataframe tbody tr th {\n",
       "        vertical-align: top;\n",
       "    }\n",
       "\n",
       "    .dataframe thead th {\n",
       "        text-align: right;\n",
       "    }\n",
       "</style>\n",
       "<table border=\"1\" class=\"dataframe\">\n",
       "  <thead>\n",
       "    <tr style=\"text-align: right;\">\n",
       "      <th></th>\n",
       "      <th>Sno</th>\n",
       "      <th>Cured</th>\n",
       "      <th>Deaths</th>\n",
       "      <th>Confirmed</th>\n",
       "    </tr>\n",
       "  </thead>\n",
       "  <tbody>\n",
       "    <tr>\n",
       "      <th>count</th>\n",
       "      <td>14510.000000</td>\n",
       "      <td>1.451000e+04</td>\n",
       "      <td>14510.000000</td>\n",
       "      <td>1.451000e+04</td>\n",
       "    </tr>\n",
       "    <tr>\n",
       "      <th>mean</th>\n",
       "      <td>7255.500000</td>\n",
       "      <td>1.605341e+05</td>\n",
       "      <td>2550.862440</td>\n",
       "      <td>1.765499e+05</td>\n",
       "    </tr>\n",
       "    <tr>\n",
       "      <th>std</th>\n",
       "      <td>4188.820538</td>\n",
       "      <td>3.264755e+05</td>\n",
       "      <td>6781.796503</td>\n",
       "      <td>3.608269e+05</td>\n",
       "    </tr>\n",
       "    <tr>\n",
       "      <th>min</th>\n",
       "      <td>1.000000</td>\n",
       "      <td>0.000000e+00</td>\n",
       "      <td>0.000000</td>\n",
       "      <td>0.000000e+00</td>\n",
       "    </tr>\n",
       "    <tr>\n",
       "      <th>25%</th>\n",
       "      <td>3628.250000</td>\n",
       "      <td>1.393250e+03</td>\n",
       "      <td>11.000000</td>\n",
       "      <td>2.575250e+03</td>\n",
       "    </tr>\n",
       "    <tr>\n",
       "      <th>50%</th>\n",
       "      <td>7255.500000</td>\n",
       "      <td>1.714550e+04</td>\n",
       "      <td>337.000000</td>\n",
       "      <td>2.251450e+04</td>\n",
       "    </tr>\n",
       "    <tr>\n",
       "      <th>75%</th>\n",
       "      <td>10882.750000</td>\n",
       "      <td>1.907292e+05</td>\n",
       "      <td>1954.000000</td>\n",
       "      <td>2.140565e+05</td>\n",
       "    </tr>\n",
       "    <tr>\n",
       "      <th>max</th>\n",
       "      <td>14510.000000</td>\n",
       "      <td>3.981658e+06</td>\n",
       "      <td>70284.000000</td>\n",
       "      <td>4.722401e+06</td>\n",
       "    </tr>\n",
       "  </tbody>\n",
       "</table>\n",
       "</div>"
      ],
      "text/plain": [
       "                Sno         Cured        Deaths     Confirmed\n",
       "count  14510.000000  1.451000e+04  14510.000000  1.451000e+04\n",
       "mean    7255.500000  1.605341e+05   2550.862440  1.765499e+05\n",
       "std     4188.820538  3.264755e+05   6781.796503  3.608269e+05\n",
       "min        1.000000  0.000000e+00      0.000000  0.000000e+00\n",
       "25%     3628.250000  1.393250e+03     11.000000  2.575250e+03\n",
       "50%     7255.500000  1.714550e+04    337.000000  2.251450e+04\n",
       "75%    10882.750000  1.907292e+05   1954.000000  2.140565e+05\n",
       "max    14510.000000  3.981658e+06  70284.000000  4.722401e+06"
      ]
     },
     "execution_count": 41,
     "metadata": {},
     "output_type": "execute_result"
    }
   ],
   "source": [
    "# Statistical summary of data:\n",
    "covid_data.describe()"
   ]
  },
  {
   "cell_type": "code",
   "execution_count": 42,
   "id": "b38b1e51",
   "metadata": {},
   "outputs": [
    {
     "data": {
      "text/html": [
       "<div>\n",
       "<style scoped>\n",
       "    .dataframe tbody tr th:only-of-type {\n",
       "        vertical-align: middle;\n",
       "    }\n",
       "\n",
       "    .dataframe tbody tr th {\n",
       "        vertical-align: top;\n",
       "    }\n",
       "\n",
       "    .dataframe thead th {\n",
       "        text-align: right;\n",
       "    }\n",
       "</style>\n",
       "<table border=\"1\" class=\"dataframe\">\n",
       "  <thead>\n",
       "    <tr style=\"text-align: right;\">\n",
       "      <th></th>\n",
       "      <th>Sno</th>\n",
       "      <th>Date</th>\n",
       "      <th>Time</th>\n",
       "      <th>State/UnionTerritory</th>\n",
       "      <th>ConfirmedIndianNational</th>\n",
       "      <th>ConfirmedForeignNational</th>\n",
       "      <th>Cured</th>\n",
       "      <th>Deaths</th>\n",
       "      <th>Confirmed</th>\n",
       "    </tr>\n",
       "  </thead>\n",
       "  <tbody>\n",
       "    <tr>\n",
       "      <th>14500</th>\n",
       "      <td>14501</td>\n",
       "      <td>2021-05-03</td>\n",
       "      <td>8:00 AM</td>\n",
       "      <td>Puducherry</td>\n",
       "      <td>-</td>\n",
       "      <td>-</td>\n",
       "      <td>49908</td>\n",
       "      <td>833</td>\n",
       "      <td>61361</td>\n",
       "    </tr>\n",
       "    <tr>\n",
       "      <th>14501</th>\n",
       "      <td>14502</td>\n",
       "      <td>2021-05-03</td>\n",
       "      <td>8:00 AM</td>\n",
       "      <td>Punjab</td>\n",
       "      <td>-</td>\n",
       "      <td>-</td>\n",
       "      <td>315845</td>\n",
       "      <td>9317</td>\n",
       "      <td>385270</td>\n",
       "    </tr>\n",
       "    <tr>\n",
       "      <th>14502</th>\n",
       "      <td>14503</td>\n",
       "      <td>2021-05-03</td>\n",
       "      <td>8:00 AM</td>\n",
       "      <td>Rajasthan</td>\n",
       "      <td>-</td>\n",
       "      <td>-</td>\n",
       "      <td>440215</td>\n",
       "      <td>4558</td>\n",
       "      <td>633951</td>\n",
       "    </tr>\n",
       "    <tr>\n",
       "      <th>14503</th>\n",
       "      <td>14504</td>\n",
       "      <td>2021-05-03</td>\n",
       "      <td>8:00 AM</td>\n",
       "      <td>Sikkim</td>\n",
       "      <td>-</td>\n",
       "      <td>-</td>\n",
       "      <td>6484</td>\n",
       "      <td>149</td>\n",
       "      <td>8441</td>\n",
       "    </tr>\n",
       "    <tr>\n",
       "      <th>14504</th>\n",
       "      <td>14505</td>\n",
       "      <td>2021-05-03</td>\n",
       "      <td>8:00 AM</td>\n",
       "      <td>Tamil Nadu</td>\n",
       "      <td>-</td>\n",
       "      <td>-</td>\n",
       "      <td>1072322</td>\n",
       "      <td>14346</td>\n",
       "      <td>1207112</td>\n",
       "    </tr>\n",
       "    <tr>\n",
       "      <th>14505</th>\n",
       "      <td>14506</td>\n",
       "      <td>2021-05-03</td>\n",
       "      <td>8:00 AM</td>\n",
       "      <td>Telangana</td>\n",
       "      <td>-</td>\n",
       "      <td>-</td>\n",
       "      <td>373933</td>\n",
       "      <td>2417</td>\n",
       "      <td>456485</td>\n",
       "    </tr>\n",
       "    <tr>\n",
       "      <th>14506</th>\n",
       "      <td>14507</td>\n",
       "      <td>2021-05-03</td>\n",
       "      <td>8:00 AM</td>\n",
       "      <td>Tripura</td>\n",
       "      <td>-</td>\n",
       "      <td>-</td>\n",
       "      <td>33782</td>\n",
       "      <td>399</td>\n",
       "      <td>35723</td>\n",
       "    </tr>\n",
       "    <tr>\n",
       "      <th>14507</th>\n",
       "      <td>14508</td>\n",
       "      <td>2021-05-03</td>\n",
       "      <td>8:00 AM</td>\n",
       "      <td>Uttarakhand</td>\n",
       "      <td>-</td>\n",
       "      <td>-</td>\n",
       "      <td>135206</td>\n",
       "      <td>2802</td>\n",
       "      <td>191620</td>\n",
       "    </tr>\n",
       "    <tr>\n",
       "      <th>14508</th>\n",
       "      <td>14509</td>\n",
       "      <td>2021-05-03</td>\n",
       "      <td>8:00 AM</td>\n",
       "      <td>Uttar Pradesh</td>\n",
       "      <td>-</td>\n",
       "      <td>-</td>\n",
       "      <td>1004447</td>\n",
       "      <td>13162</td>\n",
       "      <td>1313361</td>\n",
       "    </tr>\n",
       "    <tr>\n",
       "      <th>14509</th>\n",
       "      <td>14510</td>\n",
       "      <td>2021-05-03</td>\n",
       "      <td>8:00 AM</td>\n",
       "      <td>West Bengal</td>\n",
       "      <td>-</td>\n",
       "      <td>-</td>\n",
       "      <td>733359</td>\n",
       "      <td>11539</td>\n",
       "      <td>863393</td>\n",
       "    </tr>\n",
       "  </tbody>\n",
       "</table>\n",
       "</div>"
      ],
      "text/plain": [
       "         Sno       Date     Time State/UnionTerritory ConfirmedIndianNational  \\\n",
       "14500  14501 2021-05-03  8:00 AM           Puducherry                       -   \n",
       "14501  14502 2021-05-03  8:00 AM               Punjab                       -   \n",
       "14502  14503 2021-05-03  8:00 AM            Rajasthan                       -   \n",
       "14503  14504 2021-05-03  8:00 AM               Sikkim                       -   \n",
       "14504  14505 2021-05-03  8:00 AM           Tamil Nadu                       -   \n",
       "14505  14506 2021-05-03  8:00 AM            Telangana                       -   \n",
       "14506  14507 2021-05-03  8:00 AM              Tripura                       -   \n",
       "14507  14508 2021-05-03  8:00 AM          Uttarakhand                       -   \n",
       "14508  14509 2021-05-03  8:00 AM        Uttar Pradesh                       -   \n",
       "14509  14510 2021-05-03  8:00 AM          West Bengal                       -   \n",
       "\n",
       "      ConfirmedForeignNational    Cured  Deaths  Confirmed  \n",
       "14500                        -    49908     833      61361  \n",
       "14501                        -   315845    9317     385270  \n",
       "14502                        -   440215    4558     633951  \n",
       "14503                        -     6484     149       8441  \n",
       "14504                        -  1072322   14346    1207112  \n",
       "14505                        -   373933    2417     456485  \n",
       "14506                        -    33782     399      35723  \n",
       "14507                        -   135206    2802     191620  \n",
       "14508                        -  1004447   13162    1313361  \n",
       "14509                        -   733359   11539     863393  "
      ]
     },
     "execution_count": 42,
     "metadata": {},
     "output_type": "execute_result"
    }
   ],
   "source": [
    "covid_data.tail(10)"
   ]
  },
  {
   "cell_type": "markdown",
   "id": "5f0d7f61",
   "metadata": {},
   "source": [
    "## Statewise Analysis"
   ]
  },
  {
   "cell_type": "code",
   "execution_count": 43,
   "id": "37dc1555",
   "metadata": {},
   "outputs": [
    {
     "name": "stderr",
     "output_type": "stream",
     "text": [
      "<ipython-input-43-fbc27034f826>:1: FutureWarning:\n",
      "\n",
      "Indexing with multiple keys (implicitly converted to a tuple of keys) will be deprecated, use a list instead.\n",
      "\n"
     ]
    },
    {
     "data": {
      "text/html": [
       "<style  type=\"text/css\" >\n",
       "#T_89a8e_row0_col1,#T_89a8e_row0_col2,#T_89a8e_row0_col3,#T_89a8e_row2_col3,#T_89a8e_row5_col1,#T_89a8e_row5_col2,#T_89a8e_row5_col3,#T_89a8e_row5_col4,#T_89a8e_row8_col1,#T_89a8e_row8_col2,#T_89a8e_row8_col3,#T_89a8e_row9_col1,#T_89a8e_row9_col2,#T_89a8e_row9_col3,#T_89a8e_row9_col4,#T_89a8e_row19_col3,#T_89a8e_row20_col1,#T_89a8e_row20_col2,#T_89a8e_row20_col3,#T_89a8e_row24_col3,#T_89a8e_row25_col1,#T_89a8e_row25_col2,#T_89a8e_row25_col3,#T_89a8e_row26_col3,#T_89a8e_row31_col1,#T_89a8e_row31_col2,#T_89a8e_row31_col3,#T_89a8e_row33_col1,#T_89a8e_row33_col2,#T_89a8e_row33_col3,#T_89a8e_row36_col1,#T_89a8e_row36_col2,#T_89a8e_row36_col3,#T_89a8e_row36_col4{\n",
       "            background-color:  #000004;\n",
       "            color:  #f1f1f1;\n",
       "        }#T_89a8e_row0_col4{\n",
       "            background-color:  #962c80;\n",
       "            color:  #f1f1f1;\n",
       "        }#T_89a8e_row1_col1{\n",
       "            background-color:  #8c2981;\n",
       "            color:  #f1f1f1;\n",
       "        }#T_89a8e_row1_col2,#T_89a8e_row17_col2{\n",
       "            background-color:  #9b2e7f;\n",
       "            color:  #f1f1f1;\n",
       "        }#T_89a8e_row1_col3,#T_89a8e_row34_col2{\n",
       "            background-color:  #21114e;\n",
       "            color:  #f1f1f1;\n",
       "        }#T_89a8e_row1_col4,#T_89a8e_row10_col1,#T_89a8e_row37_col1{\n",
       "            background-color:  #59157e;\n",
       "            color:  #f1f1f1;\n",
       "        }#T_89a8e_row2_col1,#T_89a8e_row2_col2,#T_89a8e_row6_col3,#T_89a8e_row19_col1,#T_89a8e_row19_col2,#T_89a8e_row23_col3,#T_89a8e_row24_col1,#T_89a8e_row24_col2,#T_89a8e_row26_col1,#T_89a8e_row26_col2,#T_89a8e_row35_col3{\n",
       "            background-color:  #010005;\n",
       "            color:  #f1f1f1;\n",
       "        }#T_89a8e_row2_col4,#T_89a8e_row3_col1,#T_89a8e_row29_col3{\n",
       "            background-color:  #140e36;\n",
       "            color:  #f1f1f1;\n",
       "        }#T_89a8e_row3_col2{\n",
       "            background-color:  #160f3b;\n",
       "            color:  #f1f1f1;\n",
       "        }#T_89a8e_row3_col3,#T_89a8e_row28_col1,#T_89a8e_row28_col2,#T_89a8e_row35_col2{\n",
       "            background-color:  #020109;\n",
       "            color:  #f1f1f1;\n",
       "        }#T_89a8e_row3_col4{\n",
       "            background-color:  #251255;\n",
       "            color:  #f1f1f1;\n",
       "        }#T_89a8e_row4_col1,#T_89a8e_row12_col1,#T_89a8e_row13_col2{\n",
       "            background-color:  #1a1042;\n",
       "            color:  #f1f1f1;\n",
       "        }#T_89a8e_row4_col2,#T_89a8e_row7_col2{\n",
       "            background-color:  #1d1147;\n",
       "            color:  #f1f1f1;\n",
       "        }#T_89a8e_row4_col3,#T_89a8e_row11_col2,#T_89a8e_row38_col3{\n",
       "            background-color:  #02020d;\n",
       "            color:  #f1f1f1;\n",
       "        }#T_89a8e_row4_col4{\n",
       "            background-color:  #331067;\n",
       "            color:  #f1f1f1;\n",
       "        }#T_89a8e_row6_col1,#T_89a8e_row6_col2,#T_89a8e_row23_col1,#T_89a8e_row23_col2{\n",
       "            background-color:  #010106;\n",
       "            color:  #f1f1f1;\n",
       "        }#T_89a8e_row6_col4{\n",
       "            background-color:  #b2357b;\n",
       "            color:  #f1f1f1;\n",
       "        }#T_89a8e_row7_col1,#T_89a8e_row12_col2{\n",
       "            background-color:  #1c1044;\n",
       "            color:  #f1f1f1;\n",
       "        }#T_89a8e_row7_col3{\n",
       "            background-color:  #090720;\n",
       "            color:  #f1f1f1;\n",
       "        }#T_89a8e_row7_col4{\n",
       "            background-color:  #862781;\n",
       "            color:  #f1f1f1;\n",
       "        }#T_89a8e_row8_col4,#T_89a8e_row11_col1,#T_89a8e_row14_col1,#T_89a8e_row14_col2,#T_89a8e_row16_col3{\n",
       "            background-color:  #02020b;\n",
       "            color:  #f1f1f1;\n",
       "        }#T_89a8e_row10_col2{\n",
       "            background-color:  #601880;\n",
       "            color:  #f1f1f1;\n",
       "        }#T_89a8e_row10_col3{\n",
       "            background-color:  #390f6e;\n",
       "            color:  #f1f1f1;\n",
       "        }#T_89a8e_row10_col4{\n",
       "            background-color:  #d8456c;\n",
       "            color:  #f1f1f1;\n",
       "        }#T_89a8e_row11_col3,#T_89a8e_row14_col3,#T_89a8e_row28_col3,#T_89a8e_row35_col1{\n",
       "            background-color:  #010108;\n",
       "            color:  #f1f1f1;\n",
       "        }#T_89a8e_row11_col4{\n",
       "            background-color:  #a5317e;\n",
       "            color:  #f1f1f1;\n",
       "        }#T_89a8e_row12_col3{\n",
       "            background-color:  #130d34;\n",
       "            color:  #f1f1f1;\n",
       "        }#T_89a8e_row12_col4{\n",
       "            background-color:  #ee5b5e;\n",
       "            color:  #000000;\n",
       "        }#T_89a8e_row13_col1,#T_89a8e_row21_col1{\n",
       "            background-color:  #180f3d;\n",
       "            color:  #f1f1f1;\n",
       "        }#T_89a8e_row13_col3,#T_89a8e_row30_col3{\n",
       "            background-color:  #06051a;\n",
       "            color:  #f1f1f1;\n",
       "        }#T_89a8e_row13_col4{\n",
       "            background-color:  #7b2382;\n",
       "            color:  #f1f1f1;\n",
       "        }#T_89a8e_row14_col4{\n",
       "            background-color:  #c23b75;\n",
       "            color:  #f1f1f1;\n",
       "        }#T_89a8e_row15_col1,#T_89a8e_row16_col1{\n",
       "            background-color:  #07061c;\n",
       "            color:  #f1f1f1;\n",
       "        }#T_89a8e_row15_col2,#T_89a8e_row16_col2,#T_89a8e_row18_col3,#T_89a8e_row25_col4{\n",
       "            background-color:  #08071e;\n",
       "            color:  #f1f1f1;\n",
       "        }#T_89a8e_row15_col3,#T_89a8e_row27_col3{\n",
       "            background-color:  #030312;\n",
       "            color:  #f1f1f1;\n",
       "        }#T_89a8e_row15_col4{\n",
       "            background-color:  #bc3978;\n",
       "            color:  #f1f1f1;\n",
       "        }#T_89a8e_row16_col4{\n",
       "            background-color:  #651a80;\n",
       "            color:  #f1f1f1;\n",
       "        }#T_89a8e_row17_col1{\n",
       "            background-color:  #932b80;\n",
       "            color:  #f1f1f1;\n",
       "        }#T_89a8e_row17_col3{\n",
       "            background-color:  #491078;\n",
       "            color:  #f1f1f1;\n",
       "        }#T_89a8e_row17_col4{\n",
       "            background-color:  #9c2e7f;\n",
       "            color:  #f1f1f1;\n",
       "        }#T_89a8e_row18_col1{\n",
       "            background-color:  #732081;\n",
       "            color:  #f1f1f1;\n",
       "        }#T_89a8e_row18_col2{\n",
       "            background-color:  #782281;\n",
       "            color:  #f1f1f1;\n",
       "        }#T_89a8e_row18_col4,#T_89a8e_row30_col1,#T_89a8e_row34_col1{\n",
       "            background-color:  #1e1149;\n",
       "            color:  #f1f1f1;\n",
       "        }#T_89a8e_row19_col4{\n",
       "            background-color:  #912b81;\n",
       "            color:  #f1f1f1;\n",
       "        }#T_89a8e_row20_col4,#T_89a8e_row38_col1{\n",
       "            background-color:  #040414;\n",
       "            color:  #f1f1f1;\n",
       "        }#T_89a8e_row21_col2{\n",
       "            background-color:  #19103f;\n",
       "            color:  #f1f1f1;\n",
       "        }#T_89a8e_row21_col3{\n",
       "            background-color:  #0c0926;\n",
       "            color:  #f1f1f1;\n",
       "        }#T_89a8e_row21_col4{\n",
       "            background-color:  #ba3878;\n",
       "            color:  #f1f1f1;\n",
       "        }#T_89a8e_row22_col1,#T_89a8e_row22_col2,#T_89a8e_row22_col3,#T_89a8e_row29_col4{\n",
       "            background-color:  #fcfdbf;\n",
       "            color:  #000000;\n",
       "        }#T_89a8e_row22_col4{\n",
       "            background-color:  #fe9d6c;\n",
       "            color:  #000000;\n",
       "        }#T_89a8e_row23_col4{\n",
       "            background-color:  #832681;\n",
       "            color:  #f1f1f1;\n",
       "        }#T_89a8e_row24_col4{\n",
       "            background-color:  #701f81;\n",
       "            color:  #f1f1f1;\n",
       "        }#T_89a8e_row26_col4{\n",
       "            background-color:  #3b0f70;\n",
       "            color:  #f1f1f1;\n",
       "        }#T_89a8e_row27_col1{\n",
       "            background-color:  #221150;\n",
       "            color:  #f1f1f1;\n",
       "        }#T_89a8e_row27_col2{\n",
       "            background-color:  #271258;\n",
       "            color:  #f1f1f1;\n",
       "        }#T_89a8e_row27_col4,#T_89a8e_row39_col3{\n",
       "            background-color:  #2f1163;\n",
       "            color:  #f1f1f1;\n",
       "        }#T_89a8e_row28_col4{\n",
       "            background-color:  #cc3f71;\n",
       "            color:  #f1f1f1;\n",
       "        }#T_89a8e_row29_col1{\n",
       "            background-color:  #0e0b2b;\n",
       "            color:  #f1f1f1;\n",
       "        }#T_89a8e_row29_col2{\n",
       "            background-color:  #100b2d;\n",
       "            color:  #f1f1f1;\n",
       "        }#T_89a8e_row30_col2{\n",
       "            background-color:  #20114b;\n",
       "            color:  #f1f1f1;\n",
       "        }#T_89a8e_row30_col4{\n",
       "            background-color:  #671b80;\n",
       "            color:  #f1f1f1;\n",
       "        }#T_89a8e_row31_col4{\n",
       "            background-color:  #ed5a5f;\n",
       "            color:  #000000;\n",
       "        }#T_89a8e_row32_col1{\n",
       "            background-color:  #882781;\n",
       "            color:  #f1f1f1;\n",
       "        }#T_89a8e_row32_col2{\n",
       "            background-color:  #942c80;\n",
       "            color:  #f1f1f1;\n",
       "        }#T_89a8e_row32_col3{\n",
       "            background-color:  #4c117a;\n",
       "            color:  #f1f1f1;\n",
       "        }#T_89a8e_row32_col4{\n",
       "            background-color:  #b3367a;\n",
       "            color:  #f1f1f1;\n",
       "        }#T_89a8e_row33_col4{\n",
       "            background-color:  #311165;\n",
       "            color:  #f1f1f1;\n",
       "        }#T_89a8e_row34_col3{\n",
       "            background-color:  #03030f;\n",
       "            color:  #f1f1f1;\n",
       "        }#T_89a8e_row34_col4{\n",
       "            background-color:  #36106b;\n",
       "            color:  #f1f1f1;\n",
       "        }#T_89a8e_row35_col4{\n",
       "            background-color:  #812581;\n",
       "            color:  #f1f1f1;\n",
       "        }#T_89a8e_row37_col2{\n",
       "            background-color:  #5c167f;\n",
       "            color:  #f1f1f1;\n",
       "        }#T_89a8e_row37_col3{\n",
       "            background-color:  #29115a;\n",
       "            color:  #f1f1f1;\n",
       "        }#T_89a8e_row37_col4{\n",
       "            background-color:  #aa337d;\n",
       "            color:  #f1f1f1;\n",
       "        }#T_89a8e_row38_col2{\n",
       "            background-color:  #050416;\n",
       "            color:  #f1f1f1;\n",
       "        }#T_89a8e_row38_col4{\n",
       "            background-color:  #c53c74;\n",
       "            color:  #f1f1f1;\n",
       "        }#T_89a8e_row39_col1{\n",
       "            background-color:  #471078;\n",
       "            color:  #f1f1f1;\n",
       "        }#T_89a8e_row39_col2{\n",
       "            background-color:  #4e117b;\n",
       "            color:  #f1f1f1;\n",
       "        }#T_89a8e_row39_col4{\n",
       "            background-color:  #dc4869;\n",
       "            color:  #000000;\n",
       "        }</style><table id=\"T_89a8e_\" ><thead>    <tr>        <th class=\"blank level0\" ></th>        <th class=\"col_heading level0 col0\" >State/UnionTerritory</th>        <th class=\"col_heading level0 col1\" >Confirmed</th>        <th class=\"col_heading level0 col2\" >Cured</th>        <th class=\"col_heading level0 col3\" >Deaths</th>        <th class=\"col_heading level0 col4\" >Death_percentage</th>    </tr></thead><tbody>\n",
       "                <tr>\n",
       "                        <th id=\"T_89a8e_level0_row0\" class=\"row_heading level0 row0\" >0</th>\n",
       "                        <td id=\"T_89a8e_row0_col0\" class=\"data row0 col0\" >Andaman and Nicobar Islands</td>\n",
       "                        <td id=\"T_89a8e_row0_col1\" class=\"data row0 col1\" >1219722</td>\n",
       "                        <td id=\"T_89a8e_row0_col2\" class=\"data row0 col2\" >1151077</td>\n",
       "                        <td id=\"T_89a8e_row0_col3\" class=\"data row0 col3\" >15461</td>\n",
       "                        <td id=\"T_89a8e_row0_col4\" class=\"data row0 col4\" >1.267584</td>\n",
       "            </tr>\n",
       "            <tr>\n",
       "                        <th id=\"T_89a8e_level0_row1\" class=\"row_heading level0 row1\" >1</th>\n",
       "                        <td id=\"T_89a8e_row1_col0\" class=\"data row1 col0\" >Andhra Pradesh</td>\n",
       "                        <td id=\"T_89a8e_row1_col1\" class=\"data row1 col1\" >216311284</td>\n",
       "                        <td id=\"T_89a8e_row1_col2\" class=\"data row1 col2\" >204556175</td>\n",
       "                        <td id=\"T_89a8e_row1_col3\" class=\"data row1 col3\" >1762534</td>\n",
       "                        <td id=\"T_89a8e_row1_col4\" class=\"data row1 col4\" >0.814814</td>\n",
       "            </tr>\n",
       "            <tr>\n",
       "                        <th id=\"T_89a8e_level0_row2\" class=\"row_heading level0 row2\" >2</th>\n",
       "                        <td id=\"T_89a8e_row2_col0\" class=\"data row2 col0\" >Arunachal Pradesh</td>\n",
       "                        <td id=\"T_89a8e_row2_col1\" class=\"data row2 col1\" >3763142</td>\n",
       "                        <td id=\"T_89a8e_row2_col2\" class=\"data row2 col2\" >3506512</td>\n",
       "                        <td id=\"T_89a8e_row2_col3\" class=\"data row2 col3\" >11396</td>\n",
       "                        <td id=\"T_89a8e_row2_col4\" class=\"data row2 col4\" >0.302832</td>\n",
       "            </tr>\n",
       "            <tr>\n",
       "                        <th id=\"T_89a8e_level0_row3\" class=\"row_heading level0 row3\" >3</th>\n",
       "                        <td id=\"T_89a8e_row3_col0\" class=\"data row3 col0\" >Assam</td>\n",
       "                        <td id=\"T_89a8e_row3_col1\" class=\"data row3 col1\" >53552311</td>\n",
       "                        <td id=\"T_89a8e_row3_col2\" class=\"data row3 col2\" >50039229</td>\n",
       "                        <td id=\"T_89a8e_row3_col3\" class=\"data row3 col3\" >243973</td>\n",
       "                        <td id=\"T_89a8e_row3_col4\" class=\"data row3 col4\" >0.455579</td>\n",
       "            </tr>\n",
       "            <tr>\n",
       "                        <th id=\"T_89a8e_level0_row4\" class=\"row_heading level0 row4\" >4</th>\n",
       "                        <td id=\"T_89a8e_row4_col0\" class=\"data row4 col0\" >Bihar</td>\n",
       "                        <td id=\"T_89a8e_row4_col1\" class=\"data row4 col1\" >63867112</td>\n",
       "                        <td id=\"T_89a8e_row4_col2\" class=\"data row4 col2\" >59714154</td>\n",
       "                        <td id=\"T_89a8e_row4_col3\" class=\"data row4 col3\" >349326</td>\n",
       "                        <td id=\"T_89a8e_row4_col4\" class=\"data row4 col4\" >0.546958</td>\n",
       "            </tr>\n",
       "            <tr>\n",
       "                        <th id=\"T_89a8e_level0_row5\" class=\"row_heading level0 row5\" >5</th>\n",
       "                        <td id=\"T_89a8e_row5_col0\" class=\"data row5 col0\" >Cases being reassigned to states</td>\n",
       "                        <td id=\"T_89a8e_row5_col1\" class=\"data row5 col1\" >345565</td>\n",
       "                        <td id=\"T_89a8e_row5_col2\" class=\"data row5 col2\" >0</td>\n",
       "                        <td id=\"T_89a8e_row5_col3\" class=\"data row5 col3\" >0</td>\n",
       "                        <td id=\"T_89a8e_row5_col4\" class=\"data row5 col4\" >0.000000</td>\n",
       "            </tr>\n",
       "            <tr>\n",
       "                        <th id=\"T_89a8e_level0_row6\" class=\"row_heading level0 row6\" >6</th>\n",
       "                        <td id=\"T_89a8e_row6_col0\" class=\"data row6 col0\" >Chandigarh</td>\n",
       "                        <td id=\"T_89a8e_row6_col1\" class=\"data row6 col1\" >4904328</td>\n",
       "                        <td id=\"T_89a8e_row6_col2\" class=\"data row6 col2\" >4440509</td>\n",
       "                        <td id=\"T_89a8e_row6_col3\" class=\"data row6 col3\" >72209</td>\n",
       "                        <td id=\"T_89a8e_row6_col4\" class=\"data row6 col4\" >1.472353</td>\n",
       "            </tr>\n",
       "            <tr>\n",
       "                        <th id=\"T_89a8e_level0_row7\" class=\"row_heading level0 row7\" >7</th>\n",
       "                        <td id=\"T_89a8e_row7_col0\" class=\"data row7 col0\" >Chhattisgarh</td>\n",
       "                        <td id=\"T_89a8e_row7_col1\" class=\"data row7 col1\" >66980478</td>\n",
       "                        <td id=\"T_89a8e_row7_col2\" class=\"data row7 col2\" >59342088</td>\n",
       "                        <td id=\"T_89a8e_row7_col3\" class=\"data row7 col3\" >773549</td>\n",
       "                        <td id=\"T_89a8e_row7_col4\" class=\"data row7 col4\" >1.154887</td>\n",
       "            </tr>\n",
       "            <tr>\n",
       "                        <th id=\"T_89a8e_level0_row8\" class=\"row_heading level0 row8\" >8</th>\n",
       "                        <td id=\"T_89a8e_row8_col0\" class=\"data row8 col0\" >Dadra and Nagar Haveli and Daman and Diu</td>\n",
       "                        <td id=\"T_89a8e_row8_col1\" class=\"data row8 col1\" >936232</td>\n",
       "                        <td id=\"T_89a8e_row8_col2\" class=\"data row8 col2\" >868603</td>\n",
       "                        <td id=\"T_89a8e_row8_col3\" class=\"data row8 col3\" >622</td>\n",
       "                        <td id=\"T_89a8e_row8_col4\" class=\"data row8 col4\" >0.066437</td>\n",
       "            </tr>\n",
       "            <tr>\n",
       "                        <th id=\"T_89a8e_level0_row9\" class=\"row_heading level0 row9\" >9</th>\n",
       "                        <td id=\"T_89a8e_row9_col0\" class=\"data row9 col0\" >Daman & Diu</td>\n",
       "                        <td id=\"T_89a8e_row9_col1\" class=\"data row9 col1\" >2</td>\n",
       "                        <td id=\"T_89a8e_row9_col2\" class=\"data row9 col2\" >0</td>\n",
       "                        <td id=\"T_89a8e_row9_col3\" class=\"data row9 col3\" >0</td>\n",
       "                        <td id=\"T_89a8e_row9_col4\" class=\"data row9 col4\" >0.000000</td>\n",
       "            </tr>\n",
       "            <tr>\n",
       "                        <th id=\"T_89a8e_level0_row10\" class=\"row_heading level0 row10\" >10</th>\n",
       "                        <td id=\"T_89a8e_row10_col0\" class=\"data row10 col0\" >Delhi</td>\n",
       "                        <td id=\"T_89a8e_row10_col1\" class=\"data row10 col1\" >145699513</td>\n",
       "                        <td id=\"T_89a8e_row10_col2\" class=\"data row10 col2\" >136002568</td>\n",
       "                        <td id=\"T_89a8e_row10_col3\" class=\"data row10 col3\" >2551455</td>\n",
       "                        <td id=\"T_89a8e_row10_col4\" class=\"data row10 col4\" >1.751176</td>\n",
       "            </tr>\n",
       "            <tr>\n",
       "                        <th id=\"T_89a8e_level0_row11\" class=\"row_heading level0 row11\" >11</th>\n",
       "                        <td id=\"T_89a8e_row11_col0\" class=\"data row11 col0\" >Goa</td>\n",
       "                        <td id=\"T_89a8e_row11_col1\" class=\"data row11 col1\" >12519037</td>\n",
       "                        <td id=\"T_89a8e_row11_col2\" class=\"data row11 col2\" >11487821</td>\n",
       "                        <td id=\"T_89a8e_row11_col3\" class=\"data row11 col3\" >172165</td>\n",
       "                        <td id=\"T_89a8e_row11_col4\" class=\"data row11 col4\" >1.375226</td>\n",
       "            </tr>\n",
       "            <tr>\n",
       "                        <th id=\"T_89a8e_level0_row12\" class=\"row_heading level0 row12\" >12</th>\n",
       "                        <td id=\"T_89a8e_row12_col0\" class=\"data row12 col0\" >Gujarat</td>\n",
       "                        <td id=\"T_89a8e_row12_col1\" class=\"data row12 col1\" >63596451</td>\n",
       "                        <td id=\"T_89a8e_row12_col2\" class=\"data row12 col2\" >56872767</td>\n",
       "                        <td id=\"T_89a8e_row12_col3\" class=\"data row12 col3\" >1244913</td>\n",
       "                        <td id=\"T_89a8e_row12_col4\" class=\"data row12 col4\" >1.957520</td>\n",
       "            </tr>\n",
       "            <tr>\n",
       "                        <th id=\"T_89a8e_level0_row13\" class=\"row_heading level0 row13\" >13</th>\n",
       "                        <td id=\"T_89a8e_row13_col0\" class=\"data row13 col0\" >Haryana</td>\n",
       "                        <td id=\"T_89a8e_row13_col1\" class=\"data row13 col1\" >60126747</td>\n",
       "                        <td id=\"T_89a8e_row13_col2\" class=\"data row13 col2\" >55583360</td>\n",
       "                        <td id=\"T_89a8e_row13_col3\" class=\"data row13 col3\" >645157</td>\n",
       "                        <td id=\"T_89a8e_row13_col4\" class=\"data row13 col4\" >1.072995</td>\n",
       "            </tr>\n",
       "            <tr>\n",
       "                        <th id=\"T_89a8e_level0_row14\" class=\"row_heading level0 row14\" >14</th>\n",
       "                        <td id=\"T_89a8e_row14_col0\" class=\"data row14 col0\" >Himachal Pradesh</td>\n",
       "                        <td id=\"T_89a8e_row14_col1\" class=\"data row14 col1\" >11308586</td>\n",
       "                        <td id=\"T_89a8e_row14_col2\" class=\"data row14 col2\" >10129164</td>\n",
       "                        <td id=\"T_89a8e_row14_col3\" class=\"data row14 col3\" >180203</td>\n",
       "                        <td id=\"T_89a8e_row14_col4\" class=\"data row14 col4\" >1.593506</td>\n",
       "            </tr>\n",
       "            <tr>\n",
       "                        <th id=\"T_89a8e_level0_row15\" class=\"row_heading level0 row15\" >15</th>\n",
       "                        <td id=\"T_89a8e_row15_col0\" class=\"data row15 col0\" >Jammu and Kashmir</td>\n",
       "                        <td id=\"T_89a8e_row15_col1\" class=\"data row15 col1\" >28656670</td>\n",
       "                        <td id=\"T_89a8e_row15_col2\" class=\"data row15 col2\" >26101541</td>\n",
       "                        <td id=\"T_89a8e_row15_col3\" class=\"data row15 col3\" >442454</td>\n",
       "                        <td id=\"T_89a8e_row15_col4\" class=\"data row15 col4\" >1.543983</td>\n",
       "            </tr>\n",
       "            <tr>\n",
       "                        <th id=\"T_89a8e_level0_row16\" class=\"row_heading level0 row16\" >16</th>\n",
       "                        <td id=\"T_89a8e_row16_col0\" class=\"data row16 col0\" >Jharkhand</td>\n",
       "                        <td id=\"T_89a8e_row16_col1\" class=\"data row16 col1\" >28621843</td>\n",
       "                        <td id=\"T_89a8e_row16_col2\" class=\"data row16 col2\" >26191887</td>\n",
       "                        <td id=\"T_89a8e_row16_col3\" class=\"data row16 col3\" >259653</td>\n",
       "                        <td id=\"T_89a8e_row16_col4\" class=\"data row16 col4\" >0.907185</td>\n",
       "            </tr>\n",
       "            <tr>\n",
       "                        <th id=\"T_89a8e_level0_row17\" class=\"row_heading level0 row17\" >17</th>\n",
       "                        <td id=\"T_89a8e_row17_col0\" class=\"data row17 col0\" >Karnataka</td>\n",
       "                        <td id=\"T_89a8e_row17_col1\" class=\"data row17 col1\" >223785264</td>\n",
       "                        <td id=\"T_89a8e_row17_col2\" class=\"data row17 col2\" >203715103</td>\n",
       "                        <td id=\"T_89a8e_row17_col3\" class=\"data row17 col3\" >2962964</td>\n",
       "                        <td id=\"T_89a8e_row17_col4\" class=\"data row17 col4\" >1.324021</td>\n",
       "            </tr>\n",
       "            <tr>\n",
       "                        <th id=\"T_89a8e_level0_row18\" class=\"row_heading level0 row18\" >18</th>\n",
       "                        <td id=\"T_89a8e_row18_col0\" class=\"data row18 col0\" >Kerala</td>\n",
       "                        <td id=\"T_89a8e_row18_col1\" class=\"data row18 col1\" >181765680</td>\n",
       "                        <td id=\"T_89a8e_row18_col2\" class=\"data row18 col2\" >163528065</td>\n",
       "                        <td id=\"T_89a8e_row18_col3\" class=\"data row18 col3\" >709168</td>\n",
       "                        <td id=\"T_89a8e_row18_col4\" class=\"data row18 col4\" >0.390155</td>\n",
       "            </tr>\n",
       "            <tr>\n",
       "                        <th id=\"T_89a8e_level0_row19\" class=\"row_heading level0 row19\" >19</th>\n",
       "                        <td id=\"T_89a8e_row19_col0\" class=\"data row19 col0\" >Ladakh</td>\n",
       "                        <td id=\"T_89a8e_row19_col1\" class=\"data row19 col1\" >2155600</td>\n",
       "                        <td id=\"T_89a8e_row19_col2\" class=\"data row19 col2\" >1948701</td>\n",
       "                        <td id=\"T_89a8e_row19_col3\" class=\"data row19 col3\" >26544</td>\n",
       "                        <td id=\"T_89a8e_row19_col4\" class=\"data row19 col4\" >1.231397</td>\n",
       "            </tr>\n",
       "            <tr>\n",
       "                        <th id=\"T_89a8e_level0_row20\" class=\"row_heading level0 row20\" >20</th>\n",
       "                        <td id=\"T_89a8e_row20_col0\" class=\"data row20 col0\" >Lakshadweep</td>\n",
       "                        <td id=\"T_89a8e_row20_col1\" class=\"data row20 col1\" >70810</td>\n",
       "                        <td id=\"T_89a8e_row20_col2\" class=\"data row20 col2\" >47323</td>\n",
       "                        <td id=\"T_89a8e_row20_col3\" class=\"data row20 col3\" >79</td>\n",
       "                        <td id=\"T_89a8e_row20_col4\" class=\"data row20 col4\" >0.111566</td>\n",
       "            </tr>\n",
       "            <tr>\n",
       "                        <th id=\"T_89a8e_level0_row21\" class=\"row_heading level0 row21\" >21</th>\n",
       "                        <td id=\"T_89a8e_row21_col0\" class=\"data row21 col0\" >Madhya Pradesh</td>\n",
       "                        <td id=\"T_89a8e_row21_col1\" class=\"data row21 col1\" >59477069</td>\n",
       "                        <td id=\"T_89a8e_row21_col2\" class=\"data row21 col2\" >53822668</td>\n",
       "                        <td id=\"T_89a8e_row21_col3\" class=\"data row21 col3\" >911139</td>\n",
       "                        <td id=\"T_89a8e_row21_col4\" class=\"data row21 col4\" >1.531916</td>\n",
       "            </tr>\n",
       "            <tr>\n",
       "                        <th id=\"T_89a8e_level0_row22\" class=\"row_heading level0 row22\" >22</th>\n",
       "                        <td id=\"T_89a8e_row22_col0\" class=\"data row22 col0\" >Maharashtra</td>\n",
       "                        <td id=\"T_89a8e_row22_col1\" class=\"data row22 col1\" >539285200</td>\n",
       "                        <td id=\"T_89a8e_row22_col2\" class=\"data row22 col2\" >469331843</td>\n",
       "                        <td id=\"T_89a8e_row22_col3\" class=\"data row22 col3\" >12836010</td>\n",
       "                        <td id=\"T_89a8e_row22_col4\" class=\"data row22 col4\" >2.380190</td>\n",
       "            </tr>\n",
       "            <tr>\n",
       "                        <th id=\"T_89a8e_level0_row23\" class=\"row_heading level0 row23\" >23</th>\n",
       "                        <td id=\"T_89a8e_row23_col0\" class=\"data row23 col0\" >Manipur</td>\n",
       "                        <td id=\"T_89a8e_row23_col1\" class=\"data row23 col1\" >6001170</td>\n",
       "                        <td id=\"T_89a8e_row23_col2\" class=\"data row23 col2\" >5491226</td>\n",
       "                        <td id=\"T_89a8e_row23_col3\" class=\"data row23 col3\" >67722</td>\n",
       "                        <td id=\"T_89a8e_row23_col4\" class=\"data row23 col4\" >1.128480</td>\n",
       "            </tr>\n",
       "            <tr>\n",
       "                        <th id=\"T_89a8e_level0_row24\" class=\"row_heading level0 row24\" >24</th>\n",
       "                        <td id=\"T_89a8e_row24_col0\" class=\"data row24 col0\" >Meghalaya</td>\n",
       "                        <td id=\"T_89a8e_row24_col1\" class=\"data row24 col1\" >2886016</td>\n",
       "                        <td id=\"T_89a8e_row24_col2\" class=\"data row24 col2\" >2633114</td>\n",
       "                        <td id=\"T_89a8e_row24_col3\" class=\"data row24 col3\" >28648</td>\n",
       "                        <td id=\"T_89a8e_row24_col4\" class=\"data row24 col4\" >0.992649</td>\n",
       "            </tr>\n",
       "            <tr>\n",
       "                        <th id=\"T_89a8e_level0_row25\" class=\"row_heading level0 row25\" >25</th>\n",
       "                        <td id=\"T_89a8e_row25_col0\" class=\"data row25 col0\" >Mizoram</td>\n",
       "                        <td id=\"T_89a8e_row25_col1\" class=\"data row25 col1\" >935467</td>\n",
       "                        <td id=\"T_89a8e_row25_col2\" class=\"data row25 col2\" >855149</td>\n",
       "                        <td id=\"T_89a8e_row25_col3\" class=\"data row25 col3\" >1579</td>\n",
       "                        <td id=\"T_89a8e_row25_col4\" class=\"data row25 col4\" >0.168793</td>\n",
       "            </tr>\n",
       "            <tr>\n",
       "                        <th id=\"T_89a8e_level0_row26\" class=\"row_heading level0 row26\" >26</th>\n",
       "                        <td id=\"T_89a8e_row26_col0\" class=\"data row26 col0\" >Nagaland</td>\n",
       "                        <td id=\"T_89a8e_row26_col1\" class=\"data row26 col1\" >2692633</td>\n",
       "                        <td id=\"T_89a8e_row26_col2\" class=\"data row26 col2\" >2462442</td>\n",
       "                        <td id=\"T_89a8e_row26_col3\" class=\"data row26 col3\" >16239</td>\n",
       "                        <td id=\"T_89a8e_row26_col4\" class=\"data row26 col4\" >0.603090</td>\n",
       "            </tr>\n",
       "            <tr>\n",
       "                        <th id=\"T_89a8e_level0_row27\" class=\"row_heading level0 row27\" >27</th>\n",
       "                        <td id=\"T_89a8e_row27_col0\" class=\"data row27 col0\" >Odisha</td>\n",
       "                        <td id=\"T_89a8e_row27_col1\" class=\"data row27 col1\" >77209963</td>\n",
       "                        <td id=\"T_89a8e_row27_col2\" class=\"data row27 col2\" >73188741</td>\n",
       "                        <td id=\"T_89a8e_row27_col3\" class=\"data row27 col3\" >404470</td>\n",
       "                        <td id=\"T_89a8e_row27_col4\" class=\"data row27 col4\" >0.523857</td>\n",
       "            </tr>\n",
       "            <tr>\n",
       "                        <th id=\"T_89a8e_level0_row28\" class=\"row_heading level0 row28\" >28</th>\n",
       "                        <td id=\"T_89a8e_row28_col0\" class=\"data row28 col0\" >Puducherry</td>\n",
       "                        <td id=\"T_89a8e_row28_col1\" class=\"data row28 col1\" >9303352</td>\n",
       "                        <td id=\"T_89a8e_row28_col2\" class=\"data row28 col2\" >8524187</td>\n",
       "                        <td id=\"T_89a8e_row28_col3\" class=\"data row28 col3\" >154232</td>\n",
       "                        <td id=\"T_89a8e_row28_col4\" class=\"data row28 col4\" >1.657811</td>\n",
       "            </tr>\n",
       "            <tr>\n",
       "                        <th id=\"T_89a8e_level0_row29\" class=\"row_heading level0 row29\" >29</th>\n",
       "                        <td id=\"T_89a8e_row29_col0\" class=\"data row29 col0\" >Punjab</td>\n",
       "                        <td id=\"T_89a8e_row29_col1\" class=\"data row29 col1\" >43446933</td>\n",
       "                        <td id=\"T_89a8e_row29_col2\" class=\"data row29 col2\" >38726935</td>\n",
       "                        <td id=\"T_89a8e_row29_col3\" class=\"data row29 col3\" >1303314</td>\n",
       "                        <td id=\"T_89a8e_row29_col4\" class=\"data row29 col4\" >2.999784</td>\n",
       "            </tr>\n",
       "            <tr>\n",
       "                        <th id=\"T_89a8e_level0_row30\" class=\"row_heading level0 row30\" >30</th>\n",
       "                        <td id=\"T_89a8e_row30_col0\" class=\"data row30 col0\" >Rajasthan</td>\n",
       "                        <td id=\"T_89a8e_row30_col1\" class=\"data row30 col1\" >70430986</td>\n",
       "                        <td id=\"T_89a8e_row30_col2\" class=\"data row30 col2\" >63933156</td>\n",
       "                        <td id=\"T_89a8e_row30_col3\" class=\"data row30 col3\" >645454</td>\n",
       "                        <td id=\"T_89a8e_row30_col4\" class=\"data row30 col4\" >0.916435</td>\n",
       "            </tr>\n",
       "            <tr>\n",
       "                        <th id=\"T_89a8e_level0_row31\" class=\"row_heading level0 row31\" >31</th>\n",
       "                        <td id=\"T_89a8e_row31_col0\" class=\"data row31 col0\" >Sikkim</td>\n",
       "                        <td id=\"T_89a8e_row31_col1\" class=\"data row31 col1\" >1295734</td>\n",
       "                        <td id=\"T_89a8e_row31_col2\" class=\"data row31 col2\" >1174553</td>\n",
       "                        <td id=\"T_89a8e_row31_col3\" class=\"data row31 col3\" >25244</td>\n",
       "                        <td id=\"T_89a8e_row31_col4\" class=\"data row31 col4\" >1.948239</td>\n",
       "            </tr>\n",
       "            <tr>\n",
       "                        <th id=\"T_89a8e_level0_row32\" class=\"row_heading level0 row32\" >32</th>\n",
       "                        <td id=\"T_89a8e_row32_col0\" class=\"data row32 col0\" >Tamil Nadu</td>\n",
       "                        <td id=\"T_89a8e_row32_col1\" class=\"data row32 col1\" >209588022</td>\n",
       "                        <td id=\"T_89a8e_row32_col2\" class=\"data row32 col2\" >196346695</td>\n",
       "                        <td id=\"T_89a8e_row32_col3\" class=\"data row32 col3\" >3107508</td>\n",
       "                        <td id=\"T_89a8e_row32_col4\" class=\"data row32 col4\" >1.482674</td>\n",
       "            </tr>\n",
       "            <tr>\n",
       "                        <th id=\"T_89a8e_level0_row33\" class=\"row_heading level0 row33\" >33</th>\n",
       "                        <td id=\"T_89a8e_row33_col0\" class=\"data row33 col0\" >Telangana</td>\n",
       "                        <td id=\"T_89a8e_row33_col1\" class=\"data row33 col1\" >907275</td>\n",
       "                        <td id=\"T_89a8e_row33_col2\" class=\"data row33 col2\" >741660</td>\n",
       "                        <td id=\"T_89a8e_row33_col3\" class=\"data row33 col3\" >4785</td>\n",
       "                        <td id=\"T_89a8e_row33_col4\" class=\"data row33 col4\" >0.527403</td>\n",
       "            </tr>\n",
       "            <tr>\n",
       "                        <th id=\"T_89a8e_level0_row34\" class=\"row_heading level0 row34\" >34</th>\n",
       "                        <td id=\"T_89a8e_row34_col0\" class=\"data row34 col0\" >Telengana</td>\n",
       "                        <td id=\"T_89a8e_row34_col1\" class=\"data row34 col1\" >69990668</td>\n",
       "                        <td id=\"T_89a8e_row34_col2\" class=\"data row34 col2\" >64666267</td>\n",
       "                        <td id=\"T_89a8e_row34_col3\" class=\"data row34 col3\" >400427</td>\n",
       "                        <td id=\"T_89a8e_row34_col4\" class=\"data row34 col4\" >0.572115</td>\n",
       "            </tr>\n",
       "            <tr>\n",
       "                        <th id=\"T_89a8e_level0_row35\" class=\"row_heading level0 row35\" >35</th>\n",
       "                        <td id=\"T_89a8e_row35_col0\" class=\"data row35 col0\" >Tripura</td>\n",
       "                        <td id=\"T_89a8e_row35_col1\" class=\"data row35 col1\" >7946158</td>\n",
       "                        <td id=\"T_89a8e_row35_col2\" class=\"data row35 col2\" >7384732</td>\n",
       "                        <td id=\"T_89a8e_row35_col3\" class=\"data row35 col3\" >88770</td>\n",
       "                        <td id=\"T_89a8e_row35_col4\" class=\"data row35 col4\" >1.117144</td>\n",
       "            </tr>\n",
       "            <tr>\n",
       "                        <th id=\"T_89a8e_level0_row36\" class=\"row_heading level0 row36\" >36</th>\n",
       "                        <td id=\"T_89a8e_row36_col0\" class=\"data row36 col0\" >Unassigned</td>\n",
       "                        <td id=\"T_89a8e_row36_col1\" class=\"data row36 col1\" >161</td>\n",
       "                        <td id=\"T_89a8e_row36_col2\" class=\"data row36 col2\" >0</td>\n",
       "                        <td id=\"T_89a8e_row36_col3\" class=\"data row36 col3\" >0</td>\n",
       "                        <td id=\"T_89a8e_row36_col4\" class=\"data row36 col4\" >0.000000</td>\n",
       "            </tr>\n",
       "            <tr>\n",
       "                        <th id=\"T_89a8e_level0_row37\" class=\"row_heading level0 row37\" >37</th>\n",
       "                        <td id=\"T_89a8e_row37_col0\" class=\"data row37 col0\" >Uttar Pradesh</td>\n",
       "                        <td id=\"T_89a8e_row37_col1\" class=\"data row37 col1\" >145502944</td>\n",
       "                        <td id=\"T_89a8e_row37_col2\" class=\"data row37 col2\" >131266076</td>\n",
       "                        <td id=\"T_89a8e_row37_col3\" class=\"data row37 col3\" >2049294</td>\n",
       "                        <td id=\"T_89a8e_row37_col4\" class=\"data row37 col4\" >1.408421</td>\n",
       "            </tr>\n",
       "            <tr>\n",
       "                        <th id=\"T_89a8e_level0_row38\" class=\"row_heading level0 row38\" >38</th>\n",
       "                        <td id=\"T_89a8e_row38_col0\" class=\"data row38 col0\" >Uttarakhand</td>\n",
       "                        <td id=\"T_89a8e_row38_col1\" class=\"data row38 col1\" >20881027</td>\n",
       "                        <td id=\"T_89a8e_row38_col2\" class=\"data row38 col2\" >18790242</td>\n",
       "                        <td id=\"T_89a8e_row38_col3\" class=\"data row38 col3\" >335796</td>\n",
       "                        <td id=\"T_89a8e_row38_col4\" class=\"data row38 col4\" >1.608139</td>\n",
       "            </tr>\n",
       "            <tr>\n",
       "                        <th id=\"T_89a8e_level0_row39\" class=\"row_heading level0 row39\" >39</th>\n",
       "                        <td id=\"T_89a8e_row39_col0\" class=\"data row39 col0\" >West Bengal</td>\n",
       "                        <td id=\"T_89a8e_row39_col1\" class=\"data row39 col1\" >123771493</td>\n",
       "                        <td id=\"T_89a8e_row39_col2\" class=\"data row39 col2\" >114783950</td>\n",
       "                        <td id=\"T_89a8e_row39_col3\" class=\"data row39 col3\" >2208558</td>\n",
       "                        <td id=\"T_89a8e_row39_col4\" class=\"data row39 col4\" >1.784383</td>\n",
       "            </tr>\n",
       "    </tbody></table>"
      ],
      "text/plain": [
       "<pandas.io.formats.style.Styler at 0x25dfcfb79d0>"
      ]
     },
     "execution_count": 43,
     "metadata": {},
     "output_type": "execute_result"
    }
   ],
   "source": [
    "state_wise = covid_data.groupby('State/UnionTerritory')['Confirmed','Cured','Deaths'].sum().reset_index()\n",
    "state_wise['Death_percentage'] = ((state_wise['Deaths']/ state_wise['Confirmed'])*100)\n",
    "state_wise.style.background_gradient(cmap='magma')\n"
   ]
  },
  {
   "cell_type": "code",
   "execution_count": 44,
   "id": "cf42d848",
   "metadata": {},
   "outputs": [],
   "source": [
    "# Let's visualise the top 10 state swith highest number of confirmed cases, deaths and recovery"
   ]
  },
  {
   "cell_type": "code",
   "execution_count": 45,
   "id": "b714904a",
   "metadata": {},
   "outputs": [
    {
     "data": {
      "application/vnd.plotly.v1+json": {
       "config": {
        "plotlyServerURL": "https://plot.ly"
       },
       "data": [
        {
         "alignmentgroup": "True",
         "hovertemplate": "x=%{x}<br>y=%{y}<extra></extra>",
         "legendgroup": "",
         "marker": {
          "color": "rgb(0,0,255)"
         },
         "name": "",
         "offsetgroup": "",
         "orientation": "v",
         "showlegend": false,
         "textposition": "auto",
         "type": "bar",
         "x": [
          "Maharashtra",
          "Karnataka",
          "Andhra Pradesh",
          "Tamil Nadu",
          "Kerala",
          "Delhi",
          "Uttar Pradesh",
          "West Bengal",
          "Odisha",
          "Rajasthan"
         ],
         "xaxis": "x",
         "y": [
          539285200,
          223785264,
          216311284,
          209588022,
          181765680,
          145699513,
          145502944,
          123771493,
          77209963,
          70430986
         ],
         "yaxis": "y"
        }
       ],
       "layout": {
        "barmode": "relative",
        "legend": {
         "tracegroupgap": 0
        },
        "template": {
         "data": {
          "bar": [
           {
            "error_x": {
             "color": "#2a3f5f"
            },
            "error_y": {
             "color": "#2a3f5f"
            },
            "marker": {
             "line": {
              "color": "#E5ECF6",
              "width": 0.5
             }
            },
            "type": "bar"
           }
          ],
          "barpolar": [
           {
            "marker": {
             "line": {
              "color": "#E5ECF6",
              "width": 0.5
             }
            },
            "type": "barpolar"
           }
          ],
          "carpet": [
           {
            "aaxis": {
             "endlinecolor": "#2a3f5f",
             "gridcolor": "white",
             "linecolor": "white",
             "minorgridcolor": "white",
             "startlinecolor": "#2a3f5f"
            },
            "baxis": {
             "endlinecolor": "#2a3f5f",
             "gridcolor": "white",
             "linecolor": "white",
             "minorgridcolor": "white",
             "startlinecolor": "#2a3f5f"
            },
            "type": "carpet"
           }
          ],
          "choropleth": [
           {
            "colorbar": {
             "outlinewidth": 0,
             "ticks": ""
            },
            "type": "choropleth"
           }
          ],
          "contour": [
           {
            "colorbar": {
             "outlinewidth": 0,
             "ticks": ""
            },
            "colorscale": [
             [
              0,
              "#0d0887"
             ],
             [
              0.1111111111111111,
              "#46039f"
             ],
             [
              0.2222222222222222,
              "#7201a8"
             ],
             [
              0.3333333333333333,
              "#9c179e"
             ],
             [
              0.4444444444444444,
              "#bd3786"
             ],
             [
              0.5555555555555556,
              "#d8576b"
             ],
             [
              0.6666666666666666,
              "#ed7953"
             ],
             [
              0.7777777777777778,
              "#fb9f3a"
             ],
             [
              0.8888888888888888,
              "#fdca26"
             ],
             [
              1,
              "#f0f921"
             ]
            ],
            "type": "contour"
           }
          ],
          "contourcarpet": [
           {
            "colorbar": {
             "outlinewidth": 0,
             "ticks": ""
            },
            "type": "contourcarpet"
           }
          ],
          "heatmap": [
           {
            "colorbar": {
             "outlinewidth": 0,
             "ticks": ""
            },
            "colorscale": [
             [
              0,
              "#0d0887"
             ],
             [
              0.1111111111111111,
              "#46039f"
             ],
             [
              0.2222222222222222,
              "#7201a8"
             ],
             [
              0.3333333333333333,
              "#9c179e"
             ],
             [
              0.4444444444444444,
              "#bd3786"
             ],
             [
              0.5555555555555556,
              "#d8576b"
             ],
             [
              0.6666666666666666,
              "#ed7953"
             ],
             [
              0.7777777777777778,
              "#fb9f3a"
             ],
             [
              0.8888888888888888,
              "#fdca26"
             ],
             [
              1,
              "#f0f921"
             ]
            ],
            "type": "heatmap"
           }
          ],
          "heatmapgl": [
           {
            "colorbar": {
             "outlinewidth": 0,
             "ticks": ""
            },
            "colorscale": [
             [
              0,
              "#0d0887"
             ],
             [
              0.1111111111111111,
              "#46039f"
             ],
             [
              0.2222222222222222,
              "#7201a8"
             ],
             [
              0.3333333333333333,
              "#9c179e"
             ],
             [
              0.4444444444444444,
              "#bd3786"
             ],
             [
              0.5555555555555556,
              "#d8576b"
             ],
             [
              0.6666666666666666,
              "#ed7953"
             ],
             [
              0.7777777777777778,
              "#fb9f3a"
             ],
             [
              0.8888888888888888,
              "#fdca26"
             ],
             [
              1,
              "#f0f921"
             ]
            ],
            "type": "heatmapgl"
           }
          ],
          "histogram": [
           {
            "marker": {
             "colorbar": {
              "outlinewidth": 0,
              "ticks": ""
             }
            },
            "type": "histogram"
           }
          ],
          "histogram2d": [
           {
            "colorbar": {
             "outlinewidth": 0,
             "ticks": ""
            },
            "colorscale": [
             [
              0,
              "#0d0887"
             ],
             [
              0.1111111111111111,
              "#46039f"
             ],
             [
              0.2222222222222222,
              "#7201a8"
             ],
             [
              0.3333333333333333,
              "#9c179e"
             ],
             [
              0.4444444444444444,
              "#bd3786"
             ],
             [
              0.5555555555555556,
              "#d8576b"
             ],
             [
              0.6666666666666666,
              "#ed7953"
             ],
             [
              0.7777777777777778,
              "#fb9f3a"
             ],
             [
              0.8888888888888888,
              "#fdca26"
             ],
             [
              1,
              "#f0f921"
             ]
            ],
            "type": "histogram2d"
           }
          ],
          "histogram2dcontour": [
           {
            "colorbar": {
             "outlinewidth": 0,
             "ticks": ""
            },
            "colorscale": [
             [
              0,
              "#0d0887"
             ],
             [
              0.1111111111111111,
              "#46039f"
             ],
             [
              0.2222222222222222,
              "#7201a8"
             ],
             [
              0.3333333333333333,
              "#9c179e"
             ],
             [
              0.4444444444444444,
              "#bd3786"
             ],
             [
              0.5555555555555556,
              "#d8576b"
             ],
             [
              0.6666666666666666,
              "#ed7953"
             ],
             [
              0.7777777777777778,
              "#fb9f3a"
             ],
             [
              0.8888888888888888,
              "#fdca26"
             ],
             [
              1,
              "#f0f921"
             ]
            ],
            "type": "histogram2dcontour"
           }
          ],
          "mesh3d": [
           {
            "colorbar": {
             "outlinewidth": 0,
             "ticks": ""
            },
            "type": "mesh3d"
           }
          ],
          "parcoords": [
           {
            "line": {
             "colorbar": {
              "outlinewidth": 0,
              "ticks": ""
             }
            },
            "type": "parcoords"
           }
          ],
          "pie": [
           {
            "automargin": true,
            "type": "pie"
           }
          ],
          "scatter": [
           {
            "marker": {
             "colorbar": {
              "outlinewidth": 0,
              "ticks": ""
             }
            },
            "type": "scatter"
           }
          ],
          "scatter3d": [
           {
            "line": {
             "colorbar": {
              "outlinewidth": 0,
              "ticks": ""
             }
            },
            "marker": {
             "colorbar": {
              "outlinewidth": 0,
              "ticks": ""
             }
            },
            "type": "scatter3d"
           }
          ],
          "scattercarpet": [
           {
            "marker": {
             "colorbar": {
              "outlinewidth": 0,
              "ticks": ""
             }
            },
            "type": "scattercarpet"
           }
          ],
          "scattergeo": [
           {
            "marker": {
             "colorbar": {
              "outlinewidth": 0,
              "ticks": ""
             }
            },
            "type": "scattergeo"
           }
          ],
          "scattergl": [
           {
            "marker": {
             "colorbar": {
              "outlinewidth": 0,
              "ticks": ""
             }
            },
            "type": "scattergl"
           }
          ],
          "scattermapbox": [
           {
            "marker": {
             "colorbar": {
              "outlinewidth": 0,
              "ticks": ""
             }
            },
            "type": "scattermapbox"
           }
          ],
          "scatterpolar": [
           {
            "marker": {
             "colorbar": {
              "outlinewidth": 0,
              "ticks": ""
             }
            },
            "type": "scatterpolar"
           }
          ],
          "scatterpolargl": [
           {
            "marker": {
             "colorbar": {
              "outlinewidth": 0,
              "ticks": ""
             }
            },
            "type": "scatterpolargl"
           }
          ],
          "scatterternary": [
           {
            "marker": {
             "colorbar": {
              "outlinewidth": 0,
              "ticks": ""
             }
            },
            "type": "scatterternary"
           }
          ],
          "surface": [
           {
            "colorbar": {
             "outlinewidth": 0,
             "ticks": ""
            },
            "colorscale": [
             [
              0,
              "#0d0887"
             ],
             [
              0.1111111111111111,
              "#46039f"
             ],
             [
              0.2222222222222222,
              "#7201a8"
             ],
             [
              0.3333333333333333,
              "#9c179e"
             ],
             [
              0.4444444444444444,
              "#bd3786"
             ],
             [
              0.5555555555555556,
              "#d8576b"
             ],
             [
              0.6666666666666666,
              "#ed7953"
             ],
             [
              0.7777777777777778,
              "#fb9f3a"
             ],
             [
              0.8888888888888888,
              "#fdca26"
             ],
             [
              1,
              "#f0f921"
             ]
            ],
            "type": "surface"
           }
          ],
          "table": [
           {
            "cells": {
             "fill": {
              "color": "#EBF0F8"
             },
             "line": {
              "color": "white"
             }
            },
            "header": {
             "fill": {
              "color": "#C8D4E3"
             },
             "line": {
              "color": "white"
             }
            },
            "type": "table"
           }
          ]
         },
         "layout": {
          "annotationdefaults": {
           "arrowcolor": "#2a3f5f",
           "arrowhead": 0,
           "arrowwidth": 1
          },
          "autotypenumbers": "strict",
          "coloraxis": {
           "colorbar": {
            "outlinewidth": 0,
            "ticks": ""
           }
          },
          "colorscale": {
           "diverging": [
            [
             0,
             "#8e0152"
            ],
            [
             0.1,
             "#c51b7d"
            ],
            [
             0.2,
             "#de77ae"
            ],
            [
             0.3,
             "#f1b6da"
            ],
            [
             0.4,
             "#fde0ef"
            ],
            [
             0.5,
             "#f7f7f7"
            ],
            [
             0.6,
             "#e6f5d0"
            ],
            [
             0.7,
             "#b8e186"
            ],
            [
             0.8,
             "#7fbc41"
            ],
            [
             0.9,
             "#4d9221"
            ],
            [
             1,
             "#276419"
            ]
           ],
           "sequential": [
            [
             0,
             "#0d0887"
            ],
            [
             0.1111111111111111,
             "#46039f"
            ],
            [
             0.2222222222222222,
             "#7201a8"
            ],
            [
             0.3333333333333333,
             "#9c179e"
            ],
            [
             0.4444444444444444,
             "#bd3786"
            ],
            [
             0.5555555555555556,
             "#d8576b"
            ],
            [
             0.6666666666666666,
             "#ed7953"
            ],
            [
             0.7777777777777778,
             "#fb9f3a"
            ],
            [
             0.8888888888888888,
             "#fdca26"
            ],
            [
             1,
             "#f0f921"
            ]
           ],
           "sequentialminus": [
            [
             0,
             "#0d0887"
            ],
            [
             0.1111111111111111,
             "#46039f"
            ],
            [
             0.2222222222222222,
             "#7201a8"
            ],
            [
             0.3333333333333333,
             "#9c179e"
            ],
            [
             0.4444444444444444,
             "#bd3786"
            ],
            [
             0.5555555555555556,
             "#d8576b"
            ],
            [
             0.6666666666666666,
             "#ed7953"
            ],
            [
             0.7777777777777778,
             "#fb9f3a"
            ],
            [
             0.8888888888888888,
             "#fdca26"
            ],
            [
             1,
             "#f0f921"
            ]
           ]
          },
          "colorway": [
           "#636efa",
           "#EF553B",
           "#00cc96",
           "#ab63fa",
           "#FFA15A",
           "#19d3f3",
           "#FF6692",
           "#B6E880",
           "#FF97FF",
           "#FECB52"
          ],
          "font": {
           "color": "#2a3f5f"
          },
          "geo": {
           "bgcolor": "white",
           "lakecolor": "white",
           "landcolor": "#E5ECF6",
           "showlakes": true,
           "showland": true,
           "subunitcolor": "white"
          },
          "hoverlabel": {
           "align": "left"
          },
          "hovermode": "closest",
          "mapbox": {
           "style": "light"
          },
          "paper_bgcolor": "white",
          "plot_bgcolor": "#E5ECF6",
          "polar": {
           "angularaxis": {
            "gridcolor": "white",
            "linecolor": "white",
            "ticks": ""
           },
           "bgcolor": "#E5ECF6",
           "radialaxis": {
            "gridcolor": "white",
            "linecolor": "white",
            "ticks": ""
           }
          },
          "scene": {
           "xaxis": {
            "backgroundcolor": "#E5ECF6",
            "gridcolor": "white",
            "gridwidth": 2,
            "linecolor": "white",
            "showbackground": true,
            "ticks": "",
            "zerolinecolor": "white"
           },
           "yaxis": {
            "backgroundcolor": "#E5ECF6",
            "gridcolor": "white",
            "gridwidth": 2,
            "linecolor": "white",
            "showbackground": true,
            "ticks": "",
            "zerolinecolor": "white"
           },
           "zaxis": {
            "backgroundcolor": "#E5ECF6",
            "gridcolor": "white",
            "gridwidth": 2,
            "linecolor": "white",
            "showbackground": true,
            "ticks": "",
            "zerolinecolor": "white"
           }
          },
          "shapedefaults": {
           "line": {
            "color": "#2a3f5f"
           }
          },
          "ternary": {
           "aaxis": {
            "gridcolor": "white",
            "linecolor": "white",
            "ticks": ""
           },
           "baxis": {
            "gridcolor": "white",
            "linecolor": "white",
            "ticks": ""
           },
           "bgcolor": "#E5ECF6",
           "caxis": {
            "gridcolor": "white",
            "linecolor": "white",
            "ticks": ""
           }
          },
          "title": {
           "x": 0.05
          },
          "xaxis": {
           "automargin": true,
           "gridcolor": "white",
           "linecolor": "white",
           "ticks": "",
           "title": {
            "standoff": 15
           },
           "zerolinecolor": "white",
           "zerolinewidth": 2
          },
          "yaxis": {
           "automargin": true,
           "gridcolor": "white",
           "linecolor": "white",
           "ticks": "",
           "title": {
            "standoff": 15
           },
           "zerolinecolor": "white",
           "zerolinewidth": 2
          }
         }
        },
        "title": {
         "text": "Top 10 state swith highest number of confirmed cases"
        },
        "xaxis": {
         "anchor": "y",
         "domain": [
          0,
          1
         ],
         "title": {
          "text": "x"
         }
        },
        "yaxis": {
         "anchor": "x",
         "domain": [
          0,
          1
         ],
         "title": {
          "text": "y"
         }
        }
       }
      },
      "text/html": [
       "<div>                            <div id=\"02024c2c-7593-4bf0-aa76-53bc2165e9ff\" class=\"plotly-graph-div\" style=\"height:525px; width:100%;\"></div>            <script type=\"text/javascript\">                require([\"plotly\"], function(Plotly) {                    window.PLOTLYENV=window.PLOTLYENV || {};                                    if (document.getElementById(\"02024c2c-7593-4bf0-aa76-53bc2165e9ff\")) {                    Plotly.newPlot(                        \"02024c2c-7593-4bf0-aa76-53bc2165e9ff\",                        [{\"alignmentgroup\": \"True\", \"hovertemplate\": \"x=%{x}<br>y=%{y}<extra></extra>\", \"legendgroup\": \"\", \"marker\": {\"color\": \"rgb(0,0,255)\"}, \"name\": \"\", \"offsetgroup\": \"\", \"orientation\": \"v\", \"showlegend\": false, \"textposition\": \"auto\", \"type\": \"bar\", \"x\": [\"Maharashtra\", \"Karnataka\", \"Andhra Pradesh\", \"Tamil Nadu\", \"Kerala\", \"Delhi\", \"Uttar Pradesh\", \"West Bengal\", \"Odisha\", \"Rajasthan\"], \"xaxis\": \"x\", \"y\": [539285200, 223785264, 216311284, 209588022, 181765680, 145699513, 145502944, 123771493, 77209963, 70430986], \"yaxis\": \"y\"}],                        {\"barmode\": \"relative\", \"legend\": {\"tracegroupgap\": 0}, \"template\": {\"data\": {\"bar\": [{\"error_x\": {\"color\": \"#2a3f5f\"}, \"error_y\": {\"color\": \"#2a3f5f\"}, \"marker\": {\"line\": {\"color\": \"#E5ECF6\", \"width\": 0.5}}, \"type\": \"bar\"}], \"barpolar\": [{\"marker\": {\"line\": {\"color\": \"#E5ECF6\", \"width\": 0.5}}, \"type\": \"barpolar\"}], \"carpet\": [{\"aaxis\": {\"endlinecolor\": \"#2a3f5f\", \"gridcolor\": \"white\", \"linecolor\": \"white\", \"minorgridcolor\": \"white\", \"startlinecolor\": \"#2a3f5f\"}, \"baxis\": {\"endlinecolor\": \"#2a3f5f\", \"gridcolor\": \"white\", \"linecolor\": \"white\", \"minorgridcolor\": \"white\", \"startlinecolor\": \"#2a3f5f\"}, \"type\": \"carpet\"}], \"choropleth\": [{\"colorbar\": {\"outlinewidth\": 0, \"ticks\": \"\"}, \"type\": \"choropleth\"}], \"contour\": [{\"colorbar\": {\"outlinewidth\": 0, \"ticks\": \"\"}, \"colorscale\": [[0.0, \"#0d0887\"], [0.1111111111111111, \"#46039f\"], [0.2222222222222222, \"#7201a8\"], [0.3333333333333333, \"#9c179e\"], [0.4444444444444444, \"#bd3786\"], [0.5555555555555556, \"#d8576b\"], [0.6666666666666666, \"#ed7953\"], [0.7777777777777778, \"#fb9f3a\"], [0.8888888888888888, \"#fdca26\"], [1.0, \"#f0f921\"]], \"type\": \"contour\"}], \"contourcarpet\": [{\"colorbar\": {\"outlinewidth\": 0, \"ticks\": \"\"}, \"type\": \"contourcarpet\"}], \"heatmap\": [{\"colorbar\": {\"outlinewidth\": 0, \"ticks\": \"\"}, \"colorscale\": [[0.0, \"#0d0887\"], [0.1111111111111111, \"#46039f\"], [0.2222222222222222, \"#7201a8\"], [0.3333333333333333, \"#9c179e\"], [0.4444444444444444, \"#bd3786\"], [0.5555555555555556, \"#d8576b\"], [0.6666666666666666, \"#ed7953\"], [0.7777777777777778, \"#fb9f3a\"], [0.8888888888888888, \"#fdca26\"], [1.0, \"#f0f921\"]], \"type\": \"heatmap\"}], \"heatmapgl\": [{\"colorbar\": {\"outlinewidth\": 0, \"ticks\": \"\"}, \"colorscale\": [[0.0, \"#0d0887\"], [0.1111111111111111, \"#46039f\"], [0.2222222222222222, \"#7201a8\"], [0.3333333333333333, \"#9c179e\"], [0.4444444444444444, \"#bd3786\"], [0.5555555555555556, \"#d8576b\"], [0.6666666666666666, \"#ed7953\"], [0.7777777777777778, \"#fb9f3a\"], [0.8888888888888888, \"#fdca26\"], [1.0, \"#f0f921\"]], \"type\": \"heatmapgl\"}], \"histogram\": [{\"marker\": {\"colorbar\": {\"outlinewidth\": 0, \"ticks\": \"\"}}, \"type\": \"histogram\"}], \"histogram2d\": [{\"colorbar\": {\"outlinewidth\": 0, \"ticks\": \"\"}, \"colorscale\": [[0.0, \"#0d0887\"], [0.1111111111111111, \"#46039f\"], [0.2222222222222222, \"#7201a8\"], [0.3333333333333333, \"#9c179e\"], [0.4444444444444444, \"#bd3786\"], [0.5555555555555556, \"#d8576b\"], [0.6666666666666666, \"#ed7953\"], [0.7777777777777778, \"#fb9f3a\"], [0.8888888888888888, \"#fdca26\"], [1.0, \"#f0f921\"]], \"type\": \"histogram2d\"}], \"histogram2dcontour\": [{\"colorbar\": {\"outlinewidth\": 0, \"ticks\": \"\"}, \"colorscale\": [[0.0, \"#0d0887\"], [0.1111111111111111, \"#46039f\"], [0.2222222222222222, \"#7201a8\"], [0.3333333333333333, \"#9c179e\"], [0.4444444444444444, \"#bd3786\"], [0.5555555555555556, \"#d8576b\"], [0.6666666666666666, \"#ed7953\"], [0.7777777777777778, \"#fb9f3a\"], [0.8888888888888888, \"#fdca26\"], [1.0, \"#f0f921\"]], \"type\": \"histogram2dcontour\"}], \"mesh3d\": [{\"colorbar\": {\"outlinewidth\": 0, \"ticks\": \"\"}, \"type\": \"mesh3d\"}], \"parcoords\": [{\"line\": {\"colorbar\": {\"outlinewidth\": 0, \"ticks\": \"\"}}, \"type\": \"parcoords\"}], \"pie\": [{\"automargin\": true, \"type\": \"pie\"}], \"scatter\": [{\"marker\": {\"colorbar\": {\"outlinewidth\": 0, \"ticks\": \"\"}}, \"type\": \"scatter\"}], \"scatter3d\": [{\"line\": {\"colorbar\": {\"outlinewidth\": 0, \"ticks\": \"\"}}, \"marker\": {\"colorbar\": {\"outlinewidth\": 0, \"ticks\": \"\"}}, \"type\": \"scatter3d\"}], \"scattercarpet\": [{\"marker\": {\"colorbar\": {\"outlinewidth\": 0, \"ticks\": \"\"}}, \"type\": \"scattercarpet\"}], \"scattergeo\": [{\"marker\": {\"colorbar\": {\"outlinewidth\": 0, \"ticks\": \"\"}}, \"type\": \"scattergeo\"}], \"scattergl\": [{\"marker\": {\"colorbar\": {\"outlinewidth\": 0, \"ticks\": \"\"}}, \"type\": \"scattergl\"}], \"scattermapbox\": [{\"marker\": {\"colorbar\": {\"outlinewidth\": 0, \"ticks\": \"\"}}, \"type\": \"scattermapbox\"}], \"scatterpolar\": [{\"marker\": {\"colorbar\": {\"outlinewidth\": 0, \"ticks\": \"\"}}, \"type\": \"scatterpolar\"}], \"scatterpolargl\": [{\"marker\": {\"colorbar\": {\"outlinewidth\": 0, \"ticks\": \"\"}}, \"type\": \"scatterpolargl\"}], \"scatterternary\": [{\"marker\": {\"colorbar\": {\"outlinewidth\": 0, \"ticks\": \"\"}}, \"type\": \"scatterternary\"}], \"surface\": [{\"colorbar\": {\"outlinewidth\": 0, \"ticks\": \"\"}, \"colorscale\": [[0.0, \"#0d0887\"], [0.1111111111111111, \"#46039f\"], [0.2222222222222222, \"#7201a8\"], [0.3333333333333333, \"#9c179e\"], [0.4444444444444444, \"#bd3786\"], [0.5555555555555556, \"#d8576b\"], [0.6666666666666666, \"#ed7953\"], [0.7777777777777778, \"#fb9f3a\"], [0.8888888888888888, \"#fdca26\"], [1.0, \"#f0f921\"]], \"type\": \"surface\"}], \"table\": [{\"cells\": {\"fill\": {\"color\": \"#EBF0F8\"}, \"line\": {\"color\": \"white\"}}, \"header\": {\"fill\": {\"color\": \"#C8D4E3\"}, \"line\": {\"color\": \"white\"}}, \"type\": \"table\"}]}, \"layout\": {\"annotationdefaults\": {\"arrowcolor\": \"#2a3f5f\", \"arrowhead\": 0, \"arrowwidth\": 1}, \"autotypenumbers\": \"strict\", \"coloraxis\": {\"colorbar\": {\"outlinewidth\": 0, \"ticks\": \"\"}}, \"colorscale\": {\"diverging\": [[0, \"#8e0152\"], [0.1, \"#c51b7d\"], [0.2, \"#de77ae\"], [0.3, \"#f1b6da\"], [0.4, \"#fde0ef\"], [0.5, \"#f7f7f7\"], [0.6, \"#e6f5d0\"], [0.7, \"#b8e186\"], [0.8, \"#7fbc41\"], [0.9, \"#4d9221\"], [1, \"#276419\"]], \"sequential\": [[0.0, \"#0d0887\"], [0.1111111111111111, \"#46039f\"], [0.2222222222222222, \"#7201a8\"], [0.3333333333333333, \"#9c179e\"], [0.4444444444444444, \"#bd3786\"], [0.5555555555555556, \"#d8576b\"], [0.6666666666666666, \"#ed7953\"], [0.7777777777777778, \"#fb9f3a\"], [0.8888888888888888, \"#fdca26\"], [1.0, \"#f0f921\"]], \"sequentialminus\": [[0.0, \"#0d0887\"], [0.1111111111111111, \"#46039f\"], [0.2222222222222222, \"#7201a8\"], [0.3333333333333333, \"#9c179e\"], [0.4444444444444444, \"#bd3786\"], [0.5555555555555556, \"#d8576b\"], [0.6666666666666666, \"#ed7953\"], [0.7777777777777778, \"#fb9f3a\"], [0.8888888888888888, \"#fdca26\"], [1.0, \"#f0f921\"]]}, \"colorway\": [\"#636efa\", \"#EF553B\", \"#00cc96\", \"#ab63fa\", \"#FFA15A\", \"#19d3f3\", \"#FF6692\", \"#B6E880\", \"#FF97FF\", \"#FECB52\"], \"font\": {\"color\": \"#2a3f5f\"}, \"geo\": {\"bgcolor\": \"white\", \"lakecolor\": \"white\", \"landcolor\": \"#E5ECF6\", \"showlakes\": true, \"showland\": true, \"subunitcolor\": \"white\"}, \"hoverlabel\": {\"align\": \"left\"}, \"hovermode\": \"closest\", \"mapbox\": {\"style\": \"light\"}, \"paper_bgcolor\": \"white\", \"plot_bgcolor\": \"#E5ECF6\", \"polar\": {\"angularaxis\": {\"gridcolor\": \"white\", \"linecolor\": \"white\", \"ticks\": \"\"}, \"bgcolor\": \"#E5ECF6\", \"radialaxis\": {\"gridcolor\": \"white\", \"linecolor\": \"white\", \"ticks\": \"\"}}, \"scene\": {\"xaxis\": {\"backgroundcolor\": \"#E5ECF6\", \"gridcolor\": \"white\", \"gridwidth\": 2, \"linecolor\": \"white\", \"showbackground\": true, \"ticks\": \"\", \"zerolinecolor\": \"white\"}, \"yaxis\": {\"backgroundcolor\": \"#E5ECF6\", \"gridcolor\": \"white\", \"gridwidth\": 2, \"linecolor\": \"white\", \"showbackground\": true, \"ticks\": \"\", \"zerolinecolor\": \"white\"}, \"zaxis\": {\"backgroundcolor\": \"#E5ECF6\", \"gridcolor\": \"white\", \"gridwidth\": 2, \"linecolor\": \"white\", \"showbackground\": true, \"ticks\": \"\", \"zerolinecolor\": \"white\"}}, \"shapedefaults\": {\"line\": {\"color\": \"#2a3f5f\"}}, \"ternary\": {\"aaxis\": {\"gridcolor\": \"white\", \"linecolor\": \"white\", \"ticks\": \"\"}, \"baxis\": {\"gridcolor\": \"white\", \"linecolor\": \"white\", \"ticks\": \"\"}, \"bgcolor\": \"#E5ECF6\", \"caxis\": {\"gridcolor\": \"white\", \"linecolor\": \"white\", \"ticks\": \"\"}}, \"title\": {\"x\": 0.05}, \"xaxis\": {\"automargin\": true, \"gridcolor\": \"white\", \"linecolor\": \"white\", \"ticks\": \"\", \"title\": {\"standoff\": 15}, \"zerolinecolor\": \"white\", \"zerolinewidth\": 2}, \"yaxis\": {\"automargin\": true, \"gridcolor\": \"white\", \"linecolor\": \"white\", \"ticks\": \"\", \"title\": {\"standoff\": 15}, \"zerolinecolor\": \"white\", \"zerolinewidth\": 2}}}, \"title\": {\"text\": \"Top 10 state swith highest number of confirmed cases\"}, \"xaxis\": {\"anchor\": \"y\", \"domain\": [0.0, 1.0], \"title\": {\"text\": \"x\"}}, \"yaxis\": {\"anchor\": \"x\", \"domain\": [0.0, 1.0], \"title\": {\"text\": \"y\"}}},                        {\"responsive\": true}                    ).then(function(){\n",
       "                            \n",
       "var gd = document.getElementById('02024c2c-7593-4bf0-aa76-53bc2165e9ff');\n",
       "var x = new MutationObserver(function (mutations, observer) {{\n",
       "        var display = window.getComputedStyle(gd).display;\n",
       "        if (!display || display === 'none') {{\n",
       "            console.log([gd, 'removed!']);\n",
       "            Plotly.purge(gd);\n",
       "            observer.disconnect();\n",
       "        }}\n",
       "}});\n",
       "\n",
       "// Listen for the removal of the full notebook cells\n",
       "var notebookContainer = gd.closest('#notebook-container');\n",
       "if (notebookContainer) {{\n",
       "    x.observe(notebookContainer, {childList: true});\n",
       "}}\n",
       "\n",
       "// Listen for the clearing of the current output cell\n",
       "var outputEl = gd.closest('.output');\n",
       "if (outputEl) {{\n",
       "    x.observe(outputEl, {childList: true});\n",
       "}}\n",
       "\n",
       "                        })                };                });            </script>        </div>"
      ]
     },
     "metadata": {},
     "output_type": "display_data"
    }
   ],
   "source": [
    "px.bar(x=state_wise.nlargest(10, 'Confirmed')['State/UnionTerritory'],\n",
    "      y=state_wise.nlargest(10, 'Confirmed')['Confirmed'],\n",
    "      color_discrete_sequence= px.colors.diverging.Picnic,\n",
    "      title='Top 10 state swith highest number of confirmed cases',\n",
    "      labels={'State/Union Territory': 'State/UnionTerritory', \n",
    "              'Frequency': 'No. Of cases'})"
   ]
  },
  {
   "cell_type": "code",
   "execution_count": 46,
   "id": "6f47842e",
   "metadata": {},
   "outputs": [
    {
     "data": {
      "application/vnd.plotly.v1+json": {
       "config": {
        "plotlyServerURL": "https://plot.ly"
       },
       "data": [
        {
         "alignmentgroup": "True",
         "hovertemplate": "x=%{x}<br>y=%{y}<extra></extra>",
         "legendgroup": "",
         "marker": {
          "color": "rgb(243, 231, 155)"
         },
         "name": "",
         "offsetgroup": "",
         "orientation": "v",
         "showlegend": false,
         "textposition": "auto",
         "type": "bar",
         "x": [
          "Maharashtra",
          "Andhra Pradesh",
          "Karnataka",
          "Tamil Nadu",
          "Kerala",
          "Delhi",
          "Uttar Pradesh",
          "West Bengal",
          "Odisha",
          "Telengana"
         ],
         "xaxis": "x",
         "y": [
          469331843,
          204556175,
          203715103,
          196346695,
          163528065,
          136002568,
          131266076,
          114783950,
          73188741,
          64666267
         ],
         "yaxis": "y"
        }
       ],
       "layout": {
        "barmode": "relative",
        "legend": {
         "tracegroupgap": 0
        },
        "template": {
         "data": {
          "bar": [
           {
            "error_x": {
             "color": "#2a3f5f"
            },
            "error_y": {
             "color": "#2a3f5f"
            },
            "marker": {
             "line": {
              "color": "#E5ECF6",
              "width": 0.5
             }
            },
            "type": "bar"
           }
          ],
          "barpolar": [
           {
            "marker": {
             "line": {
              "color": "#E5ECF6",
              "width": 0.5
             }
            },
            "type": "barpolar"
           }
          ],
          "carpet": [
           {
            "aaxis": {
             "endlinecolor": "#2a3f5f",
             "gridcolor": "white",
             "linecolor": "white",
             "minorgridcolor": "white",
             "startlinecolor": "#2a3f5f"
            },
            "baxis": {
             "endlinecolor": "#2a3f5f",
             "gridcolor": "white",
             "linecolor": "white",
             "minorgridcolor": "white",
             "startlinecolor": "#2a3f5f"
            },
            "type": "carpet"
           }
          ],
          "choropleth": [
           {
            "colorbar": {
             "outlinewidth": 0,
             "ticks": ""
            },
            "type": "choropleth"
           }
          ],
          "contour": [
           {
            "colorbar": {
             "outlinewidth": 0,
             "ticks": ""
            },
            "colorscale": [
             [
              0,
              "#0d0887"
             ],
             [
              0.1111111111111111,
              "#46039f"
             ],
             [
              0.2222222222222222,
              "#7201a8"
             ],
             [
              0.3333333333333333,
              "#9c179e"
             ],
             [
              0.4444444444444444,
              "#bd3786"
             ],
             [
              0.5555555555555556,
              "#d8576b"
             ],
             [
              0.6666666666666666,
              "#ed7953"
             ],
             [
              0.7777777777777778,
              "#fb9f3a"
             ],
             [
              0.8888888888888888,
              "#fdca26"
             ],
             [
              1,
              "#f0f921"
             ]
            ],
            "type": "contour"
           }
          ],
          "contourcarpet": [
           {
            "colorbar": {
             "outlinewidth": 0,
             "ticks": ""
            },
            "type": "contourcarpet"
           }
          ],
          "heatmap": [
           {
            "colorbar": {
             "outlinewidth": 0,
             "ticks": ""
            },
            "colorscale": [
             [
              0,
              "#0d0887"
             ],
             [
              0.1111111111111111,
              "#46039f"
             ],
             [
              0.2222222222222222,
              "#7201a8"
             ],
             [
              0.3333333333333333,
              "#9c179e"
             ],
             [
              0.4444444444444444,
              "#bd3786"
             ],
             [
              0.5555555555555556,
              "#d8576b"
             ],
             [
              0.6666666666666666,
              "#ed7953"
             ],
             [
              0.7777777777777778,
              "#fb9f3a"
             ],
             [
              0.8888888888888888,
              "#fdca26"
             ],
             [
              1,
              "#f0f921"
             ]
            ],
            "type": "heatmap"
           }
          ],
          "heatmapgl": [
           {
            "colorbar": {
             "outlinewidth": 0,
             "ticks": ""
            },
            "colorscale": [
             [
              0,
              "#0d0887"
             ],
             [
              0.1111111111111111,
              "#46039f"
             ],
             [
              0.2222222222222222,
              "#7201a8"
             ],
             [
              0.3333333333333333,
              "#9c179e"
             ],
             [
              0.4444444444444444,
              "#bd3786"
             ],
             [
              0.5555555555555556,
              "#d8576b"
             ],
             [
              0.6666666666666666,
              "#ed7953"
             ],
             [
              0.7777777777777778,
              "#fb9f3a"
             ],
             [
              0.8888888888888888,
              "#fdca26"
             ],
             [
              1,
              "#f0f921"
             ]
            ],
            "type": "heatmapgl"
           }
          ],
          "histogram": [
           {
            "marker": {
             "colorbar": {
              "outlinewidth": 0,
              "ticks": ""
             }
            },
            "type": "histogram"
           }
          ],
          "histogram2d": [
           {
            "colorbar": {
             "outlinewidth": 0,
             "ticks": ""
            },
            "colorscale": [
             [
              0,
              "#0d0887"
             ],
             [
              0.1111111111111111,
              "#46039f"
             ],
             [
              0.2222222222222222,
              "#7201a8"
             ],
             [
              0.3333333333333333,
              "#9c179e"
             ],
             [
              0.4444444444444444,
              "#bd3786"
             ],
             [
              0.5555555555555556,
              "#d8576b"
             ],
             [
              0.6666666666666666,
              "#ed7953"
             ],
             [
              0.7777777777777778,
              "#fb9f3a"
             ],
             [
              0.8888888888888888,
              "#fdca26"
             ],
             [
              1,
              "#f0f921"
             ]
            ],
            "type": "histogram2d"
           }
          ],
          "histogram2dcontour": [
           {
            "colorbar": {
             "outlinewidth": 0,
             "ticks": ""
            },
            "colorscale": [
             [
              0,
              "#0d0887"
             ],
             [
              0.1111111111111111,
              "#46039f"
             ],
             [
              0.2222222222222222,
              "#7201a8"
             ],
             [
              0.3333333333333333,
              "#9c179e"
             ],
             [
              0.4444444444444444,
              "#bd3786"
             ],
             [
              0.5555555555555556,
              "#d8576b"
             ],
             [
              0.6666666666666666,
              "#ed7953"
             ],
             [
              0.7777777777777778,
              "#fb9f3a"
             ],
             [
              0.8888888888888888,
              "#fdca26"
             ],
             [
              1,
              "#f0f921"
             ]
            ],
            "type": "histogram2dcontour"
           }
          ],
          "mesh3d": [
           {
            "colorbar": {
             "outlinewidth": 0,
             "ticks": ""
            },
            "type": "mesh3d"
           }
          ],
          "parcoords": [
           {
            "line": {
             "colorbar": {
              "outlinewidth": 0,
              "ticks": ""
             }
            },
            "type": "parcoords"
           }
          ],
          "pie": [
           {
            "automargin": true,
            "type": "pie"
           }
          ],
          "scatter": [
           {
            "marker": {
             "colorbar": {
              "outlinewidth": 0,
              "ticks": ""
             }
            },
            "type": "scatter"
           }
          ],
          "scatter3d": [
           {
            "line": {
             "colorbar": {
              "outlinewidth": 0,
              "ticks": ""
             }
            },
            "marker": {
             "colorbar": {
              "outlinewidth": 0,
              "ticks": ""
             }
            },
            "type": "scatter3d"
           }
          ],
          "scattercarpet": [
           {
            "marker": {
             "colorbar": {
              "outlinewidth": 0,
              "ticks": ""
             }
            },
            "type": "scattercarpet"
           }
          ],
          "scattergeo": [
           {
            "marker": {
             "colorbar": {
              "outlinewidth": 0,
              "ticks": ""
             }
            },
            "type": "scattergeo"
           }
          ],
          "scattergl": [
           {
            "marker": {
             "colorbar": {
              "outlinewidth": 0,
              "ticks": ""
             }
            },
            "type": "scattergl"
           }
          ],
          "scattermapbox": [
           {
            "marker": {
             "colorbar": {
              "outlinewidth": 0,
              "ticks": ""
             }
            },
            "type": "scattermapbox"
           }
          ],
          "scatterpolar": [
           {
            "marker": {
             "colorbar": {
              "outlinewidth": 0,
              "ticks": ""
             }
            },
            "type": "scatterpolar"
           }
          ],
          "scatterpolargl": [
           {
            "marker": {
             "colorbar": {
              "outlinewidth": 0,
              "ticks": ""
             }
            },
            "type": "scatterpolargl"
           }
          ],
          "scatterternary": [
           {
            "marker": {
             "colorbar": {
              "outlinewidth": 0,
              "ticks": ""
             }
            },
            "type": "scatterternary"
           }
          ],
          "surface": [
           {
            "colorbar": {
             "outlinewidth": 0,
             "ticks": ""
            },
            "colorscale": [
             [
              0,
              "#0d0887"
             ],
             [
              0.1111111111111111,
              "#46039f"
             ],
             [
              0.2222222222222222,
              "#7201a8"
             ],
             [
              0.3333333333333333,
              "#9c179e"
             ],
             [
              0.4444444444444444,
              "#bd3786"
             ],
             [
              0.5555555555555556,
              "#d8576b"
             ],
             [
              0.6666666666666666,
              "#ed7953"
             ],
             [
              0.7777777777777778,
              "#fb9f3a"
             ],
             [
              0.8888888888888888,
              "#fdca26"
             ],
             [
              1,
              "#f0f921"
             ]
            ],
            "type": "surface"
           }
          ],
          "table": [
           {
            "cells": {
             "fill": {
              "color": "#EBF0F8"
             },
             "line": {
              "color": "white"
             }
            },
            "header": {
             "fill": {
              "color": "#C8D4E3"
             },
             "line": {
              "color": "white"
             }
            },
            "type": "table"
           }
          ]
         },
         "layout": {
          "annotationdefaults": {
           "arrowcolor": "#2a3f5f",
           "arrowhead": 0,
           "arrowwidth": 1
          },
          "autotypenumbers": "strict",
          "coloraxis": {
           "colorbar": {
            "outlinewidth": 0,
            "ticks": ""
           }
          },
          "colorscale": {
           "diverging": [
            [
             0,
             "#8e0152"
            ],
            [
             0.1,
             "#c51b7d"
            ],
            [
             0.2,
             "#de77ae"
            ],
            [
             0.3,
             "#f1b6da"
            ],
            [
             0.4,
             "#fde0ef"
            ],
            [
             0.5,
             "#f7f7f7"
            ],
            [
             0.6,
             "#e6f5d0"
            ],
            [
             0.7,
             "#b8e186"
            ],
            [
             0.8,
             "#7fbc41"
            ],
            [
             0.9,
             "#4d9221"
            ],
            [
             1,
             "#276419"
            ]
           ],
           "sequential": [
            [
             0,
             "#0d0887"
            ],
            [
             0.1111111111111111,
             "#46039f"
            ],
            [
             0.2222222222222222,
             "#7201a8"
            ],
            [
             0.3333333333333333,
             "#9c179e"
            ],
            [
             0.4444444444444444,
             "#bd3786"
            ],
            [
             0.5555555555555556,
             "#d8576b"
            ],
            [
             0.6666666666666666,
             "#ed7953"
            ],
            [
             0.7777777777777778,
             "#fb9f3a"
            ],
            [
             0.8888888888888888,
             "#fdca26"
            ],
            [
             1,
             "#f0f921"
            ]
           ],
           "sequentialminus": [
            [
             0,
             "#0d0887"
            ],
            [
             0.1111111111111111,
             "#46039f"
            ],
            [
             0.2222222222222222,
             "#7201a8"
            ],
            [
             0.3333333333333333,
             "#9c179e"
            ],
            [
             0.4444444444444444,
             "#bd3786"
            ],
            [
             0.5555555555555556,
             "#d8576b"
            ],
            [
             0.6666666666666666,
             "#ed7953"
            ],
            [
             0.7777777777777778,
             "#fb9f3a"
            ],
            [
             0.8888888888888888,
             "#fdca26"
            ],
            [
             1,
             "#f0f921"
            ]
           ]
          },
          "colorway": [
           "#636efa",
           "#EF553B",
           "#00cc96",
           "#ab63fa",
           "#FFA15A",
           "#19d3f3",
           "#FF6692",
           "#B6E880",
           "#FF97FF",
           "#FECB52"
          ],
          "font": {
           "color": "#2a3f5f"
          },
          "geo": {
           "bgcolor": "white",
           "lakecolor": "white",
           "landcolor": "#E5ECF6",
           "showlakes": true,
           "showland": true,
           "subunitcolor": "white"
          },
          "hoverlabel": {
           "align": "left"
          },
          "hovermode": "closest",
          "mapbox": {
           "style": "light"
          },
          "paper_bgcolor": "white",
          "plot_bgcolor": "#E5ECF6",
          "polar": {
           "angularaxis": {
            "gridcolor": "white",
            "linecolor": "white",
            "ticks": ""
           },
           "bgcolor": "#E5ECF6",
           "radialaxis": {
            "gridcolor": "white",
            "linecolor": "white",
            "ticks": ""
           }
          },
          "scene": {
           "xaxis": {
            "backgroundcolor": "#E5ECF6",
            "gridcolor": "white",
            "gridwidth": 2,
            "linecolor": "white",
            "showbackground": true,
            "ticks": "",
            "zerolinecolor": "white"
           },
           "yaxis": {
            "backgroundcolor": "#E5ECF6",
            "gridcolor": "white",
            "gridwidth": 2,
            "linecolor": "white",
            "showbackground": true,
            "ticks": "",
            "zerolinecolor": "white"
           },
           "zaxis": {
            "backgroundcolor": "#E5ECF6",
            "gridcolor": "white",
            "gridwidth": 2,
            "linecolor": "white",
            "showbackground": true,
            "ticks": "",
            "zerolinecolor": "white"
           }
          },
          "shapedefaults": {
           "line": {
            "color": "#2a3f5f"
           }
          },
          "ternary": {
           "aaxis": {
            "gridcolor": "white",
            "linecolor": "white",
            "ticks": ""
           },
           "baxis": {
            "gridcolor": "white",
            "linecolor": "white",
            "ticks": ""
           },
           "bgcolor": "#E5ECF6",
           "caxis": {
            "gridcolor": "white",
            "linecolor": "white",
            "ticks": ""
           }
          },
          "title": {
           "x": 0.05
          },
          "xaxis": {
           "automargin": true,
           "gridcolor": "white",
           "linecolor": "white",
           "ticks": "",
           "title": {
            "standoff": 15
           },
           "zerolinecolor": "white",
           "zerolinewidth": 2
          },
          "yaxis": {
           "automargin": true,
           "gridcolor": "white",
           "linecolor": "white",
           "ticks": "",
           "title": {
            "standoff": 15
           },
           "zerolinecolor": "white",
           "zerolinewidth": 2
          }
         }
        },
        "title": {
         "text": "Top 10 states with highest number of cured patients"
        },
        "xaxis": {
         "anchor": "y",
         "domain": [
          0,
          1
         ],
         "title": {
          "text": "x"
         }
        },
        "yaxis": {
         "anchor": "x",
         "domain": [
          0,
          1
         ],
         "title": {
          "text": "y"
         }
        }
       }
      },
      "text/html": [
       "<div>                            <div id=\"b4e65365-02ef-4ea1-86ce-49efa51a4521\" class=\"plotly-graph-div\" style=\"height:525px; width:100%;\"></div>            <script type=\"text/javascript\">                require([\"plotly\"], function(Plotly) {                    window.PLOTLYENV=window.PLOTLYENV || {};                                    if (document.getElementById(\"b4e65365-02ef-4ea1-86ce-49efa51a4521\")) {                    Plotly.newPlot(                        \"b4e65365-02ef-4ea1-86ce-49efa51a4521\",                        [{\"alignmentgroup\": \"True\", \"hovertemplate\": \"x=%{x}<br>y=%{y}<extra></extra>\", \"legendgroup\": \"\", \"marker\": {\"color\": \"rgb(243, 231, 155)\"}, \"name\": \"\", \"offsetgroup\": \"\", \"orientation\": \"v\", \"showlegend\": false, \"textposition\": \"auto\", \"type\": \"bar\", \"x\": [\"Maharashtra\", \"Andhra Pradesh\", \"Karnataka\", \"Tamil Nadu\", \"Kerala\", \"Delhi\", \"Uttar Pradesh\", \"West Bengal\", \"Odisha\", \"Telengana\"], \"xaxis\": \"x\", \"y\": [469331843, 204556175, 203715103, 196346695, 163528065, 136002568, 131266076, 114783950, 73188741, 64666267], \"yaxis\": \"y\"}],                        {\"barmode\": \"relative\", \"legend\": {\"tracegroupgap\": 0}, \"template\": {\"data\": {\"bar\": [{\"error_x\": {\"color\": \"#2a3f5f\"}, \"error_y\": {\"color\": \"#2a3f5f\"}, \"marker\": {\"line\": {\"color\": \"#E5ECF6\", \"width\": 0.5}}, \"type\": \"bar\"}], \"barpolar\": [{\"marker\": {\"line\": {\"color\": \"#E5ECF6\", \"width\": 0.5}}, \"type\": \"barpolar\"}], \"carpet\": [{\"aaxis\": {\"endlinecolor\": \"#2a3f5f\", \"gridcolor\": \"white\", \"linecolor\": \"white\", \"minorgridcolor\": \"white\", \"startlinecolor\": \"#2a3f5f\"}, \"baxis\": {\"endlinecolor\": \"#2a3f5f\", \"gridcolor\": \"white\", \"linecolor\": \"white\", \"minorgridcolor\": \"white\", \"startlinecolor\": \"#2a3f5f\"}, \"type\": \"carpet\"}], \"choropleth\": [{\"colorbar\": {\"outlinewidth\": 0, \"ticks\": \"\"}, \"type\": \"choropleth\"}], \"contour\": [{\"colorbar\": {\"outlinewidth\": 0, \"ticks\": \"\"}, \"colorscale\": [[0.0, \"#0d0887\"], [0.1111111111111111, \"#46039f\"], [0.2222222222222222, \"#7201a8\"], [0.3333333333333333, \"#9c179e\"], [0.4444444444444444, \"#bd3786\"], [0.5555555555555556, \"#d8576b\"], [0.6666666666666666, \"#ed7953\"], [0.7777777777777778, \"#fb9f3a\"], [0.8888888888888888, \"#fdca26\"], [1.0, \"#f0f921\"]], \"type\": \"contour\"}], \"contourcarpet\": [{\"colorbar\": {\"outlinewidth\": 0, \"ticks\": \"\"}, \"type\": \"contourcarpet\"}], \"heatmap\": [{\"colorbar\": {\"outlinewidth\": 0, \"ticks\": \"\"}, \"colorscale\": [[0.0, \"#0d0887\"], [0.1111111111111111, \"#46039f\"], [0.2222222222222222, \"#7201a8\"], [0.3333333333333333, \"#9c179e\"], [0.4444444444444444, \"#bd3786\"], [0.5555555555555556, \"#d8576b\"], [0.6666666666666666, \"#ed7953\"], [0.7777777777777778, \"#fb9f3a\"], [0.8888888888888888, \"#fdca26\"], [1.0, \"#f0f921\"]], \"type\": \"heatmap\"}], \"heatmapgl\": [{\"colorbar\": {\"outlinewidth\": 0, \"ticks\": \"\"}, \"colorscale\": [[0.0, \"#0d0887\"], [0.1111111111111111, \"#46039f\"], [0.2222222222222222, \"#7201a8\"], [0.3333333333333333, \"#9c179e\"], [0.4444444444444444, \"#bd3786\"], [0.5555555555555556, \"#d8576b\"], [0.6666666666666666, \"#ed7953\"], [0.7777777777777778, \"#fb9f3a\"], [0.8888888888888888, \"#fdca26\"], [1.0, \"#f0f921\"]], \"type\": \"heatmapgl\"}], \"histogram\": [{\"marker\": {\"colorbar\": {\"outlinewidth\": 0, \"ticks\": \"\"}}, \"type\": \"histogram\"}], \"histogram2d\": [{\"colorbar\": {\"outlinewidth\": 0, \"ticks\": \"\"}, \"colorscale\": [[0.0, \"#0d0887\"], [0.1111111111111111, \"#46039f\"], [0.2222222222222222, \"#7201a8\"], [0.3333333333333333, \"#9c179e\"], [0.4444444444444444, \"#bd3786\"], [0.5555555555555556, \"#d8576b\"], [0.6666666666666666, \"#ed7953\"], [0.7777777777777778, \"#fb9f3a\"], [0.8888888888888888, \"#fdca26\"], [1.0, \"#f0f921\"]], \"type\": \"histogram2d\"}], \"histogram2dcontour\": [{\"colorbar\": {\"outlinewidth\": 0, \"ticks\": \"\"}, \"colorscale\": [[0.0, \"#0d0887\"], [0.1111111111111111, \"#46039f\"], [0.2222222222222222, \"#7201a8\"], [0.3333333333333333, \"#9c179e\"], [0.4444444444444444, \"#bd3786\"], [0.5555555555555556, \"#d8576b\"], [0.6666666666666666, \"#ed7953\"], [0.7777777777777778, \"#fb9f3a\"], [0.8888888888888888, \"#fdca26\"], [1.0, \"#f0f921\"]], \"type\": \"histogram2dcontour\"}], \"mesh3d\": [{\"colorbar\": {\"outlinewidth\": 0, \"ticks\": \"\"}, \"type\": \"mesh3d\"}], \"parcoords\": [{\"line\": {\"colorbar\": {\"outlinewidth\": 0, \"ticks\": \"\"}}, \"type\": \"parcoords\"}], \"pie\": [{\"automargin\": true, \"type\": \"pie\"}], \"scatter\": [{\"marker\": {\"colorbar\": {\"outlinewidth\": 0, \"ticks\": \"\"}}, \"type\": \"scatter\"}], \"scatter3d\": [{\"line\": {\"colorbar\": {\"outlinewidth\": 0, \"ticks\": \"\"}}, \"marker\": {\"colorbar\": {\"outlinewidth\": 0, \"ticks\": \"\"}}, \"type\": \"scatter3d\"}], \"scattercarpet\": [{\"marker\": {\"colorbar\": {\"outlinewidth\": 0, \"ticks\": \"\"}}, \"type\": \"scattercarpet\"}], \"scattergeo\": [{\"marker\": {\"colorbar\": {\"outlinewidth\": 0, \"ticks\": \"\"}}, \"type\": \"scattergeo\"}], \"scattergl\": [{\"marker\": {\"colorbar\": {\"outlinewidth\": 0, \"ticks\": \"\"}}, \"type\": \"scattergl\"}], \"scattermapbox\": [{\"marker\": {\"colorbar\": {\"outlinewidth\": 0, \"ticks\": \"\"}}, \"type\": \"scattermapbox\"}], \"scatterpolar\": [{\"marker\": {\"colorbar\": {\"outlinewidth\": 0, \"ticks\": \"\"}}, \"type\": \"scatterpolar\"}], \"scatterpolargl\": [{\"marker\": {\"colorbar\": {\"outlinewidth\": 0, \"ticks\": \"\"}}, \"type\": \"scatterpolargl\"}], \"scatterternary\": [{\"marker\": {\"colorbar\": {\"outlinewidth\": 0, \"ticks\": \"\"}}, \"type\": \"scatterternary\"}], \"surface\": [{\"colorbar\": {\"outlinewidth\": 0, \"ticks\": \"\"}, \"colorscale\": [[0.0, \"#0d0887\"], [0.1111111111111111, \"#46039f\"], [0.2222222222222222, \"#7201a8\"], [0.3333333333333333, \"#9c179e\"], [0.4444444444444444, \"#bd3786\"], [0.5555555555555556, \"#d8576b\"], [0.6666666666666666, \"#ed7953\"], [0.7777777777777778, \"#fb9f3a\"], [0.8888888888888888, \"#fdca26\"], [1.0, \"#f0f921\"]], \"type\": \"surface\"}], \"table\": [{\"cells\": {\"fill\": {\"color\": \"#EBF0F8\"}, \"line\": {\"color\": \"white\"}}, \"header\": {\"fill\": {\"color\": \"#C8D4E3\"}, \"line\": {\"color\": \"white\"}}, \"type\": \"table\"}]}, \"layout\": {\"annotationdefaults\": {\"arrowcolor\": \"#2a3f5f\", \"arrowhead\": 0, \"arrowwidth\": 1}, \"autotypenumbers\": \"strict\", \"coloraxis\": {\"colorbar\": {\"outlinewidth\": 0, \"ticks\": \"\"}}, \"colorscale\": {\"diverging\": [[0, \"#8e0152\"], [0.1, \"#c51b7d\"], [0.2, \"#de77ae\"], [0.3, \"#f1b6da\"], [0.4, \"#fde0ef\"], [0.5, \"#f7f7f7\"], [0.6, \"#e6f5d0\"], [0.7, \"#b8e186\"], [0.8, \"#7fbc41\"], [0.9, \"#4d9221\"], [1, \"#276419\"]], \"sequential\": [[0.0, \"#0d0887\"], [0.1111111111111111, \"#46039f\"], [0.2222222222222222, \"#7201a8\"], [0.3333333333333333, \"#9c179e\"], [0.4444444444444444, \"#bd3786\"], [0.5555555555555556, \"#d8576b\"], [0.6666666666666666, \"#ed7953\"], [0.7777777777777778, \"#fb9f3a\"], [0.8888888888888888, \"#fdca26\"], [1.0, \"#f0f921\"]], \"sequentialminus\": [[0.0, \"#0d0887\"], [0.1111111111111111, \"#46039f\"], [0.2222222222222222, \"#7201a8\"], [0.3333333333333333, \"#9c179e\"], [0.4444444444444444, \"#bd3786\"], [0.5555555555555556, \"#d8576b\"], [0.6666666666666666, \"#ed7953\"], [0.7777777777777778, \"#fb9f3a\"], [0.8888888888888888, \"#fdca26\"], [1.0, \"#f0f921\"]]}, \"colorway\": [\"#636efa\", \"#EF553B\", \"#00cc96\", \"#ab63fa\", \"#FFA15A\", \"#19d3f3\", \"#FF6692\", \"#B6E880\", \"#FF97FF\", \"#FECB52\"], \"font\": {\"color\": \"#2a3f5f\"}, \"geo\": {\"bgcolor\": \"white\", \"lakecolor\": \"white\", \"landcolor\": \"#E5ECF6\", \"showlakes\": true, \"showland\": true, \"subunitcolor\": \"white\"}, \"hoverlabel\": {\"align\": \"left\"}, \"hovermode\": \"closest\", \"mapbox\": {\"style\": \"light\"}, \"paper_bgcolor\": \"white\", \"plot_bgcolor\": \"#E5ECF6\", \"polar\": {\"angularaxis\": {\"gridcolor\": \"white\", \"linecolor\": \"white\", \"ticks\": \"\"}, \"bgcolor\": \"#E5ECF6\", \"radialaxis\": {\"gridcolor\": \"white\", \"linecolor\": \"white\", \"ticks\": \"\"}}, \"scene\": {\"xaxis\": {\"backgroundcolor\": \"#E5ECF6\", \"gridcolor\": \"white\", \"gridwidth\": 2, \"linecolor\": \"white\", \"showbackground\": true, \"ticks\": \"\", \"zerolinecolor\": \"white\"}, \"yaxis\": {\"backgroundcolor\": \"#E5ECF6\", \"gridcolor\": \"white\", \"gridwidth\": 2, \"linecolor\": \"white\", \"showbackground\": true, \"ticks\": \"\", \"zerolinecolor\": \"white\"}, \"zaxis\": {\"backgroundcolor\": \"#E5ECF6\", \"gridcolor\": \"white\", \"gridwidth\": 2, \"linecolor\": \"white\", \"showbackground\": true, \"ticks\": \"\", \"zerolinecolor\": \"white\"}}, \"shapedefaults\": {\"line\": {\"color\": \"#2a3f5f\"}}, \"ternary\": {\"aaxis\": {\"gridcolor\": \"white\", \"linecolor\": \"white\", \"ticks\": \"\"}, \"baxis\": {\"gridcolor\": \"white\", \"linecolor\": \"white\", \"ticks\": \"\"}, \"bgcolor\": \"#E5ECF6\", \"caxis\": {\"gridcolor\": \"white\", \"linecolor\": \"white\", \"ticks\": \"\"}}, \"title\": {\"x\": 0.05}, \"xaxis\": {\"automargin\": true, \"gridcolor\": \"white\", \"linecolor\": \"white\", \"ticks\": \"\", \"title\": {\"standoff\": 15}, \"zerolinecolor\": \"white\", \"zerolinewidth\": 2}, \"yaxis\": {\"automargin\": true, \"gridcolor\": \"white\", \"linecolor\": \"white\", \"ticks\": \"\", \"title\": {\"standoff\": 15}, \"zerolinecolor\": \"white\", \"zerolinewidth\": 2}}}, \"title\": {\"text\": \"Top 10 states with highest number of cured patients\"}, \"xaxis\": {\"anchor\": \"y\", \"domain\": [0.0, 1.0], \"title\": {\"text\": \"x\"}}, \"yaxis\": {\"anchor\": \"x\", \"domain\": [0.0, 1.0], \"title\": {\"text\": \"y\"}}},                        {\"responsive\": true}                    ).then(function(){\n",
       "                            \n",
       "var gd = document.getElementById('b4e65365-02ef-4ea1-86ce-49efa51a4521');\n",
       "var x = new MutationObserver(function (mutations, observer) {{\n",
       "        var display = window.getComputedStyle(gd).display;\n",
       "        if (!display || display === 'none') {{\n",
       "            console.log([gd, 'removed!']);\n",
       "            Plotly.purge(gd);\n",
       "            observer.disconnect();\n",
       "        }}\n",
       "}});\n",
       "\n",
       "// Listen for the removal of the full notebook cells\n",
       "var notebookContainer = gd.closest('#notebook-container');\n",
       "if (notebookContainer) {{\n",
       "    x.observe(notebookContainer, {childList: true});\n",
       "}}\n",
       "\n",
       "// Listen for the clearing of the current output cell\n",
       "var outputEl = gd.closest('.output');\n",
       "if (outputEl) {{\n",
       "    x.observe(outputEl, {childList: true});\n",
       "}}\n",
       "\n",
       "                        })                };                });            </script>        </div>"
      ]
     },
     "metadata": {},
     "output_type": "display_data"
    }
   ],
   "source": [
    "# Top 10 states with highest number of recovered people\n",
    "px.bar(x=state_wise.nlargest(10, 'Cured')['State/UnionTerritory'],\n",
    "      y= state_wise.nlargest(10, 'Cured')['Cured'],\n",
    "       color_discrete_sequence = px.colors.sequential.Sunset,\n",
    "      title = 'Top 10 states with highest number of cured patients')"
   ]
  },
  {
   "cell_type": "code",
   "execution_count": 47,
   "id": "b4305d04",
   "metadata": {},
   "outputs": [
    {
     "data": {
      "application/vnd.plotly.v1+json": {
       "config": {
        "plotlyServerURL": "https://plot.ly"
       },
       "data": [
        {
         "alignmentgroup": "True",
         "hovertemplate": "x=%{x}<br>y=%{y}<extra></extra>",
         "legendgroup": "",
         "marker": {
          "color": "rgb(20, 29, 67)"
         },
         "name": "",
         "offsetgroup": "",
         "orientation": "v",
         "showlegend": false,
         "textposition": "auto",
         "type": "bar",
         "x": [
          "Maharashtra",
          "Tamil Nadu",
          "Karnataka",
          "Delhi",
          "West Bengal",
          "Uttar Pradesh",
          "Andhra Pradesh",
          "Punjab",
          "Gujarat",
          "Madhya Pradesh"
         ],
         "xaxis": "x",
         "y": [
          12836010,
          3107508,
          2962964,
          2551455,
          2208558,
          2049294,
          1762534,
          1303314,
          1244913,
          911139
         ],
         "yaxis": "y"
        }
       ],
       "layout": {
        "barmode": "relative",
        "legend": {
         "tracegroupgap": 0
        },
        "template": {
         "data": {
          "bar": [
           {
            "error_x": {
             "color": "#2a3f5f"
            },
            "error_y": {
             "color": "#2a3f5f"
            },
            "marker": {
             "line": {
              "color": "#E5ECF6",
              "width": 0.5
             }
            },
            "type": "bar"
           }
          ],
          "barpolar": [
           {
            "marker": {
             "line": {
              "color": "#E5ECF6",
              "width": 0.5
             }
            },
            "type": "barpolar"
           }
          ],
          "carpet": [
           {
            "aaxis": {
             "endlinecolor": "#2a3f5f",
             "gridcolor": "white",
             "linecolor": "white",
             "minorgridcolor": "white",
             "startlinecolor": "#2a3f5f"
            },
            "baxis": {
             "endlinecolor": "#2a3f5f",
             "gridcolor": "white",
             "linecolor": "white",
             "minorgridcolor": "white",
             "startlinecolor": "#2a3f5f"
            },
            "type": "carpet"
           }
          ],
          "choropleth": [
           {
            "colorbar": {
             "outlinewidth": 0,
             "ticks": ""
            },
            "type": "choropleth"
           }
          ],
          "contour": [
           {
            "colorbar": {
             "outlinewidth": 0,
             "ticks": ""
            },
            "colorscale": [
             [
              0,
              "#0d0887"
             ],
             [
              0.1111111111111111,
              "#46039f"
             ],
             [
              0.2222222222222222,
              "#7201a8"
             ],
             [
              0.3333333333333333,
              "#9c179e"
             ],
             [
              0.4444444444444444,
              "#bd3786"
             ],
             [
              0.5555555555555556,
              "#d8576b"
             ],
             [
              0.6666666666666666,
              "#ed7953"
             ],
             [
              0.7777777777777778,
              "#fb9f3a"
             ],
             [
              0.8888888888888888,
              "#fdca26"
             ],
             [
              1,
              "#f0f921"
             ]
            ],
            "type": "contour"
           }
          ],
          "contourcarpet": [
           {
            "colorbar": {
             "outlinewidth": 0,
             "ticks": ""
            },
            "type": "contourcarpet"
           }
          ],
          "heatmap": [
           {
            "colorbar": {
             "outlinewidth": 0,
             "ticks": ""
            },
            "colorscale": [
             [
              0,
              "#0d0887"
             ],
             [
              0.1111111111111111,
              "#46039f"
             ],
             [
              0.2222222222222222,
              "#7201a8"
             ],
             [
              0.3333333333333333,
              "#9c179e"
             ],
             [
              0.4444444444444444,
              "#bd3786"
             ],
             [
              0.5555555555555556,
              "#d8576b"
             ],
             [
              0.6666666666666666,
              "#ed7953"
             ],
             [
              0.7777777777777778,
              "#fb9f3a"
             ],
             [
              0.8888888888888888,
              "#fdca26"
             ],
             [
              1,
              "#f0f921"
             ]
            ],
            "type": "heatmap"
           }
          ],
          "heatmapgl": [
           {
            "colorbar": {
             "outlinewidth": 0,
             "ticks": ""
            },
            "colorscale": [
             [
              0,
              "#0d0887"
             ],
             [
              0.1111111111111111,
              "#46039f"
             ],
             [
              0.2222222222222222,
              "#7201a8"
             ],
             [
              0.3333333333333333,
              "#9c179e"
             ],
             [
              0.4444444444444444,
              "#bd3786"
             ],
             [
              0.5555555555555556,
              "#d8576b"
             ],
             [
              0.6666666666666666,
              "#ed7953"
             ],
             [
              0.7777777777777778,
              "#fb9f3a"
             ],
             [
              0.8888888888888888,
              "#fdca26"
             ],
             [
              1,
              "#f0f921"
             ]
            ],
            "type": "heatmapgl"
           }
          ],
          "histogram": [
           {
            "marker": {
             "colorbar": {
              "outlinewidth": 0,
              "ticks": ""
             }
            },
            "type": "histogram"
           }
          ],
          "histogram2d": [
           {
            "colorbar": {
             "outlinewidth": 0,
             "ticks": ""
            },
            "colorscale": [
             [
              0,
              "#0d0887"
             ],
             [
              0.1111111111111111,
              "#46039f"
             ],
             [
              0.2222222222222222,
              "#7201a8"
             ],
             [
              0.3333333333333333,
              "#9c179e"
             ],
             [
              0.4444444444444444,
              "#bd3786"
             ],
             [
              0.5555555555555556,
              "#d8576b"
             ],
             [
              0.6666666666666666,
              "#ed7953"
             ],
             [
              0.7777777777777778,
              "#fb9f3a"
             ],
             [
              0.8888888888888888,
              "#fdca26"
             ],
             [
              1,
              "#f0f921"
             ]
            ],
            "type": "histogram2d"
           }
          ],
          "histogram2dcontour": [
           {
            "colorbar": {
             "outlinewidth": 0,
             "ticks": ""
            },
            "colorscale": [
             [
              0,
              "#0d0887"
             ],
             [
              0.1111111111111111,
              "#46039f"
             ],
             [
              0.2222222222222222,
              "#7201a8"
             ],
             [
              0.3333333333333333,
              "#9c179e"
             ],
             [
              0.4444444444444444,
              "#bd3786"
             ],
             [
              0.5555555555555556,
              "#d8576b"
             ],
             [
              0.6666666666666666,
              "#ed7953"
             ],
             [
              0.7777777777777778,
              "#fb9f3a"
             ],
             [
              0.8888888888888888,
              "#fdca26"
             ],
             [
              1,
              "#f0f921"
             ]
            ],
            "type": "histogram2dcontour"
           }
          ],
          "mesh3d": [
           {
            "colorbar": {
             "outlinewidth": 0,
             "ticks": ""
            },
            "type": "mesh3d"
           }
          ],
          "parcoords": [
           {
            "line": {
             "colorbar": {
              "outlinewidth": 0,
              "ticks": ""
             }
            },
            "type": "parcoords"
           }
          ],
          "pie": [
           {
            "automargin": true,
            "type": "pie"
           }
          ],
          "scatter": [
           {
            "marker": {
             "colorbar": {
              "outlinewidth": 0,
              "ticks": ""
             }
            },
            "type": "scatter"
           }
          ],
          "scatter3d": [
           {
            "line": {
             "colorbar": {
              "outlinewidth": 0,
              "ticks": ""
             }
            },
            "marker": {
             "colorbar": {
              "outlinewidth": 0,
              "ticks": ""
             }
            },
            "type": "scatter3d"
           }
          ],
          "scattercarpet": [
           {
            "marker": {
             "colorbar": {
              "outlinewidth": 0,
              "ticks": ""
             }
            },
            "type": "scattercarpet"
           }
          ],
          "scattergeo": [
           {
            "marker": {
             "colorbar": {
              "outlinewidth": 0,
              "ticks": ""
             }
            },
            "type": "scattergeo"
           }
          ],
          "scattergl": [
           {
            "marker": {
             "colorbar": {
              "outlinewidth": 0,
              "ticks": ""
             }
            },
            "type": "scattergl"
           }
          ],
          "scattermapbox": [
           {
            "marker": {
             "colorbar": {
              "outlinewidth": 0,
              "ticks": ""
             }
            },
            "type": "scattermapbox"
           }
          ],
          "scatterpolar": [
           {
            "marker": {
             "colorbar": {
              "outlinewidth": 0,
              "ticks": ""
             }
            },
            "type": "scatterpolar"
           }
          ],
          "scatterpolargl": [
           {
            "marker": {
             "colorbar": {
              "outlinewidth": 0,
              "ticks": ""
             }
            },
            "type": "scatterpolargl"
           }
          ],
          "scatterternary": [
           {
            "marker": {
             "colorbar": {
              "outlinewidth": 0,
              "ticks": ""
             }
            },
            "type": "scatterternary"
           }
          ],
          "surface": [
           {
            "colorbar": {
             "outlinewidth": 0,
             "ticks": ""
            },
            "colorscale": [
             [
              0,
              "#0d0887"
             ],
             [
              0.1111111111111111,
              "#46039f"
             ],
             [
              0.2222222222222222,
              "#7201a8"
             ],
             [
              0.3333333333333333,
              "#9c179e"
             ],
             [
              0.4444444444444444,
              "#bd3786"
             ],
             [
              0.5555555555555556,
              "#d8576b"
             ],
             [
              0.6666666666666666,
              "#ed7953"
             ],
             [
              0.7777777777777778,
              "#fb9f3a"
             ],
             [
              0.8888888888888888,
              "#fdca26"
             ],
             [
              1,
              "#f0f921"
             ]
            ],
            "type": "surface"
           }
          ],
          "table": [
           {
            "cells": {
             "fill": {
              "color": "#EBF0F8"
             },
             "line": {
              "color": "white"
             }
            },
            "header": {
             "fill": {
              "color": "#C8D4E3"
             },
             "line": {
              "color": "white"
             }
            },
            "type": "table"
           }
          ]
         },
         "layout": {
          "annotationdefaults": {
           "arrowcolor": "#2a3f5f",
           "arrowhead": 0,
           "arrowwidth": 1
          },
          "autotypenumbers": "strict",
          "coloraxis": {
           "colorbar": {
            "outlinewidth": 0,
            "ticks": ""
           }
          },
          "colorscale": {
           "diverging": [
            [
             0,
             "#8e0152"
            ],
            [
             0.1,
             "#c51b7d"
            ],
            [
             0.2,
             "#de77ae"
            ],
            [
             0.3,
             "#f1b6da"
            ],
            [
             0.4,
             "#fde0ef"
            ],
            [
             0.5,
             "#f7f7f7"
            ],
            [
             0.6,
             "#e6f5d0"
            ],
            [
             0.7,
             "#b8e186"
            ],
            [
             0.8,
             "#7fbc41"
            ],
            [
             0.9,
             "#4d9221"
            ],
            [
             1,
             "#276419"
            ]
           ],
           "sequential": [
            [
             0,
             "#0d0887"
            ],
            [
             0.1111111111111111,
             "#46039f"
            ],
            [
             0.2222222222222222,
             "#7201a8"
            ],
            [
             0.3333333333333333,
             "#9c179e"
            ],
            [
             0.4444444444444444,
             "#bd3786"
            ],
            [
             0.5555555555555556,
             "#d8576b"
            ],
            [
             0.6666666666666666,
             "#ed7953"
            ],
            [
             0.7777777777777778,
             "#fb9f3a"
            ],
            [
             0.8888888888888888,
             "#fdca26"
            ],
            [
             1,
             "#f0f921"
            ]
           ],
           "sequentialminus": [
            [
             0,
             "#0d0887"
            ],
            [
             0.1111111111111111,
             "#46039f"
            ],
            [
             0.2222222222222222,
             "#7201a8"
            ],
            [
             0.3333333333333333,
             "#9c179e"
            ],
            [
             0.4444444444444444,
             "#bd3786"
            ],
            [
             0.5555555555555556,
             "#d8576b"
            ],
            [
             0.6666666666666666,
             "#ed7953"
            ],
            [
             0.7777777777777778,
             "#fb9f3a"
            ],
            [
             0.8888888888888888,
             "#fdca26"
            ],
            [
             1,
             "#f0f921"
            ]
           ]
          },
          "colorway": [
           "#636efa",
           "#EF553B",
           "#00cc96",
           "#ab63fa",
           "#FFA15A",
           "#19d3f3",
           "#FF6692",
           "#B6E880",
           "#FF97FF",
           "#FECB52"
          ],
          "font": {
           "color": "#2a3f5f"
          },
          "geo": {
           "bgcolor": "white",
           "lakecolor": "white",
           "landcolor": "#E5ECF6",
           "showlakes": true,
           "showland": true,
           "subunitcolor": "white"
          },
          "hoverlabel": {
           "align": "left"
          },
          "hovermode": "closest",
          "mapbox": {
           "style": "light"
          },
          "paper_bgcolor": "white",
          "plot_bgcolor": "#E5ECF6",
          "polar": {
           "angularaxis": {
            "gridcolor": "white",
            "linecolor": "white",
            "ticks": ""
           },
           "bgcolor": "#E5ECF6",
           "radialaxis": {
            "gridcolor": "white",
            "linecolor": "white",
            "ticks": ""
           }
          },
          "scene": {
           "xaxis": {
            "backgroundcolor": "#E5ECF6",
            "gridcolor": "white",
            "gridwidth": 2,
            "linecolor": "white",
            "showbackground": true,
            "ticks": "",
            "zerolinecolor": "white"
           },
           "yaxis": {
            "backgroundcolor": "#E5ECF6",
            "gridcolor": "white",
            "gridwidth": 2,
            "linecolor": "white",
            "showbackground": true,
            "ticks": "",
            "zerolinecolor": "white"
           },
           "zaxis": {
            "backgroundcolor": "#E5ECF6",
            "gridcolor": "white",
            "gridwidth": 2,
            "linecolor": "white",
            "showbackground": true,
            "ticks": "",
            "zerolinecolor": "white"
           }
          },
          "shapedefaults": {
           "line": {
            "color": "#2a3f5f"
           }
          },
          "ternary": {
           "aaxis": {
            "gridcolor": "white",
            "linecolor": "white",
            "ticks": ""
           },
           "baxis": {
            "gridcolor": "white",
            "linecolor": "white",
            "ticks": ""
           },
           "bgcolor": "#E5ECF6",
           "caxis": {
            "gridcolor": "white",
            "linecolor": "white",
            "ticks": ""
           }
          },
          "title": {
           "x": 0.05
          },
          "xaxis": {
           "automargin": true,
           "gridcolor": "white",
           "linecolor": "white",
           "ticks": "",
           "title": {
            "standoff": 15
           },
           "zerolinecolor": "white",
           "zerolinewidth": 2
          },
          "yaxis": {
           "automargin": true,
           "gridcolor": "white",
           "linecolor": "white",
           "ticks": "",
           "title": {
            "standoff": 15
           },
           "zerolinecolor": "white",
           "zerolinewidth": 2
          }
         }
        },
        "title": {
         "text": "Top 10 states with highest number of deaths"
        },
        "xaxis": {
         "anchor": "y",
         "domain": [
          0,
          1
         ],
         "title": {
          "text": "x"
         }
        },
        "yaxis": {
         "anchor": "x",
         "domain": [
          0,
          1
         ],
         "title": {
          "text": "y"
         }
        }
       }
      },
      "text/html": [
       "<div>                            <div id=\"7a257a0b-4584-4d4c-89c1-f62ddd21c2f2\" class=\"plotly-graph-div\" style=\"height:525px; width:100%;\"></div>            <script type=\"text/javascript\">                require([\"plotly\"], function(Plotly) {                    window.PLOTLYENV=window.PLOTLYENV || {};                                    if (document.getElementById(\"7a257a0b-4584-4d4c-89c1-f62ddd21c2f2\")) {                    Plotly.newPlot(                        \"7a257a0b-4584-4d4c-89c1-f62ddd21c2f2\",                        [{\"alignmentgroup\": \"True\", \"hovertemplate\": \"x=%{x}<br>y=%{y}<extra></extra>\", \"legendgroup\": \"\", \"marker\": {\"color\": \"rgb(20, 29, 67)\"}, \"name\": \"\", \"offsetgroup\": \"\", \"orientation\": \"v\", \"showlegend\": false, \"textposition\": \"auto\", \"type\": \"bar\", \"x\": [\"Maharashtra\", \"Tamil Nadu\", \"Karnataka\", \"Delhi\", \"West Bengal\", \"Uttar Pradesh\", \"Andhra Pradesh\", \"Punjab\", \"Gujarat\", \"Madhya Pradesh\"], \"xaxis\": \"x\", \"y\": [12836010, 3107508, 2962964, 2551455, 2208558, 2049294, 1762534, 1303314, 1244913, 911139], \"yaxis\": \"y\"}],                        {\"barmode\": \"relative\", \"legend\": {\"tracegroupgap\": 0}, \"template\": {\"data\": {\"bar\": [{\"error_x\": {\"color\": \"#2a3f5f\"}, \"error_y\": {\"color\": \"#2a3f5f\"}, \"marker\": {\"line\": {\"color\": \"#E5ECF6\", \"width\": 0.5}}, \"type\": \"bar\"}], \"barpolar\": [{\"marker\": {\"line\": {\"color\": \"#E5ECF6\", \"width\": 0.5}}, \"type\": \"barpolar\"}], \"carpet\": [{\"aaxis\": {\"endlinecolor\": \"#2a3f5f\", \"gridcolor\": \"white\", \"linecolor\": \"white\", \"minorgridcolor\": \"white\", \"startlinecolor\": \"#2a3f5f\"}, \"baxis\": {\"endlinecolor\": \"#2a3f5f\", \"gridcolor\": \"white\", \"linecolor\": \"white\", \"minorgridcolor\": \"white\", \"startlinecolor\": \"#2a3f5f\"}, \"type\": \"carpet\"}], \"choropleth\": [{\"colorbar\": {\"outlinewidth\": 0, \"ticks\": \"\"}, \"type\": \"choropleth\"}], \"contour\": [{\"colorbar\": {\"outlinewidth\": 0, \"ticks\": \"\"}, \"colorscale\": [[0.0, \"#0d0887\"], [0.1111111111111111, \"#46039f\"], [0.2222222222222222, \"#7201a8\"], [0.3333333333333333, \"#9c179e\"], [0.4444444444444444, \"#bd3786\"], [0.5555555555555556, \"#d8576b\"], [0.6666666666666666, \"#ed7953\"], [0.7777777777777778, \"#fb9f3a\"], [0.8888888888888888, \"#fdca26\"], [1.0, \"#f0f921\"]], \"type\": \"contour\"}], \"contourcarpet\": [{\"colorbar\": {\"outlinewidth\": 0, \"ticks\": \"\"}, \"type\": \"contourcarpet\"}], \"heatmap\": [{\"colorbar\": {\"outlinewidth\": 0, \"ticks\": \"\"}, \"colorscale\": [[0.0, \"#0d0887\"], [0.1111111111111111, \"#46039f\"], [0.2222222222222222, \"#7201a8\"], [0.3333333333333333, \"#9c179e\"], [0.4444444444444444, \"#bd3786\"], [0.5555555555555556, \"#d8576b\"], [0.6666666666666666, \"#ed7953\"], [0.7777777777777778, \"#fb9f3a\"], [0.8888888888888888, \"#fdca26\"], [1.0, \"#f0f921\"]], \"type\": \"heatmap\"}], \"heatmapgl\": [{\"colorbar\": {\"outlinewidth\": 0, \"ticks\": \"\"}, \"colorscale\": [[0.0, \"#0d0887\"], [0.1111111111111111, \"#46039f\"], [0.2222222222222222, \"#7201a8\"], [0.3333333333333333, \"#9c179e\"], [0.4444444444444444, \"#bd3786\"], [0.5555555555555556, \"#d8576b\"], [0.6666666666666666, \"#ed7953\"], [0.7777777777777778, \"#fb9f3a\"], [0.8888888888888888, \"#fdca26\"], [1.0, \"#f0f921\"]], \"type\": \"heatmapgl\"}], \"histogram\": [{\"marker\": {\"colorbar\": {\"outlinewidth\": 0, \"ticks\": \"\"}}, \"type\": \"histogram\"}], \"histogram2d\": [{\"colorbar\": {\"outlinewidth\": 0, \"ticks\": \"\"}, \"colorscale\": [[0.0, \"#0d0887\"], [0.1111111111111111, \"#46039f\"], [0.2222222222222222, \"#7201a8\"], [0.3333333333333333, \"#9c179e\"], [0.4444444444444444, \"#bd3786\"], [0.5555555555555556, \"#d8576b\"], [0.6666666666666666, \"#ed7953\"], [0.7777777777777778, \"#fb9f3a\"], [0.8888888888888888, \"#fdca26\"], [1.0, \"#f0f921\"]], \"type\": \"histogram2d\"}], \"histogram2dcontour\": [{\"colorbar\": {\"outlinewidth\": 0, \"ticks\": \"\"}, \"colorscale\": [[0.0, \"#0d0887\"], [0.1111111111111111, \"#46039f\"], [0.2222222222222222, \"#7201a8\"], [0.3333333333333333, \"#9c179e\"], [0.4444444444444444, \"#bd3786\"], [0.5555555555555556, \"#d8576b\"], [0.6666666666666666, \"#ed7953\"], [0.7777777777777778, \"#fb9f3a\"], [0.8888888888888888, \"#fdca26\"], [1.0, \"#f0f921\"]], \"type\": \"histogram2dcontour\"}], \"mesh3d\": [{\"colorbar\": {\"outlinewidth\": 0, \"ticks\": \"\"}, \"type\": \"mesh3d\"}], \"parcoords\": [{\"line\": {\"colorbar\": {\"outlinewidth\": 0, \"ticks\": \"\"}}, \"type\": \"parcoords\"}], \"pie\": [{\"automargin\": true, \"type\": \"pie\"}], \"scatter\": [{\"marker\": {\"colorbar\": {\"outlinewidth\": 0, \"ticks\": \"\"}}, \"type\": \"scatter\"}], \"scatter3d\": [{\"line\": {\"colorbar\": {\"outlinewidth\": 0, \"ticks\": \"\"}}, \"marker\": {\"colorbar\": {\"outlinewidth\": 0, \"ticks\": \"\"}}, \"type\": \"scatter3d\"}], \"scattercarpet\": [{\"marker\": {\"colorbar\": {\"outlinewidth\": 0, \"ticks\": \"\"}}, \"type\": \"scattercarpet\"}], \"scattergeo\": [{\"marker\": {\"colorbar\": {\"outlinewidth\": 0, \"ticks\": \"\"}}, \"type\": \"scattergeo\"}], \"scattergl\": [{\"marker\": {\"colorbar\": {\"outlinewidth\": 0, \"ticks\": \"\"}}, \"type\": \"scattergl\"}], \"scattermapbox\": [{\"marker\": {\"colorbar\": {\"outlinewidth\": 0, \"ticks\": \"\"}}, \"type\": \"scattermapbox\"}], \"scatterpolar\": [{\"marker\": {\"colorbar\": {\"outlinewidth\": 0, \"ticks\": \"\"}}, \"type\": \"scatterpolar\"}], \"scatterpolargl\": [{\"marker\": {\"colorbar\": {\"outlinewidth\": 0, \"ticks\": \"\"}}, \"type\": \"scatterpolargl\"}], \"scatterternary\": [{\"marker\": {\"colorbar\": {\"outlinewidth\": 0, \"ticks\": \"\"}}, \"type\": \"scatterternary\"}], \"surface\": [{\"colorbar\": {\"outlinewidth\": 0, \"ticks\": \"\"}, \"colorscale\": [[0.0, \"#0d0887\"], [0.1111111111111111, \"#46039f\"], [0.2222222222222222, \"#7201a8\"], [0.3333333333333333, \"#9c179e\"], [0.4444444444444444, \"#bd3786\"], [0.5555555555555556, \"#d8576b\"], [0.6666666666666666, \"#ed7953\"], [0.7777777777777778, \"#fb9f3a\"], [0.8888888888888888, \"#fdca26\"], [1.0, \"#f0f921\"]], \"type\": \"surface\"}], \"table\": [{\"cells\": {\"fill\": {\"color\": \"#EBF0F8\"}, \"line\": {\"color\": \"white\"}}, \"header\": {\"fill\": {\"color\": \"#C8D4E3\"}, \"line\": {\"color\": \"white\"}}, \"type\": \"table\"}]}, \"layout\": {\"annotationdefaults\": {\"arrowcolor\": \"#2a3f5f\", \"arrowhead\": 0, \"arrowwidth\": 1}, \"autotypenumbers\": \"strict\", \"coloraxis\": {\"colorbar\": {\"outlinewidth\": 0, \"ticks\": \"\"}}, \"colorscale\": {\"diverging\": [[0, \"#8e0152\"], [0.1, \"#c51b7d\"], [0.2, \"#de77ae\"], [0.3, \"#f1b6da\"], [0.4, \"#fde0ef\"], [0.5, \"#f7f7f7\"], [0.6, \"#e6f5d0\"], [0.7, \"#b8e186\"], [0.8, \"#7fbc41\"], [0.9, \"#4d9221\"], [1, \"#276419\"]], \"sequential\": [[0.0, \"#0d0887\"], [0.1111111111111111, \"#46039f\"], [0.2222222222222222, \"#7201a8\"], [0.3333333333333333, \"#9c179e\"], [0.4444444444444444, \"#bd3786\"], [0.5555555555555556, \"#d8576b\"], [0.6666666666666666, \"#ed7953\"], [0.7777777777777778, \"#fb9f3a\"], [0.8888888888888888, \"#fdca26\"], [1.0, \"#f0f921\"]], \"sequentialminus\": [[0.0, \"#0d0887\"], [0.1111111111111111, \"#46039f\"], [0.2222222222222222, \"#7201a8\"], [0.3333333333333333, \"#9c179e\"], [0.4444444444444444, \"#bd3786\"], [0.5555555555555556, \"#d8576b\"], [0.6666666666666666, \"#ed7953\"], [0.7777777777777778, \"#fb9f3a\"], [0.8888888888888888, \"#fdca26\"], [1.0, \"#f0f921\"]]}, \"colorway\": [\"#636efa\", \"#EF553B\", \"#00cc96\", \"#ab63fa\", \"#FFA15A\", \"#19d3f3\", \"#FF6692\", \"#B6E880\", \"#FF97FF\", \"#FECB52\"], \"font\": {\"color\": \"#2a3f5f\"}, \"geo\": {\"bgcolor\": \"white\", \"lakecolor\": \"white\", \"landcolor\": \"#E5ECF6\", \"showlakes\": true, \"showland\": true, \"subunitcolor\": \"white\"}, \"hoverlabel\": {\"align\": \"left\"}, \"hovermode\": \"closest\", \"mapbox\": {\"style\": \"light\"}, \"paper_bgcolor\": \"white\", \"plot_bgcolor\": \"#E5ECF6\", \"polar\": {\"angularaxis\": {\"gridcolor\": \"white\", \"linecolor\": \"white\", \"ticks\": \"\"}, \"bgcolor\": \"#E5ECF6\", \"radialaxis\": {\"gridcolor\": \"white\", \"linecolor\": \"white\", \"ticks\": \"\"}}, \"scene\": {\"xaxis\": {\"backgroundcolor\": \"#E5ECF6\", \"gridcolor\": \"white\", \"gridwidth\": 2, \"linecolor\": \"white\", \"showbackground\": true, \"ticks\": \"\", \"zerolinecolor\": \"white\"}, \"yaxis\": {\"backgroundcolor\": \"#E5ECF6\", \"gridcolor\": \"white\", \"gridwidth\": 2, \"linecolor\": \"white\", \"showbackground\": true, \"ticks\": \"\", \"zerolinecolor\": \"white\"}, \"zaxis\": {\"backgroundcolor\": \"#E5ECF6\", \"gridcolor\": \"white\", \"gridwidth\": 2, \"linecolor\": \"white\", \"showbackground\": true, \"ticks\": \"\", \"zerolinecolor\": \"white\"}}, \"shapedefaults\": {\"line\": {\"color\": \"#2a3f5f\"}}, \"ternary\": {\"aaxis\": {\"gridcolor\": \"white\", \"linecolor\": \"white\", \"ticks\": \"\"}, \"baxis\": {\"gridcolor\": \"white\", \"linecolor\": \"white\", \"ticks\": \"\"}, \"bgcolor\": \"#E5ECF6\", \"caxis\": {\"gridcolor\": \"white\", \"linecolor\": \"white\", \"ticks\": \"\"}}, \"title\": {\"x\": 0.05}, \"xaxis\": {\"automargin\": true, \"gridcolor\": \"white\", \"linecolor\": \"white\", \"ticks\": \"\", \"title\": {\"standoff\": 15}, \"zerolinecolor\": \"white\", \"zerolinewidth\": 2}, \"yaxis\": {\"automargin\": true, \"gridcolor\": \"white\", \"linecolor\": \"white\", \"ticks\": \"\", \"title\": {\"standoff\": 15}, \"zerolinecolor\": \"white\", \"zerolinewidth\": 2}}}, \"title\": {\"text\": \"Top 10 states with highest number of deaths\"}, \"xaxis\": {\"anchor\": \"y\", \"domain\": [0.0, 1.0], \"title\": {\"text\": \"x\"}}, \"yaxis\": {\"anchor\": \"x\", \"domain\": [0.0, 1.0], \"title\": {\"text\": \"y\"}}},                        {\"responsive\": true}                    ).then(function(){\n",
       "                            \n",
       "var gd = document.getElementById('7a257a0b-4584-4d4c-89c1-f62ddd21c2f2');\n",
       "var x = new MutationObserver(function (mutations, observer) {{\n",
       "        var display = window.getComputedStyle(gd).display;\n",
       "        if (!display || display === 'none') {{\n",
       "            console.log([gd, 'removed!']);\n",
       "            Plotly.purge(gd);\n",
       "            observer.disconnect();\n",
       "        }}\n",
       "}});\n",
       "\n",
       "// Listen for the removal of the full notebook cells\n",
       "var notebookContainer = gd.closest('#notebook-container');\n",
       "if (notebookContainer) {{\n",
       "    x.observe(notebookContainer, {childList: true});\n",
       "}}\n",
       "\n",
       "// Listen for the clearing of the current output cell\n",
       "var outputEl = gd.closest('.output');\n",
       "if (outputEl) {{\n",
       "    x.observe(outputEl, {childList: true});\n",
       "}}\n",
       "\n",
       "                        })                };                });            </script>        </div>"
      ]
     },
     "metadata": {},
     "output_type": "display_data"
    }
   ],
   "source": [
    "# Top 10 states with highest no of deaths\n",
    "px.bar(x=state_wise.nlargest(10, 'Deaths')['State/UnionTerritory'],\n",
    "      y=state_wise.nlargest(10, 'Deaths')['Deaths'],\n",
    "      color_discrete_sequence = px.colors.diverging.curl,\n",
    "      title=\"Top 10 states with highest number of deaths\")\n"
   ]
  },
  {
   "cell_type": "code",
   "execution_count": 48,
   "id": "79364295",
   "metadata": {},
   "outputs": [
    {
     "data": {
      "text/html": [
       "<div>\n",
       "<style scoped>\n",
       "    .dataframe tbody tr th:only-of-type {\n",
       "        vertical-align: middle;\n",
       "    }\n",
       "\n",
       "    .dataframe tbody tr th {\n",
       "        vertical-align: top;\n",
       "    }\n",
       "\n",
       "    .dataframe thead th {\n",
       "        text-align: right;\n",
       "    }\n",
       "</style>\n",
       "<table border=\"1\" class=\"dataframe\">\n",
       "  <thead>\n",
       "    <tr style=\"text-align: right;\">\n",
       "      <th></th>\n",
       "      <th>Sno</th>\n",
       "      <th>Date</th>\n",
       "      <th>Time</th>\n",
       "      <th>State/UnionTerritory</th>\n",
       "      <th>ConfirmedIndianNational</th>\n",
       "      <th>ConfirmedForeignNational</th>\n",
       "      <th>Cured</th>\n",
       "      <th>Deaths</th>\n",
       "      <th>Confirmed</th>\n",
       "    </tr>\n",
       "  </thead>\n",
       "  <tbody>\n",
       "    <tr>\n",
       "      <th>0</th>\n",
       "      <td>1</td>\n",
       "      <td>2020-01-30</td>\n",
       "      <td>6:00 PM</td>\n",
       "      <td>Kerala</td>\n",
       "      <td>1</td>\n",
       "      <td>0</td>\n",
       "      <td>0</td>\n",
       "      <td>0</td>\n",
       "      <td>1</td>\n",
       "    </tr>\n",
       "    <tr>\n",
       "      <th>1</th>\n",
       "      <td>2</td>\n",
       "      <td>2020-01-31</td>\n",
       "      <td>6:00 PM</td>\n",
       "      <td>Kerala</td>\n",
       "      <td>1</td>\n",
       "      <td>0</td>\n",
       "      <td>0</td>\n",
       "      <td>0</td>\n",
       "      <td>1</td>\n",
       "    </tr>\n",
       "    <tr>\n",
       "      <th>2</th>\n",
       "      <td>3</td>\n",
       "      <td>2020-02-01</td>\n",
       "      <td>6:00 PM</td>\n",
       "      <td>Kerala</td>\n",
       "      <td>2</td>\n",
       "      <td>0</td>\n",
       "      <td>0</td>\n",
       "      <td>0</td>\n",
       "      <td>2</td>\n",
       "    </tr>\n",
       "    <tr>\n",
       "      <th>3</th>\n",
       "      <td>4</td>\n",
       "      <td>2020-02-02</td>\n",
       "      <td>6:00 PM</td>\n",
       "      <td>Kerala</td>\n",
       "      <td>3</td>\n",
       "      <td>0</td>\n",
       "      <td>0</td>\n",
       "      <td>0</td>\n",
       "      <td>3</td>\n",
       "    </tr>\n",
       "    <tr>\n",
       "      <th>4</th>\n",
       "      <td>5</td>\n",
       "      <td>2020-02-03</td>\n",
       "      <td>6:00 PM</td>\n",
       "      <td>Kerala</td>\n",
       "      <td>3</td>\n",
       "      <td>0</td>\n",
       "      <td>0</td>\n",
       "      <td>0</td>\n",
       "      <td>3</td>\n",
       "    </tr>\n",
       "    <tr>\n",
       "      <th>5</th>\n",
       "      <td>6</td>\n",
       "      <td>2020-02-04</td>\n",
       "      <td>6:00 PM</td>\n",
       "      <td>Kerala</td>\n",
       "      <td>3</td>\n",
       "      <td>0</td>\n",
       "      <td>0</td>\n",
       "      <td>0</td>\n",
       "      <td>3</td>\n",
       "    </tr>\n",
       "    <tr>\n",
       "      <th>6</th>\n",
       "      <td>7</td>\n",
       "      <td>2020-02-05</td>\n",
       "      <td>6:00 PM</td>\n",
       "      <td>Kerala</td>\n",
       "      <td>3</td>\n",
       "      <td>0</td>\n",
       "      <td>0</td>\n",
       "      <td>0</td>\n",
       "      <td>3</td>\n",
       "    </tr>\n",
       "    <tr>\n",
       "      <th>7</th>\n",
       "      <td>8</td>\n",
       "      <td>2020-02-06</td>\n",
       "      <td>6:00 PM</td>\n",
       "      <td>Kerala</td>\n",
       "      <td>3</td>\n",
       "      <td>0</td>\n",
       "      <td>0</td>\n",
       "      <td>0</td>\n",
       "      <td>3</td>\n",
       "    </tr>\n",
       "    <tr>\n",
       "      <th>8</th>\n",
       "      <td>9</td>\n",
       "      <td>2020-02-07</td>\n",
       "      <td>6:00 PM</td>\n",
       "      <td>Kerala</td>\n",
       "      <td>3</td>\n",
       "      <td>0</td>\n",
       "      <td>0</td>\n",
       "      <td>0</td>\n",
       "      <td>3</td>\n",
       "    </tr>\n",
       "    <tr>\n",
       "      <th>9</th>\n",
       "      <td>10</td>\n",
       "      <td>2020-02-08</td>\n",
       "      <td>6:00 PM</td>\n",
       "      <td>Kerala</td>\n",
       "      <td>3</td>\n",
       "      <td>0</td>\n",
       "      <td>0</td>\n",
       "      <td>0</td>\n",
       "      <td>3</td>\n",
       "    </tr>\n",
       "    <tr>\n",
       "      <th>10</th>\n",
       "      <td>11</td>\n",
       "      <td>2020-02-09</td>\n",
       "      <td>6:00 PM</td>\n",
       "      <td>Kerala</td>\n",
       "      <td>3</td>\n",
       "      <td>0</td>\n",
       "      <td>0</td>\n",
       "      <td>0</td>\n",
       "      <td>3</td>\n",
       "    </tr>\n",
       "    <tr>\n",
       "      <th>11</th>\n",
       "      <td>12</td>\n",
       "      <td>2020-02-10</td>\n",
       "      <td>6:00 PM</td>\n",
       "      <td>Kerala</td>\n",
       "      <td>3</td>\n",
       "      <td>0</td>\n",
       "      <td>0</td>\n",
       "      <td>0</td>\n",
       "      <td>3</td>\n",
       "    </tr>\n",
       "    <tr>\n",
       "      <th>12</th>\n",
       "      <td>13</td>\n",
       "      <td>2020-02-11</td>\n",
       "      <td>6:00 PM</td>\n",
       "      <td>Kerala</td>\n",
       "      <td>3</td>\n",
       "      <td>0</td>\n",
       "      <td>0</td>\n",
       "      <td>0</td>\n",
       "      <td>3</td>\n",
       "    </tr>\n",
       "    <tr>\n",
       "      <th>13</th>\n",
       "      <td>14</td>\n",
       "      <td>2020-02-12</td>\n",
       "      <td>6:00 PM</td>\n",
       "      <td>Kerala</td>\n",
       "      <td>3</td>\n",
       "      <td>0</td>\n",
       "      <td>0</td>\n",
       "      <td>0</td>\n",
       "      <td>3</td>\n",
       "    </tr>\n",
       "    <tr>\n",
       "      <th>14</th>\n",
       "      <td>15</td>\n",
       "      <td>2020-02-13</td>\n",
       "      <td>6:00 PM</td>\n",
       "      <td>Kerala</td>\n",
       "      <td>3</td>\n",
       "      <td>0</td>\n",
       "      <td>0</td>\n",
       "      <td>0</td>\n",
       "      <td>3</td>\n",
       "    </tr>\n",
       "  </tbody>\n",
       "</table>\n",
       "</div>"
      ],
      "text/plain": [
       "    Sno       Date     Time State/UnionTerritory ConfirmedIndianNational  \\\n",
       "0     1 2020-01-30  6:00 PM               Kerala                       1   \n",
       "1     2 2020-01-31  6:00 PM               Kerala                       1   \n",
       "2     3 2020-02-01  6:00 PM               Kerala                       2   \n",
       "3     4 2020-02-02  6:00 PM               Kerala                       3   \n",
       "4     5 2020-02-03  6:00 PM               Kerala                       3   \n",
       "5     6 2020-02-04  6:00 PM               Kerala                       3   \n",
       "6     7 2020-02-05  6:00 PM               Kerala                       3   \n",
       "7     8 2020-02-06  6:00 PM               Kerala                       3   \n",
       "8     9 2020-02-07  6:00 PM               Kerala                       3   \n",
       "9    10 2020-02-08  6:00 PM               Kerala                       3   \n",
       "10   11 2020-02-09  6:00 PM               Kerala                       3   \n",
       "11   12 2020-02-10  6:00 PM               Kerala                       3   \n",
       "12   13 2020-02-11  6:00 PM               Kerala                       3   \n",
       "13   14 2020-02-12  6:00 PM               Kerala                       3   \n",
       "14   15 2020-02-13  6:00 PM               Kerala                       3   \n",
       "\n",
       "   ConfirmedForeignNational  Cured  Deaths  Confirmed  \n",
       "0                         0      0       0          1  \n",
       "1                         0      0       0          1  \n",
       "2                         0      0       0          2  \n",
       "3                         0      0       0          3  \n",
       "4                         0      0       0          3  \n",
       "5                         0      0       0          3  \n",
       "6                         0      0       0          3  \n",
       "7                         0      0       0          3  \n",
       "8                         0      0       0          3  \n",
       "9                         0      0       0          3  \n",
       "10                        0      0       0          3  \n",
       "11                        0      0       0          3  \n",
       "12                        0      0       0          3  \n",
       "13                        0      0       0          3  \n",
       "14                        0      0       0          3  "
      ]
     },
     "execution_count": 48,
     "metadata": {},
     "output_type": "execute_result"
    }
   ],
   "source": [
    "covid_data.head(15)"
   ]
  },
  {
   "cell_type": "markdown",
   "id": "5f668a33",
   "metadata": {},
   "source": [
    "## Monthwise Analysis of covid cases"
   ]
  },
  {
   "cell_type": "code",
   "execution_count": 49,
   "id": "0d099eac",
   "metadata": {},
   "outputs": [
    {
     "data": {
      "text/html": [
       "<style  type=\"text/css\" >\n",
       "#T_263ad_row0_col1,#T_263ad_row0_col2,#T_263ad_row0_col3,#T_263ad_row0_col4,#T_263ad_row1_col1,#T_263ad_row1_col2,#T_263ad_row1_col3,#T_263ad_row1_col4,#T_263ad_row2_col1,#T_263ad_row2_col2,#T_263ad_row2_col3,#T_263ad_row3_col1,#T_263ad_row3_col2{\n",
       "            background-color:  #301437;\n",
       "            color:  #f1f1f1;\n",
       "        }#T_263ad_row2_col4{\n",
       "            background-color:  #c68b6e;\n",
       "            color:  #000000;\n",
       "        }#T_263ad_row3_col3,#T_263ad_row4_col2{\n",
       "            background-color:  #301338;\n",
       "            color:  #f1f1f1;\n",
       "        }#T_263ad_row3_col4,#T_263ad_row15_col1,#T_263ad_row15_col2,#T_263ad_row15_col3{\n",
       "            background-color:  #2f1436;\n",
       "            color:  #f1f1f1;\n",
       "        }#T_263ad_row4_col1{\n",
       "            background-color:  #31123a;\n",
       "            color:  #f1f1f1;\n",
       "        }#T_263ad_row4_col3{\n",
       "            background-color:  #34113e;\n",
       "            color:  #f1f1f1;\n",
       "        }#T_263ad_row4_col4{\n",
       "            background-color:  #381139;\n",
       "            color:  #f1f1f1;\n",
       "        }#T_263ad_row5_col1{\n",
       "            background-color:  #361142;\n",
       "            color:  #f1f1f1;\n",
       "        }#T_263ad_row5_col2{\n",
       "            background-color:  #33113d;\n",
       "            color:  #f1f1f1;\n",
       "        }#T_263ad_row5_col3{\n",
       "            background-color:  #44135a;\n",
       "            color:  #f1f1f1;\n",
       "        }#T_263ad_row5_col4{\n",
       "            background-color:  #3c113b;\n",
       "            color:  #f1f1f1;\n",
       "        }#T_263ad_row6_col1{\n",
       "            background-color:  #491564;\n",
       "            color:  #f1f1f1;\n",
       "        }#T_263ad_row6_col2{\n",
       "            background-color:  #411254;\n",
       "            color:  #f1f1f1;\n",
       "        }#T_263ad_row6_col3{\n",
       "            background-color:  #5c389d;\n",
       "            color:  #f1f1f1;\n",
       "        }#T_263ad_row6_col4{\n",
       "            background-color:  #a03d50;\n",
       "            color:  #f1f1f1;\n",
       "        }#T_263ad_row7_col1{\n",
       "            background-color:  #5e4eab;\n",
       "            color:  #f1f1f1;\n",
       "        }#T_263ad_row7_col2{\n",
       "            background-color:  #5d3b9f;\n",
       "            color:  #f1f1f1;\n",
       "        }#T_263ad_row7_col3{\n",
       "            background-color:  #6b8cbf;\n",
       "            color:  #000000;\n",
       "        }#T_263ad_row7_col4{\n",
       "            background-color:  #ceab92;\n",
       "            color:  #000000;\n",
       "        }#T_263ad_row8_col1{\n",
       "            background-color:  #7ea4c3;\n",
       "            color:  #000000;\n",
       "        }#T_263ad_row8_col2{\n",
       "            background-color:  #7195c0;\n",
       "            color:  #000000;\n",
       "        }#T_263ad_row8_col3{\n",
       "            background-color:  #d1d5da;\n",
       "            color:  #000000;\n",
       "        }#T_263ad_row8_col4{\n",
       "            background-color:  #e0d6da;\n",
       "            color:  #000000;\n",
       "        }#T_263ad_row9_col1{\n",
       "            background-color:  #e1d8dd;\n",
       "            color:  #000000;\n",
       "        }#T_263ad_row9_col2{\n",
       "            background-color:  #e1d7dc;\n",
       "            color:  #000000;\n",
       "        }#T_263ad_row9_col3{\n",
       "            background-color:  #c99578;\n",
       "            color:  #000000;\n",
       "        }#T_263ad_row9_col4{\n",
       "            background-color:  #ded9e1;\n",
       "            color:  #000000;\n",
       "        }#T_263ad_row10_col1{\n",
       "            background-color:  #d0b29c;\n",
       "            color:  #000000;\n",
       "        }#T_263ad_row10_col2{\n",
       "            background-color:  #ca9a7d;\n",
       "            color:  #000000;\n",
       "        }#T_263ad_row10_col3{\n",
       "            background-color:  #b96356;\n",
       "            color:  #000000;\n",
       "        }#T_263ad_row10_col4{\n",
       "            background-color:  #d6d7dd;\n",
       "            color:  #000000;\n",
       "        }#T_263ad_row11_col1{\n",
       "            background-color:  #c0765f;\n",
       "            color:  #000000;\n",
       "        }#T_263ad_row11_col2{\n",
       "            background-color:  #af5151;\n",
       "            color:  #f1f1f1;\n",
       "        }#T_263ad_row11_col3{\n",
       "            background-color:  #8d2b50;\n",
       "            color:  #f1f1f1;\n",
       "        }#T_263ad_row11_col4{\n",
       "            background-color:  #d3d6db;\n",
       "            color:  #000000;\n",
       "        }#T_263ad_row12_col1{\n",
       "            background-color:  #b55c54;\n",
       "            color:  #000000;\n",
       "        }#T_263ad_row12_col2{\n",
       "            background-color:  #953250;\n",
       "            color:  #f1f1f1;\n",
       "        }#T_263ad_row12_col3{\n",
       "            background-color:  #701c4e;\n",
       "            color:  #f1f1f1;\n",
       "        }#T_263ad_row12_col4{\n",
       "            background-color:  #d2d5db;\n",
       "            color:  #000000;\n",
       "        }#T_263ad_row13_col1{\n",
       "            background-color:  #c17960;\n",
       "            color:  #000000;\n",
       "        }#T_263ad_row13_col2{\n",
       "            background-color:  #aa4a50;\n",
       "            color:  #f1f1f1;\n",
       "        }#T_263ad_row13_col3{\n",
       "            background-color:  #963350;\n",
       "            color:  #f1f1f1;\n",
       "        }#T_263ad_row13_col4{\n",
       "            background-color:  #ced3d9;\n",
       "            color:  #000000;\n",
       "        }#T_263ad_row14_col1{\n",
       "            background-color:  #9a3750;\n",
       "            color:  #f1f1f1;\n",
       "        }#T_263ad_row14_col2{\n",
       "            background-color:  #6b1b4d;\n",
       "            color:  #f1f1f1;\n",
       "        }#T_263ad_row14_col3{\n",
       "            background-color:  #531545;\n",
       "            color:  #f1f1f1;\n",
       "        }#T_263ad_row14_col4{\n",
       "            background-color:  #c5cfd5;\n",
       "            color:  #000000;\n",
       "        }#T_263ad_row15_col4{\n",
       "            background-color:  #9cb9c8;\n",
       "            color:  #000000;\n",
       "        }#T_263ad_row16_col1{\n",
       "            background-color:  #5b2f94;\n",
       "            color:  #f1f1f1;\n",
       "        }#T_263ad_row16_col2{\n",
       "            background-color:  #592a8f;\n",
       "            color:  #f1f1f1;\n",
       "        }#T_263ad_row16_col3{\n",
       "            background-color:  #59288d;\n",
       "            color:  #f1f1f1;\n",
       "        }#T_263ad_row16_col4{\n",
       "            background-color:  #85a9c4;\n",
       "            color:  #000000;\n",
       "        }</style><table id=\"T_263ad_\" ><thead>    <tr>        <th class=\"blank level0\" ></th>        <th class=\"col_heading level0 col0\" >Date</th>        <th class=\"col_heading level0 col1\" >Confirmed</th>        <th class=\"col_heading level0 col2\" >Cured</th>        <th class=\"col_heading level0 col3\" >Deaths</th>        <th class=\"col_heading level0 col4\" >Death_percentage</th>    </tr>    <tr>        <th class=\"index_name level0\" >index</th>        <th class=\"blank\" ></th>        <th class=\"blank\" ></th>        <th class=\"blank\" ></th>        <th class=\"blank\" ></th>        <th class=\"blank\" ></th>    </tr></thead><tbody>\n",
       "                <tr>\n",
       "                        <th id=\"T_263ad_level0_row0\" class=\"row_heading level0 row0\" >0</th>\n",
       "                        <td id=\"T_263ad_row0_col0\" class=\"data row0 col0\" >2020-01-31 00:00:00</td>\n",
       "                        <td id=\"T_263ad_row0_col1\" class=\"data row0 col1\" >2</td>\n",
       "                        <td id=\"T_263ad_row0_col2\" class=\"data row0 col2\" >0</td>\n",
       "                        <td id=\"T_263ad_row0_col3\" class=\"data row0 col3\" >0</td>\n",
       "                        <td id=\"T_263ad_row0_col4\" class=\"data row0 col4\" >0.000000</td>\n",
       "            </tr>\n",
       "            <tr>\n",
       "                        <th id=\"T_263ad_level0_row1\" class=\"row_heading level0 row1\" >1</th>\n",
       "                        <td id=\"T_263ad_row1_col0\" class=\"data row1 col0\" >2020-02-29 00:00:00</td>\n",
       "                        <td id=\"T_263ad_row1_col1\" class=\"data row1 col1\" >86</td>\n",
       "                        <td id=\"T_263ad_row1_col2\" class=\"data row1 col2\" >0</td>\n",
       "                        <td id=\"T_263ad_row1_col3\" class=\"data row1 col3\" >0</td>\n",
       "                        <td id=\"T_263ad_row1_col4\" class=\"data row1 col4\" >0.000000</td>\n",
       "            </tr>\n",
       "            <tr>\n",
       "                        <th id=\"T_263ad_level0_row2\" class=\"row_heading level0 row2\" >2</th>\n",
       "                        <td id=\"T_263ad_row2_col0\" class=\"data row2 col0\" >2020-03-31 00:00:00</td>\n",
       "                        <td id=\"T_263ad_row2_col1\" class=\"data row2 col1\" >9687</td>\n",
       "                        <td id=\"T_263ad_row2_col2\" class=\"data row2 col2\" >808</td>\n",
       "                        <td id=\"T_263ad_row2_col3\" class=\"data row2 col3\" >202</td>\n",
       "                        <td id=\"T_263ad_row2_col4\" class=\"data row2 col4\" >2.085269</td>\n",
       "            </tr>\n",
       "            <tr>\n",
       "                        <th id=\"T_263ad_level0_row3\" class=\"row_heading level0 row3\" >3</th>\n",
       "                        <td id=\"T_263ad_row3_col0\" class=\"data row3 col0\" >2020-04-30 00:00:00</td>\n",
       "                        <td id=\"T_263ad_row3_col1\" class=\"data row3 col1\" >422442</td>\n",
       "                        <td id=\"T_263ad_row3_col2\" class=\"data row3 col2\" >75443</td>\n",
       "                        <td id=\"T_263ad_row3_col3\" class=\"data row3 col3\" >13270</td>\n",
       "                        <td id=\"T_263ad_row3_col4\" class=\"data row3 col4\" >3.141260</td>\n",
       "            </tr>\n",
       "            <tr>\n",
       "                        <th id=\"T_263ad_level0_row4\" class=\"row_heading level0 row4\" >4</th>\n",
       "                        <td id=\"T_263ad_row4_col0\" class=\"data row4 col0\" >2020-05-31 00:00:00</td>\n",
       "                        <td id=\"T_263ad_row4_col1\" class=\"data row4 col1\" >2938234</td>\n",
       "                        <td id=\"T_263ad_row4_col2\" class=\"data row4 col2\" >1133341</td>\n",
       "                        <td id=\"T_263ad_row4_col3\" class=\"data row4 col3\" >89834</td>\n",
       "                        <td id=\"T_263ad_row4_col4\" class=\"data row4 col4\" >3.057415</td>\n",
       "            </tr>\n",
       "            <tr>\n",
       "                        <th id=\"T_263ad_level0_row5\" class=\"row_heading level0 row5\" >5</th>\n",
       "                        <td id=\"T_263ad_row5_col0\" class=\"data row5 col0\" >2020-06-30 00:00:00</td>\n",
       "                        <td id=\"T_263ad_row5_col1\" class=\"data row5 col1\" >10558374</td>\n",
       "                        <td id=\"T_263ad_row5_col2\" class=\"data row5 col2\" >5668946</td>\n",
       "                        <td id=\"T_263ad_row5_col3\" class=\"data row5 col3\" >319690</td>\n",
       "                        <td id=\"T_263ad_row5_col4\" class=\"data row5 col4\" >3.027834</td>\n",
       "            </tr>\n",
       "            <tr>\n",
       "                        <th id=\"T_263ad_level0_row6\" class=\"row_heading level0 row6\" >6</th>\n",
       "                        <td id=\"T_263ad_row6_col0\" class=\"data row6 col0\" >2020-07-31 00:00:00</td>\n",
       "                        <td id=\"T_263ad_row6_col1\" class=\"data row6 col1\" >31726501</td>\n",
       "                        <td id=\"T_263ad_row6_col2\" class=\"data row6 col2\" >19980130</td>\n",
       "                        <td id=\"T_263ad_row6_col3\" class=\"data row6 col3\" >793511</td>\n",
       "                        <td id=\"T_263ad_row6_col4\" class=\"data row6 col4\" >2.501098</td>\n",
       "            </tr>\n",
       "            <tr>\n",
       "                        <th id=\"T_263ad_level0_row7\" class=\"row_heading level0 row7\" >7</th>\n",
       "                        <td id=\"T_263ad_row7_col0\" class=\"data row7 col0\" >2020-08-31 00:00:00</td>\n",
       "                        <td id=\"T_263ad_row7_col1\" class=\"data row7 col1\" >80749620</td>\n",
       "                        <td id=\"T_263ad_row7_col2\" class=\"data row7 col2\" >58580895</td>\n",
       "                        <td id=\"T_263ad_row7_col3\" class=\"data row7 col3\" >1553468</td>\n",
       "                        <td id=\"T_263ad_row7_col4\" class=\"data row7 col4\" >1.923808</td>\n",
       "            </tr>\n",
       "            <tr>\n",
       "                        <th id=\"T_263ad_level0_row8\" class=\"row_heading level0 row8\" >8</th>\n",
       "                        <td id=\"T_263ad_row8_col0\" class=\"data row8 col0\" >2020-09-30 00:00:00</td>\n",
       "                        <td id=\"T_263ad_row8_col1\" class=\"data row8 col1\" >149113758</td>\n",
       "                        <td id=\"T_263ad_row8_col2\" class=\"data row8 col2\" >118592934</td>\n",
       "                        <td id=\"T_263ad_row8_col3\" class=\"data row8 col3\" >2443374</td>\n",
       "                        <td id=\"T_263ad_row8_col4\" class=\"data row8 col4\" >1.638597</td>\n",
       "            </tr>\n",
       "            <tr>\n",
       "                        <th id=\"T_263ad_level0_row9\" class=\"row_heading level0 row9\" >9</th>\n",
       "                        <td id=\"T_263ad_row9_col0\" class=\"data row9 col0\" >2020-10-31 00:00:00</td>\n",
       "                        <td id=\"T_263ad_row9_col1\" class=\"data row9 col1\" >226770312</td>\n",
       "                        <td id=\"T_263ad_row9_col2\" class=\"data row9 col2\" >198824412</td>\n",
       "                        <td id=\"T_263ad_row9_col3\" class=\"data row9 col3\" >3457615</td>\n",
       "                        <td id=\"T_263ad_row9_col4\" class=\"data row9 col4\" >1.524721</td>\n",
       "            </tr>\n",
       "            <tr>\n",
       "                        <th id=\"T_263ad_level0_row10\" class=\"row_heading level0 row10\" >10</th>\n",
       "                        <td id=\"T_263ad_row10_col0\" class=\"data row10 col0\" >2020-11-30 00:00:00</td>\n",
       "                        <td id=\"T_263ad_row10_col1\" class=\"data row10 col1\" >264556412</td>\n",
       "                        <td id=\"T_263ad_row10_col2\" class=\"data row10 col2\" >246213201</td>\n",
       "                        <td id=\"T_263ad_row10_col3\" class=\"data row10 col3\" >3894165</td>\n",
       "                        <td id=\"T_263ad_row10_col4\" class=\"data row10 col4\" >1.471960</td>\n",
       "            </tr>\n",
       "            <tr>\n",
       "                        <th id=\"T_263ad_level0_row11\" class=\"row_heading level0 row11\" >11</th>\n",
       "                        <td id=\"T_263ad_row11_col0\" class=\"data row11 col0\" >2020-12-31 00:00:00</td>\n",
       "                        <td id=\"T_263ad_row11_col1\" class=\"data row11 col1\" >307177353</td>\n",
       "                        <td id=\"T_263ad_row11_col2\" class=\"data row11 col2\" >292244085</td>\n",
       "                        <td id=\"T_263ad_row11_col3\" class=\"data row11 col3\" >4457379</td>\n",
       "                        <td id=\"T_263ad_row11_col4\" class=\"data row11 col4\" >1.451077</td>\n",
       "            </tr>\n",
       "            <tr>\n",
       "                        <th id=\"T_263ad_level0_row12\" class=\"row_heading level0 row12\" >12</th>\n",
       "                        <td id=\"T_263ad_row12_col0\" class=\"data row12 col0\" >2021-01-31 00:00:00</td>\n",
       "                        <td id=\"T_263ad_row12_col1\" class=\"data row12 col1\" >326469747</td>\n",
       "                        <td id=\"T_263ad_row12_col2\" class=\"data row12 col2\" >315332019</td>\n",
       "                        <td id=\"T_263ad_row12_col3\" class=\"data row12 col3\" >4709167</td>\n",
       "                        <td id=\"T_263ad_row12_col4\" class=\"data row12 col4\" >1.442451</td>\n",
       "            </tr>\n",
       "            <tr>\n",
       "                        <th id=\"T_263ad_level0_row13\" class=\"row_heading level0 row13\" >13</th>\n",
       "                        <td id=\"T_263ad_row13_col0\" class=\"data row13 col0\" >2021-02-28 00:00:00</td>\n",
       "                        <td id=\"T_263ad_row13_col1\" class=\"data row13 col1\" >305631803</td>\n",
       "                        <td id=\"T_263ad_row13_col2\" class=\"data row13 col2\" >297133802</td>\n",
       "                        <td id=\"T_263ad_row13_col3\" class=\"data row13 col3\" >4359434</td>\n",
       "                        <td id=\"T_263ad_row13_col4\" class=\"data row13 col4\" >1.426368</td>\n",
       "            </tr>\n",
       "            <tr>\n",
       "                        <th id=\"T_263ad_level0_row14\" class=\"row_heading level0 row14\" >14</th>\n",
       "                        <td id=\"T_263ad_row14_col0\" class=\"data row14 col0\" >2021-03-31 00:00:00</td>\n",
       "                        <td id=\"T_263ad_row14_col1\" class=\"data row14 col1\" >356305616</td>\n",
       "                        <td id=\"T_263ad_row14_col2\" class=\"data row14 col2\" >342610397</td>\n",
       "                        <td id=\"T_263ad_row14_col3\" class=\"data row14 col3\" >4935253</td>\n",
       "                        <td id=\"T_263ad_row14_col4\" class=\"data row14 col4\" >1.385118</td>\n",
       "            </tr>\n",
       "            <tr>\n",
       "                        <th id=\"T_263ad_level0_row15\" class=\"row_heading level0 row15\" >15</th>\n",
       "                        <td id=\"T_263ad_row15_col0\" class=\"data row15 col0\" >2021-04-30 00:00:00</td>\n",
       "                        <td id=\"T_263ad_row15_col1\" class=\"data row15 col1\" >440660671</td>\n",
       "                        <td id=\"T_263ad_row15_col2\" class=\"data row15 col2\" >384990190</td>\n",
       "                        <td id=\"T_263ad_row15_col3\" class=\"data row15 col3\" >5340298</td>\n",
       "                        <td id=\"T_263ad_row15_col4\" class=\"data row15 col4\" >1.211884</td>\n",
       "            </tr>\n",
       "            <tr>\n",
       "                        <th id=\"T_263ad_level0_row16\" class=\"row_heading level0 row16\" >16</th>\n",
       "                        <td id=\"T_263ad_row16_col0\" class=\"data row16 col0\" >2021-05-31 00:00:00</td>\n",
       "                        <td id=\"T_263ad_row16_col1\" class=\"data row16 col1\" >58648030</td>\n",
       "                        <td id=\"T_263ad_row16_col2\" class=\"data row16 col2\" >47969680</td>\n",
       "                        <td id=\"T_263ad_row16_col3\" class=\"data row16 col3\" >646354</td>\n",
       "                        <td id=\"T_263ad_row16_col4\" class=\"data row16 col4\" >1.102090</td>\n",
       "            </tr>\n",
       "    </tbody></table>"
      ],
      "text/plain": [
       "<pandas.io.formats.style.Styler at 0x25dfd0076a0>"
      ]
     },
     "execution_count": 49,
     "metadata": {},
     "output_type": "execute_result"
    }
   ],
   "source": [
    "# Let's analyse the monthly cases\n",
    "month_wise = covid_data.groupby(pd.Grouper(key='Date', freq='M')).sum()\n",
    "\n",
    "month_wise = month_wise.drop(['Sno'], axis = 1)\n",
    "month_wise['Date'] = month_wise.index\n",
    "\n",
    "first_column = month_wise.pop('Date')\n",
    "month_wise.insert(0, 'Date', first_column)\n",
    "\n",
    "index = [x for x in range(len(month_wise))]\n",
    "month_wise['index'] = index\n",
    "month_wise = month_wise.set_index('index')\n",
    "\n",
    "second_column = month_wise.pop('Confirmed')\n",
    "month_wise.insert(1, 'Confirmed', second_column)\n",
    "month_wise['Death_percentage'] = ((month_wise['Deaths']/month_wise['Confirmed'])*100)\n",
    "\n",
    "month_wise.style.background_gradient('twilight_shifted')"
   ]
  },
  {
   "cell_type": "code",
   "execution_count": 50,
   "id": "a547560d",
   "metadata": {},
   "outputs": [
    {
     "data": {
      "application/vnd.plotly.v1+json": {
       "config": {
        "plotlyServerURL": "https://plot.ly"
       },
       "data": [
        {
         "alignmentgroup": "True",
         "customdata": [
          [
           0,
           0
          ]
         ],
         "hovertemplate": "Date(monthwise)=%{x}<br>Confirmed=%{y}<br>Cured=%{customdata[0]}<br>Deaths=%{customdata[1]}<extra></extra>",
         "legendgroup": "2020-01-31 00:00:00",
         "marker": {
          "color": "#B6E880"
         },
         "name": "2020-01-31 00:00:00",
         "offsetgroup": "2020-01-31 00:00:00",
         "orientation": "v",
         "showlegend": true,
         "textposition": "auto",
         "type": "bar",
         "x": [
          "2020-01-31T00:00:00"
         ],
         "xaxis": "x",
         "y": [
          2
         ],
         "yaxis": "y"
        },
        {
         "alignmentgroup": "True",
         "customdata": [
          [
           0,
           0
          ]
         ],
         "hovertemplate": "Date(monthwise)=%{x}<br>Confirmed=%{y}<br>Cured=%{customdata[0]}<br>Deaths=%{customdata[1]}<extra></extra>",
         "legendgroup": "2020-02-29 00:00:00",
         "marker": {
          "color": "#FF97FF"
         },
         "name": "2020-02-29 00:00:00",
         "offsetgroup": "2020-02-29 00:00:00",
         "orientation": "v",
         "showlegend": true,
         "textposition": "auto",
         "type": "bar",
         "x": [
          "2020-02-29T00:00:00"
         ],
         "xaxis": "x",
         "y": [
          86
         ],
         "yaxis": "y"
        },
        {
         "alignmentgroup": "True",
         "customdata": [
          [
           808,
           202
          ]
         ],
         "hovertemplate": "Date(monthwise)=%{x}<br>Confirmed=%{y}<br>Cured=%{customdata[0]}<br>Deaths=%{customdata[1]}<extra></extra>",
         "legendgroup": "2020-03-31 00:00:00",
         "marker": {
          "color": "#FECB52"
         },
         "name": "2020-03-31 00:00:00",
         "offsetgroup": "2020-03-31 00:00:00",
         "orientation": "v",
         "showlegend": true,
         "textposition": "auto",
         "type": "bar",
         "x": [
          "2020-03-31T00:00:00"
         ],
         "xaxis": "x",
         "y": [
          9687
         ],
         "yaxis": "y"
        },
        {
         "alignmentgroup": "True",
         "customdata": [
          [
           75443,
           13270
          ]
         ],
         "hovertemplate": "Date(monthwise)=%{x}<br>Confirmed=%{y}<br>Cured=%{customdata[0]}<br>Deaths=%{customdata[1]}<extra></extra>",
         "legendgroup": "2020-04-30 00:00:00",
         "marker": {
          "color": "#636efa"
         },
         "name": "2020-04-30 00:00:00",
         "offsetgroup": "2020-04-30 00:00:00",
         "orientation": "v",
         "showlegend": true,
         "textposition": "auto",
         "type": "bar",
         "x": [
          "2020-04-30T00:00:00"
         ],
         "xaxis": "x",
         "y": [
          422442
         ],
         "yaxis": "y"
        },
        {
         "alignmentgroup": "True",
         "customdata": [
          [
           1133341,
           89834
          ]
         ],
         "hovertemplate": "Date(monthwise)=%{x}<br>Confirmed=%{y}<br>Cured=%{customdata[0]}<br>Deaths=%{customdata[1]}<extra></extra>",
         "legendgroup": "2020-05-31 00:00:00",
         "marker": {
          "color": "#EF553B"
         },
         "name": "2020-05-31 00:00:00",
         "offsetgroup": "2020-05-31 00:00:00",
         "orientation": "v",
         "showlegend": true,
         "textposition": "auto",
         "type": "bar",
         "x": [
          "2020-05-31T00:00:00"
         ],
         "xaxis": "x",
         "y": [
          2938234
         ],
         "yaxis": "y"
        },
        {
         "alignmentgroup": "True",
         "customdata": [
          [
           5668946,
           319690
          ]
         ],
         "hovertemplate": "Date(monthwise)=%{x}<br>Confirmed=%{y}<br>Cured=%{customdata[0]}<br>Deaths=%{customdata[1]}<extra></extra>",
         "legendgroup": "2020-06-30 00:00:00",
         "marker": {
          "color": "#00cc96"
         },
         "name": "2020-06-30 00:00:00",
         "offsetgroup": "2020-06-30 00:00:00",
         "orientation": "v",
         "showlegend": true,
         "textposition": "auto",
         "type": "bar",
         "x": [
          "2020-06-30T00:00:00"
         ],
         "xaxis": "x",
         "y": [
          10558374
         ],
         "yaxis": "y"
        },
        {
         "alignmentgroup": "True",
         "customdata": [
          [
           19980130,
           793511
          ]
         ],
         "hovertemplate": "Date(monthwise)=%{x}<br>Confirmed=%{y}<br>Cured=%{customdata[0]}<br>Deaths=%{customdata[1]}<extra></extra>",
         "legendgroup": "2020-07-31 00:00:00",
         "marker": {
          "color": "#ab63fa"
         },
         "name": "2020-07-31 00:00:00",
         "offsetgroup": "2020-07-31 00:00:00",
         "orientation": "v",
         "showlegend": true,
         "textposition": "auto",
         "type": "bar",
         "x": [
          "2020-07-31T00:00:00"
         ],
         "xaxis": "x",
         "y": [
          31726501
         ],
         "yaxis": "y"
        },
        {
         "alignmentgroup": "True",
         "customdata": [
          [
           58580895,
           1553468
          ]
         ],
         "hovertemplate": "Date(monthwise)=%{x}<br>Confirmed=%{y}<br>Cured=%{customdata[0]}<br>Deaths=%{customdata[1]}<extra></extra>",
         "legendgroup": "2020-08-31 00:00:00",
         "marker": {
          "color": "#FFA15A"
         },
         "name": "2020-08-31 00:00:00",
         "offsetgroup": "2020-08-31 00:00:00",
         "orientation": "v",
         "showlegend": true,
         "textposition": "auto",
         "type": "bar",
         "x": [
          "2020-08-31T00:00:00"
         ],
         "xaxis": "x",
         "y": [
          80749620
         ],
         "yaxis": "y"
        },
        {
         "alignmentgroup": "True",
         "customdata": [
          [
           118592934,
           2443374
          ]
         ],
         "hovertemplate": "Date(monthwise)=%{x}<br>Confirmed=%{y}<br>Cured=%{customdata[0]}<br>Deaths=%{customdata[1]}<extra></extra>",
         "legendgroup": "2020-09-30 00:00:00",
         "marker": {
          "color": "#19d3f3"
         },
         "name": "2020-09-30 00:00:00",
         "offsetgroup": "2020-09-30 00:00:00",
         "orientation": "v",
         "showlegend": true,
         "textposition": "auto",
         "type": "bar",
         "x": [
          "2020-09-30T00:00:00"
         ],
         "xaxis": "x",
         "y": [
          149113758
         ],
         "yaxis": "y"
        },
        {
         "alignmentgroup": "True",
         "customdata": [
          [
           198824412,
           3457615
          ]
         ],
         "hovertemplate": "Date(monthwise)=%{x}<br>Confirmed=%{y}<br>Cured=%{customdata[0]}<br>Deaths=%{customdata[1]}<extra></extra>",
         "legendgroup": "2020-10-31 00:00:00",
         "marker": {
          "color": "#FF6692"
         },
         "name": "2020-10-31 00:00:00",
         "offsetgroup": "2020-10-31 00:00:00",
         "orientation": "v",
         "showlegend": true,
         "textposition": "auto",
         "type": "bar",
         "x": [
          "2020-10-31T00:00:00"
         ],
         "xaxis": "x",
         "y": [
          226770312
         ],
         "yaxis": "y"
        },
        {
         "alignmentgroup": "True",
         "customdata": [
          [
           246213201,
           3894165
          ]
         ],
         "hovertemplate": "Date(monthwise)=%{x}<br>Confirmed=%{y}<br>Cured=%{customdata[0]}<br>Deaths=%{customdata[1]}<extra></extra>",
         "legendgroup": "2020-11-30 00:00:00",
         "marker": {
          "color": "#B6E880"
         },
         "name": "2020-11-30 00:00:00",
         "offsetgroup": "2020-11-30 00:00:00",
         "orientation": "v",
         "showlegend": true,
         "textposition": "auto",
         "type": "bar",
         "x": [
          "2020-11-30T00:00:00"
         ],
         "xaxis": "x",
         "y": [
          264556412
         ],
         "yaxis": "y"
        },
        {
         "alignmentgroup": "True",
         "customdata": [
          [
           292244085,
           4457379
          ]
         ],
         "hovertemplate": "Date(monthwise)=%{x}<br>Confirmed=%{y}<br>Cured=%{customdata[0]}<br>Deaths=%{customdata[1]}<extra></extra>",
         "legendgroup": "2020-12-31 00:00:00",
         "marker": {
          "color": "#FF97FF"
         },
         "name": "2020-12-31 00:00:00",
         "offsetgroup": "2020-12-31 00:00:00",
         "orientation": "v",
         "showlegend": true,
         "textposition": "auto",
         "type": "bar",
         "x": [
          "2020-12-31T00:00:00"
         ],
         "xaxis": "x",
         "y": [
          307177353
         ],
         "yaxis": "y"
        },
        {
         "alignmentgroup": "True",
         "customdata": [
          [
           315332019,
           4709167
          ]
         ],
         "hovertemplate": "Date(monthwise)=%{x}<br>Confirmed=%{y}<br>Cured=%{customdata[0]}<br>Deaths=%{customdata[1]}<extra></extra>",
         "legendgroup": "2021-01-31 00:00:00",
         "marker": {
          "color": "#FECB52"
         },
         "name": "2021-01-31 00:00:00",
         "offsetgroup": "2021-01-31 00:00:00",
         "orientation": "v",
         "showlegend": true,
         "textposition": "auto",
         "type": "bar",
         "x": [
          "2021-01-31T00:00:00"
         ],
         "xaxis": "x",
         "y": [
          326469747
         ],
         "yaxis": "y"
        },
        {
         "alignmentgroup": "True",
         "customdata": [
          [
           297133802,
           4359434
          ]
         ],
         "hovertemplate": "Date(monthwise)=%{x}<br>Confirmed=%{y}<br>Cured=%{customdata[0]}<br>Deaths=%{customdata[1]}<extra></extra>",
         "legendgroup": "2021-02-28 00:00:00",
         "marker": {
          "color": "#636efa"
         },
         "name": "2021-02-28 00:00:00",
         "offsetgroup": "2021-02-28 00:00:00",
         "orientation": "v",
         "showlegend": true,
         "textposition": "auto",
         "type": "bar",
         "x": [
          "2021-02-28T00:00:00"
         ],
         "xaxis": "x",
         "y": [
          305631803
         ],
         "yaxis": "y"
        },
        {
         "alignmentgroup": "True",
         "customdata": [
          [
           342610397,
           4935253
          ]
         ],
         "hovertemplate": "Date(monthwise)=%{x}<br>Confirmed=%{y}<br>Cured=%{customdata[0]}<br>Deaths=%{customdata[1]}<extra></extra>",
         "legendgroup": "2021-03-31 00:00:00",
         "marker": {
          "color": "#EF553B"
         },
         "name": "2021-03-31 00:00:00",
         "offsetgroup": "2021-03-31 00:00:00",
         "orientation": "v",
         "showlegend": true,
         "textposition": "auto",
         "type": "bar",
         "x": [
          "2021-03-31T00:00:00"
         ],
         "xaxis": "x",
         "y": [
          356305616
         ],
         "yaxis": "y"
        },
        {
         "alignmentgroup": "True",
         "customdata": [
          [
           384990190,
           5340298
          ]
         ],
         "hovertemplate": "Date(monthwise)=%{x}<br>Confirmed=%{y}<br>Cured=%{customdata[0]}<br>Deaths=%{customdata[1]}<extra></extra>",
         "legendgroup": "2021-04-30 00:00:00",
         "marker": {
          "color": "#00cc96"
         },
         "name": "2021-04-30 00:00:00",
         "offsetgroup": "2021-04-30 00:00:00",
         "orientation": "v",
         "showlegend": true,
         "textposition": "auto",
         "type": "bar",
         "x": [
          "2021-04-30T00:00:00"
         ],
         "xaxis": "x",
         "y": [
          440660671
         ],
         "yaxis": "y"
        },
        {
         "alignmentgroup": "True",
         "customdata": [
          [
           47969680,
           646354
          ]
         ],
         "hovertemplate": "Date(monthwise)=%{x}<br>Confirmed=%{y}<br>Cured=%{customdata[0]}<br>Deaths=%{customdata[1]}<extra></extra>",
         "legendgroup": "2021-05-31 00:00:00",
         "marker": {
          "color": "#ab63fa"
         },
         "name": "2021-05-31 00:00:00",
         "offsetgroup": "2021-05-31 00:00:00",
         "orientation": "v",
         "showlegend": true,
         "textposition": "auto",
         "type": "bar",
         "x": [
          "2021-05-31T00:00:00"
         ],
         "xaxis": "x",
         "y": [
          58648030
         ],
         "yaxis": "y"
        }
       ],
       "layout": {
        "barmode": "relative",
        "legend": {
         "title": {
          "text": "Date(monthwise)"
         },
         "tracegroupgap": 0
        },
        "template": {
         "data": {
          "bar": [
           {
            "error_x": {
             "color": "#2a3f5f"
            },
            "error_y": {
             "color": "#2a3f5f"
            },
            "marker": {
             "line": {
              "color": "#E5ECF6",
              "width": 0.5
             }
            },
            "type": "bar"
           }
          ],
          "barpolar": [
           {
            "marker": {
             "line": {
              "color": "#E5ECF6",
              "width": 0.5
             }
            },
            "type": "barpolar"
           }
          ],
          "carpet": [
           {
            "aaxis": {
             "endlinecolor": "#2a3f5f",
             "gridcolor": "white",
             "linecolor": "white",
             "minorgridcolor": "white",
             "startlinecolor": "#2a3f5f"
            },
            "baxis": {
             "endlinecolor": "#2a3f5f",
             "gridcolor": "white",
             "linecolor": "white",
             "minorgridcolor": "white",
             "startlinecolor": "#2a3f5f"
            },
            "type": "carpet"
           }
          ],
          "choropleth": [
           {
            "colorbar": {
             "outlinewidth": 0,
             "ticks": ""
            },
            "type": "choropleth"
           }
          ],
          "contour": [
           {
            "colorbar": {
             "outlinewidth": 0,
             "ticks": ""
            },
            "colorscale": [
             [
              0,
              "#0d0887"
             ],
             [
              0.1111111111111111,
              "#46039f"
             ],
             [
              0.2222222222222222,
              "#7201a8"
             ],
             [
              0.3333333333333333,
              "#9c179e"
             ],
             [
              0.4444444444444444,
              "#bd3786"
             ],
             [
              0.5555555555555556,
              "#d8576b"
             ],
             [
              0.6666666666666666,
              "#ed7953"
             ],
             [
              0.7777777777777778,
              "#fb9f3a"
             ],
             [
              0.8888888888888888,
              "#fdca26"
             ],
             [
              1,
              "#f0f921"
             ]
            ],
            "type": "contour"
           }
          ],
          "contourcarpet": [
           {
            "colorbar": {
             "outlinewidth": 0,
             "ticks": ""
            },
            "type": "contourcarpet"
           }
          ],
          "heatmap": [
           {
            "colorbar": {
             "outlinewidth": 0,
             "ticks": ""
            },
            "colorscale": [
             [
              0,
              "#0d0887"
             ],
             [
              0.1111111111111111,
              "#46039f"
             ],
             [
              0.2222222222222222,
              "#7201a8"
             ],
             [
              0.3333333333333333,
              "#9c179e"
             ],
             [
              0.4444444444444444,
              "#bd3786"
             ],
             [
              0.5555555555555556,
              "#d8576b"
             ],
             [
              0.6666666666666666,
              "#ed7953"
             ],
             [
              0.7777777777777778,
              "#fb9f3a"
             ],
             [
              0.8888888888888888,
              "#fdca26"
             ],
             [
              1,
              "#f0f921"
             ]
            ],
            "type": "heatmap"
           }
          ],
          "heatmapgl": [
           {
            "colorbar": {
             "outlinewidth": 0,
             "ticks": ""
            },
            "colorscale": [
             [
              0,
              "#0d0887"
             ],
             [
              0.1111111111111111,
              "#46039f"
             ],
             [
              0.2222222222222222,
              "#7201a8"
             ],
             [
              0.3333333333333333,
              "#9c179e"
             ],
             [
              0.4444444444444444,
              "#bd3786"
             ],
             [
              0.5555555555555556,
              "#d8576b"
             ],
             [
              0.6666666666666666,
              "#ed7953"
             ],
             [
              0.7777777777777778,
              "#fb9f3a"
             ],
             [
              0.8888888888888888,
              "#fdca26"
             ],
             [
              1,
              "#f0f921"
             ]
            ],
            "type": "heatmapgl"
           }
          ],
          "histogram": [
           {
            "marker": {
             "colorbar": {
              "outlinewidth": 0,
              "ticks": ""
             }
            },
            "type": "histogram"
           }
          ],
          "histogram2d": [
           {
            "colorbar": {
             "outlinewidth": 0,
             "ticks": ""
            },
            "colorscale": [
             [
              0,
              "#0d0887"
             ],
             [
              0.1111111111111111,
              "#46039f"
             ],
             [
              0.2222222222222222,
              "#7201a8"
             ],
             [
              0.3333333333333333,
              "#9c179e"
             ],
             [
              0.4444444444444444,
              "#bd3786"
             ],
             [
              0.5555555555555556,
              "#d8576b"
             ],
             [
              0.6666666666666666,
              "#ed7953"
             ],
             [
              0.7777777777777778,
              "#fb9f3a"
             ],
             [
              0.8888888888888888,
              "#fdca26"
             ],
             [
              1,
              "#f0f921"
             ]
            ],
            "type": "histogram2d"
           }
          ],
          "histogram2dcontour": [
           {
            "colorbar": {
             "outlinewidth": 0,
             "ticks": ""
            },
            "colorscale": [
             [
              0,
              "#0d0887"
             ],
             [
              0.1111111111111111,
              "#46039f"
             ],
             [
              0.2222222222222222,
              "#7201a8"
             ],
             [
              0.3333333333333333,
              "#9c179e"
             ],
             [
              0.4444444444444444,
              "#bd3786"
             ],
             [
              0.5555555555555556,
              "#d8576b"
             ],
             [
              0.6666666666666666,
              "#ed7953"
             ],
             [
              0.7777777777777778,
              "#fb9f3a"
             ],
             [
              0.8888888888888888,
              "#fdca26"
             ],
             [
              1,
              "#f0f921"
             ]
            ],
            "type": "histogram2dcontour"
           }
          ],
          "mesh3d": [
           {
            "colorbar": {
             "outlinewidth": 0,
             "ticks": ""
            },
            "type": "mesh3d"
           }
          ],
          "parcoords": [
           {
            "line": {
             "colorbar": {
              "outlinewidth": 0,
              "ticks": ""
             }
            },
            "type": "parcoords"
           }
          ],
          "pie": [
           {
            "automargin": true,
            "type": "pie"
           }
          ],
          "scatter": [
           {
            "marker": {
             "colorbar": {
              "outlinewidth": 0,
              "ticks": ""
             }
            },
            "type": "scatter"
           }
          ],
          "scatter3d": [
           {
            "line": {
             "colorbar": {
              "outlinewidth": 0,
              "ticks": ""
             }
            },
            "marker": {
             "colorbar": {
              "outlinewidth": 0,
              "ticks": ""
             }
            },
            "type": "scatter3d"
           }
          ],
          "scattercarpet": [
           {
            "marker": {
             "colorbar": {
              "outlinewidth": 0,
              "ticks": ""
             }
            },
            "type": "scattercarpet"
           }
          ],
          "scattergeo": [
           {
            "marker": {
             "colorbar": {
              "outlinewidth": 0,
              "ticks": ""
             }
            },
            "type": "scattergeo"
           }
          ],
          "scattergl": [
           {
            "marker": {
             "colorbar": {
              "outlinewidth": 0,
              "ticks": ""
             }
            },
            "type": "scattergl"
           }
          ],
          "scattermapbox": [
           {
            "marker": {
             "colorbar": {
              "outlinewidth": 0,
              "ticks": ""
             }
            },
            "type": "scattermapbox"
           }
          ],
          "scatterpolar": [
           {
            "marker": {
             "colorbar": {
              "outlinewidth": 0,
              "ticks": ""
             }
            },
            "type": "scatterpolar"
           }
          ],
          "scatterpolargl": [
           {
            "marker": {
             "colorbar": {
              "outlinewidth": 0,
              "ticks": ""
             }
            },
            "type": "scatterpolargl"
           }
          ],
          "scatterternary": [
           {
            "marker": {
             "colorbar": {
              "outlinewidth": 0,
              "ticks": ""
             }
            },
            "type": "scatterternary"
           }
          ],
          "surface": [
           {
            "colorbar": {
             "outlinewidth": 0,
             "ticks": ""
            },
            "colorscale": [
             [
              0,
              "#0d0887"
             ],
             [
              0.1111111111111111,
              "#46039f"
             ],
             [
              0.2222222222222222,
              "#7201a8"
             ],
             [
              0.3333333333333333,
              "#9c179e"
             ],
             [
              0.4444444444444444,
              "#bd3786"
             ],
             [
              0.5555555555555556,
              "#d8576b"
             ],
             [
              0.6666666666666666,
              "#ed7953"
             ],
             [
              0.7777777777777778,
              "#fb9f3a"
             ],
             [
              0.8888888888888888,
              "#fdca26"
             ],
             [
              1,
              "#f0f921"
             ]
            ],
            "type": "surface"
           }
          ],
          "table": [
           {
            "cells": {
             "fill": {
              "color": "#EBF0F8"
             },
             "line": {
              "color": "white"
             }
            },
            "header": {
             "fill": {
              "color": "#C8D4E3"
             },
             "line": {
              "color": "white"
             }
            },
            "type": "table"
           }
          ]
         },
         "layout": {
          "annotationdefaults": {
           "arrowcolor": "#2a3f5f",
           "arrowhead": 0,
           "arrowwidth": 1
          },
          "autotypenumbers": "strict",
          "coloraxis": {
           "colorbar": {
            "outlinewidth": 0,
            "ticks": ""
           }
          },
          "colorscale": {
           "diverging": [
            [
             0,
             "#8e0152"
            ],
            [
             0.1,
             "#c51b7d"
            ],
            [
             0.2,
             "#de77ae"
            ],
            [
             0.3,
             "#f1b6da"
            ],
            [
             0.4,
             "#fde0ef"
            ],
            [
             0.5,
             "#f7f7f7"
            ],
            [
             0.6,
             "#e6f5d0"
            ],
            [
             0.7,
             "#b8e186"
            ],
            [
             0.8,
             "#7fbc41"
            ],
            [
             0.9,
             "#4d9221"
            ],
            [
             1,
             "#276419"
            ]
           ],
           "sequential": [
            [
             0,
             "#0d0887"
            ],
            [
             0.1111111111111111,
             "#46039f"
            ],
            [
             0.2222222222222222,
             "#7201a8"
            ],
            [
             0.3333333333333333,
             "#9c179e"
            ],
            [
             0.4444444444444444,
             "#bd3786"
            ],
            [
             0.5555555555555556,
             "#d8576b"
            ],
            [
             0.6666666666666666,
             "#ed7953"
            ],
            [
             0.7777777777777778,
             "#fb9f3a"
            ],
            [
             0.8888888888888888,
             "#fdca26"
            ],
            [
             1,
             "#f0f921"
            ]
           ],
           "sequentialminus": [
            [
             0,
             "#0d0887"
            ],
            [
             0.1111111111111111,
             "#46039f"
            ],
            [
             0.2222222222222222,
             "#7201a8"
            ],
            [
             0.3333333333333333,
             "#9c179e"
            ],
            [
             0.4444444444444444,
             "#bd3786"
            ],
            [
             0.5555555555555556,
             "#d8576b"
            ],
            [
             0.6666666666666666,
             "#ed7953"
            ],
            [
             0.7777777777777778,
             "#fb9f3a"
            ],
            [
             0.8888888888888888,
             "#fdca26"
            ],
            [
             1,
             "#f0f921"
            ]
           ]
          },
          "colorway": [
           "#636efa",
           "#EF553B",
           "#00cc96",
           "#ab63fa",
           "#FFA15A",
           "#19d3f3",
           "#FF6692",
           "#B6E880",
           "#FF97FF",
           "#FECB52"
          ],
          "font": {
           "color": "#2a3f5f"
          },
          "geo": {
           "bgcolor": "white",
           "lakecolor": "white",
           "landcolor": "#E5ECF6",
           "showlakes": true,
           "showland": true,
           "subunitcolor": "white"
          },
          "hoverlabel": {
           "align": "left"
          },
          "hovermode": "closest",
          "mapbox": {
           "style": "light"
          },
          "paper_bgcolor": "white",
          "plot_bgcolor": "#E5ECF6",
          "polar": {
           "angularaxis": {
            "gridcolor": "white",
            "linecolor": "white",
            "ticks": ""
           },
           "bgcolor": "#E5ECF6",
           "radialaxis": {
            "gridcolor": "white",
            "linecolor": "white",
            "ticks": ""
           }
          },
          "scene": {
           "xaxis": {
            "backgroundcolor": "#E5ECF6",
            "gridcolor": "white",
            "gridwidth": 2,
            "linecolor": "white",
            "showbackground": true,
            "ticks": "",
            "zerolinecolor": "white"
           },
           "yaxis": {
            "backgroundcolor": "#E5ECF6",
            "gridcolor": "white",
            "gridwidth": 2,
            "linecolor": "white",
            "showbackground": true,
            "ticks": "",
            "zerolinecolor": "white"
           },
           "zaxis": {
            "backgroundcolor": "#E5ECF6",
            "gridcolor": "white",
            "gridwidth": 2,
            "linecolor": "white",
            "showbackground": true,
            "ticks": "",
            "zerolinecolor": "white"
           }
          },
          "shapedefaults": {
           "line": {
            "color": "#2a3f5f"
           }
          },
          "ternary": {
           "aaxis": {
            "gridcolor": "white",
            "linecolor": "white",
            "ticks": ""
           },
           "baxis": {
            "gridcolor": "white",
            "linecolor": "white",
            "ticks": ""
           },
           "bgcolor": "#E5ECF6",
           "caxis": {
            "gridcolor": "white",
            "linecolor": "white",
            "ticks": ""
           }
          },
          "title": {
           "x": 0.05
          },
          "xaxis": {
           "automargin": true,
           "gridcolor": "white",
           "linecolor": "white",
           "ticks": "",
           "title": {
            "standoff": 15
           },
           "zerolinecolor": "white",
           "zerolinewidth": 2
          },
          "yaxis": {
           "automargin": true,
           "gridcolor": "white",
           "linecolor": "white",
           "ticks": "",
           "title": {
            "standoff": 15
           },
           "zerolinecolor": "white",
           "zerolinewidth": 2
          }
         }
        },
        "title": {
         "text": "Monthwise Increase in Confirmed cases"
        },
        "xaxis": {
         "anchor": "y",
         "categoryarray": [
          1580428800000000000,
          1582934400000000000,
          1585612800000000000,
          1588204800000000000,
          1590883200000000000,
          1593475200000000000,
          1596153600000000000,
          1598832000000000000,
          1601424000000000000,
          1604102400000000000,
          1606694400000000000,
          1609372800000000000,
          1612051200000000000,
          1614470400000000000,
          1617148800000000000,
          1619740800000000000,
          1622419200000000000
         ],
         "categoryorder": "array",
         "domain": [
          0,
          1
         ],
         "title": {
          "text": "Date(monthwise)"
         }
        },
        "yaxis": {
         "anchor": "x",
         "domain": [
          0,
          1
         ],
         "title": {
          "text": "Confirmed"
         }
        }
       }
      },
      "text/html": [
       "<div>                            <div id=\"82bb22b1-cc5a-48f0-9590-b2369b2c18c6\" class=\"plotly-graph-div\" style=\"height:525px; width:100%;\"></div>            <script type=\"text/javascript\">                require([\"plotly\"], function(Plotly) {                    window.PLOTLYENV=window.PLOTLYENV || {};                                    if (document.getElementById(\"82bb22b1-cc5a-48f0-9590-b2369b2c18c6\")) {                    Plotly.newPlot(                        \"82bb22b1-cc5a-48f0-9590-b2369b2c18c6\",                        [{\"alignmentgroup\": \"True\", \"customdata\": [[0, 0]], \"hovertemplate\": \"Date(monthwise)=%{x}<br>Confirmed=%{y}<br>Cured=%{customdata[0]}<br>Deaths=%{customdata[1]}<extra></extra>\", \"legendgroup\": \"2020-01-31 00:00:00\", \"marker\": {\"color\": \"#B6E880\"}, \"name\": \"2020-01-31 00:00:00\", \"offsetgroup\": \"2020-01-31 00:00:00\", \"orientation\": \"v\", \"showlegend\": true, \"textposition\": \"auto\", \"type\": \"bar\", \"x\": [\"2020-01-31T00:00:00\"], \"xaxis\": \"x\", \"y\": [2], \"yaxis\": \"y\"}, {\"alignmentgroup\": \"True\", \"customdata\": [[0, 0]], \"hovertemplate\": \"Date(monthwise)=%{x}<br>Confirmed=%{y}<br>Cured=%{customdata[0]}<br>Deaths=%{customdata[1]}<extra></extra>\", \"legendgroup\": \"2020-02-29 00:00:00\", \"marker\": {\"color\": \"#FF97FF\"}, \"name\": \"2020-02-29 00:00:00\", \"offsetgroup\": \"2020-02-29 00:00:00\", \"orientation\": \"v\", \"showlegend\": true, \"textposition\": \"auto\", \"type\": \"bar\", \"x\": [\"2020-02-29T00:00:00\"], \"xaxis\": \"x\", \"y\": [86], \"yaxis\": \"y\"}, {\"alignmentgroup\": \"True\", \"customdata\": [[808, 202]], \"hovertemplate\": \"Date(monthwise)=%{x}<br>Confirmed=%{y}<br>Cured=%{customdata[0]}<br>Deaths=%{customdata[1]}<extra></extra>\", \"legendgroup\": \"2020-03-31 00:00:00\", \"marker\": {\"color\": \"#FECB52\"}, \"name\": \"2020-03-31 00:00:00\", \"offsetgroup\": \"2020-03-31 00:00:00\", \"orientation\": \"v\", \"showlegend\": true, \"textposition\": \"auto\", \"type\": \"bar\", \"x\": [\"2020-03-31T00:00:00\"], \"xaxis\": \"x\", \"y\": [9687], \"yaxis\": \"y\"}, {\"alignmentgroup\": \"True\", \"customdata\": [[75443, 13270]], \"hovertemplate\": \"Date(monthwise)=%{x}<br>Confirmed=%{y}<br>Cured=%{customdata[0]}<br>Deaths=%{customdata[1]}<extra></extra>\", \"legendgroup\": \"2020-04-30 00:00:00\", \"marker\": {\"color\": \"#636efa\"}, \"name\": \"2020-04-30 00:00:00\", \"offsetgroup\": \"2020-04-30 00:00:00\", \"orientation\": \"v\", \"showlegend\": true, \"textposition\": \"auto\", \"type\": \"bar\", \"x\": [\"2020-04-30T00:00:00\"], \"xaxis\": \"x\", \"y\": [422442], \"yaxis\": \"y\"}, {\"alignmentgroup\": \"True\", \"customdata\": [[1133341, 89834]], \"hovertemplate\": \"Date(monthwise)=%{x}<br>Confirmed=%{y}<br>Cured=%{customdata[0]}<br>Deaths=%{customdata[1]}<extra></extra>\", \"legendgroup\": \"2020-05-31 00:00:00\", \"marker\": {\"color\": \"#EF553B\"}, \"name\": \"2020-05-31 00:00:00\", \"offsetgroup\": \"2020-05-31 00:00:00\", \"orientation\": \"v\", \"showlegend\": true, \"textposition\": \"auto\", \"type\": \"bar\", \"x\": [\"2020-05-31T00:00:00\"], \"xaxis\": \"x\", \"y\": [2938234], \"yaxis\": \"y\"}, {\"alignmentgroup\": \"True\", \"customdata\": [[5668946, 319690]], \"hovertemplate\": \"Date(monthwise)=%{x}<br>Confirmed=%{y}<br>Cured=%{customdata[0]}<br>Deaths=%{customdata[1]}<extra></extra>\", \"legendgroup\": \"2020-06-30 00:00:00\", \"marker\": {\"color\": \"#00cc96\"}, \"name\": \"2020-06-30 00:00:00\", \"offsetgroup\": \"2020-06-30 00:00:00\", \"orientation\": \"v\", \"showlegend\": true, \"textposition\": \"auto\", \"type\": \"bar\", \"x\": [\"2020-06-30T00:00:00\"], \"xaxis\": \"x\", \"y\": [10558374], \"yaxis\": \"y\"}, {\"alignmentgroup\": \"True\", \"customdata\": [[19980130, 793511]], \"hovertemplate\": \"Date(monthwise)=%{x}<br>Confirmed=%{y}<br>Cured=%{customdata[0]}<br>Deaths=%{customdata[1]}<extra></extra>\", \"legendgroup\": \"2020-07-31 00:00:00\", \"marker\": {\"color\": \"#ab63fa\"}, \"name\": \"2020-07-31 00:00:00\", \"offsetgroup\": \"2020-07-31 00:00:00\", \"orientation\": \"v\", \"showlegend\": true, \"textposition\": \"auto\", \"type\": \"bar\", \"x\": [\"2020-07-31T00:00:00\"], \"xaxis\": \"x\", \"y\": [31726501], \"yaxis\": \"y\"}, {\"alignmentgroup\": \"True\", \"customdata\": [[58580895, 1553468]], \"hovertemplate\": \"Date(monthwise)=%{x}<br>Confirmed=%{y}<br>Cured=%{customdata[0]}<br>Deaths=%{customdata[1]}<extra></extra>\", \"legendgroup\": \"2020-08-31 00:00:00\", \"marker\": {\"color\": \"#FFA15A\"}, \"name\": \"2020-08-31 00:00:00\", \"offsetgroup\": \"2020-08-31 00:00:00\", \"orientation\": \"v\", \"showlegend\": true, \"textposition\": \"auto\", \"type\": \"bar\", \"x\": [\"2020-08-31T00:00:00\"], \"xaxis\": \"x\", \"y\": [80749620], \"yaxis\": \"y\"}, {\"alignmentgroup\": \"True\", \"customdata\": [[118592934, 2443374]], \"hovertemplate\": \"Date(monthwise)=%{x}<br>Confirmed=%{y}<br>Cured=%{customdata[0]}<br>Deaths=%{customdata[1]}<extra></extra>\", \"legendgroup\": \"2020-09-30 00:00:00\", \"marker\": {\"color\": \"#19d3f3\"}, \"name\": \"2020-09-30 00:00:00\", \"offsetgroup\": \"2020-09-30 00:00:00\", \"orientation\": \"v\", \"showlegend\": true, \"textposition\": \"auto\", \"type\": \"bar\", \"x\": [\"2020-09-30T00:00:00\"], \"xaxis\": \"x\", \"y\": [149113758], \"yaxis\": \"y\"}, {\"alignmentgroup\": \"True\", \"customdata\": [[198824412, 3457615]], \"hovertemplate\": \"Date(monthwise)=%{x}<br>Confirmed=%{y}<br>Cured=%{customdata[0]}<br>Deaths=%{customdata[1]}<extra></extra>\", \"legendgroup\": \"2020-10-31 00:00:00\", \"marker\": {\"color\": \"#FF6692\"}, \"name\": \"2020-10-31 00:00:00\", \"offsetgroup\": \"2020-10-31 00:00:00\", \"orientation\": \"v\", \"showlegend\": true, \"textposition\": \"auto\", \"type\": \"bar\", \"x\": [\"2020-10-31T00:00:00\"], \"xaxis\": \"x\", \"y\": [226770312], \"yaxis\": \"y\"}, {\"alignmentgroup\": \"True\", \"customdata\": [[246213201, 3894165]], \"hovertemplate\": \"Date(monthwise)=%{x}<br>Confirmed=%{y}<br>Cured=%{customdata[0]}<br>Deaths=%{customdata[1]}<extra></extra>\", \"legendgroup\": \"2020-11-30 00:00:00\", \"marker\": {\"color\": \"#B6E880\"}, \"name\": \"2020-11-30 00:00:00\", \"offsetgroup\": \"2020-11-30 00:00:00\", \"orientation\": \"v\", \"showlegend\": true, \"textposition\": \"auto\", \"type\": \"bar\", \"x\": [\"2020-11-30T00:00:00\"], \"xaxis\": \"x\", \"y\": [264556412], \"yaxis\": \"y\"}, {\"alignmentgroup\": \"True\", \"customdata\": [[292244085, 4457379]], \"hovertemplate\": \"Date(monthwise)=%{x}<br>Confirmed=%{y}<br>Cured=%{customdata[0]}<br>Deaths=%{customdata[1]}<extra></extra>\", \"legendgroup\": \"2020-12-31 00:00:00\", \"marker\": {\"color\": \"#FF97FF\"}, \"name\": \"2020-12-31 00:00:00\", \"offsetgroup\": \"2020-12-31 00:00:00\", \"orientation\": \"v\", \"showlegend\": true, \"textposition\": \"auto\", \"type\": \"bar\", \"x\": [\"2020-12-31T00:00:00\"], \"xaxis\": \"x\", \"y\": [307177353], \"yaxis\": \"y\"}, {\"alignmentgroup\": \"True\", \"customdata\": [[315332019, 4709167]], \"hovertemplate\": \"Date(monthwise)=%{x}<br>Confirmed=%{y}<br>Cured=%{customdata[0]}<br>Deaths=%{customdata[1]}<extra></extra>\", \"legendgroup\": \"2021-01-31 00:00:00\", \"marker\": {\"color\": \"#FECB52\"}, \"name\": \"2021-01-31 00:00:00\", \"offsetgroup\": \"2021-01-31 00:00:00\", \"orientation\": \"v\", \"showlegend\": true, \"textposition\": \"auto\", \"type\": \"bar\", \"x\": [\"2021-01-31T00:00:00\"], \"xaxis\": \"x\", \"y\": [326469747], \"yaxis\": \"y\"}, {\"alignmentgroup\": \"True\", \"customdata\": [[297133802, 4359434]], \"hovertemplate\": \"Date(monthwise)=%{x}<br>Confirmed=%{y}<br>Cured=%{customdata[0]}<br>Deaths=%{customdata[1]}<extra></extra>\", \"legendgroup\": \"2021-02-28 00:00:00\", \"marker\": {\"color\": \"#636efa\"}, \"name\": \"2021-02-28 00:00:00\", \"offsetgroup\": \"2021-02-28 00:00:00\", \"orientation\": \"v\", \"showlegend\": true, \"textposition\": \"auto\", \"type\": \"bar\", \"x\": [\"2021-02-28T00:00:00\"], \"xaxis\": \"x\", \"y\": [305631803], \"yaxis\": \"y\"}, {\"alignmentgroup\": \"True\", \"customdata\": [[342610397, 4935253]], \"hovertemplate\": \"Date(monthwise)=%{x}<br>Confirmed=%{y}<br>Cured=%{customdata[0]}<br>Deaths=%{customdata[1]}<extra></extra>\", \"legendgroup\": \"2021-03-31 00:00:00\", \"marker\": {\"color\": \"#EF553B\"}, \"name\": \"2021-03-31 00:00:00\", \"offsetgroup\": \"2021-03-31 00:00:00\", \"orientation\": \"v\", \"showlegend\": true, \"textposition\": \"auto\", \"type\": \"bar\", \"x\": [\"2021-03-31T00:00:00\"], \"xaxis\": \"x\", \"y\": [356305616], \"yaxis\": \"y\"}, {\"alignmentgroup\": \"True\", \"customdata\": [[384990190, 5340298]], \"hovertemplate\": \"Date(monthwise)=%{x}<br>Confirmed=%{y}<br>Cured=%{customdata[0]}<br>Deaths=%{customdata[1]}<extra></extra>\", \"legendgroup\": \"2021-04-30 00:00:00\", \"marker\": {\"color\": \"#00cc96\"}, \"name\": \"2021-04-30 00:00:00\", \"offsetgroup\": \"2021-04-30 00:00:00\", \"orientation\": \"v\", \"showlegend\": true, \"textposition\": \"auto\", \"type\": \"bar\", \"x\": [\"2021-04-30T00:00:00\"], \"xaxis\": \"x\", \"y\": [440660671], \"yaxis\": \"y\"}, {\"alignmentgroup\": \"True\", \"customdata\": [[47969680, 646354]], \"hovertemplate\": \"Date(monthwise)=%{x}<br>Confirmed=%{y}<br>Cured=%{customdata[0]}<br>Deaths=%{customdata[1]}<extra></extra>\", \"legendgroup\": \"2021-05-31 00:00:00\", \"marker\": {\"color\": \"#ab63fa\"}, \"name\": \"2021-05-31 00:00:00\", \"offsetgroup\": \"2021-05-31 00:00:00\", \"orientation\": \"v\", \"showlegend\": true, \"textposition\": \"auto\", \"type\": \"bar\", \"x\": [\"2021-05-31T00:00:00\"], \"xaxis\": \"x\", \"y\": [58648030], \"yaxis\": \"y\"}],                        {\"barmode\": \"relative\", \"legend\": {\"title\": {\"text\": \"Date(monthwise)\"}, \"tracegroupgap\": 0}, \"template\": {\"data\": {\"bar\": [{\"error_x\": {\"color\": \"#2a3f5f\"}, \"error_y\": {\"color\": \"#2a3f5f\"}, \"marker\": {\"line\": {\"color\": \"#E5ECF6\", \"width\": 0.5}}, \"type\": \"bar\"}], \"barpolar\": [{\"marker\": {\"line\": {\"color\": \"#E5ECF6\", \"width\": 0.5}}, \"type\": \"barpolar\"}], \"carpet\": [{\"aaxis\": {\"endlinecolor\": \"#2a3f5f\", \"gridcolor\": \"white\", \"linecolor\": \"white\", \"minorgridcolor\": \"white\", \"startlinecolor\": \"#2a3f5f\"}, \"baxis\": {\"endlinecolor\": \"#2a3f5f\", \"gridcolor\": \"white\", \"linecolor\": \"white\", \"minorgridcolor\": \"white\", \"startlinecolor\": \"#2a3f5f\"}, \"type\": \"carpet\"}], \"choropleth\": [{\"colorbar\": {\"outlinewidth\": 0, \"ticks\": \"\"}, \"type\": \"choropleth\"}], \"contour\": [{\"colorbar\": {\"outlinewidth\": 0, \"ticks\": \"\"}, \"colorscale\": [[0.0, \"#0d0887\"], [0.1111111111111111, \"#46039f\"], [0.2222222222222222, \"#7201a8\"], [0.3333333333333333, \"#9c179e\"], [0.4444444444444444, \"#bd3786\"], [0.5555555555555556, \"#d8576b\"], [0.6666666666666666, \"#ed7953\"], [0.7777777777777778, \"#fb9f3a\"], [0.8888888888888888, \"#fdca26\"], [1.0, \"#f0f921\"]], \"type\": \"contour\"}], \"contourcarpet\": [{\"colorbar\": {\"outlinewidth\": 0, \"ticks\": \"\"}, \"type\": \"contourcarpet\"}], \"heatmap\": [{\"colorbar\": {\"outlinewidth\": 0, \"ticks\": \"\"}, \"colorscale\": [[0.0, \"#0d0887\"], [0.1111111111111111, \"#46039f\"], [0.2222222222222222, \"#7201a8\"], [0.3333333333333333, \"#9c179e\"], [0.4444444444444444, \"#bd3786\"], [0.5555555555555556, \"#d8576b\"], [0.6666666666666666, \"#ed7953\"], [0.7777777777777778, \"#fb9f3a\"], [0.8888888888888888, \"#fdca26\"], [1.0, \"#f0f921\"]], \"type\": \"heatmap\"}], \"heatmapgl\": [{\"colorbar\": {\"outlinewidth\": 0, \"ticks\": \"\"}, \"colorscale\": [[0.0, \"#0d0887\"], [0.1111111111111111, \"#46039f\"], [0.2222222222222222, \"#7201a8\"], [0.3333333333333333, \"#9c179e\"], [0.4444444444444444, \"#bd3786\"], [0.5555555555555556, \"#d8576b\"], [0.6666666666666666, \"#ed7953\"], [0.7777777777777778, \"#fb9f3a\"], [0.8888888888888888, \"#fdca26\"], [1.0, \"#f0f921\"]], \"type\": \"heatmapgl\"}], \"histogram\": [{\"marker\": {\"colorbar\": {\"outlinewidth\": 0, \"ticks\": \"\"}}, \"type\": \"histogram\"}], \"histogram2d\": [{\"colorbar\": {\"outlinewidth\": 0, \"ticks\": \"\"}, \"colorscale\": [[0.0, \"#0d0887\"], [0.1111111111111111, \"#46039f\"], [0.2222222222222222, \"#7201a8\"], [0.3333333333333333, \"#9c179e\"], [0.4444444444444444, \"#bd3786\"], [0.5555555555555556, \"#d8576b\"], [0.6666666666666666, \"#ed7953\"], [0.7777777777777778, \"#fb9f3a\"], [0.8888888888888888, \"#fdca26\"], [1.0, \"#f0f921\"]], \"type\": \"histogram2d\"}], \"histogram2dcontour\": [{\"colorbar\": {\"outlinewidth\": 0, \"ticks\": \"\"}, \"colorscale\": [[0.0, \"#0d0887\"], [0.1111111111111111, \"#46039f\"], [0.2222222222222222, \"#7201a8\"], [0.3333333333333333, \"#9c179e\"], [0.4444444444444444, \"#bd3786\"], [0.5555555555555556, \"#d8576b\"], [0.6666666666666666, \"#ed7953\"], [0.7777777777777778, \"#fb9f3a\"], [0.8888888888888888, \"#fdca26\"], [1.0, \"#f0f921\"]], \"type\": \"histogram2dcontour\"}], \"mesh3d\": [{\"colorbar\": {\"outlinewidth\": 0, \"ticks\": \"\"}, \"type\": \"mesh3d\"}], \"parcoords\": [{\"line\": {\"colorbar\": {\"outlinewidth\": 0, \"ticks\": \"\"}}, \"type\": \"parcoords\"}], \"pie\": [{\"automargin\": true, \"type\": \"pie\"}], \"scatter\": [{\"marker\": {\"colorbar\": {\"outlinewidth\": 0, \"ticks\": \"\"}}, \"type\": \"scatter\"}], \"scatter3d\": [{\"line\": {\"colorbar\": {\"outlinewidth\": 0, \"ticks\": \"\"}}, \"marker\": {\"colorbar\": {\"outlinewidth\": 0, \"ticks\": \"\"}}, \"type\": \"scatter3d\"}], \"scattercarpet\": [{\"marker\": {\"colorbar\": {\"outlinewidth\": 0, \"ticks\": \"\"}}, \"type\": \"scattercarpet\"}], \"scattergeo\": [{\"marker\": {\"colorbar\": {\"outlinewidth\": 0, \"ticks\": \"\"}}, \"type\": \"scattergeo\"}], \"scattergl\": [{\"marker\": {\"colorbar\": {\"outlinewidth\": 0, \"ticks\": \"\"}}, \"type\": \"scattergl\"}], \"scattermapbox\": [{\"marker\": {\"colorbar\": {\"outlinewidth\": 0, \"ticks\": \"\"}}, \"type\": \"scattermapbox\"}], \"scatterpolar\": [{\"marker\": {\"colorbar\": {\"outlinewidth\": 0, \"ticks\": \"\"}}, \"type\": \"scatterpolar\"}], \"scatterpolargl\": [{\"marker\": {\"colorbar\": {\"outlinewidth\": 0, \"ticks\": \"\"}}, \"type\": \"scatterpolargl\"}], \"scatterternary\": [{\"marker\": {\"colorbar\": {\"outlinewidth\": 0, \"ticks\": \"\"}}, \"type\": \"scatterternary\"}], \"surface\": [{\"colorbar\": {\"outlinewidth\": 0, \"ticks\": \"\"}, \"colorscale\": [[0.0, \"#0d0887\"], [0.1111111111111111, \"#46039f\"], [0.2222222222222222, \"#7201a8\"], [0.3333333333333333, \"#9c179e\"], [0.4444444444444444, \"#bd3786\"], [0.5555555555555556, \"#d8576b\"], [0.6666666666666666, \"#ed7953\"], [0.7777777777777778, \"#fb9f3a\"], [0.8888888888888888, \"#fdca26\"], [1.0, \"#f0f921\"]], \"type\": \"surface\"}], \"table\": [{\"cells\": {\"fill\": {\"color\": \"#EBF0F8\"}, \"line\": {\"color\": \"white\"}}, \"header\": {\"fill\": {\"color\": \"#C8D4E3\"}, \"line\": {\"color\": \"white\"}}, \"type\": \"table\"}]}, \"layout\": {\"annotationdefaults\": {\"arrowcolor\": \"#2a3f5f\", \"arrowhead\": 0, \"arrowwidth\": 1}, \"autotypenumbers\": \"strict\", \"coloraxis\": {\"colorbar\": {\"outlinewidth\": 0, \"ticks\": \"\"}}, \"colorscale\": {\"diverging\": [[0, \"#8e0152\"], [0.1, \"#c51b7d\"], [0.2, \"#de77ae\"], [0.3, \"#f1b6da\"], [0.4, \"#fde0ef\"], [0.5, \"#f7f7f7\"], [0.6, \"#e6f5d0\"], [0.7, \"#b8e186\"], [0.8, \"#7fbc41\"], [0.9, \"#4d9221\"], [1, \"#276419\"]], \"sequential\": [[0.0, \"#0d0887\"], [0.1111111111111111, \"#46039f\"], [0.2222222222222222, \"#7201a8\"], [0.3333333333333333, \"#9c179e\"], [0.4444444444444444, \"#bd3786\"], [0.5555555555555556, \"#d8576b\"], [0.6666666666666666, \"#ed7953\"], [0.7777777777777778, \"#fb9f3a\"], [0.8888888888888888, \"#fdca26\"], [1.0, \"#f0f921\"]], \"sequentialminus\": [[0.0, \"#0d0887\"], [0.1111111111111111, \"#46039f\"], [0.2222222222222222, \"#7201a8\"], [0.3333333333333333, \"#9c179e\"], [0.4444444444444444, \"#bd3786\"], [0.5555555555555556, \"#d8576b\"], [0.6666666666666666, \"#ed7953\"], [0.7777777777777778, \"#fb9f3a\"], [0.8888888888888888, \"#fdca26\"], [1.0, \"#f0f921\"]]}, \"colorway\": [\"#636efa\", \"#EF553B\", \"#00cc96\", \"#ab63fa\", \"#FFA15A\", \"#19d3f3\", \"#FF6692\", \"#B6E880\", \"#FF97FF\", \"#FECB52\"], \"font\": {\"color\": \"#2a3f5f\"}, \"geo\": {\"bgcolor\": \"white\", \"lakecolor\": \"white\", \"landcolor\": \"#E5ECF6\", \"showlakes\": true, \"showland\": true, \"subunitcolor\": \"white\"}, \"hoverlabel\": {\"align\": \"left\"}, \"hovermode\": \"closest\", \"mapbox\": {\"style\": \"light\"}, \"paper_bgcolor\": \"white\", \"plot_bgcolor\": \"#E5ECF6\", \"polar\": {\"angularaxis\": {\"gridcolor\": \"white\", \"linecolor\": \"white\", \"ticks\": \"\"}, \"bgcolor\": \"#E5ECF6\", \"radialaxis\": {\"gridcolor\": \"white\", \"linecolor\": \"white\", \"ticks\": \"\"}}, \"scene\": {\"xaxis\": {\"backgroundcolor\": \"#E5ECF6\", \"gridcolor\": \"white\", \"gridwidth\": 2, \"linecolor\": \"white\", \"showbackground\": true, \"ticks\": \"\", \"zerolinecolor\": \"white\"}, \"yaxis\": {\"backgroundcolor\": \"#E5ECF6\", \"gridcolor\": \"white\", \"gridwidth\": 2, \"linecolor\": \"white\", \"showbackground\": true, \"ticks\": \"\", \"zerolinecolor\": \"white\"}, \"zaxis\": {\"backgroundcolor\": \"#E5ECF6\", \"gridcolor\": \"white\", \"gridwidth\": 2, \"linecolor\": \"white\", \"showbackground\": true, \"ticks\": \"\", \"zerolinecolor\": \"white\"}}, \"shapedefaults\": {\"line\": {\"color\": \"#2a3f5f\"}}, \"ternary\": {\"aaxis\": {\"gridcolor\": \"white\", \"linecolor\": \"white\", \"ticks\": \"\"}, \"baxis\": {\"gridcolor\": \"white\", \"linecolor\": \"white\", \"ticks\": \"\"}, \"bgcolor\": \"#E5ECF6\", \"caxis\": {\"gridcolor\": \"white\", \"linecolor\": \"white\", \"ticks\": \"\"}}, \"title\": {\"x\": 0.05}, \"xaxis\": {\"automargin\": true, \"gridcolor\": \"white\", \"linecolor\": \"white\", \"ticks\": \"\", \"title\": {\"standoff\": 15}, \"zerolinecolor\": \"white\", \"zerolinewidth\": 2}, \"yaxis\": {\"automargin\": true, \"gridcolor\": \"white\", \"linecolor\": \"white\", \"ticks\": \"\", \"title\": {\"standoff\": 15}, \"zerolinecolor\": \"white\", \"zerolinewidth\": 2}}}, \"title\": {\"text\": \"Monthwise Increase in Confirmed cases\"}, \"xaxis\": {\"anchor\": \"y\", \"categoryarray\": [1580428800000000000, 1582934400000000000, 1585612800000000000, 1588204800000000000, 1590883200000000000, 1593475200000000000, 1596153600000000000, 1598832000000000000, 1601424000000000000, 1604102400000000000, 1606694400000000000, 1609372800000000000, 1612051200000000000, 1614470400000000000, 1617148800000000000, 1619740800000000000, 1622419200000000000], \"categoryorder\": \"array\", \"domain\": [0.0, 1.0], \"title\": {\"text\": \"Date(monthwise)\"}}, \"yaxis\": {\"anchor\": \"x\", \"domain\": [0.0, 1.0], \"title\": {\"text\": \"Confirmed\"}}},                        {\"responsive\": true}                    ).then(function(){\n",
       "                            \n",
       "var gd = document.getElementById('82bb22b1-cc5a-48f0-9590-b2369b2c18c6');\n",
       "var x = new MutationObserver(function (mutations, observer) {{\n",
       "        var display = window.getComputedStyle(gd).display;\n",
       "        if (!display || display === 'none') {{\n",
       "            console.log([gd, 'removed!']);\n",
       "            Plotly.purge(gd);\n",
       "            observer.disconnect();\n",
       "        }}\n",
       "}});\n",
       "\n",
       "// Listen for the removal of the full notebook cells\n",
       "var notebookContainer = gd.closest('#notebook-container');\n",
       "if (notebookContainer) {{\n",
       "    x.observe(notebookContainer, {childList: true});\n",
       "}}\n",
       "\n",
       "// Listen for the clearing of the current output cell\n",
       "var outputEl = gd.closest('.output');\n",
       "if (outputEl) {{\n",
       "    x.observe(outputEl, {childList: true});\n",
       "}}\n",
       "\n",
       "                        })                };                });            </script>        </div>"
      ]
     },
     "metadata": {},
     "output_type": "display_data"
    }
   ],
   "source": [
    "# Visualisation monthwise\n",
    "fig = px.bar(month_wise, x='Date', y ='Confirmed',\n",
    "            hover_data=['Cured', 'Deaths'], color='Date',\n",
    "            labels={'Date':'Date(monthwise)'},\n",
    "            title=\"Monthwise Increase in Confirmed cases\")\n",
    "\n",
    "fig.show();"
   ]
  },
  {
   "cell_type": "code",
   "execution_count": 51,
   "id": "a4dcca9b",
   "metadata": {},
   "outputs": [
    {
     "data": {
      "application/vnd.plotly.v1+json": {
       "config": {
        "plotlyServerURL": "https://plot.ly"
       },
       "data": [
        {
         "alignmentgroup": "True",
         "customdata": [
          [
           2,
           0
          ]
         ],
         "hovertemplate": "Date=%{x}<br>Cured=%{y}<br>Confirmed=%{customdata[0]}<br>Deaths=%{customdata[1]}<extra></extra>",
         "legendgroup": "2020-01-31 00:00:00",
         "marker": {
          "color": "#B6E880"
         },
         "name": "2020-01-31 00:00:00",
         "offsetgroup": "2020-01-31 00:00:00",
         "orientation": "v",
         "showlegend": true,
         "textposition": "auto",
         "type": "bar",
         "x": [
          "2020-01-31T00:00:00"
         ],
         "xaxis": "x",
         "y": [
          0
         ],
         "yaxis": "y"
        },
        {
         "alignmentgroup": "True",
         "customdata": [
          [
           86,
           0
          ]
         ],
         "hovertemplate": "Date=%{x}<br>Cured=%{y}<br>Confirmed=%{customdata[0]}<br>Deaths=%{customdata[1]}<extra></extra>",
         "legendgroup": "2020-02-29 00:00:00",
         "marker": {
          "color": "#FF97FF"
         },
         "name": "2020-02-29 00:00:00",
         "offsetgroup": "2020-02-29 00:00:00",
         "orientation": "v",
         "showlegend": true,
         "textposition": "auto",
         "type": "bar",
         "x": [
          "2020-02-29T00:00:00"
         ],
         "xaxis": "x",
         "y": [
          0
         ],
         "yaxis": "y"
        },
        {
         "alignmentgroup": "True",
         "customdata": [
          [
           9687,
           202
          ]
         ],
         "hovertemplate": "Date=%{x}<br>Cured=%{y}<br>Confirmed=%{customdata[0]}<br>Deaths=%{customdata[1]}<extra></extra>",
         "legendgroup": "2020-03-31 00:00:00",
         "marker": {
          "color": "#FECB52"
         },
         "name": "2020-03-31 00:00:00",
         "offsetgroup": "2020-03-31 00:00:00",
         "orientation": "v",
         "showlegend": true,
         "textposition": "auto",
         "type": "bar",
         "x": [
          "2020-03-31T00:00:00"
         ],
         "xaxis": "x",
         "y": [
          808
         ],
         "yaxis": "y"
        },
        {
         "alignmentgroup": "True",
         "customdata": [
          [
           422442,
           13270
          ]
         ],
         "hovertemplate": "Date=%{x}<br>Cured=%{y}<br>Confirmed=%{customdata[0]}<br>Deaths=%{customdata[1]}<extra></extra>",
         "legendgroup": "2020-04-30 00:00:00",
         "marker": {
          "color": "#636efa"
         },
         "name": "2020-04-30 00:00:00",
         "offsetgroup": "2020-04-30 00:00:00",
         "orientation": "v",
         "showlegend": true,
         "textposition": "auto",
         "type": "bar",
         "x": [
          "2020-04-30T00:00:00"
         ],
         "xaxis": "x",
         "y": [
          75443
         ],
         "yaxis": "y"
        },
        {
         "alignmentgroup": "True",
         "customdata": [
          [
           2938234,
           89834
          ]
         ],
         "hovertemplate": "Date=%{x}<br>Cured=%{y}<br>Confirmed=%{customdata[0]}<br>Deaths=%{customdata[1]}<extra></extra>",
         "legendgroup": "2020-05-31 00:00:00",
         "marker": {
          "color": "#EF553B"
         },
         "name": "2020-05-31 00:00:00",
         "offsetgroup": "2020-05-31 00:00:00",
         "orientation": "v",
         "showlegend": true,
         "textposition": "auto",
         "type": "bar",
         "x": [
          "2020-05-31T00:00:00"
         ],
         "xaxis": "x",
         "y": [
          1133341
         ],
         "yaxis": "y"
        },
        {
         "alignmentgroup": "True",
         "customdata": [
          [
           10558374,
           319690
          ]
         ],
         "hovertemplate": "Date=%{x}<br>Cured=%{y}<br>Confirmed=%{customdata[0]}<br>Deaths=%{customdata[1]}<extra></extra>",
         "legendgroup": "2020-06-30 00:00:00",
         "marker": {
          "color": "#00cc96"
         },
         "name": "2020-06-30 00:00:00",
         "offsetgroup": "2020-06-30 00:00:00",
         "orientation": "v",
         "showlegend": true,
         "textposition": "auto",
         "type": "bar",
         "x": [
          "2020-06-30T00:00:00"
         ],
         "xaxis": "x",
         "y": [
          5668946
         ],
         "yaxis": "y"
        },
        {
         "alignmentgroup": "True",
         "customdata": [
          [
           31726501,
           793511
          ]
         ],
         "hovertemplate": "Date=%{x}<br>Cured=%{y}<br>Confirmed=%{customdata[0]}<br>Deaths=%{customdata[1]}<extra></extra>",
         "legendgroup": "2020-07-31 00:00:00",
         "marker": {
          "color": "#ab63fa"
         },
         "name": "2020-07-31 00:00:00",
         "offsetgroup": "2020-07-31 00:00:00",
         "orientation": "v",
         "showlegend": true,
         "textposition": "auto",
         "type": "bar",
         "x": [
          "2020-07-31T00:00:00"
         ],
         "xaxis": "x",
         "y": [
          19980130
         ],
         "yaxis": "y"
        },
        {
         "alignmentgroup": "True",
         "customdata": [
          [
           80749620,
           1553468
          ]
         ],
         "hovertemplate": "Date=%{x}<br>Cured=%{y}<br>Confirmed=%{customdata[0]}<br>Deaths=%{customdata[1]}<extra></extra>",
         "legendgroup": "2020-08-31 00:00:00",
         "marker": {
          "color": "#FFA15A"
         },
         "name": "2020-08-31 00:00:00",
         "offsetgroup": "2020-08-31 00:00:00",
         "orientation": "v",
         "showlegend": true,
         "textposition": "auto",
         "type": "bar",
         "x": [
          "2020-08-31T00:00:00"
         ],
         "xaxis": "x",
         "y": [
          58580895
         ],
         "yaxis": "y"
        },
        {
         "alignmentgroup": "True",
         "customdata": [
          [
           149113758,
           2443374
          ]
         ],
         "hovertemplate": "Date=%{x}<br>Cured=%{y}<br>Confirmed=%{customdata[0]}<br>Deaths=%{customdata[1]}<extra></extra>",
         "legendgroup": "2020-09-30 00:00:00",
         "marker": {
          "color": "#19d3f3"
         },
         "name": "2020-09-30 00:00:00",
         "offsetgroup": "2020-09-30 00:00:00",
         "orientation": "v",
         "showlegend": true,
         "textposition": "auto",
         "type": "bar",
         "x": [
          "2020-09-30T00:00:00"
         ],
         "xaxis": "x",
         "y": [
          118592934
         ],
         "yaxis": "y"
        },
        {
         "alignmentgroup": "True",
         "customdata": [
          [
           226770312,
           3457615
          ]
         ],
         "hovertemplate": "Date=%{x}<br>Cured=%{y}<br>Confirmed=%{customdata[0]}<br>Deaths=%{customdata[1]}<extra></extra>",
         "legendgroup": "2020-10-31 00:00:00",
         "marker": {
          "color": "#FF6692"
         },
         "name": "2020-10-31 00:00:00",
         "offsetgroup": "2020-10-31 00:00:00",
         "orientation": "v",
         "showlegend": true,
         "textposition": "auto",
         "type": "bar",
         "x": [
          "2020-10-31T00:00:00"
         ],
         "xaxis": "x",
         "y": [
          198824412
         ],
         "yaxis": "y"
        },
        {
         "alignmentgroup": "True",
         "customdata": [
          [
           264556412,
           3894165
          ]
         ],
         "hovertemplate": "Date=%{x}<br>Cured=%{y}<br>Confirmed=%{customdata[0]}<br>Deaths=%{customdata[1]}<extra></extra>",
         "legendgroup": "2020-11-30 00:00:00",
         "marker": {
          "color": "#B6E880"
         },
         "name": "2020-11-30 00:00:00",
         "offsetgroup": "2020-11-30 00:00:00",
         "orientation": "v",
         "showlegend": true,
         "textposition": "auto",
         "type": "bar",
         "x": [
          "2020-11-30T00:00:00"
         ],
         "xaxis": "x",
         "y": [
          246213201
         ],
         "yaxis": "y"
        },
        {
         "alignmentgroup": "True",
         "customdata": [
          [
           307177353,
           4457379
          ]
         ],
         "hovertemplate": "Date=%{x}<br>Cured=%{y}<br>Confirmed=%{customdata[0]}<br>Deaths=%{customdata[1]}<extra></extra>",
         "legendgroup": "2020-12-31 00:00:00",
         "marker": {
          "color": "#FF97FF"
         },
         "name": "2020-12-31 00:00:00",
         "offsetgroup": "2020-12-31 00:00:00",
         "orientation": "v",
         "showlegend": true,
         "textposition": "auto",
         "type": "bar",
         "x": [
          "2020-12-31T00:00:00"
         ],
         "xaxis": "x",
         "y": [
          292244085
         ],
         "yaxis": "y"
        },
        {
         "alignmentgroup": "True",
         "customdata": [
          [
           326469747,
           4709167
          ]
         ],
         "hovertemplate": "Date=%{x}<br>Cured=%{y}<br>Confirmed=%{customdata[0]}<br>Deaths=%{customdata[1]}<extra></extra>",
         "legendgroup": "2021-01-31 00:00:00",
         "marker": {
          "color": "#FECB52"
         },
         "name": "2021-01-31 00:00:00",
         "offsetgroup": "2021-01-31 00:00:00",
         "orientation": "v",
         "showlegend": true,
         "textposition": "auto",
         "type": "bar",
         "x": [
          "2021-01-31T00:00:00"
         ],
         "xaxis": "x",
         "y": [
          315332019
         ],
         "yaxis": "y"
        },
        {
         "alignmentgroup": "True",
         "customdata": [
          [
           305631803,
           4359434
          ]
         ],
         "hovertemplate": "Date=%{x}<br>Cured=%{y}<br>Confirmed=%{customdata[0]}<br>Deaths=%{customdata[1]}<extra></extra>",
         "legendgroup": "2021-02-28 00:00:00",
         "marker": {
          "color": "#636efa"
         },
         "name": "2021-02-28 00:00:00",
         "offsetgroup": "2021-02-28 00:00:00",
         "orientation": "v",
         "showlegend": true,
         "textposition": "auto",
         "type": "bar",
         "x": [
          "2021-02-28T00:00:00"
         ],
         "xaxis": "x",
         "y": [
          297133802
         ],
         "yaxis": "y"
        },
        {
         "alignmentgroup": "True",
         "customdata": [
          [
           356305616,
           4935253
          ]
         ],
         "hovertemplate": "Date=%{x}<br>Cured=%{y}<br>Confirmed=%{customdata[0]}<br>Deaths=%{customdata[1]}<extra></extra>",
         "legendgroup": "2021-03-31 00:00:00",
         "marker": {
          "color": "#EF553B"
         },
         "name": "2021-03-31 00:00:00",
         "offsetgroup": "2021-03-31 00:00:00",
         "orientation": "v",
         "showlegend": true,
         "textposition": "auto",
         "type": "bar",
         "x": [
          "2021-03-31T00:00:00"
         ],
         "xaxis": "x",
         "y": [
          342610397
         ],
         "yaxis": "y"
        },
        {
         "alignmentgroup": "True",
         "customdata": [
          [
           440660671,
           5340298
          ]
         ],
         "hovertemplate": "Date=%{x}<br>Cured=%{y}<br>Confirmed=%{customdata[0]}<br>Deaths=%{customdata[1]}<extra></extra>",
         "legendgroup": "2021-04-30 00:00:00",
         "marker": {
          "color": "#00cc96"
         },
         "name": "2021-04-30 00:00:00",
         "offsetgroup": "2021-04-30 00:00:00",
         "orientation": "v",
         "showlegend": true,
         "textposition": "auto",
         "type": "bar",
         "x": [
          "2021-04-30T00:00:00"
         ],
         "xaxis": "x",
         "y": [
          384990190
         ],
         "yaxis": "y"
        },
        {
         "alignmentgroup": "True",
         "customdata": [
          [
           58648030,
           646354
          ]
         ],
         "hovertemplate": "Date=%{x}<br>Cured=%{y}<br>Confirmed=%{customdata[0]}<br>Deaths=%{customdata[1]}<extra></extra>",
         "legendgroup": "2021-05-31 00:00:00",
         "marker": {
          "color": "#ab63fa"
         },
         "name": "2021-05-31 00:00:00",
         "offsetgroup": "2021-05-31 00:00:00",
         "orientation": "v",
         "showlegend": true,
         "textposition": "auto",
         "type": "bar",
         "x": [
          "2021-05-31T00:00:00"
         ],
         "xaxis": "x",
         "y": [
          47969680
         ],
         "yaxis": "y"
        }
       ],
       "layout": {
        "barmode": "relative",
        "legend": {
         "title": {
          "text": "Date"
         },
         "tracegroupgap": 0
        },
        "template": {
         "data": {
          "bar": [
           {
            "error_x": {
             "color": "#2a3f5f"
            },
            "error_y": {
             "color": "#2a3f5f"
            },
            "marker": {
             "line": {
              "color": "#E5ECF6",
              "width": 0.5
             }
            },
            "type": "bar"
           }
          ],
          "barpolar": [
           {
            "marker": {
             "line": {
              "color": "#E5ECF6",
              "width": 0.5
             }
            },
            "type": "barpolar"
           }
          ],
          "carpet": [
           {
            "aaxis": {
             "endlinecolor": "#2a3f5f",
             "gridcolor": "white",
             "linecolor": "white",
             "minorgridcolor": "white",
             "startlinecolor": "#2a3f5f"
            },
            "baxis": {
             "endlinecolor": "#2a3f5f",
             "gridcolor": "white",
             "linecolor": "white",
             "minorgridcolor": "white",
             "startlinecolor": "#2a3f5f"
            },
            "type": "carpet"
           }
          ],
          "choropleth": [
           {
            "colorbar": {
             "outlinewidth": 0,
             "ticks": ""
            },
            "type": "choropleth"
           }
          ],
          "contour": [
           {
            "colorbar": {
             "outlinewidth": 0,
             "ticks": ""
            },
            "colorscale": [
             [
              0,
              "#0d0887"
             ],
             [
              0.1111111111111111,
              "#46039f"
             ],
             [
              0.2222222222222222,
              "#7201a8"
             ],
             [
              0.3333333333333333,
              "#9c179e"
             ],
             [
              0.4444444444444444,
              "#bd3786"
             ],
             [
              0.5555555555555556,
              "#d8576b"
             ],
             [
              0.6666666666666666,
              "#ed7953"
             ],
             [
              0.7777777777777778,
              "#fb9f3a"
             ],
             [
              0.8888888888888888,
              "#fdca26"
             ],
             [
              1,
              "#f0f921"
             ]
            ],
            "type": "contour"
           }
          ],
          "contourcarpet": [
           {
            "colorbar": {
             "outlinewidth": 0,
             "ticks": ""
            },
            "type": "contourcarpet"
           }
          ],
          "heatmap": [
           {
            "colorbar": {
             "outlinewidth": 0,
             "ticks": ""
            },
            "colorscale": [
             [
              0,
              "#0d0887"
             ],
             [
              0.1111111111111111,
              "#46039f"
             ],
             [
              0.2222222222222222,
              "#7201a8"
             ],
             [
              0.3333333333333333,
              "#9c179e"
             ],
             [
              0.4444444444444444,
              "#bd3786"
             ],
             [
              0.5555555555555556,
              "#d8576b"
             ],
             [
              0.6666666666666666,
              "#ed7953"
             ],
             [
              0.7777777777777778,
              "#fb9f3a"
             ],
             [
              0.8888888888888888,
              "#fdca26"
             ],
             [
              1,
              "#f0f921"
             ]
            ],
            "type": "heatmap"
           }
          ],
          "heatmapgl": [
           {
            "colorbar": {
             "outlinewidth": 0,
             "ticks": ""
            },
            "colorscale": [
             [
              0,
              "#0d0887"
             ],
             [
              0.1111111111111111,
              "#46039f"
             ],
             [
              0.2222222222222222,
              "#7201a8"
             ],
             [
              0.3333333333333333,
              "#9c179e"
             ],
             [
              0.4444444444444444,
              "#bd3786"
             ],
             [
              0.5555555555555556,
              "#d8576b"
             ],
             [
              0.6666666666666666,
              "#ed7953"
             ],
             [
              0.7777777777777778,
              "#fb9f3a"
             ],
             [
              0.8888888888888888,
              "#fdca26"
             ],
             [
              1,
              "#f0f921"
             ]
            ],
            "type": "heatmapgl"
           }
          ],
          "histogram": [
           {
            "marker": {
             "colorbar": {
              "outlinewidth": 0,
              "ticks": ""
             }
            },
            "type": "histogram"
           }
          ],
          "histogram2d": [
           {
            "colorbar": {
             "outlinewidth": 0,
             "ticks": ""
            },
            "colorscale": [
             [
              0,
              "#0d0887"
             ],
             [
              0.1111111111111111,
              "#46039f"
             ],
             [
              0.2222222222222222,
              "#7201a8"
             ],
             [
              0.3333333333333333,
              "#9c179e"
             ],
             [
              0.4444444444444444,
              "#bd3786"
             ],
             [
              0.5555555555555556,
              "#d8576b"
             ],
             [
              0.6666666666666666,
              "#ed7953"
             ],
             [
              0.7777777777777778,
              "#fb9f3a"
             ],
             [
              0.8888888888888888,
              "#fdca26"
             ],
             [
              1,
              "#f0f921"
             ]
            ],
            "type": "histogram2d"
           }
          ],
          "histogram2dcontour": [
           {
            "colorbar": {
             "outlinewidth": 0,
             "ticks": ""
            },
            "colorscale": [
             [
              0,
              "#0d0887"
             ],
             [
              0.1111111111111111,
              "#46039f"
             ],
             [
              0.2222222222222222,
              "#7201a8"
             ],
             [
              0.3333333333333333,
              "#9c179e"
             ],
             [
              0.4444444444444444,
              "#bd3786"
             ],
             [
              0.5555555555555556,
              "#d8576b"
             ],
             [
              0.6666666666666666,
              "#ed7953"
             ],
             [
              0.7777777777777778,
              "#fb9f3a"
             ],
             [
              0.8888888888888888,
              "#fdca26"
             ],
             [
              1,
              "#f0f921"
             ]
            ],
            "type": "histogram2dcontour"
           }
          ],
          "mesh3d": [
           {
            "colorbar": {
             "outlinewidth": 0,
             "ticks": ""
            },
            "type": "mesh3d"
           }
          ],
          "parcoords": [
           {
            "line": {
             "colorbar": {
              "outlinewidth": 0,
              "ticks": ""
             }
            },
            "type": "parcoords"
           }
          ],
          "pie": [
           {
            "automargin": true,
            "type": "pie"
           }
          ],
          "scatter": [
           {
            "marker": {
             "colorbar": {
              "outlinewidth": 0,
              "ticks": ""
             }
            },
            "type": "scatter"
           }
          ],
          "scatter3d": [
           {
            "line": {
             "colorbar": {
              "outlinewidth": 0,
              "ticks": ""
             }
            },
            "marker": {
             "colorbar": {
              "outlinewidth": 0,
              "ticks": ""
             }
            },
            "type": "scatter3d"
           }
          ],
          "scattercarpet": [
           {
            "marker": {
             "colorbar": {
              "outlinewidth": 0,
              "ticks": ""
             }
            },
            "type": "scattercarpet"
           }
          ],
          "scattergeo": [
           {
            "marker": {
             "colorbar": {
              "outlinewidth": 0,
              "ticks": ""
             }
            },
            "type": "scattergeo"
           }
          ],
          "scattergl": [
           {
            "marker": {
             "colorbar": {
              "outlinewidth": 0,
              "ticks": ""
             }
            },
            "type": "scattergl"
           }
          ],
          "scattermapbox": [
           {
            "marker": {
             "colorbar": {
              "outlinewidth": 0,
              "ticks": ""
             }
            },
            "type": "scattermapbox"
           }
          ],
          "scatterpolar": [
           {
            "marker": {
             "colorbar": {
              "outlinewidth": 0,
              "ticks": ""
             }
            },
            "type": "scatterpolar"
           }
          ],
          "scatterpolargl": [
           {
            "marker": {
             "colorbar": {
              "outlinewidth": 0,
              "ticks": ""
             }
            },
            "type": "scatterpolargl"
           }
          ],
          "scatterternary": [
           {
            "marker": {
             "colorbar": {
              "outlinewidth": 0,
              "ticks": ""
             }
            },
            "type": "scatterternary"
           }
          ],
          "surface": [
           {
            "colorbar": {
             "outlinewidth": 0,
             "ticks": ""
            },
            "colorscale": [
             [
              0,
              "#0d0887"
             ],
             [
              0.1111111111111111,
              "#46039f"
             ],
             [
              0.2222222222222222,
              "#7201a8"
             ],
             [
              0.3333333333333333,
              "#9c179e"
             ],
             [
              0.4444444444444444,
              "#bd3786"
             ],
             [
              0.5555555555555556,
              "#d8576b"
             ],
             [
              0.6666666666666666,
              "#ed7953"
             ],
             [
              0.7777777777777778,
              "#fb9f3a"
             ],
             [
              0.8888888888888888,
              "#fdca26"
             ],
             [
              1,
              "#f0f921"
             ]
            ],
            "type": "surface"
           }
          ],
          "table": [
           {
            "cells": {
             "fill": {
              "color": "#EBF0F8"
             },
             "line": {
              "color": "white"
             }
            },
            "header": {
             "fill": {
              "color": "#C8D4E3"
             },
             "line": {
              "color": "white"
             }
            },
            "type": "table"
           }
          ]
         },
         "layout": {
          "annotationdefaults": {
           "arrowcolor": "#2a3f5f",
           "arrowhead": 0,
           "arrowwidth": 1
          },
          "autotypenumbers": "strict",
          "coloraxis": {
           "colorbar": {
            "outlinewidth": 0,
            "ticks": ""
           }
          },
          "colorscale": {
           "diverging": [
            [
             0,
             "#8e0152"
            ],
            [
             0.1,
             "#c51b7d"
            ],
            [
             0.2,
             "#de77ae"
            ],
            [
             0.3,
             "#f1b6da"
            ],
            [
             0.4,
             "#fde0ef"
            ],
            [
             0.5,
             "#f7f7f7"
            ],
            [
             0.6,
             "#e6f5d0"
            ],
            [
             0.7,
             "#b8e186"
            ],
            [
             0.8,
             "#7fbc41"
            ],
            [
             0.9,
             "#4d9221"
            ],
            [
             1,
             "#276419"
            ]
           ],
           "sequential": [
            [
             0,
             "#0d0887"
            ],
            [
             0.1111111111111111,
             "#46039f"
            ],
            [
             0.2222222222222222,
             "#7201a8"
            ],
            [
             0.3333333333333333,
             "#9c179e"
            ],
            [
             0.4444444444444444,
             "#bd3786"
            ],
            [
             0.5555555555555556,
             "#d8576b"
            ],
            [
             0.6666666666666666,
             "#ed7953"
            ],
            [
             0.7777777777777778,
             "#fb9f3a"
            ],
            [
             0.8888888888888888,
             "#fdca26"
            ],
            [
             1,
             "#f0f921"
            ]
           ],
           "sequentialminus": [
            [
             0,
             "#0d0887"
            ],
            [
             0.1111111111111111,
             "#46039f"
            ],
            [
             0.2222222222222222,
             "#7201a8"
            ],
            [
             0.3333333333333333,
             "#9c179e"
            ],
            [
             0.4444444444444444,
             "#bd3786"
            ],
            [
             0.5555555555555556,
             "#d8576b"
            ],
            [
             0.6666666666666666,
             "#ed7953"
            ],
            [
             0.7777777777777778,
             "#fb9f3a"
            ],
            [
             0.8888888888888888,
             "#fdca26"
            ],
            [
             1,
             "#f0f921"
            ]
           ]
          },
          "colorway": [
           "#636efa",
           "#EF553B",
           "#00cc96",
           "#ab63fa",
           "#FFA15A",
           "#19d3f3",
           "#FF6692",
           "#B6E880",
           "#FF97FF",
           "#FECB52"
          ],
          "font": {
           "color": "#2a3f5f"
          },
          "geo": {
           "bgcolor": "white",
           "lakecolor": "white",
           "landcolor": "#E5ECF6",
           "showlakes": true,
           "showland": true,
           "subunitcolor": "white"
          },
          "hoverlabel": {
           "align": "left"
          },
          "hovermode": "closest",
          "mapbox": {
           "style": "light"
          },
          "paper_bgcolor": "white",
          "plot_bgcolor": "#E5ECF6",
          "polar": {
           "angularaxis": {
            "gridcolor": "white",
            "linecolor": "white",
            "ticks": ""
           },
           "bgcolor": "#E5ECF6",
           "radialaxis": {
            "gridcolor": "white",
            "linecolor": "white",
            "ticks": ""
           }
          },
          "scene": {
           "xaxis": {
            "backgroundcolor": "#E5ECF6",
            "gridcolor": "white",
            "gridwidth": 2,
            "linecolor": "white",
            "showbackground": true,
            "ticks": "",
            "zerolinecolor": "white"
           },
           "yaxis": {
            "backgroundcolor": "#E5ECF6",
            "gridcolor": "white",
            "gridwidth": 2,
            "linecolor": "white",
            "showbackground": true,
            "ticks": "",
            "zerolinecolor": "white"
           },
           "zaxis": {
            "backgroundcolor": "#E5ECF6",
            "gridcolor": "white",
            "gridwidth": 2,
            "linecolor": "white",
            "showbackground": true,
            "ticks": "",
            "zerolinecolor": "white"
           }
          },
          "shapedefaults": {
           "line": {
            "color": "#2a3f5f"
           }
          },
          "ternary": {
           "aaxis": {
            "gridcolor": "white",
            "linecolor": "white",
            "ticks": ""
           },
           "baxis": {
            "gridcolor": "white",
            "linecolor": "white",
            "ticks": ""
           },
           "bgcolor": "#E5ECF6",
           "caxis": {
            "gridcolor": "white",
            "linecolor": "white",
            "ticks": ""
           }
          },
          "title": {
           "x": 0.05
          },
          "xaxis": {
           "automargin": true,
           "gridcolor": "white",
           "linecolor": "white",
           "ticks": "",
           "title": {
            "standoff": 15
           },
           "zerolinecolor": "white",
           "zerolinewidth": 2
          },
          "yaxis": {
           "automargin": true,
           "gridcolor": "white",
           "linecolor": "white",
           "ticks": "",
           "title": {
            "standoff": 15
           },
           "zerolinecolor": "white",
           "zerolinewidth": 2
          }
         }
        },
        "title": {
         "text": "Monthwise increase in Cured Cases"
        },
        "xaxis": {
         "anchor": "y",
         "categoryarray": [
          1580428800000000000,
          1582934400000000000,
          1585612800000000000,
          1588204800000000000,
          1590883200000000000,
          1593475200000000000,
          1596153600000000000,
          1598832000000000000,
          1601424000000000000,
          1604102400000000000,
          1606694400000000000,
          1609372800000000000,
          1612051200000000000,
          1614470400000000000,
          1617148800000000000,
          1619740800000000000,
          1622419200000000000
         ],
         "categoryorder": "array",
         "domain": [
          0,
          1
         ],
         "title": {
          "text": "Date"
         }
        },
        "yaxis": {
         "anchor": "x",
         "domain": [
          0,
          1
         ],
         "title": {
          "text": "Cured"
         }
        }
       }
      },
      "text/html": [
       "<div>                            <div id=\"976a4e52-1a0d-461c-b354-d04f38406d6e\" class=\"plotly-graph-div\" style=\"height:525px; width:100%;\"></div>            <script type=\"text/javascript\">                require([\"plotly\"], function(Plotly) {                    window.PLOTLYENV=window.PLOTLYENV || {};                                    if (document.getElementById(\"976a4e52-1a0d-461c-b354-d04f38406d6e\")) {                    Plotly.newPlot(                        \"976a4e52-1a0d-461c-b354-d04f38406d6e\",                        [{\"alignmentgroup\": \"True\", \"customdata\": [[2, 0]], \"hovertemplate\": \"Date=%{x}<br>Cured=%{y}<br>Confirmed=%{customdata[0]}<br>Deaths=%{customdata[1]}<extra></extra>\", \"legendgroup\": \"2020-01-31 00:00:00\", \"marker\": {\"color\": \"#B6E880\"}, \"name\": \"2020-01-31 00:00:00\", \"offsetgroup\": \"2020-01-31 00:00:00\", \"orientation\": \"v\", \"showlegend\": true, \"textposition\": \"auto\", \"type\": \"bar\", \"x\": [\"2020-01-31T00:00:00\"], \"xaxis\": \"x\", \"y\": [0], \"yaxis\": \"y\"}, {\"alignmentgroup\": \"True\", \"customdata\": [[86, 0]], \"hovertemplate\": \"Date=%{x}<br>Cured=%{y}<br>Confirmed=%{customdata[0]}<br>Deaths=%{customdata[1]}<extra></extra>\", \"legendgroup\": \"2020-02-29 00:00:00\", \"marker\": {\"color\": \"#FF97FF\"}, \"name\": \"2020-02-29 00:00:00\", \"offsetgroup\": \"2020-02-29 00:00:00\", \"orientation\": \"v\", \"showlegend\": true, \"textposition\": \"auto\", \"type\": \"bar\", \"x\": [\"2020-02-29T00:00:00\"], \"xaxis\": \"x\", \"y\": [0], \"yaxis\": \"y\"}, {\"alignmentgroup\": \"True\", \"customdata\": [[9687, 202]], \"hovertemplate\": \"Date=%{x}<br>Cured=%{y}<br>Confirmed=%{customdata[0]}<br>Deaths=%{customdata[1]}<extra></extra>\", \"legendgroup\": \"2020-03-31 00:00:00\", \"marker\": {\"color\": \"#FECB52\"}, \"name\": \"2020-03-31 00:00:00\", \"offsetgroup\": \"2020-03-31 00:00:00\", \"orientation\": \"v\", \"showlegend\": true, \"textposition\": \"auto\", \"type\": \"bar\", \"x\": [\"2020-03-31T00:00:00\"], \"xaxis\": \"x\", \"y\": [808], \"yaxis\": \"y\"}, {\"alignmentgroup\": \"True\", \"customdata\": [[422442, 13270]], \"hovertemplate\": \"Date=%{x}<br>Cured=%{y}<br>Confirmed=%{customdata[0]}<br>Deaths=%{customdata[1]}<extra></extra>\", \"legendgroup\": \"2020-04-30 00:00:00\", \"marker\": {\"color\": \"#636efa\"}, \"name\": \"2020-04-30 00:00:00\", \"offsetgroup\": \"2020-04-30 00:00:00\", \"orientation\": \"v\", \"showlegend\": true, \"textposition\": \"auto\", \"type\": \"bar\", \"x\": [\"2020-04-30T00:00:00\"], \"xaxis\": \"x\", \"y\": [75443], \"yaxis\": \"y\"}, {\"alignmentgroup\": \"True\", \"customdata\": [[2938234, 89834]], \"hovertemplate\": \"Date=%{x}<br>Cured=%{y}<br>Confirmed=%{customdata[0]}<br>Deaths=%{customdata[1]}<extra></extra>\", \"legendgroup\": \"2020-05-31 00:00:00\", \"marker\": {\"color\": \"#EF553B\"}, \"name\": \"2020-05-31 00:00:00\", \"offsetgroup\": \"2020-05-31 00:00:00\", \"orientation\": \"v\", \"showlegend\": true, \"textposition\": \"auto\", \"type\": \"bar\", \"x\": [\"2020-05-31T00:00:00\"], \"xaxis\": \"x\", \"y\": [1133341], \"yaxis\": \"y\"}, {\"alignmentgroup\": \"True\", \"customdata\": [[10558374, 319690]], \"hovertemplate\": \"Date=%{x}<br>Cured=%{y}<br>Confirmed=%{customdata[0]}<br>Deaths=%{customdata[1]}<extra></extra>\", \"legendgroup\": \"2020-06-30 00:00:00\", \"marker\": {\"color\": \"#00cc96\"}, \"name\": \"2020-06-30 00:00:00\", \"offsetgroup\": \"2020-06-30 00:00:00\", \"orientation\": \"v\", \"showlegend\": true, \"textposition\": \"auto\", \"type\": \"bar\", \"x\": [\"2020-06-30T00:00:00\"], \"xaxis\": \"x\", \"y\": [5668946], \"yaxis\": \"y\"}, {\"alignmentgroup\": \"True\", \"customdata\": [[31726501, 793511]], \"hovertemplate\": \"Date=%{x}<br>Cured=%{y}<br>Confirmed=%{customdata[0]}<br>Deaths=%{customdata[1]}<extra></extra>\", \"legendgroup\": \"2020-07-31 00:00:00\", \"marker\": {\"color\": \"#ab63fa\"}, \"name\": \"2020-07-31 00:00:00\", \"offsetgroup\": \"2020-07-31 00:00:00\", \"orientation\": \"v\", \"showlegend\": true, \"textposition\": \"auto\", \"type\": \"bar\", \"x\": [\"2020-07-31T00:00:00\"], \"xaxis\": \"x\", \"y\": [19980130], \"yaxis\": \"y\"}, {\"alignmentgroup\": \"True\", \"customdata\": [[80749620, 1553468]], \"hovertemplate\": \"Date=%{x}<br>Cured=%{y}<br>Confirmed=%{customdata[0]}<br>Deaths=%{customdata[1]}<extra></extra>\", \"legendgroup\": \"2020-08-31 00:00:00\", \"marker\": {\"color\": \"#FFA15A\"}, \"name\": \"2020-08-31 00:00:00\", \"offsetgroup\": \"2020-08-31 00:00:00\", \"orientation\": \"v\", \"showlegend\": true, \"textposition\": \"auto\", \"type\": \"bar\", \"x\": [\"2020-08-31T00:00:00\"], \"xaxis\": \"x\", \"y\": [58580895], \"yaxis\": \"y\"}, {\"alignmentgroup\": \"True\", \"customdata\": [[149113758, 2443374]], \"hovertemplate\": \"Date=%{x}<br>Cured=%{y}<br>Confirmed=%{customdata[0]}<br>Deaths=%{customdata[1]}<extra></extra>\", \"legendgroup\": \"2020-09-30 00:00:00\", \"marker\": {\"color\": \"#19d3f3\"}, \"name\": \"2020-09-30 00:00:00\", \"offsetgroup\": \"2020-09-30 00:00:00\", \"orientation\": \"v\", \"showlegend\": true, \"textposition\": \"auto\", \"type\": \"bar\", \"x\": [\"2020-09-30T00:00:00\"], \"xaxis\": \"x\", \"y\": [118592934], \"yaxis\": \"y\"}, {\"alignmentgroup\": \"True\", \"customdata\": [[226770312, 3457615]], \"hovertemplate\": \"Date=%{x}<br>Cured=%{y}<br>Confirmed=%{customdata[0]}<br>Deaths=%{customdata[1]}<extra></extra>\", \"legendgroup\": \"2020-10-31 00:00:00\", \"marker\": {\"color\": \"#FF6692\"}, \"name\": \"2020-10-31 00:00:00\", \"offsetgroup\": \"2020-10-31 00:00:00\", \"orientation\": \"v\", \"showlegend\": true, \"textposition\": \"auto\", \"type\": \"bar\", \"x\": [\"2020-10-31T00:00:00\"], \"xaxis\": \"x\", \"y\": [198824412], \"yaxis\": \"y\"}, {\"alignmentgroup\": \"True\", \"customdata\": [[264556412, 3894165]], \"hovertemplate\": \"Date=%{x}<br>Cured=%{y}<br>Confirmed=%{customdata[0]}<br>Deaths=%{customdata[1]}<extra></extra>\", \"legendgroup\": \"2020-11-30 00:00:00\", \"marker\": {\"color\": \"#B6E880\"}, \"name\": \"2020-11-30 00:00:00\", \"offsetgroup\": \"2020-11-30 00:00:00\", \"orientation\": \"v\", \"showlegend\": true, \"textposition\": \"auto\", \"type\": \"bar\", \"x\": [\"2020-11-30T00:00:00\"], \"xaxis\": \"x\", \"y\": [246213201], \"yaxis\": \"y\"}, {\"alignmentgroup\": \"True\", \"customdata\": [[307177353, 4457379]], \"hovertemplate\": \"Date=%{x}<br>Cured=%{y}<br>Confirmed=%{customdata[0]}<br>Deaths=%{customdata[1]}<extra></extra>\", \"legendgroup\": \"2020-12-31 00:00:00\", \"marker\": {\"color\": \"#FF97FF\"}, \"name\": \"2020-12-31 00:00:00\", \"offsetgroup\": \"2020-12-31 00:00:00\", \"orientation\": \"v\", \"showlegend\": true, \"textposition\": \"auto\", \"type\": \"bar\", \"x\": [\"2020-12-31T00:00:00\"], \"xaxis\": \"x\", \"y\": [292244085], \"yaxis\": \"y\"}, {\"alignmentgroup\": \"True\", \"customdata\": [[326469747, 4709167]], \"hovertemplate\": \"Date=%{x}<br>Cured=%{y}<br>Confirmed=%{customdata[0]}<br>Deaths=%{customdata[1]}<extra></extra>\", \"legendgroup\": \"2021-01-31 00:00:00\", \"marker\": {\"color\": \"#FECB52\"}, \"name\": \"2021-01-31 00:00:00\", \"offsetgroup\": \"2021-01-31 00:00:00\", \"orientation\": \"v\", \"showlegend\": true, \"textposition\": \"auto\", \"type\": \"bar\", \"x\": [\"2021-01-31T00:00:00\"], \"xaxis\": \"x\", \"y\": [315332019], \"yaxis\": \"y\"}, {\"alignmentgroup\": \"True\", \"customdata\": [[305631803, 4359434]], \"hovertemplate\": \"Date=%{x}<br>Cured=%{y}<br>Confirmed=%{customdata[0]}<br>Deaths=%{customdata[1]}<extra></extra>\", \"legendgroup\": \"2021-02-28 00:00:00\", \"marker\": {\"color\": \"#636efa\"}, \"name\": \"2021-02-28 00:00:00\", \"offsetgroup\": \"2021-02-28 00:00:00\", \"orientation\": \"v\", \"showlegend\": true, \"textposition\": \"auto\", \"type\": \"bar\", \"x\": [\"2021-02-28T00:00:00\"], \"xaxis\": \"x\", \"y\": [297133802], \"yaxis\": \"y\"}, {\"alignmentgroup\": \"True\", \"customdata\": [[356305616, 4935253]], \"hovertemplate\": \"Date=%{x}<br>Cured=%{y}<br>Confirmed=%{customdata[0]}<br>Deaths=%{customdata[1]}<extra></extra>\", \"legendgroup\": \"2021-03-31 00:00:00\", \"marker\": {\"color\": \"#EF553B\"}, \"name\": \"2021-03-31 00:00:00\", \"offsetgroup\": \"2021-03-31 00:00:00\", \"orientation\": \"v\", \"showlegend\": true, \"textposition\": \"auto\", \"type\": \"bar\", \"x\": [\"2021-03-31T00:00:00\"], \"xaxis\": \"x\", \"y\": [342610397], \"yaxis\": \"y\"}, {\"alignmentgroup\": \"True\", \"customdata\": [[440660671, 5340298]], \"hovertemplate\": \"Date=%{x}<br>Cured=%{y}<br>Confirmed=%{customdata[0]}<br>Deaths=%{customdata[1]}<extra></extra>\", \"legendgroup\": \"2021-04-30 00:00:00\", \"marker\": {\"color\": \"#00cc96\"}, \"name\": \"2021-04-30 00:00:00\", \"offsetgroup\": \"2021-04-30 00:00:00\", \"orientation\": \"v\", \"showlegend\": true, \"textposition\": \"auto\", \"type\": \"bar\", \"x\": [\"2021-04-30T00:00:00\"], \"xaxis\": \"x\", \"y\": [384990190], \"yaxis\": \"y\"}, {\"alignmentgroup\": \"True\", \"customdata\": [[58648030, 646354]], \"hovertemplate\": \"Date=%{x}<br>Cured=%{y}<br>Confirmed=%{customdata[0]}<br>Deaths=%{customdata[1]}<extra></extra>\", \"legendgroup\": \"2021-05-31 00:00:00\", \"marker\": {\"color\": \"#ab63fa\"}, \"name\": \"2021-05-31 00:00:00\", \"offsetgroup\": \"2021-05-31 00:00:00\", \"orientation\": \"v\", \"showlegend\": true, \"textposition\": \"auto\", \"type\": \"bar\", \"x\": [\"2021-05-31T00:00:00\"], \"xaxis\": \"x\", \"y\": [47969680], \"yaxis\": \"y\"}],                        {\"barmode\": \"relative\", \"legend\": {\"title\": {\"text\": \"Date\"}, \"tracegroupgap\": 0}, \"template\": {\"data\": {\"bar\": [{\"error_x\": {\"color\": \"#2a3f5f\"}, \"error_y\": {\"color\": \"#2a3f5f\"}, \"marker\": {\"line\": {\"color\": \"#E5ECF6\", \"width\": 0.5}}, \"type\": \"bar\"}], \"barpolar\": [{\"marker\": {\"line\": {\"color\": \"#E5ECF6\", \"width\": 0.5}}, \"type\": \"barpolar\"}], \"carpet\": [{\"aaxis\": {\"endlinecolor\": \"#2a3f5f\", \"gridcolor\": \"white\", \"linecolor\": \"white\", \"minorgridcolor\": \"white\", \"startlinecolor\": \"#2a3f5f\"}, \"baxis\": {\"endlinecolor\": \"#2a3f5f\", \"gridcolor\": \"white\", \"linecolor\": \"white\", \"minorgridcolor\": \"white\", \"startlinecolor\": \"#2a3f5f\"}, \"type\": \"carpet\"}], \"choropleth\": [{\"colorbar\": {\"outlinewidth\": 0, \"ticks\": \"\"}, \"type\": \"choropleth\"}], \"contour\": [{\"colorbar\": {\"outlinewidth\": 0, \"ticks\": \"\"}, \"colorscale\": [[0.0, \"#0d0887\"], [0.1111111111111111, \"#46039f\"], [0.2222222222222222, \"#7201a8\"], [0.3333333333333333, \"#9c179e\"], [0.4444444444444444, \"#bd3786\"], [0.5555555555555556, \"#d8576b\"], [0.6666666666666666, \"#ed7953\"], [0.7777777777777778, \"#fb9f3a\"], [0.8888888888888888, \"#fdca26\"], [1.0, \"#f0f921\"]], \"type\": \"contour\"}], \"contourcarpet\": [{\"colorbar\": {\"outlinewidth\": 0, \"ticks\": \"\"}, \"type\": \"contourcarpet\"}], \"heatmap\": [{\"colorbar\": {\"outlinewidth\": 0, \"ticks\": \"\"}, \"colorscale\": [[0.0, \"#0d0887\"], [0.1111111111111111, \"#46039f\"], [0.2222222222222222, \"#7201a8\"], [0.3333333333333333, \"#9c179e\"], [0.4444444444444444, \"#bd3786\"], [0.5555555555555556, \"#d8576b\"], [0.6666666666666666, \"#ed7953\"], [0.7777777777777778, \"#fb9f3a\"], [0.8888888888888888, \"#fdca26\"], [1.0, \"#f0f921\"]], \"type\": \"heatmap\"}], \"heatmapgl\": [{\"colorbar\": {\"outlinewidth\": 0, \"ticks\": \"\"}, \"colorscale\": [[0.0, \"#0d0887\"], [0.1111111111111111, \"#46039f\"], [0.2222222222222222, \"#7201a8\"], [0.3333333333333333, \"#9c179e\"], [0.4444444444444444, \"#bd3786\"], [0.5555555555555556, \"#d8576b\"], [0.6666666666666666, \"#ed7953\"], [0.7777777777777778, \"#fb9f3a\"], [0.8888888888888888, \"#fdca26\"], [1.0, \"#f0f921\"]], \"type\": \"heatmapgl\"}], \"histogram\": [{\"marker\": {\"colorbar\": {\"outlinewidth\": 0, \"ticks\": \"\"}}, \"type\": \"histogram\"}], \"histogram2d\": [{\"colorbar\": {\"outlinewidth\": 0, \"ticks\": \"\"}, \"colorscale\": [[0.0, \"#0d0887\"], [0.1111111111111111, \"#46039f\"], [0.2222222222222222, \"#7201a8\"], [0.3333333333333333, \"#9c179e\"], [0.4444444444444444, \"#bd3786\"], [0.5555555555555556, \"#d8576b\"], [0.6666666666666666, \"#ed7953\"], [0.7777777777777778, \"#fb9f3a\"], [0.8888888888888888, \"#fdca26\"], [1.0, \"#f0f921\"]], \"type\": \"histogram2d\"}], \"histogram2dcontour\": [{\"colorbar\": {\"outlinewidth\": 0, \"ticks\": \"\"}, \"colorscale\": [[0.0, \"#0d0887\"], [0.1111111111111111, \"#46039f\"], [0.2222222222222222, \"#7201a8\"], [0.3333333333333333, \"#9c179e\"], [0.4444444444444444, \"#bd3786\"], [0.5555555555555556, \"#d8576b\"], [0.6666666666666666, \"#ed7953\"], [0.7777777777777778, \"#fb9f3a\"], [0.8888888888888888, \"#fdca26\"], [1.0, \"#f0f921\"]], \"type\": \"histogram2dcontour\"}], \"mesh3d\": [{\"colorbar\": {\"outlinewidth\": 0, \"ticks\": \"\"}, \"type\": \"mesh3d\"}], \"parcoords\": [{\"line\": {\"colorbar\": {\"outlinewidth\": 0, \"ticks\": \"\"}}, \"type\": \"parcoords\"}], \"pie\": [{\"automargin\": true, \"type\": \"pie\"}], \"scatter\": [{\"marker\": {\"colorbar\": {\"outlinewidth\": 0, \"ticks\": \"\"}}, \"type\": \"scatter\"}], \"scatter3d\": [{\"line\": {\"colorbar\": {\"outlinewidth\": 0, \"ticks\": \"\"}}, \"marker\": {\"colorbar\": {\"outlinewidth\": 0, \"ticks\": \"\"}}, \"type\": \"scatter3d\"}], \"scattercarpet\": [{\"marker\": {\"colorbar\": {\"outlinewidth\": 0, \"ticks\": \"\"}}, \"type\": \"scattercarpet\"}], \"scattergeo\": [{\"marker\": {\"colorbar\": {\"outlinewidth\": 0, \"ticks\": \"\"}}, \"type\": \"scattergeo\"}], \"scattergl\": [{\"marker\": {\"colorbar\": {\"outlinewidth\": 0, \"ticks\": \"\"}}, \"type\": \"scattergl\"}], \"scattermapbox\": [{\"marker\": {\"colorbar\": {\"outlinewidth\": 0, \"ticks\": \"\"}}, \"type\": \"scattermapbox\"}], \"scatterpolar\": [{\"marker\": {\"colorbar\": {\"outlinewidth\": 0, \"ticks\": \"\"}}, \"type\": \"scatterpolar\"}], \"scatterpolargl\": [{\"marker\": {\"colorbar\": {\"outlinewidth\": 0, \"ticks\": \"\"}}, \"type\": \"scatterpolargl\"}], \"scatterternary\": [{\"marker\": {\"colorbar\": {\"outlinewidth\": 0, \"ticks\": \"\"}}, \"type\": \"scatterternary\"}], \"surface\": [{\"colorbar\": {\"outlinewidth\": 0, \"ticks\": \"\"}, \"colorscale\": [[0.0, \"#0d0887\"], [0.1111111111111111, \"#46039f\"], [0.2222222222222222, \"#7201a8\"], [0.3333333333333333, \"#9c179e\"], [0.4444444444444444, \"#bd3786\"], [0.5555555555555556, \"#d8576b\"], [0.6666666666666666, \"#ed7953\"], [0.7777777777777778, \"#fb9f3a\"], [0.8888888888888888, \"#fdca26\"], [1.0, \"#f0f921\"]], \"type\": \"surface\"}], \"table\": [{\"cells\": {\"fill\": {\"color\": \"#EBF0F8\"}, \"line\": {\"color\": \"white\"}}, \"header\": {\"fill\": {\"color\": \"#C8D4E3\"}, \"line\": {\"color\": \"white\"}}, \"type\": \"table\"}]}, \"layout\": {\"annotationdefaults\": {\"arrowcolor\": \"#2a3f5f\", \"arrowhead\": 0, \"arrowwidth\": 1}, \"autotypenumbers\": \"strict\", \"coloraxis\": {\"colorbar\": {\"outlinewidth\": 0, \"ticks\": \"\"}}, \"colorscale\": {\"diverging\": [[0, \"#8e0152\"], [0.1, \"#c51b7d\"], [0.2, \"#de77ae\"], [0.3, \"#f1b6da\"], [0.4, \"#fde0ef\"], [0.5, \"#f7f7f7\"], [0.6, \"#e6f5d0\"], [0.7, \"#b8e186\"], [0.8, \"#7fbc41\"], [0.9, \"#4d9221\"], [1, \"#276419\"]], \"sequential\": [[0.0, \"#0d0887\"], [0.1111111111111111, \"#46039f\"], [0.2222222222222222, \"#7201a8\"], [0.3333333333333333, \"#9c179e\"], [0.4444444444444444, \"#bd3786\"], [0.5555555555555556, \"#d8576b\"], [0.6666666666666666, \"#ed7953\"], [0.7777777777777778, \"#fb9f3a\"], [0.8888888888888888, \"#fdca26\"], [1.0, \"#f0f921\"]], \"sequentialminus\": [[0.0, \"#0d0887\"], [0.1111111111111111, \"#46039f\"], [0.2222222222222222, \"#7201a8\"], [0.3333333333333333, \"#9c179e\"], [0.4444444444444444, \"#bd3786\"], [0.5555555555555556, \"#d8576b\"], [0.6666666666666666, \"#ed7953\"], [0.7777777777777778, \"#fb9f3a\"], [0.8888888888888888, \"#fdca26\"], [1.0, \"#f0f921\"]]}, \"colorway\": [\"#636efa\", \"#EF553B\", \"#00cc96\", \"#ab63fa\", \"#FFA15A\", \"#19d3f3\", \"#FF6692\", \"#B6E880\", \"#FF97FF\", \"#FECB52\"], \"font\": {\"color\": \"#2a3f5f\"}, \"geo\": {\"bgcolor\": \"white\", \"lakecolor\": \"white\", \"landcolor\": \"#E5ECF6\", \"showlakes\": true, \"showland\": true, \"subunitcolor\": \"white\"}, \"hoverlabel\": {\"align\": \"left\"}, \"hovermode\": \"closest\", \"mapbox\": {\"style\": \"light\"}, \"paper_bgcolor\": \"white\", \"plot_bgcolor\": \"#E5ECF6\", \"polar\": {\"angularaxis\": {\"gridcolor\": \"white\", \"linecolor\": \"white\", \"ticks\": \"\"}, \"bgcolor\": \"#E5ECF6\", \"radialaxis\": {\"gridcolor\": \"white\", \"linecolor\": \"white\", \"ticks\": \"\"}}, \"scene\": {\"xaxis\": {\"backgroundcolor\": \"#E5ECF6\", \"gridcolor\": \"white\", \"gridwidth\": 2, \"linecolor\": \"white\", \"showbackground\": true, \"ticks\": \"\", \"zerolinecolor\": \"white\"}, \"yaxis\": {\"backgroundcolor\": \"#E5ECF6\", \"gridcolor\": \"white\", \"gridwidth\": 2, \"linecolor\": \"white\", \"showbackground\": true, \"ticks\": \"\", \"zerolinecolor\": \"white\"}, \"zaxis\": {\"backgroundcolor\": \"#E5ECF6\", \"gridcolor\": \"white\", \"gridwidth\": 2, \"linecolor\": \"white\", \"showbackground\": true, \"ticks\": \"\", \"zerolinecolor\": \"white\"}}, \"shapedefaults\": {\"line\": {\"color\": \"#2a3f5f\"}}, \"ternary\": {\"aaxis\": {\"gridcolor\": \"white\", \"linecolor\": \"white\", \"ticks\": \"\"}, \"baxis\": {\"gridcolor\": \"white\", \"linecolor\": \"white\", \"ticks\": \"\"}, \"bgcolor\": \"#E5ECF6\", \"caxis\": {\"gridcolor\": \"white\", \"linecolor\": \"white\", \"ticks\": \"\"}}, \"title\": {\"x\": 0.05}, \"xaxis\": {\"automargin\": true, \"gridcolor\": \"white\", \"linecolor\": \"white\", \"ticks\": \"\", \"title\": {\"standoff\": 15}, \"zerolinecolor\": \"white\", \"zerolinewidth\": 2}, \"yaxis\": {\"automargin\": true, \"gridcolor\": \"white\", \"linecolor\": \"white\", \"ticks\": \"\", \"title\": {\"standoff\": 15}, \"zerolinecolor\": \"white\", \"zerolinewidth\": 2}}}, \"title\": {\"text\": \"Monthwise increase in Cured Cases\"}, \"xaxis\": {\"anchor\": \"y\", \"categoryarray\": [1580428800000000000, 1582934400000000000, 1585612800000000000, 1588204800000000000, 1590883200000000000, 1593475200000000000, 1596153600000000000, 1598832000000000000, 1601424000000000000, 1604102400000000000, 1606694400000000000, 1609372800000000000, 1612051200000000000, 1614470400000000000, 1617148800000000000, 1619740800000000000, 1622419200000000000], \"categoryorder\": \"array\", \"domain\": [0.0, 1.0], \"title\": {\"text\": \"Date\"}}, \"yaxis\": {\"anchor\": \"x\", \"domain\": [0.0, 1.0], \"title\": {\"text\": \"Cured\"}}},                        {\"responsive\": true}                    ).then(function(){\n",
       "                            \n",
       "var gd = document.getElementById('976a4e52-1a0d-461c-b354-d04f38406d6e');\n",
       "var x = new MutationObserver(function (mutations, observer) {{\n",
       "        var display = window.getComputedStyle(gd).display;\n",
       "        if (!display || display === 'none') {{\n",
       "            console.log([gd, 'removed!']);\n",
       "            Plotly.purge(gd);\n",
       "            observer.disconnect();\n",
       "        }}\n",
       "}});\n",
       "\n",
       "// Listen for the removal of the full notebook cells\n",
       "var notebookContainer = gd.closest('#notebook-container');\n",
       "if (notebookContainer) {{\n",
       "    x.observe(notebookContainer, {childList: true});\n",
       "}}\n",
       "\n",
       "// Listen for the clearing of the current output cell\n",
       "var outputEl = gd.closest('.output');\n",
       "if (outputEl) {{\n",
       "    x.observe(outputEl, {childList: true});\n",
       "}}\n",
       "\n",
       "                        })                };                });            </script>        </div>"
      ]
     },
     "metadata": {},
     "output_type": "display_data"
    }
   ],
   "source": [
    "# Highest no. of cured cases\n",
    "fig = px.bar(month_wise, x='Date', y='Cured',\n",
    "            hover_data=['Confirmed','Deaths'], color='Date',\n",
    "            labels='Date(monthwise)',\n",
    "            title='Monthwise increase in Cured Cases')\n",
    "\n",
    "fig.show()"
   ]
  },
  {
   "cell_type": "code",
   "execution_count": 52,
   "id": "4720077a",
   "metadata": {},
   "outputs": [
    {
     "data": {
      "application/vnd.plotly.v1+json": {
       "config": {
        "plotlyServerURL": "https://plot.ly"
       },
       "data": [
        {
         "alignmentgroup": "True",
         "customdata": [
          [
           2,
           0
          ]
         ],
         "hovertemplate": "Date=%{x}<br>Deaths=%{y}<br>Confirmed=%{customdata[0]}<br>Cured=%{customdata[1]}<extra></extra>",
         "legendgroup": "2020-01-31 00:00:00",
         "marker": {
          "color": "#B6E880"
         },
         "name": "2020-01-31 00:00:00",
         "offsetgroup": "2020-01-31 00:00:00",
         "orientation": "v",
         "showlegend": true,
         "textposition": "auto",
         "type": "bar",
         "x": [
          "2020-01-31T00:00:00"
         ],
         "xaxis": "x",
         "y": [
          0
         ],
         "yaxis": "y"
        },
        {
         "alignmentgroup": "True",
         "customdata": [
          [
           86,
           0
          ]
         ],
         "hovertemplate": "Date=%{x}<br>Deaths=%{y}<br>Confirmed=%{customdata[0]}<br>Cured=%{customdata[1]}<extra></extra>",
         "legendgroup": "2020-02-29 00:00:00",
         "marker": {
          "color": "#FF97FF"
         },
         "name": "2020-02-29 00:00:00",
         "offsetgroup": "2020-02-29 00:00:00",
         "orientation": "v",
         "showlegend": true,
         "textposition": "auto",
         "type": "bar",
         "x": [
          "2020-02-29T00:00:00"
         ],
         "xaxis": "x",
         "y": [
          0
         ],
         "yaxis": "y"
        },
        {
         "alignmentgroup": "True",
         "customdata": [
          [
           9687,
           808
          ]
         ],
         "hovertemplate": "Date=%{x}<br>Deaths=%{y}<br>Confirmed=%{customdata[0]}<br>Cured=%{customdata[1]}<extra></extra>",
         "legendgroup": "2020-03-31 00:00:00",
         "marker": {
          "color": "#FECB52"
         },
         "name": "2020-03-31 00:00:00",
         "offsetgroup": "2020-03-31 00:00:00",
         "orientation": "v",
         "showlegend": true,
         "textposition": "auto",
         "type": "bar",
         "x": [
          "2020-03-31T00:00:00"
         ],
         "xaxis": "x",
         "y": [
          202
         ],
         "yaxis": "y"
        },
        {
         "alignmentgroup": "True",
         "customdata": [
          [
           422442,
           75443
          ]
         ],
         "hovertemplate": "Date=%{x}<br>Deaths=%{y}<br>Confirmed=%{customdata[0]}<br>Cured=%{customdata[1]}<extra></extra>",
         "legendgroup": "2020-04-30 00:00:00",
         "marker": {
          "color": "#636efa"
         },
         "name": "2020-04-30 00:00:00",
         "offsetgroup": "2020-04-30 00:00:00",
         "orientation": "v",
         "showlegend": true,
         "textposition": "auto",
         "type": "bar",
         "x": [
          "2020-04-30T00:00:00"
         ],
         "xaxis": "x",
         "y": [
          13270
         ],
         "yaxis": "y"
        },
        {
         "alignmentgroup": "True",
         "customdata": [
          [
           2938234,
           1133341
          ]
         ],
         "hovertemplate": "Date=%{x}<br>Deaths=%{y}<br>Confirmed=%{customdata[0]}<br>Cured=%{customdata[1]}<extra></extra>",
         "legendgroup": "2020-05-31 00:00:00",
         "marker": {
          "color": "#EF553B"
         },
         "name": "2020-05-31 00:00:00",
         "offsetgroup": "2020-05-31 00:00:00",
         "orientation": "v",
         "showlegend": true,
         "textposition": "auto",
         "type": "bar",
         "x": [
          "2020-05-31T00:00:00"
         ],
         "xaxis": "x",
         "y": [
          89834
         ],
         "yaxis": "y"
        },
        {
         "alignmentgroup": "True",
         "customdata": [
          [
           10558374,
           5668946
          ]
         ],
         "hovertemplate": "Date=%{x}<br>Deaths=%{y}<br>Confirmed=%{customdata[0]}<br>Cured=%{customdata[1]}<extra></extra>",
         "legendgroup": "2020-06-30 00:00:00",
         "marker": {
          "color": "#00cc96"
         },
         "name": "2020-06-30 00:00:00",
         "offsetgroup": "2020-06-30 00:00:00",
         "orientation": "v",
         "showlegend": true,
         "textposition": "auto",
         "type": "bar",
         "x": [
          "2020-06-30T00:00:00"
         ],
         "xaxis": "x",
         "y": [
          319690
         ],
         "yaxis": "y"
        },
        {
         "alignmentgroup": "True",
         "customdata": [
          [
           31726501,
           19980130
          ]
         ],
         "hovertemplate": "Date=%{x}<br>Deaths=%{y}<br>Confirmed=%{customdata[0]}<br>Cured=%{customdata[1]}<extra></extra>",
         "legendgroup": "2020-07-31 00:00:00",
         "marker": {
          "color": "#ab63fa"
         },
         "name": "2020-07-31 00:00:00",
         "offsetgroup": "2020-07-31 00:00:00",
         "orientation": "v",
         "showlegend": true,
         "textposition": "auto",
         "type": "bar",
         "x": [
          "2020-07-31T00:00:00"
         ],
         "xaxis": "x",
         "y": [
          793511
         ],
         "yaxis": "y"
        },
        {
         "alignmentgroup": "True",
         "customdata": [
          [
           80749620,
           58580895
          ]
         ],
         "hovertemplate": "Date=%{x}<br>Deaths=%{y}<br>Confirmed=%{customdata[0]}<br>Cured=%{customdata[1]}<extra></extra>",
         "legendgroup": "2020-08-31 00:00:00",
         "marker": {
          "color": "#FFA15A"
         },
         "name": "2020-08-31 00:00:00",
         "offsetgroup": "2020-08-31 00:00:00",
         "orientation": "v",
         "showlegend": true,
         "textposition": "auto",
         "type": "bar",
         "x": [
          "2020-08-31T00:00:00"
         ],
         "xaxis": "x",
         "y": [
          1553468
         ],
         "yaxis": "y"
        },
        {
         "alignmentgroup": "True",
         "customdata": [
          [
           149113758,
           118592934
          ]
         ],
         "hovertemplate": "Date=%{x}<br>Deaths=%{y}<br>Confirmed=%{customdata[0]}<br>Cured=%{customdata[1]}<extra></extra>",
         "legendgroup": "2020-09-30 00:00:00",
         "marker": {
          "color": "#19d3f3"
         },
         "name": "2020-09-30 00:00:00",
         "offsetgroup": "2020-09-30 00:00:00",
         "orientation": "v",
         "showlegend": true,
         "textposition": "auto",
         "type": "bar",
         "x": [
          "2020-09-30T00:00:00"
         ],
         "xaxis": "x",
         "y": [
          2443374
         ],
         "yaxis": "y"
        },
        {
         "alignmentgroup": "True",
         "customdata": [
          [
           226770312,
           198824412
          ]
         ],
         "hovertemplate": "Date=%{x}<br>Deaths=%{y}<br>Confirmed=%{customdata[0]}<br>Cured=%{customdata[1]}<extra></extra>",
         "legendgroup": "2020-10-31 00:00:00",
         "marker": {
          "color": "#FF6692"
         },
         "name": "2020-10-31 00:00:00",
         "offsetgroup": "2020-10-31 00:00:00",
         "orientation": "v",
         "showlegend": true,
         "textposition": "auto",
         "type": "bar",
         "x": [
          "2020-10-31T00:00:00"
         ],
         "xaxis": "x",
         "y": [
          3457615
         ],
         "yaxis": "y"
        },
        {
         "alignmentgroup": "True",
         "customdata": [
          [
           264556412,
           246213201
          ]
         ],
         "hovertemplate": "Date=%{x}<br>Deaths=%{y}<br>Confirmed=%{customdata[0]}<br>Cured=%{customdata[1]}<extra></extra>",
         "legendgroup": "2020-11-30 00:00:00",
         "marker": {
          "color": "#B6E880"
         },
         "name": "2020-11-30 00:00:00",
         "offsetgroup": "2020-11-30 00:00:00",
         "orientation": "v",
         "showlegend": true,
         "textposition": "auto",
         "type": "bar",
         "x": [
          "2020-11-30T00:00:00"
         ],
         "xaxis": "x",
         "y": [
          3894165
         ],
         "yaxis": "y"
        },
        {
         "alignmentgroup": "True",
         "customdata": [
          [
           307177353,
           292244085
          ]
         ],
         "hovertemplate": "Date=%{x}<br>Deaths=%{y}<br>Confirmed=%{customdata[0]}<br>Cured=%{customdata[1]}<extra></extra>",
         "legendgroup": "2020-12-31 00:00:00",
         "marker": {
          "color": "#FF97FF"
         },
         "name": "2020-12-31 00:00:00",
         "offsetgroup": "2020-12-31 00:00:00",
         "orientation": "v",
         "showlegend": true,
         "textposition": "auto",
         "type": "bar",
         "x": [
          "2020-12-31T00:00:00"
         ],
         "xaxis": "x",
         "y": [
          4457379
         ],
         "yaxis": "y"
        },
        {
         "alignmentgroup": "True",
         "customdata": [
          [
           326469747,
           315332019
          ]
         ],
         "hovertemplate": "Date=%{x}<br>Deaths=%{y}<br>Confirmed=%{customdata[0]}<br>Cured=%{customdata[1]}<extra></extra>",
         "legendgroup": "2021-01-31 00:00:00",
         "marker": {
          "color": "#FECB52"
         },
         "name": "2021-01-31 00:00:00",
         "offsetgroup": "2021-01-31 00:00:00",
         "orientation": "v",
         "showlegend": true,
         "textposition": "auto",
         "type": "bar",
         "x": [
          "2021-01-31T00:00:00"
         ],
         "xaxis": "x",
         "y": [
          4709167
         ],
         "yaxis": "y"
        },
        {
         "alignmentgroup": "True",
         "customdata": [
          [
           305631803,
           297133802
          ]
         ],
         "hovertemplate": "Date=%{x}<br>Deaths=%{y}<br>Confirmed=%{customdata[0]}<br>Cured=%{customdata[1]}<extra></extra>",
         "legendgroup": "2021-02-28 00:00:00",
         "marker": {
          "color": "#636efa"
         },
         "name": "2021-02-28 00:00:00",
         "offsetgroup": "2021-02-28 00:00:00",
         "orientation": "v",
         "showlegend": true,
         "textposition": "auto",
         "type": "bar",
         "x": [
          "2021-02-28T00:00:00"
         ],
         "xaxis": "x",
         "y": [
          4359434
         ],
         "yaxis": "y"
        },
        {
         "alignmentgroup": "True",
         "customdata": [
          [
           356305616,
           342610397
          ]
         ],
         "hovertemplate": "Date=%{x}<br>Deaths=%{y}<br>Confirmed=%{customdata[0]}<br>Cured=%{customdata[1]}<extra></extra>",
         "legendgroup": "2021-03-31 00:00:00",
         "marker": {
          "color": "#EF553B"
         },
         "name": "2021-03-31 00:00:00",
         "offsetgroup": "2021-03-31 00:00:00",
         "orientation": "v",
         "showlegend": true,
         "textposition": "auto",
         "type": "bar",
         "x": [
          "2021-03-31T00:00:00"
         ],
         "xaxis": "x",
         "y": [
          4935253
         ],
         "yaxis": "y"
        },
        {
         "alignmentgroup": "True",
         "customdata": [
          [
           440660671,
           384990190
          ]
         ],
         "hovertemplate": "Date=%{x}<br>Deaths=%{y}<br>Confirmed=%{customdata[0]}<br>Cured=%{customdata[1]}<extra></extra>",
         "legendgroup": "2021-04-30 00:00:00",
         "marker": {
          "color": "#00cc96"
         },
         "name": "2021-04-30 00:00:00",
         "offsetgroup": "2021-04-30 00:00:00",
         "orientation": "v",
         "showlegend": true,
         "textposition": "auto",
         "type": "bar",
         "x": [
          "2021-04-30T00:00:00"
         ],
         "xaxis": "x",
         "y": [
          5340298
         ],
         "yaxis": "y"
        },
        {
         "alignmentgroup": "True",
         "customdata": [
          [
           58648030,
           47969680
          ]
         ],
         "hovertemplate": "Date=%{x}<br>Deaths=%{y}<br>Confirmed=%{customdata[0]}<br>Cured=%{customdata[1]}<extra></extra>",
         "legendgroup": "2021-05-31 00:00:00",
         "marker": {
          "color": "#ab63fa"
         },
         "name": "2021-05-31 00:00:00",
         "offsetgroup": "2021-05-31 00:00:00",
         "orientation": "v",
         "showlegend": true,
         "textposition": "auto",
         "type": "bar",
         "x": [
          "2021-05-31T00:00:00"
         ],
         "xaxis": "x",
         "y": [
          646354
         ],
         "yaxis": "y"
        }
       ],
       "layout": {
        "barmode": "relative",
        "legend": {
         "title": {
          "text": "Date"
         },
         "tracegroupgap": 0
        },
        "template": {
         "data": {
          "bar": [
           {
            "error_x": {
             "color": "#2a3f5f"
            },
            "error_y": {
             "color": "#2a3f5f"
            },
            "marker": {
             "line": {
              "color": "#E5ECF6",
              "width": 0.5
             }
            },
            "type": "bar"
           }
          ],
          "barpolar": [
           {
            "marker": {
             "line": {
              "color": "#E5ECF6",
              "width": 0.5
             }
            },
            "type": "barpolar"
           }
          ],
          "carpet": [
           {
            "aaxis": {
             "endlinecolor": "#2a3f5f",
             "gridcolor": "white",
             "linecolor": "white",
             "minorgridcolor": "white",
             "startlinecolor": "#2a3f5f"
            },
            "baxis": {
             "endlinecolor": "#2a3f5f",
             "gridcolor": "white",
             "linecolor": "white",
             "minorgridcolor": "white",
             "startlinecolor": "#2a3f5f"
            },
            "type": "carpet"
           }
          ],
          "choropleth": [
           {
            "colorbar": {
             "outlinewidth": 0,
             "ticks": ""
            },
            "type": "choropleth"
           }
          ],
          "contour": [
           {
            "colorbar": {
             "outlinewidth": 0,
             "ticks": ""
            },
            "colorscale": [
             [
              0,
              "#0d0887"
             ],
             [
              0.1111111111111111,
              "#46039f"
             ],
             [
              0.2222222222222222,
              "#7201a8"
             ],
             [
              0.3333333333333333,
              "#9c179e"
             ],
             [
              0.4444444444444444,
              "#bd3786"
             ],
             [
              0.5555555555555556,
              "#d8576b"
             ],
             [
              0.6666666666666666,
              "#ed7953"
             ],
             [
              0.7777777777777778,
              "#fb9f3a"
             ],
             [
              0.8888888888888888,
              "#fdca26"
             ],
             [
              1,
              "#f0f921"
             ]
            ],
            "type": "contour"
           }
          ],
          "contourcarpet": [
           {
            "colorbar": {
             "outlinewidth": 0,
             "ticks": ""
            },
            "type": "contourcarpet"
           }
          ],
          "heatmap": [
           {
            "colorbar": {
             "outlinewidth": 0,
             "ticks": ""
            },
            "colorscale": [
             [
              0,
              "#0d0887"
             ],
             [
              0.1111111111111111,
              "#46039f"
             ],
             [
              0.2222222222222222,
              "#7201a8"
             ],
             [
              0.3333333333333333,
              "#9c179e"
             ],
             [
              0.4444444444444444,
              "#bd3786"
             ],
             [
              0.5555555555555556,
              "#d8576b"
             ],
             [
              0.6666666666666666,
              "#ed7953"
             ],
             [
              0.7777777777777778,
              "#fb9f3a"
             ],
             [
              0.8888888888888888,
              "#fdca26"
             ],
             [
              1,
              "#f0f921"
             ]
            ],
            "type": "heatmap"
           }
          ],
          "heatmapgl": [
           {
            "colorbar": {
             "outlinewidth": 0,
             "ticks": ""
            },
            "colorscale": [
             [
              0,
              "#0d0887"
             ],
             [
              0.1111111111111111,
              "#46039f"
             ],
             [
              0.2222222222222222,
              "#7201a8"
             ],
             [
              0.3333333333333333,
              "#9c179e"
             ],
             [
              0.4444444444444444,
              "#bd3786"
             ],
             [
              0.5555555555555556,
              "#d8576b"
             ],
             [
              0.6666666666666666,
              "#ed7953"
             ],
             [
              0.7777777777777778,
              "#fb9f3a"
             ],
             [
              0.8888888888888888,
              "#fdca26"
             ],
             [
              1,
              "#f0f921"
             ]
            ],
            "type": "heatmapgl"
           }
          ],
          "histogram": [
           {
            "marker": {
             "colorbar": {
              "outlinewidth": 0,
              "ticks": ""
             }
            },
            "type": "histogram"
           }
          ],
          "histogram2d": [
           {
            "colorbar": {
             "outlinewidth": 0,
             "ticks": ""
            },
            "colorscale": [
             [
              0,
              "#0d0887"
             ],
             [
              0.1111111111111111,
              "#46039f"
             ],
             [
              0.2222222222222222,
              "#7201a8"
             ],
             [
              0.3333333333333333,
              "#9c179e"
             ],
             [
              0.4444444444444444,
              "#bd3786"
             ],
             [
              0.5555555555555556,
              "#d8576b"
             ],
             [
              0.6666666666666666,
              "#ed7953"
             ],
             [
              0.7777777777777778,
              "#fb9f3a"
             ],
             [
              0.8888888888888888,
              "#fdca26"
             ],
             [
              1,
              "#f0f921"
             ]
            ],
            "type": "histogram2d"
           }
          ],
          "histogram2dcontour": [
           {
            "colorbar": {
             "outlinewidth": 0,
             "ticks": ""
            },
            "colorscale": [
             [
              0,
              "#0d0887"
             ],
             [
              0.1111111111111111,
              "#46039f"
             ],
             [
              0.2222222222222222,
              "#7201a8"
             ],
             [
              0.3333333333333333,
              "#9c179e"
             ],
             [
              0.4444444444444444,
              "#bd3786"
             ],
             [
              0.5555555555555556,
              "#d8576b"
             ],
             [
              0.6666666666666666,
              "#ed7953"
             ],
             [
              0.7777777777777778,
              "#fb9f3a"
             ],
             [
              0.8888888888888888,
              "#fdca26"
             ],
             [
              1,
              "#f0f921"
             ]
            ],
            "type": "histogram2dcontour"
           }
          ],
          "mesh3d": [
           {
            "colorbar": {
             "outlinewidth": 0,
             "ticks": ""
            },
            "type": "mesh3d"
           }
          ],
          "parcoords": [
           {
            "line": {
             "colorbar": {
              "outlinewidth": 0,
              "ticks": ""
             }
            },
            "type": "parcoords"
           }
          ],
          "pie": [
           {
            "automargin": true,
            "type": "pie"
           }
          ],
          "scatter": [
           {
            "marker": {
             "colorbar": {
              "outlinewidth": 0,
              "ticks": ""
             }
            },
            "type": "scatter"
           }
          ],
          "scatter3d": [
           {
            "line": {
             "colorbar": {
              "outlinewidth": 0,
              "ticks": ""
             }
            },
            "marker": {
             "colorbar": {
              "outlinewidth": 0,
              "ticks": ""
             }
            },
            "type": "scatter3d"
           }
          ],
          "scattercarpet": [
           {
            "marker": {
             "colorbar": {
              "outlinewidth": 0,
              "ticks": ""
             }
            },
            "type": "scattercarpet"
           }
          ],
          "scattergeo": [
           {
            "marker": {
             "colorbar": {
              "outlinewidth": 0,
              "ticks": ""
             }
            },
            "type": "scattergeo"
           }
          ],
          "scattergl": [
           {
            "marker": {
             "colorbar": {
              "outlinewidth": 0,
              "ticks": ""
             }
            },
            "type": "scattergl"
           }
          ],
          "scattermapbox": [
           {
            "marker": {
             "colorbar": {
              "outlinewidth": 0,
              "ticks": ""
             }
            },
            "type": "scattermapbox"
           }
          ],
          "scatterpolar": [
           {
            "marker": {
             "colorbar": {
              "outlinewidth": 0,
              "ticks": ""
             }
            },
            "type": "scatterpolar"
           }
          ],
          "scatterpolargl": [
           {
            "marker": {
             "colorbar": {
              "outlinewidth": 0,
              "ticks": ""
             }
            },
            "type": "scatterpolargl"
           }
          ],
          "scatterternary": [
           {
            "marker": {
             "colorbar": {
              "outlinewidth": 0,
              "ticks": ""
             }
            },
            "type": "scatterternary"
           }
          ],
          "surface": [
           {
            "colorbar": {
             "outlinewidth": 0,
             "ticks": ""
            },
            "colorscale": [
             [
              0,
              "#0d0887"
             ],
             [
              0.1111111111111111,
              "#46039f"
             ],
             [
              0.2222222222222222,
              "#7201a8"
             ],
             [
              0.3333333333333333,
              "#9c179e"
             ],
             [
              0.4444444444444444,
              "#bd3786"
             ],
             [
              0.5555555555555556,
              "#d8576b"
             ],
             [
              0.6666666666666666,
              "#ed7953"
             ],
             [
              0.7777777777777778,
              "#fb9f3a"
             ],
             [
              0.8888888888888888,
              "#fdca26"
             ],
             [
              1,
              "#f0f921"
             ]
            ],
            "type": "surface"
           }
          ],
          "table": [
           {
            "cells": {
             "fill": {
              "color": "#EBF0F8"
             },
             "line": {
              "color": "white"
             }
            },
            "header": {
             "fill": {
              "color": "#C8D4E3"
             },
             "line": {
              "color": "white"
             }
            },
            "type": "table"
           }
          ]
         },
         "layout": {
          "annotationdefaults": {
           "arrowcolor": "#2a3f5f",
           "arrowhead": 0,
           "arrowwidth": 1
          },
          "autotypenumbers": "strict",
          "coloraxis": {
           "colorbar": {
            "outlinewidth": 0,
            "ticks": ""
           }
          },
          "colorscale": {
           "diverging": [
            [
             0,
             "#8e0152"
            ],
            [
             0.1,
             "#c51b7d"
            ],
            [
             0.2,
             "#de77ae"
            ],
            [
             0.3,
             "#f1b6da"
            ],
            [
             0.4,
             "#fde0ef"
            ],
            [
             0.5,
             "#f7f7f7"
            ],
            [
             0.6,
             "#e6f5d0"
            ],
            [
             0.7,
             "#b8e186"
            ],
            [
             0.8,
             "#7fbc41"
            ],
            [
             0.9,
             "#4d9221"
            ],
            [
             1,
             "#276419"
            ]
           ],
           "sequential": [
            [
             0,
             "#0d0887"
            ],
            [
             0.1111111111111111,
             "#46039f"
            ],
            [
             0.2222222222222222,
             "#7201a8"
            ],
            [
             0.3333333333333333,
             "#9c179e"
            ],
            [
             0.4444444444444444,
             "#bd3786"
            ],
            [
             0.5555555555555556,
             "#d8576b"
            ],
            [
             0.6666666666666666,
             "#ed7953"
            ],
            [
             0.7777777777777778,
             "#fb9f3a"
            ],
            [
             0.8888888888888888,
             "#fdca26"
            ],
            [
             1,
             "#f0f921"
            ]
           ],
           "sequentialminus": [
            [
             0,
             "#0d0887"
            ],
            [
             0.1111111111111111,
             "#46039f"
            ],
            [
             0.2222222222222222,
             "#7201a8"
            ],
            [
             0.3333333333333333,
             "#9c179e"
            ],
            [
             0.4444444444444444,
             "#bd3786"
            ],
            [
             0.5555555555555556,
             "#d8576b"
            ],
            [
             0.6666666666666666,
             "#ed7953"
            ],
            [
             0.7777777777777778,
             "#fb9f3a"
            ],
            [
             0.8888888888888888,
             "#fdca26"
            ],
            [
             1,
             "#f0f921"
            ]
           ]
          },
          "colorway": [
           "#636efa",
           "#EF553B",
           "#00cc96",
           "#ab63fa",
           "#FFA15A",
           "#19d3f3",
           "#FF6692",
           "#B6E880",
           "#FF97FF",
           "#FECB52"
          ],
          "font": {
           "color": "#2a3f5f"
          },
          "geo": {
           "bgcolor": "white",
           "lakecolor": "white",
           "landcolor": "#E5ECF6",
           "showlakes": true,
           "showland": true,
           "subunitcolor": "white"
          },
          "hoverlabel": {
           "align": "left"
          },
          "hovermode": "closest",
          "mapbox": {
           "style": "light"
          },
          "paper_bgcolor": "white",
          "plot_bgcolor": "#E5ECF6",
          "polar": {
           "angularaxis": {
            "gridcolor": "white",
            "linecolor": "white",
            "ticks": ""
           },
           "bgcolor": "#E5ECF6",
           "radialaxis": {
            "gridcolor": "white",
            "linecolor": "white",
            "ticks": ""
           }
          },
          "scene": {
           "xaxis": {
            "backgroundcolor": "#E5ECF6",
            "gridcolor": "white",
            "gridwidth": 2,
            "linecolor": "white",
            "showbackground": true,
            "ticks": "",
            "zerolinecolor": "white"
           },
           "yaxis": {
            "backgroundcolor": "#E5ECF6",
            "gridcolor": "white",
            "gridwidth": 2,
            "linecolor": "white",
            "showbackground": true,
            "ticks": "",
            "zerolinecolor": "white"
           },
           "zaxis": {
            "backgroundcolor": "#E5ECF6",
            "gridcolor": "white",
            "gridwidth": 2,
            "linecolor": "white",
            "showbackground": true,
            "ticks": "",
            "zerolinecolor": "white"
           }
          },
          "shapedefaults": {
           "line": {
            "color": "#2a3f5f"
           }
          },
          "ternary": {
           "aaxis": {
            "gridcolor": "white",
            "linecolor": "white",
            "ticks": ""
           },
           "baxis": {
            "gridcolor": "white",
            "linecolor": "white",
            "ticks": ""
           },
           "bgcolor": "#E5ECF6",
           "caxis": {
            "gridcolor": "white",
            "linecolor": "white",
            "ticks": ""
           }
          },
          "title": {
           "x": 0.05
          },
          "xaxis": {
           "automargin": true,
           "gridcolor": "white",
           "linecolor": "white",
           "ticks": "",
           "title": {
            "standoff": 15
           },
           "zerolinecolor": "white",
           "zerolinewidth": 2
          },
          "yaxis": {
           "automargin": true,
           "gridcolor": "white",
           "linecolor": "white",
           "ticks": "",
           "title": {
            "standoff": 15
           },
           "zerolinecolor": "white",
           "zerolinewidth": 2
          }
         }
        },
        "title": {
         "text": "Monthwise increase in Deaths"
        },
        "xaxis": {
         "anchor": "y",
         "categoryarray": [
          1580428800000000000,
          1582934400000000000,
          1585612800000000000,
          1588204800000000000,
          1590883200000000000,
          1593475200000000000,
          1596153600000000000,
          1598832000000000000,
          1601424000000000000,
          1604102400000000000,
          1606694400000000000,
          1609372800000000000,
          1612051200000000000,
          1614470400000000000,
          1617148800000000000,
          1619740800000000000,
          1622419200000000000
         ],
         "categoryorder": "array",
         "domain": [
          0,
          1
         ],
         "title": {
          "text": "Date"
         }
        },
        "yaxis": {
         "anchor": "x",
         "domain": [
          0,
          1
         ],
         "title": {
          "text": "Deaths"
         }
        }
       }
      },
      "text/html": [
       "<div>                            <div id=\"538dfe25-ff5c-4dc9-9f94-a6b89af6c457\" class=\"plotly-graph-div\" style=\"height:525px; width:100%;\"></div>            <script type=\"text/javascript\">                require([\"plotly\"], function(Plotly) {                    window.PLOTLYENV=window.PLOTLYENV || {};                                    if (document.getElementById(\"538dfe25-ff5c-4dc9-9f94-a6b89af6c457\")) {                    Plotly.newPlot(                        \"538dfe25-ff5c-4dc9-9f94-a6b89af6c457\",                        [{\"alignmentgroup\": \"True\", \"customdata\": [[2, 0]], \"hovertemplate\": \"Date=%{x}<br>Deaths=%{y}<br>Confirmed=%{customdata[0]}<br>Cured=%{customdata[1]}<extra></extra>\", \"legendgroup\": \"2020-01-31 00:00:00\", \"marker\": {\"color\": \"#B6E880\"}, \"name\": \"2020-01-31 00:00:00\", \"offsetgroup\": \"2020-01-31 00:00:00\", \"orientation\": \"v\", \"showlegend\": true, \"textposition\": \"auto\", \"type\": \"bar\", \"x\": [\"2020-01-31T00:00:00\"], \"xaxis\": \"x\", \"y\": [0], \"yaxis\": \"y\"}, {\"alignmentgroup\": \"True\", \"customdata\": [[86, 0]], \"hovertemplate\": \"Date=%{x}<br>Deaths=%{y}<br>Confirmed=%{customdata[0]}<br>Cured=%{customdata[1]}<extra></extra>\", \"legendgroup\": \"2020-02-29 00:00:00\", \"marker\": {\"color\": \"#FF97FF\"}, \"name\": \"2020-02-29 00:00:00\", \"offsetgroup\": \"2020-02-29 00:00:00\", \"orientation\": \"v\", \"showlegend\": true, \"textposition\": \"auto\", \"type\": \"bar\", \"x\": [\"2020-02-29T00:00:00\"], \"xaxis\": \"x\", \"y\": [0], \"yaxis\": \"y\"}, {\"alignmentgroup\": \"True\", \"customdata\": [[9687, 808]], \"hovertemplate\": \"Date=%{x}<br>Deaths=%{y}<br>Confirmed=%{customdata[0]}<br>Cured=%{customdata[1]}<extra></extra>\", \"legendgroup\": \"2020-03-31 00:00:00\", \"marker\": {\"color\": \"#FECB52\"}, \"name\": \"2020-03-31 00:00:00\", \"offsetgroup\": \"2020-03-31 00:00:00\", \"orientation\": \"v\", \"showlegend\": true, \"textposition\": \"auto\", \"type\": \"bar\", \"x\": [\"2020-03-31T00:00:00\"], \"xaxis\": \"x\", \"y\": [202], \"yaxis\": \"y\"}, {\"alignmentgroup\": \"True\", \"customdata\": [[422442, 75443]], \"hovertemplate\": \"Date=%{x}<br>Deaths=%{y}<br>Confirmed=%{customdata[0]}<br>Cured=%{customdata[1]}<extra></extra>\", \"legendgroup\": \"2020-04-30 00:00:00\", \"marker\": {\"color\": \"#636efa\"}, \"name\": \"2020-04-30 00:00:00\", \"offsetgroup\": \"2020-04-30 00:00:00\", \"orientation\": \"v\", \"showlegend\": true, \"textposition\": \"auto\", \"type\": \"bar\", \"x\": [\"2020-04-30T00:00:00\"], \"xaxis\": \"x\", \"y\": [13270], \"yaxis\": \"y\"}, {\"alignmentgroup\": \"True\", \"customdata\": [[2938234, 1133341]], \"hovertemplate\": \"Date=%{x}<br>Deaths=%{y}<br>Confirmed=%{customdata[0]}<br>Cured=%{customdata[1]}<extra></extra>\", \"legendgroup\": \"2020-05-31 00:00:00\", \"marker\": {\"color\": \"#EF553B\"}, \"name\": \"2020-05-31 00:00:00\", \"offsetgroup\": \"2020-05-31 00:00:00\", \"orientation\": \"v\", \"showlegend\": true, \"textposition\": \"auto\", \"type\": \"bar\", \"x\": [\"2020-05-31T00:00:00\"], \"xaxis\": \"x\", \"y\": [89834], \"yaxis\": \"y\"}, {\"alignmentgroup\": \"True\", \"customdata\": [[10558374, 5668946]], \"hovertemplate\": \"Date=%{x}<br>Deaths=%{y}<br>Confirmed=%{customdata[0]}<br>Cured=%{customdata[1]}<extra></extra>\", \"legendgroup\": \"2020-06-30 00:00:00\", \"marker\": {\"color\": \"#00cc96\"}, \"name\": \"2020-06-30 00:00:00\", \"offsetgroup\": \"2020-06-30 00:00:00\", \"orientation\": \"v\", \"showlegend\": true, \"textposition\": \"auto\", \"type\": \"bar\", \"x\": [\"2020-06-30T00:00:00\"], \"xaxis\": \"x\", \"y\": [319690], \"yaxis\": \"y\"}, {\"alignmentgroup\": \"True\", \"customdata\": [[31726501, 19980130]], \"hovertemplate\": \"Date=%{x}<br>Deaths=%{y}<br>Confirmed=%{customdata[0]}<br>Cured=%{customdata[1]}<extra></extra>\", \"legendgroup\": \"2020-07-31 00:00:00\", \"marker\": {\"color\": \"#ab63fa\"}, \"name\": \"2020-07-31 00:00:00\", \"offsetgroup\": \"2020-07-31 00:00:00\", \"orientation\": \"v\", \"showlegend\": true, \"textposition\": \"auto\", \"type\": \"bar\", \"x\": [\"2020-07-31T00:00:00\"], \"xaxis\": \"x\", \"y\": [793511], \"yaxis\": \"y\"}, {\"alignmentgroup\": \"True\", \"customdata\": [[80749620, 58580895]], \"hovertemplate\": \"Date=%{x}<br>Deaths=%{y}<br>Confirmed=%{customdata[0]}<br>Cured=%{customdata[1]}<extra></extra>\", \"legendgroup\": \"2020-08-31 00:00:00\", \"marker\": {\"color\": \"#FFA15A\"}, \"name\": \"2020-08-31 00:00:00\", \"offsetgroup\": \"2020-08-31 00:00:00\", \"orientation\": \"v\", \"showlegend\": true, \"textposition\": \"auto\", \"type\": \"bar\", \"x\": [\"2020-08-31T00:00:00\"], \"xaxis\": \"x\", \"y\": [1553468], \"yaxis\": \"y\"}, {\"alignmentgroup\": \"True\", \"customdata\": [[149113758, 118592934]], \"hovertemplate\": \"Date=%{x}<br>Deaths=%{y}<br>Confirmed=%{customdata[0]}<br>Cured=%{customdata[1]}<extra></extra>\", \"legendgroup\": \"2020-09-30 00:00:00\", \"marker\": {\"color\": \"#19d3f3\"}, \"name\": \"2020-09-30 00:00:00\", \"offsetgroup\": \"2020-09-30 00:00:00\", \"orientation\": \"v\", \"showlegend\": true, \"textposition\": \"auto\", \"type\": \"bar\", \"x\": [\"2020-09-30T00:00:00\"], \"xaxis\": \"x\", \"y\": [2443374], \"yaxis\": \"y\"}, {\"alignmentgroup\": \"True\", \"customdata\": [[226770312, 198824412]], \"hovertemplate\": \"Date=%{x}<br>Deaths=%{y}<br>Confirmed=%{customdata[0]}<br>Cured=%{customdata[1]}<extra></extra>\", \"legendgroup\": \"2020-10-31 00:00:00\", \"marker\": {\"color\": \"#FF6692\"}, \"name\": \"2020-10-31 00:00:00\", \"offsetgroup\": \"2020-10-31 00:00:00\", \"orientation\": \"v\", \"showlegend\": true, \"textposition\": \"auto\", \"type\": \"bar\", \"x\": [\"2020-10-31T00:00:00\"], \"xaxis\": \"x\", \"y\": [3457615], \"yaxis\": \"y\"}, {\"alignmentgroup\": \"True\", \"customdata\": [[264556412, 246213201]], \"hovertemplate\": \"Date=%{x}<br>Deaths=%{y}<br>Confirmed=%{customdata[0]}<br>Cured=%{customdata[1]}<extra></extra>\", \"legendgroup\": \"2020-11-30 00:00:00\", \"marker\": {\"color\": \"#B6E880\"}, \"name\": \"2020-11-30 00:00:00\", \"offsetgroup\": \"2020-11-30 00:00:00\", \"orientation\": \"v\", \"showlegend\": true, \"textposition\": \"auto\", \"type\": \"bar\", \"x\": [\"2020-11-30T00:00:00\"], \"xaxis\": \"x\", \"y\": [3894165], \"yaxis\": \"y\"}, {\"alignmentgroup\": \"True\", \"customdata\": [[307177353, 292244085]], \"hovertemplate\": \"Date=%{x}<br>Deaths=%{y}<br>Confirmed=%{customdata[0]}<br>Cured=%{customdata[1]}<extra></extra>\", \"legendgroup\": \"2020-12-31 00:00:00\", \"marker\": {\"color\": \"#FF97FF\"}, \"name\": \"2020-12-31 00:00:00\", \"offsetgroup\": \"2020-12-31 00:00:00\", \"orientation\": \"v\", \"showlegend\": true, \"textposition\": \"auto\", \"type\": \"bar\", \"x\": [\"2020-12-31T00:00:00\"], \"xaxis\": \"x\", \"y\": [4457379], \"yaxis\": \"y\"}, {\"alignmentgroup\": \"True\", \"customdata\": [[326469747, 315332019]], \"hovertemplate\": \"Date=%{x}<br>Deaths=%{y}<br>Confirmed=%{customdata[0]}<br>Cured=%{customdata[1]}<extra></extra>\", \"legendgroup\": \"2021-01-31 00:00:00\", \"marker\": {\"color\": \"#FECB52\"}, \"name\": \"2021-01-31 00:00:00\", \"offsetgroup\": \"2021-01-31 00:00:00\", \"orientation\": \"v\", \"showlegend\": true, \"textposition\": \"auto\", \"type\": \"bar\", \"x\": [\"2021-01-31T00:00:00\"], \"xaxis\": \"x\", \"y\": [4709167], \"yaxis\": \"y\"}, {\"alignmentgroup\": \"True\", \"customdata\": [[305631803, 297133802]], \"hovertemplate\": \"Date=%{x}<br>Deaths=%{y}<br>Confirmed=%{customdata[0]}<br>Cured=%{customdata[1]}<extra></extra>\", \"legendgroup\": \"2021-02-28 00:00:00\", \"marker\": {\"color\": \"#636efa\"}, \"name\": \"2021-02-28 00:00:00\", \"offsetgroup\": \"2021-02-28 00:00:00\", \"orientation\": \"v\", \"showlegend\": true, \"textposition\": \"auto\", \"type\": \"bar\", \"x\": [\"2021-02-28T00:00:00\"], \"xaxis\": \"x\", \"y\": [4359434], \"yaxis\": \"y\"}, {\"alignmentgroup\": \"True\", \"customdata\": [[356305616, 342610397]], \"hovertemplate\": \"Date=%{x}<br>Deaths=%{y}<br>Confirmed=%{customdata[0]}<br>Cured=%{customdata[1]}<extra></extra>\", \"legendgroup\": \"2021-03-31 00:00:00\", \"marker\": {\"color\": \"#EF553B\"}, \"name\": \"2021-03-31 00:00:00\", \"offsetgroup\": \"2021-03-31 00:00:00\", \"orientation\": \"v\", \"showlegend\": true, \"textposition\": \"auto\", \"type\": \"bar\", \"x\": [\"2021-03-31T00:00:00\"], \"xaxis\": \"x\", \"y\": [4935253], \"yaxis\": \"y\"}, {\"alignmentgroup\": \"True\", \"customdata\": [[440660671, 384990190]], \"hovertemplate\": \"Date=%{x}<br>Deaths=%{y}<br>Confirmed=%{customdata[0]}<br>Cured=%{customdata[1]}<extra></extra>\", \"legendgroup\": \"2021-04-30 00:00:00\", \"marker\": {\"color\": \"#00cc96\"}, \"name\": \"2021-04-30 00:00:00\", \"offsetgroup\": \"2021-04-30 00:00:00\", \"orientation\": \"v\", \"showlegend\": true, \"textposition\": \"auto\", \"type\": \"bar\", \"x\": [\"2021-04-30T00:00:00\"], \"xaxis\": \"x\", \"y\": [5340298], \"yaxis\": \"y\"}, {\"alignmentgroup\": \"True\", \"customdata\": [[58648030, 47969680]], \"hovertemplate\": \"Date=%{x}<br>Deaths=%{y}<br>Confirmed=%{customdata[0]}<br>Cured=%{customdata[1]}<extra></extra>\", \"legendgroup\": \"2021-05-31 00:00:00\", \"marker\": {\"color\": \"#ab63fa\"}, \"name\": \"2021-05-31 00:00:00\", \"offsetgroup\": \"2021-05-31 00:00:00\", \"orientation\": \"v\", \"showlegend\": true, \"textposition\": \"auto\", \"type\": \"bar\", \"x\": [\"2021-05-31T00:00:00\"], \"xaxis\": \"x\", \"y\": [646354], \"yaxis\": \"y\"}],                        {\"barmode\": \"relative\", \"legend\": {\"title\": {\"text\": \"Date\"}, \"tracegroupgap\": 0}, \"template\": {\"data\": {\"bar\": [{\"error_x\": {\"color\": \"#2a3f5f\"}, \"error_y\": {\"color\": \"#2a3f5f\"}, \"marker\": {\"line\": {\"color\": \"#E5ECF6\", \"width\": 0.5}}, \"type\": \"bar\"}], \"barpolar\": [{\"marker\": {\"line\": {\"color\": \"#E5ECF6\", \"width\": 0.5}}, \"type\": \"barpolar\"}], \"carpet\": [{\"aaxis\": {\"endlinecolor\": \"#2a3f5f\", \"gridcolor\": \"white\", \"linecolor\": \"white\", \"minorgridcolor\": \"white\", \"startlinecolor\": \"#2a3f5f\"}, \"baxis\": {\"endlinecolor\": \"#2a3f5f\", \"gridcolor\": \"white\", \"linecolor\": \"white\", \"minorgridcolor\": \"white\", \"startlinecolor\": \"#2a3f5f\"}, \"type\": \"carpet\"}], \"choropleth\": [{\"colorbar\": {\"outlinewidth\": 0, \"ticks\": \"\"}, \"type\": \"choropleth\"}], \"contour\": [{\"colorbar\": {\"outlinewidth\": 0, \"ticks\": \"\"}, \"colorscale\": [[0.0, \"#0d0887\"], [0.1111111111111111, \"#46039f\"], [0.2222222222222222, \"#7201a8\"], [0.3333333333333333, \"#9c179e\"], [0.4444444444444444, \"#bd3786\"], [0.5555555555555556, \"#d8576b\"], [0.6666666666666666, \"#ed7953\"], [0.7777777777777778, \"#fb9f3a\"], [0.8888888888888888, \"#fdca26\"], [1.0, \"#f0f921\"]], \"type\": \"contour\"}], \"contourcarpet\": [{\"colorbar\": {\"outlinewidth\": 0, \"ticks\": \"\"}, \"type\": \"contourcarpet\"}], \"heatmap\": [{\"colorbar\": {\"outlinewidth\": 0, \"ticks\": \"\"}, \"colorscale\": [[0.0, \"#0d0887\"], [0.1111111111111111, \"#46039f\"], [0.2222222222222222, \"#7201a8\"], [0.3333333333333333, \"#9c179e\"], [0.4444444444444444, \"#bd3786\"], [0.5555555555555556, \"#d8576b\"], [0.6666666666666666, \"#ed7953\"], [0.7777777777777778, \"#fb9f3a\"], [0.8888888888888888, \"#fdca26\"], [1.0, \"#f0f921\"]], \"type\": \"heatmap\"}], \"heatmapgl\": [{\"colorbar\": {\"outlinewidth\": 0, \"ticks\": \"\"}, \"colorscale\": [[0.0, \"#0d0887\"], [0.1111111111111111, \"#46039f\"], [0.2222222222222222, \"#7201a8\"], [0.3333333333333333, \"#9c179e\"], [0.4444444444444444, \"#bd3786\"], [0.5555555555555556, \"#d8576b\"], [0.6666666666666666, \"#ed7953\"], [0.7777777777777778, \"#fb9f3a\"], [0.8888888888888888, \"#fdca26\"], [1.0, \"#f0f921\"]], \"type\": \"heatmapgl\"}], \"histogram\": [{\"marker\": {\"colorbar\": {\"outlinewidth\": 0, \"ticks\": \"\"}}, \"type\": \"histogram\"}], \"histogram2d\": [{\"colorbar\": {\"outlinewidth\": 0, \"ticks\": \"\"}, \"colorscale\": [[0.0, \"#0d0887\"], [0.1111111111111111, \"#46039f\"], [0.2222222222222222, \"#7201a8\"], [0.3333333333333333, \"#9c179e\"], [0.4444444444444444, \"#bd3786\"], [0.5555555555555556, \"#d8576b\"], [0.6666666666666666, \"#ed7953\"], [0.7777777777777778, \"#fb9f3a\"], [0.8888888888888888, \"#fdca26\"], [1.0, \"#f0f921\"]], \"type\": \"histogram2d\"}], \"histogram2dcontour\": [{\"colorbar\": {\"outlinewidth\": 0, \"ticks\": \"\"}, \"colorscale\": [[0.0, \"#0d0887\"], [0.1111111111111111, \"#46039f\"], [0.2222222222222222, \"#7201a8\"], [0.3333333333333333, \"#9c179e\"], [0.4444444444444444, \"#bd3786\"], [0.5555555555555556, \"#d8576b\"], [0.6666666666666666, \"#ed7953\"], [0.7777777777777778, \"#fb9f3a\"], [0.8888888888888888, \"#fdca26\"], [1.0, \"#f0f921\"]], \"type\": \"histogram2dcontour\"}], \"mesh3d\": [{\"colorbar\": {\"outlinewidth\": 0, \"ticks\": \"\"}, \"type\": \"mesh3d\"}], \"parcoords\": [{\"line\": {\"colorbar\": {\"outlinewidth\": 0, \"ticks\": \"\"}}, \"type\": \"parcoords\"}], \"pie\": [{\"automargin\": true, \"type\": \"pie\"}], \"scatter\": [{\"marker\": {\"colorbar\": {\"outlinewidth\": 0, \"ticks\": \"\"}}, \"type\": \"scatter\"}], \"scatter3d\": [{\"line\": {\"colorbar\": {\"outlinewidth\": 0, \"ticks\": \"\"}}, \"marker\": {\"colorbar\": {\"outlinewidth\": 0, \"ticks\": \"\"}}, \"type\": \"scatter3d\"}], \"scattercarpet\": [{\"marker\": {\"colorbar\": {\"outlinewidth\": 0, \"ticks\": \"\"}}, \"type\": \"scattercarpet\"}], \"scattergeo\": [{\"marker\": {\"colorbar\": {\"outlinewidth\": 0, \"ticks\": \"\"}}, \"type\": \"scattergeo\"}], \"scattergl\": [{\"marker\": {\"colorbar\": {\"outlinewidth\": 0, \"ticks\": \"\"}}, \"type\": \"scattergl\"}], \"scattermapbox\": [{\"marker\": {\"colorbar\": {\"outlinewidth\": 0, \"ticks\": \"\"}}, \"type\": \"scattermapbox\"}], \"scatterpolar\": [{\"marker\": {\"colorbar\": {\"outlinewidth\": 0, \"ticks\": \"\"}}, \"type\": \"scatterpolar\"}], \"scatterpolargl\": [{\"marker\": {\"colorbar\": {\"outlinewidth\": 0, \"ticks\": \"\"}}, \"type\": \"scatterpolargl\"}], \"scatterternary\": [{\"marker\": {\"colorbar\": {\"outlinewidth\": 0, \"ticks\": \"\"}}, \"type\": \"scatterternary\"}], \"surface\": [{\"colorbar\": {\"outlinewidth\": 0, \"ticks\": \"\"}, \"colorscale\": [[0.0, \"#0d0887\"], [0.1111111111111111, \"#46039f\"], [0.2222222222222222, \"#7201a8\"], [0.3333333333333333, \"#9c179e\"], [0.4444444444444444, \"#bd3786\"], [0.5555555555555556, \"#d8576b\"], [0.6666666666666666, \"#ed7953\"], [0.7777777777777778, \"#fb9f3a\"], [0.8888888888888888, \"#fdca26\"], [1.0, \"#f0f921\"]], \"type\": \"surface\"}], \"table\": [{\"cells\": {\"fill\": {\"color\": \"#EBF0F8\"}, \"line\": {\"color\": \"white\"}}, \"header\": {\"fill\": {\"color\": \"#C8D4E3\"}, \"line\": {\"color\": \"white\"}}, \"type\": \"table\"}]}, \"layout\": {\"annotationdefaults\": {\"arrowcolor\": \"#2a3f5f\", \"arrowhead\": 0, \"arrowwidth\": 1}, \"autotypenumbers\": \"strict\", \"coloraxis\": {\"colorbar\": {\"outlinewidth\": 0, \"ticks\": \"\"}}, \"colorscale\": {\"diverging\": [[0, \"#8e0152\"], [0.1, \"#c51b7d\"], [0.2, \"#de77ae\"], [0.3, \"#f1b6da\"], [0.4, \"#fde0ef\"], [0.5, \"#f7f7f7\"], [0.6, \"#e6f5d0\"], [0.7, \"#b8e186\"], [0.8, \"#7fbc41\"], [0.9, \"#4d9221\"], [1, \"#276419\"]], \"sequential\": [[0.0, \"#0d0887\"], [0.1111111111111111, \"#46039f\"], [0.2222222222222222, \"#7201a8\"], [0.3333333333333333, \"#9c179e\"], [0.4444444444444444, \"#bd3786\"], [0.5555555555555556, \"#d8576b\"], [0.6666666666666666, \"#ed7953\"], [0.7777777777777778, \"#fb9f3a\"], [0.8888888888888888, \"#fdca26\"], [1.0, \"#f0f921\"]], \"sequentialminus\": [[0.0, \"#0d0887\"], [0.1111111111111111, \"#46039f\"], [0.2222222222222222, \"#7201a8\"], [0.3333333333333333, \"#9c179e\"], [0.4444444444444444, \"#bd3786\"], [0.5555555555555556, \"#d8576b\"], [0.6666666666666666, \"#ed7953\"], [0.7777777777777778, \"#fb9f3a\"], [0.8888888888888888, \"#fdca26\"], [1.0, \"#f0f921\"]]}, \"colorway\": [\"#636efa\", \"#EF553B\", \"#00cc96\", \"#ab63fa\", \"#FFA15A\", \"#19d3f3\", \"#FF6692\", \"#B6E880\", \"#FF97FF\", \"#FECB52\"], \"font\": {\"color\": \"#2a3f5f\"}, \"geo\": {\"bgcolor\": \"white\", \"lakecolor\": \"white\", \"landcolor\": \"#E5ECF6\", \"showlakes\": true, \"showland\": true, \"subunitcolor\": \"white\"}, \"hoverlabel\": {\"align\": \"left\"}, \"hovermode\": \"closest\", \"mapbox\": {\"style\": \"light\"}, \"paper_bgcolor\": \"white\", \"plot_bgcolor\": \"#E5ECF6\", \"polar\": {\"angularaxis\": {\"gridcolor\": \"white\", \"linecolor\": \"white\", \"ticks\": \"\"}, \"bgcolor\": \"#E5ECF6\", \"radialaxis\": {\"gridcolor\": \"white\", \"linecolor\": \"white\", \"ticks\": \"\"}}, \"scene\": {\"xaxis\": {\"backgroundcolor\": \"#E5ECF6\", \"gridcolor\": \"white\", \"gridwidth\": 2, \"linecolor\": \"white\", \"showbackground\": true, \"ticks\": \"\", \"zerolinecolor\": \"white\"}, \"yaxis\": {\"backgroundcolor\": \"#E5ECF6\", \"gridcolor\": \"white\", \"gridwidth\": 2, \"linecolor\": \"white\", \"showbackground\": true, \"ticks\": \"\", \"zerolinecolor\": \"white\"}, \"zaxis\": {\"backgroundcolor\": \"#E5ECF6\", \"gridcolor\": \"white\", \"gridwidth\": 2, \"linecolor\": \"white\", \"showbackground\": true, \"ticks\": \"\", \"zerolinecolor\": \"white\"}}, \"shapedefaults\": {\"line\": {\"color\": \"#2a3f5f\"}}, \"ternary\": {\"aaxis\": {\"gridcolor\": \"white\", \"linecolor\": \"white\", \"ticks\": \"\"}, \"baxis\": {\"gridcolor\": \"white\", \"linecolor\": \"white\", \"ticks\": \"\"}, \"bgcolor\": \"#E5ECF6\", \"caxis\": {\"gridcolor\": \"white\", \"linecolor\": \"white\", \"ticks\": \"\"}}, \"title\": {\"x\": 0.05}, \"xaxis\": {\"automargin\": true, \"gridcolor\": \"white\", \"linecolor\": \"white\", \"ticks\": \"\", \"title\": {\"standoff\": 15}, \"zerolinecolor\": \"white\", \"zerolinewidth\": 2}, \"yaxis\": {\"automargin\": true, \"gridcolor\": \"white\", \"linecolor\": \"white\", \"ticks\": \"\", \"title\": {\"standoff\": 15}, \"zerolinecolor\": \"white\", \"zerolinewidth\": 2}}}, \"title\": {\"text\": \"Monthwise increase in Deaths\"}, \"xaxis\": {\"anchor\": \"y\", \"categoryarray\": [1580428800000000000, 1582934400000000000, 1585612800000000000, 1588204800000000000, 1590883200000000000, 1593475200000000000, 1596153600000000000, 1598832000000000000, 1601424000000000000, 1604102400000000000, 1606694400000000000, 1609372800000000000, 1612051200000000000, 1614470400000000000, 1617148800000000000, 1619740800000000000, 1622419200000000000], \"categoryorder\": \"array\", \"domain\": [0.0, 1.0], \"title\": {\"text\": \"Date\"}}, \"yaxis\": {\"anchor\": \"x\", \"domain\": [0.0, 1.0], \"title\": {\"text\": \"Deaths\"}}},                        {\"responsive\": true}                    ).then(function(){\n",
       "                            \n",
       "var gd = document.getElementById('538dfe25-ff5c-4dc9-9f94-a6b89af6c457');\n",
       "var x = new MutationObserver(function (mutations, observer) {{\n",
       "        var display = window.getComputedStyle(gd).display;\n",
       "        if (!display || display === 'none') {{\n",
       "            console.log([gd, 'removed!']);\n",
       "            Plotly.purge(gd);\n",
       "            observer.disconnect();\n",
       "        }}\n",
       "}});\n",
       "\n",
       "// Listen for the removal of the full notebook cells\n",
       "var notebookContainer = gd.closest('#notebook-container');\n",
       "if (notebookContainer) {{\n",
       "    x.observe(notebookContainer, {childList: true});\n",
       "}}\n",
       "\n",
       "// Listen for the clearing of the current output cell\n",
       "var outputEl = gd.closest('.output');\n",
       "if (outputEl) {{\n",
       "    x.observe(outputEl, {childList: true});\n",
       "}}\n",
       "\n",
       "                        })                };                });            </script>        </div>"
      ]
     },
     "metadata": {},
     "output_type": "display_data"
    }
   ],
   "source": [
    "# Monthwise Deaths analysis\n",
    "fig = px.bar(month_wise, x='Date', y='Deaths',\n",
    "            hover_data=['Confirmed', 'Cured'],\n",
    "             color='Date',\n",
    "            labels='Date(monthwise)',\n",
    "            title='Monthwise increase in Deaths')\n",
    "\n",
    "fig.show();"
   ]
  },
  {
   "cell_type": "markdown",
   "id": "4981869a",
   "metadata": {},
   "source": [
    "## Analysis: \n",
    "As from the graphs we can see that ther's was an upward trend in the no. of cases and mortality rate. But more and more people are gettin cured.\n",
    "In the month of Feb'2021, we can see the decrease in the cases, but it was only once and it again continues an upward trend"
   ]
  },
  {
   "cell_type": "code",
   "execution_count": 53,
   "id": "e1e09a9e",
   "metadata": {},
   "outputs": [
    {
     "data": {
      "application/vnd.plotly.v1+json": {
       "config": {
        "plotlyServerURL": "https://plot.ly"
       },
       "data": [
        {
         "alignmentgroup": "True",
         "customdata": [
          [
           2,
           0
          ]
         ],
         "hovertemplate": "Date=%{x}<br>Death_percentage=%{y}<br>Confirmed=%{customdata[0]}<br>Deaths=%{customdata[1]}<extra></extra>",
         "legendgroup": "2020-01-31 00:00:00",
         "marker": {
          "color": "#B6E880"
         },
         "name": "2020-01-31 00:00:00",
         "offsetgroup": "2020-01-31 00:00:00",
         "orientation": "v",
         "showlegend": true,
         "textposition": "auto",
         "type": "bar",
         "x": [
          "2020-01-31T00:00:00"
         ],
         "xaxis": "x",
         "y": [
          0
         ],
         "yaxis": "y"
        },
        {
         "alignmentgroup": "True",
         "customdata": [
          [
           86,
           0
          ]
         ],
         "hovertemplate": "Date=%{x}<br>Death_percentage=%{y}<br>Confirmed=%{customdata[0]}<br>Deaths=%{customdata[1]}<extra></extra>",
         "legendgroup": "2020-02-29 00:00:00",
         "marker": {
          "color": "#FF97FF"
         },
         "name": "2020-02-29 00:00:00",
         "offsetgroup": "2020-02-29 00:00:00",
         "orientation": "v",
         "showlegend": true,
         "textposition": "auto",
         "type": "bar",
         "x": [
          "2020-02-29T00:00:00"
         ],
         "xaxis": "x",
         "y": [
          0
         ],
         "yaxis": "y"
        },
        {
         "alignmentgroup": "True",
         "customdata": [
          [
           9687,
           202
          ]
         ],
         "hovertemplate": "Date=%{x}<br>Death_percentage=%{y}<br>Confirmed=%{customdata[0]}<br>Deaths=%{customdata[1]}<extra></extra>",
         "legendgroup": "2020-03-31 00:00:00",
         "marker": {
          "color": "#FECB52"
         },
         "name": "2020-03-31 00:00:00",
         "offsetgroup": "2020-03-31 00:00:00",
         "orientation": "v",
         "showlegend": true,
         "textposition": "auto",
         "type": "bar",
         "x": [
          "2020-03-31T00:00:00"
         ],
         "xaxis": "x",
         "y": [
          2.0852689171053993
         ],
         "yaxis": "y"
        },
        {
         "alignmentgroup": "True",
         "customdata": [
          [
           422442,
           13270
          ]
         ],
         "hovertemplate": "Date=%{x}<br>Death_percentage=%{y}<br>Confirmed=%{customdata[0]}<br>Deaths=%{customdata[1]}<extra></extra>",
         "legendgroup": "2020-04-30 00:00:00",
         "marker": {
          "color": "#636efa"
         },
         "name": "2020-04-30 00:00:00",
         "offsetgroup": "2020-04-30 00:00:00",
         "orientation": "v",
         "showlegend": true,
         "textposition": "auto",
         "type": "bar",
         "x": [
          "2020-04-30T00:00:00"
         ],
         "xaxis": "x",
         "y": [
          3.141259628540723
         ],
         "yaxis": "y"
        },
        {
         "alignmentgroup": "True",
         "customdata": [
          [
           2938234,
           89834
          ]
         ],
         "hovertemplate": "Date=%{x}<br>Death_percentage=%{y}<br>Confirmed=%{customdata[0]}<br>Deaths=%{customdata[1]}<extra></extra>",
         "legendgroup": "2020-05-31 00:00:00",
         "marker": {
          "color": "#EF553B"
         },
         "name": "2020-05-31 00:00:00",
         "offsetgroup": "2020-05-31 00:00:00",
         "orientation": "v",
         "showlegend": true,
         "textposition": "auto",
         "type": "bar",
         "x": [
          "2020-05-31T00:00:00"
         ],
         "xaxis": "x",
         "y": [
          3.0574147600225166
         ],
         "yaxis": "y"
        },
        {
         "alignmentgroup": "True",
         "customdata": [
          [
           10558374,
           319690
          ]
         ],
         "hovertemplate": "Date=%{x}<br>Death_percentage=%{y}<br>Confirmed=%{customdata[0]}<br>Deaths=%{customdata[1]}<extra></extra>",
         "legendgroup": "2020-06-30 00:00:00",
         "marker": {
          "color": "#00cc96"
         },
         "name": "2020-06-30 00:00:00",
         "offsetgroup": "2020-06-30 00:00:00",
         "orientation": "v",
         "showlegend": true,
         "textposition": "auto",
         "type": "bar",
         "x": [
          "2020-06-30T00:00:00"
         ],
         "xaxis": "x",
         "y": [
          3.027833641808862
         ],
         "yaxis": "y"
        },
        {
         "alignmentgroup": "True",
         "customdata": [
          [
           31726501,
           793511
          ]
         ],
         "hovertemplate": "Date=%{x}<br>Death_percentage=%{y}<br>Confirmed=%{customdata[0]}<br>Deaths=%{customdata[1]}<extra></extra>",
         "legendgroup": "2020-07-31 00:00:00",
         "marker": {
          "color": "#ab63fa"
         },
         "name": "2020-07-31 00:00:00",
         "offsetgroup": "2020-07-31 00:00:00",
         "orientation": "v",
         "showlegend": true,
         "textposition": "auto",
         "type": "bar",
         "x": [
          "2020-07-31T00:00:00"
         ],
         "xaxis": "x",
         "y": [
          2.5010983719887676
         ],
         "yaxis": "y"
        },
        {
         "alignmentgroup": "True",
         "customdata": [
          [
           80749620,
           1553468
          ]
         ],
         "hovertemplate": "Date=%{x}<br>Death_percentage=%{y}<br>Confirmed=%{customdata[0]}<br>Deaths=%{customdata[1]}<extra></extra>",
         "legendgroup": "2020-08-31 00:00:00",
         "marker": {
          "color": "#FFA15A"
         },
         "name": "2020-08-31 00:00:00",
         "offsetgroup": "2020-08-31 00:00:00",
         "orientation": "v",
         "showlegend": true,
         "textposition": "auto",
         "type": "bar",
         "x": [
          "2020-08-31T00:00:00"
         ],
         "xaxis": "x",
         "y": [
          1.9238084340211137
         ],
         "yaxis": "y"
        },
        {
         "alignmentgroup": "True",
         "customdata": [
          [
           149113758,
           2443374
          ]
         ],
         "hovertemplate": "Date=%{x}<br>Death_percentage=%{y}<br>Confirmed=%{customdata[0]}<br>Deaths=%{customdata[1]}<extra></extra>",
         "legendgroup": "2020-09-30 00:00:00",
         "marker": {
          "color": "#19d3f3"
         },
         "name": "2020-09-30 00:00:00",
         "offsetgroup": "2020-09-30 00:00:00",
         "orientation": "v",
         "showlegend": true,
         "textposition": "auto",
         "type": "bar",
         "x": [
          "2020-09-30T00:00:00"
         ],
         "xaxis": "x",
         "y": [
          1.63859729160605
         ],
         "yaxis": "y"
        },
        {
         "alignmentgroup": "True",
         "customdata": [
          [
           226770312,
           3457615
          ]
         ],
         "hovertemplate": "Date=%{x}<br>Death_percentage=%{y}<br>Confirmed=%{customdata[0]}<br>Deaths=%{customdata[1]}<extra></extra>",
         "legendgroup": "2020-10-31 00:00:00",
         "marker": {
          "color": "#FF6692"
         },
         "name": "2020-10-31 00:00:00",
         "offsetgroup": "2020-10-31 00:00:00",
         "orientation": "v",
         "showlegend": true,
         "textposition": "auto",
         "type": "bar",
         "x": [
          "2020-10-31T00:00:00"
         ],
         "xaxis": "x",
         "y": [
          1.5247211901353297
         ],
         "yaxis": "y"
        },
        {
         "alignmentgroup": "True",
         "customdata": [
          [
           264556412,
           3894165
          ]
         ],
         "hovertemplate": "Date=%{x}<br>Death_percentage=%{y}<br>Confirmed=%{customdata[0]}<br>Deaths=%{customdata[1]}<extra></extra>",
         "legendgroup": "2020-11-30 00:00:00",
         "marker": {
          "color": "#B6E880"
         },
         "name": "2020-11-30 00:00:00",
         "offsetgroup": "2020-11-30 00:00:00",
         "orientation": "v",
         "showlegend": true,
         "textposition": "auto",
         "type": "bar",
         "x": [
          "2020-11-30T00:00:00"
         ],
         "xaxis": "x",
         "y": [
          1.4719601655317278
         ],
         "yaxis": "y"
        },
        {
         "alignmentgroup": "True",
         "customdata": [
          [
           307177353,
           4457379
          ]
         ],
         "hovertemplate": "Date=%{x}<br>Death_percentage=%{y}<br>Confirmed=%{customdata[0]}<br>Deaths=%{customdata[1]}<extra></extra>",
         "legendgroup": "2020-12-31 00:00:00",
         "marker": {
          "color": "#FF97FF"
         },
         "name": "2020-12-31 00:00:00",
         "offsetgroup": "2020-12-31 00:00:00",
         "orientation": "v",
         "showlegend": true,
         "textposition": "auto",
         "type": "bar",
         "x": [
          "2020-12-31T00:00:00"
         ],
         "xaxis": "x",
         "y": [
          1.4510767009571828
         ],
         "yaxis": "y"
        },
        {
         "alignmentgroup": "True",
         "customdata": [
          [
           326469747,
           4709167
          ]
         ],
         "hovertemplate": "Date=%{x}<br>Death_percentage=%{y}<br>Confirmed=%{customdata[0]}<br>Deaths=%{customdata[1]}<extra></extra>",
         "legendgroup": "2021-01-31 00:00:00",
         "marker": {
          "color": "#FECB52"
         },
         "name": "2021-01-31 00:00:00",
         "offsetgroup": "2021-01-31 00:00:00",
         "orientation": "v",
         "showlegend": true,
         "textposition": "auto",
         "type": "bar",
         "x": [
          "2021-01-31T00:00:00"
         ],
         "xaxis": "x",
         "y": [
          1.4424512663955966
         ],
         "yaxis": "y"
        },
        {
         "alignmentgroup": "True",
         "customdata": [
          [
           305631803,
           4359434
          ]
         ],
         "hovertemplate": "Date=%{x}<br>Death_percentage=%{y}<br>Confirmed=%{customdata[0]}<br>Deaths=%{customdata[1]}<extra></extra>",
         "legendgroup": "2021-02-28 00:00:00",
         "marker": {
          "color": "#636efa"
         },
         "name": "2021-02-28 00:00:00",
         "offsetgroup": "2021-02-28 00:00:00",
         "orientation": "v",
         "showlegend": true,
         "textposition": "auto",
         "type": "bar",
         "x": [
          "2021-02-28T00:00:00"
         ],
         "xaxis": "x",
         "y": [
          1.426367922843422
         ],
         "yaxis": "y"
        },
        {
         "alignmentgroup": "True",
         "customdata": [
          [
           356305616,
           4935253
          ]
         ],
         "hovertemplate": "Date=%{x}<br>Death_percentage=%{y}<br>Confirmed=%{customdata[0]}<br>Deaths=%{customdata[1]}<extra></extra>",
         "legendgroup": "2021-03-31 00:00:00",
         "marker": {
          "color": "#EF553B"
         },
         "name": "2021-03-31 00:00:00",
         "offsetgroup": "2021-03-31 00:00:00",
         "orientation": "v",
         "showlegend": true,
         "textposition": "auto",
         "type": "bar",
         "x": [
          "2021-03-31T00:00:00"
         ],
         "xaxis": "x",
         "y": [
          1.3851179376302618
         ],
         "yaxis": "y"
        },
        {
         "alignmentgroup": "True",
         "customdata": [
          [
           440660671,
           5340298
          ]
         ],
         "hovertemplate": "Date=%{x}<br>Death_percentage=%{y}<br>Confirmed=%{customdata[0]}<br>Deaths=%{customdata[1]}<extra></extra>",
         "legendgroup": "2021-04-30 00:00:00",
         "marker": {
          "color": "#00cc96"
         },
         "name": "2021-04-30 00:00:00",
         "offsetgroup": "2021-04-30 00:00:00",
         "orientation": "v",
         "showlegend": true,
         "textposition": "auto",
         "type": "bar",
         "x": [
          "2021-04-30T00:00:00"
         ],
         "xaxis": "x",
         "y": [
          1.2118844161611146
         ],
         "yaxis": "y"
        },
        {
         "alignmentgroup": "True",
         "customdata": [
          [
           58648030,
           646354
          ]
         ],
         "hovertemplate": "Date=%{x}<br>Death_percentage=%{y}<br>Confirmed=%{customdata[0]}<br>Deaths=%{customdata[1]}<extra></extra>",
         "legendgroup": "2021-05-31 00:00:00",
         "marker": {
          "color": "#ab63fa"
         },
         "name": "2021-05-31 00:00:00",
         "offsetgroup": "2021-05-31 00:00:00",
         "orientation": "v",
         "showlegend": true,
         "textposition": "auto",
         "type": "bar",
         "x": [
          "2021-05-31T00:00:00"
         ],
         "xaxis": "x",
         "y": [
          1.1020898741185339
         ],
         "yaxis": "y"
        }
       ],
       "layout": {
        "barmode": "relative",
        "legend": {
         "title": {
          "text": "Date"
         },
         "tracegroupgap": 0
        },
        "template": {
         "data": {
          "bar": [
           {
            "error_x": {
             "color": "#2a3f5f"
            },
            "error_y": {
             "color": "#2a3f5f"
            },
            "marker": {
             "line": {
              "color": "#E5ECF6",
              "width": 0.5
             }
            },
            "type": "bar"
           }
          ],
          "barpolar": [
           {
            "marker": {
             "line": {
              "color": "#E5ECF6",
              "width": 0.5
             }
            },
            "type": "barpolar"
           }
          ],
          "carpet": [
           {
            "aaxis": {
             "endlinecolor": "#2a3f5f",
             "gridcolor": "white",
             "linecolor": "white",
             "minorgridcolor": "white",
             "startlinecolor": "#2a3f5f"
            },
            "baxis": {
             "endlinecolor": "#2a3f5f",
             "gridcolor": "white",
             "linecolor": "white",
             "minorgridcolor": "white",
             "startlinecolor": "#2a3f5f"
            },
            "type": "carpet"
           }
          ],
          "choropleth": [
           {
            "colorbar": {
             "outlinewidth": 0,
             "ticks": ""
            },
            "type": "choropleth"
           }
          ],
          "contour": [
           {
            "colorbar": {
             "outlinewidth": 0,
             "ticks": ""
            },
            "colorscale": [
             [
              0,
              "#0d0887"
             ],
             [
              0.1111111111111111,
              "#46039f"
             ],
             [
              0.2222222222222222,
              "#7201a8"
             ],
             [
              0.3333333333333333,
              "#9c179e"
             ],
             [
              0.4444444444444444,
              "#bd3786"
             ],
             [
              0.5555555555555556,
              "#d8576b"
             ],
             [
              0.6666666666666666,
              "#ed7953"
             ],
             [
              0.7777777777777778,
              "#fb9f3a"
             ],
             [
              0.8888888888888888,
              "#fdca26"
             ],
             [
              1,
              "#f0f921"
             ]
            ],
            "type": "contour"
           }
          ],
          "contourcarpet": [
           {
            "colorbar": {
             "outlinewidth": 0,
             "ticks": ""
            },
            "type": "contourcarpet"
           }
          ],
          "heatmap": [
           {
            "colorbar": {
             "outlinewidth": 0,
             "ticks": ""
            },
            "colorscale": [
             [
              0,
              "#0d0887"
             ],
             [
              0.1111111111111111,
              "#46039f"
             ],
             [
              0.2222222222222222,
              "#7201a8"
             ],
             [
              0.3333333333333333,
              "#9c179e"
             ],
             [
              0.4444444444444444,
              "#bd3786"
             ],
             [
              0.5555555555555556,
              "#d8576b"
             ],
             [
              0.6666666666666666,
              "#ed7953"
             ],
             [
              0.7777777777777778,
              "#fb9f3a"
             ],
             [
              0.8888888888888888,
              "#fdca26"
             ],
             [
              1,
              "#f0f921"
             ]
            ],
            "type": "heatmap"
           }
          ],
          "heatmapgl": [
           {
            "colorbar": {
             "outlinewidth": 0,
             "ticks": ""
            },
            "colorscale": [
             [
              0,
              "#0d0887"
             ],
             [
              0.1111111111111111,
              "#46039f"
             ],
             [
              0.2222222222222222,
              "#7201a8"
             ],
             [
              0.3333333333333333,
              "#9c179e"
             ],
             [
              0.4444444444444444,
              "#bd3786"
             ],
             [
              0.5555555555555556,
              "#d8576b"
             ],
             [
              0.6666666666666666,
              "#ed7953"
             ],
             [
              0.7777777777777778,
              "#fb9f3a"
             ],
             [
              0.8888888888888888,
              "#fdca26"
             ],
             [
              1,
              "#f0f921"
             ]
            ],
            "type": "heatmapgl"
           }
          ],
          "histogram": [
           {
            "marker": {
             "colorbar": {
              "outlinewidth": 0,
              "ticks": ""
             }
            },
            "type": "histogram"
           }
          ],
          "histogram2d": [
           {
            "colorbar": {
             "outlinewidth": 0,
             "ticks": ""
            },
            "colorscale": [
             [
              0,
              "#0d0887"
             ],
             [
              0.1111111111111111,
              "#46039f"
             ],
             [
              0.2222222222222222,
              "#7201a8"
             ],
             [
              0.3333333333333333,
              "#9c179e"
             ],
             [
              0.4444444444444444,
              "#bd3786"
             ],
             [
              0.5555555555555556,
              "#d8576b"
             ],
             [
              0.6666666666666666,
              "#ed7953"
             ],
             [
              0.7777777777777778,
              "#fb9f3a"
             ],
             [
              0.8888888888888888,
              "#fdca26"
             ],
             [
              1,
              "#f0f921"
             ]
            ],
            "type": "histogram2d"
           }
          ],
          "histogram2dcontour": [
           {
            "colorbar": {
             "outlinewidth": 0,
             "ticks": ""
            },
            "colorscale": [
             [
              0,
              "#0d0887"
             ],
             [
              0.1111111111111111,
              "#46039f"
             ],
             [
              0.2222222222222222,
              "#7201a8"
             ],
             [
              0.3333333333333333,
              "#9c179e"
             ],
             [
              0.4444444444444444,
              "#bd3786"
             ],
             [
              0.5555555555555556,
              "#d8576b"
             ],
             [
              0.6666666666666666,
              "#ed7953"
             ],
             [
              0.7777777777777778,
              "#fb9f3a"
             ],
             [
              0.8888888888888888,
              "#fdca26"
             ],
             [
              1,
              "#f0f921"
             ]
            ],
            "type": "histogram2dcontour"
           }
          ],
          "mesh3d": [
           {
            "colorbar": {
             "outlinewidth": 0,
             "ticks": ""
            },
            "type": "mesh3d"
           }
          ],
          "parcoords": [
           {
            "line": {
             "colorbar": {
              "outlinewidth": 0,
              "ticks": ""
             }
            },
            "type": "parcoords"
           }
          ],
          "pie": [
           {
            "automargin": true,
            "type": "pie"
           }
          ],
          "scatter": [
           {
            "marker": {
             "colorbar": {
              "outlinewidth": 0,
              "ticks": ""
             }
            },
            "type": "scatter"
           }
          ],
          "scatter3d": [
           {
            "line": {
             "colorbar": {
              "outlinewidth": 0,
              "ticks": ""
             }
            },
            "marker": {
             "colorbar": {
              "outlinewidth": 0,
              "ticks": ""
             }
            },
            "type": "scatter3d"
           }
          ],
          "scattercarpet": [
           {
            "marker": {
             "colorbar": {
              "outlinewidth": 0,
              "ticks": ""
             }
            },
            "type": "scattercarpet"
           }
          ],
          "scattergeo": [
           {
            "marker": {
             "colorbar": {
              "outlinewidth": 0,
              "ticks": ""
             }
            },
            "type": "scattergeo"
           }
          ],
          "scattergl": [
           {
            "marker": {
             "colorbar": {
              "outlinewidth": 0,
              "ticks": ""
             }
            },
            "type": "scattergl"
           }
          ],
          "scattermapbox": [
           {
            "marker": {
             "colorbar": {
              "outlinewidth": 0,
              "ticks": ""
             }
            },
            "type": "scattermapbox"
           }
          ],
          "scatterpolar": [
           {
            "marker": {
             "colorbar": {
              "outlinewidth": 0,
              "ticks": ""
             }
            },
            "type": "scatterpolar"
           }
          ],
          "scatterpolargl": [
           {
            "marker": {
             "colorbar": {
              "outlinewidth": 0,
              "ticks": ""
             }
            },
            "type": "scatterpolargl"
           }
          ],
          "scatterternary": [
           {
            "marker": {
             "colorbar": {
              "outlinewidth": 0,
              "ticks": ""
             }
            },
            "type": "scatterternary"
           }
          ],
          "surface": [
           {
            "colorbar": {
             "outlinewidth": 0,
             "ticks": ""
            },
            "colorscale": [
             [
              0,
              "#0d0887"
             ],
             [
              0.1111111111111111,
              "#46039f"
             ],
             [
              0.2222222222222222,
              "#7201a8"
             ],
             [
              0.3333333333333333,
              "#9c179e"
             ],
             [
              0.4444444444444444,
              "#bd3786"
             ],
             [
              0.5555555555555556,
              "#d8576b"
             ],
             [
              0.6666666666666666,
              "#ed7953"
             ],
             [
              0.7777777777777778,
              "#fb9f3a"
             ],
             [
              0.8888888888888888,
              "#fdca26"
             ],
             [
              1,
              "#f0f921"
             ]
            ],
            "type": "surface"
           }
          ],
          "table": [
           {
            "cells": {
             "fill": {
              "color": "#EBF0F8"
             },
             "line": {
              "color": "white"
             }
            },
            "header": {
             "fill": {
              "color": "#C8D4E3"
             },
             "line": {
              "color": "white"
             }
            },
            "type": "table"
           }
          ]
         },
         "layout": {
          "annotationdefaults": {
           "arrowcolor": "#2a3f5f",
           "arrowhead": 0,
           "arrowwidth": 1
          },
          "autotypenumbers": "strict",
          "coloraxis": {
           "colorbar": {
            "outlinewidth": 0,
            "ticks": ""
           }
          },
          "colorscale": {
           "diverging": [
            [
             0,
             "#8e0152"
            ],
            [
             0.1,
             "#c51b7d"
            ],
            [
             0.2,
             "#de77ae"
            ],
            [
             0.3,
             "#f1b6da"
            ],
            [
             0.4,
             "#fde0ef"
            ],
            [
             0.5,
             "#f7f7f7"
            ],
            [
             0.6,
             "#e6f5d0"
            ],
            [
             0.7,
             "#b8e186"
            ],
            [
             0.8,
             "#7fbc41"
            ],
            [
             0.9,
             "#4d9221"
            ],
            [
             1,
             "#276419"
            ]
           ],
           "sequential": [
            [
             0,
             "#0d0887"
            ],
            [
             0.1111111111111111,
             "#46039f"
            ],
            [
             0.2222222222222222,
             "#7201a8"
            ],
            [
             0.3333333333333333,
             "#9c179e"
            ],
            [
             0.4444444444444444,
             "#bd3786"
            ],
            [
             0.5555555555555556,
             "#d8576b"
            ],
            [
             0.6666666666666666,
             "#ed7953"
            ],
            [
             0.7777777777777778,
             "#fb9f3a"
            ],
            [
             0.8888888888888888,
             "#fdca26"
            ],
            [
             1,
             "#f0f921"
            ]
           ],
           "sequentialminus": [
            [
             0,
             "#0d0887"
            ],
            [
             0.1111111111111111,
             "#46039f"
            ],
            [
             0.2222222222222222,
             "#7201a8"
            ],
            [
             0.3333333333333333,
             "#9c179e"
            ],
            [
             0.4444444444444444,
             "#bd3786"
            ],
            [
             0.5555555555555556,
             "#d8576b"
            ],
            [
             0.6666666666666666,
             "#ed7953"
            ],
            [
             0.7777777777777778,
             "#fb9f3a"
            ],
            [
             0.8888888888888888,
             "#fdca26"
            ],
            [
             1,
             "#f0f921"
            ]
           ]
          },
          "colorway": [
           "#636efa",
           "#EF553B",
           "#00cc96",
           "#ab63fa",
           "#FFA15A",
           "#19d3f3",
           "#FF6692",
           "#B6E880",
           "#FF97FF",
           "#FECB52"
          ],
          "font": {
           "color": "#2a3f5f"
          },
          "geo": {
           "bgcolor": "white",
           "lakecolor": "white",
           "landcolor": "#E5ECF6",
           "showlakes": true,
           "showland": true,
           "subunitcolor": "white"
          },
          "hoverlabel": {
           "align": "left"
          },
          "hovermode": "closest",
          "mapbox": {
           "style": "light"
          },
          "paper_bgcolor": "white",
          "plot_bgcolor": "#E5ECF6",
          "polar": {
           "angularaxis": {
            "gridcolor": "white",
            "linecolor": "white",
            "ticks": ""
           },
           "bgcolor": "#E5ECF6",
           "radialaxis": {
            "gridcolor": "white",
            "linecolor": "white",
            "ticks": ""
           }
          },
          "scene": {
           "xaxis": {
            "backgroundcolor": "#E5ECF6",
            "gridcolor": "white",
            "gridwidth": 2,
            "linecolor": "white",
            "showbackground": true,
            "ticks": "",
            "zerolinecolor": "white"
           },
           "yaxis": {
            "backgroundcolor": "#E5ECF6",
            "gridcolor": "white",
            "gridwidth": 2,
            "linecolor": "white",
            "showbackground": true,
            "ticks": "",
            "zerolinecolor": "white"
           },
           "zaxis": {
            "backgroundcolor": "#E5ECF6",
            "gridcolor": "white",
            "gridwidth": 2,
            "linecolor": "white",
            "showbackground": true,
            "ticks": "",
            "zerolinecolor": "white"
           }
          },
          "shapedefaults": {
           "line": {
            "color": "#2a3f5f"
           }
          },
          "ternary": {
           "aaxis": {
            "gridcolor": "white",
            "linecolor": "white",
            "ticks": ""
           },
           "baxis": {
            "gridcolor": "white",
            "linecolor": "white",
            "ticks": ""
           },
           "bgcolor": "#E5ECF6",
           "caxis": {
            "gridcolor": "white",
            "linecolor": "white",
            "ticks": ""
           }
          },
          "title": {
           "x": 0.05
          },
          "xaxis": {
           "automargin": true,
           "gridcolor": "white",
           "linecolor": "white",
           "ticks": "",
           "title": {
            "standoff": 15
           },
           "zerolinecolor": "white",
           "zerolinewidth": 2
          },
          "yaxis": {
           "automargin": true,
           "gridcolor": "white",
           "linecolor": "white",
           "ticks": "",
           "title": {
            "standoff": 15
           },
           "zerolinecolor": "white",
           "zerolinewidth": 2
          }
         }
        },
        "title": {
         "text": "states with highest number of death rate"
        },
        "xaxis": {
         "anchor": "y",
         "categoryarray": [
          1580428800000000000,
          1582934400000000000,
          1585612800000000000,
          1588204800000000000,
          1590883200000000000,
          1593475200000000000,
          1596153600000000000,
          1598832000000000000,
          1601424000000000000,
          1604102400000000000,
          1606694400000000000,
          1609372800000000000,
          1612051200000000000,
          1614470400000000000,
          1617148800000000000,
          1619740800000000000,
          1622419200000000000
         ],
         "categoryorder": "array",
         "domain": [
          0,
          1
         ],
         "title": {
          "text": "Date"
         }
        },
        "yaxis": {
         "anchor": "x",
         "domain": [
          0,
          1
         ],
         "title": {
          "text": "Death_percentage"
         }
        }
       }
      },
      "text/html": [
       "<div>                            <div id=\"b5c90312-d4c5-4232-baba-07604ea745f8\" class=\"plotly-graph-div\" style=\"height:525px; width:100%;\"></div>            <script type=\"text/javascript\">                require([\"plotly\"], function(Plotly) {                    window.PLOTLYENV=window.PLOTLYENV || {};                                    if (document.getElementById(\"b5c90312-d4c5-4232-baba-07604ea745f8\")) {                    Plotly.newPlot(                        \"b5c90312-d4c5-4232-baba-07604ea745f8\",                        [{\"alignmentgroup\": \"True\", \"customdata\": [[2, 0]], \"hovertemplate\": \"Date=%{x}<br>Death_percentage=%{y}<br>Confirmed=%{customdata[0]}<br>Deaths=%{customdata[1]}<extra></extra>\", \"legendgroup\": \"2020-01-31 00:00:00\", \"marker\": {\"color\": \"#B6E880\"}, \"name\": \"2020-01-31 00:00:00\", \"offsetgroup\": \"2020-01-31 00:00:00\", \"orientation\": \"v\", \"showlegend\": true, \"textposition\": \"auto\", \"type\": \"bar\", \"x\": [\"2020-01-31T00:00:00\"], \"xaxis\": \"x\", \"y\": [0.0], \"yaxis\": \"y\"}, {\"alignmentgroup\": \"True\", \"customdata\": [[86, 0]], \"hovertemplate\": \"Date=%{x}<br>Death_percentage=%{y}<br>Confirmed=%{customdata[0]}<br>Deaths=%{customdata[1]}<extra></extra>\", \"legendgroup\": \"2020-02-29 00:00:00\", \"marker\": {\"color\": \"#FF97FF\"}, \"name\": \"2020-02-29 00:00:00\", \"offsetgroup\": \"2020-02-29 00:00:00\", \"orientation\": \"v\", \"showlegend\": true, \"textposition\": \"auto\", \"type\": \"bar\", \"x\": [\"2020-02-29T00:00:00\"], \"xaxis\": \"x\", \"y\": [0.0], \"yaxis\": \"y\"}, {\"alignmentgroup\": \"True\", \"customdata\": [[9687, 202]], \"hovertemplate\": \"Date=%{x}<br>Death_percentage=%{y}<br>Confirmed=%{customdata[0]}<br>Deaths=%{customdata[1]}<extra></extra>\", \"legendgroup\": \"2020-03-31 00:00:00\", \"marker\": {\"color\": \"#FECB52\"}, \"name\": \"2020-03-31 00:00:00\", \"offsetgroup\": \"2020-03-31 00:00:00\", \"orientation\": \"v\", \"showlegend\": true, \"textposition\": \"auto\", \"type\": \"bar\", \"x\": [\"2020-03-31T00:00:00\"], \"xaxis\": \"x\", \"y\": [2.0852689171053993], \"yaxis\": \"y\"}, {\"alignmentgroup\": \"True\", \"customdata\": [[422442, 13270]], \"hovertemplate\": \"Date=%{x}<br>Death_percentage=%{y}<br>Confirmed=%{customdata[0]}<br>Deaths=%{customdata[1]}<extra></extra>\", \"legendgroup\": \"2020-04-30 00:00:00\", \"marker\": {\"color\": \"#636efa\"}, \"name\": \"2020-04-30 00:00:00\", \"offsetgroup\": \"2020-04-30 00:00:00\", \"orientation\": \"v\", \"showlegend\": true, \"textposition\": \"auto\", \"type\": \"bar\", \"x\": [\"2020-04-30T00:00:00\"], \"xaxis\": \"x\", \"y\": [3.141259628540723], \"yaxis\": \"y\"}, {\"alignmentgroup\": \"True\", \"customdata\": [[2938234, 89834]], \"hovertemplate\": \"Date=%{x}<br>Death_percentage=%{y}<br>Confirmed=%{customdata[0]}<br>Deaths=%{customdata[1]}<extra></extra>\", \"legendgroup\": \"2020-05-31 00:00:00\", \"marker\": {\"color\": \"#EF553B\"}, \"name\": \"2020-05-31 00:00:00\", \"offsetgroup\": \"2020-05-31 00:00:00\", \"orientation\": \"v\", \"showlegend\": true, \"textposition\": \"auto\", \"type\": \"bar\", \"x\": [\"2020-05-31T00:00:00\"], \"xaxis\": \"x\", \"y\": [3.0574147600225166], \"yaxis\": \"y\"}, {\"alignmentgroup\": \"True\", \"customdata\": [[10558374, 319690]], \"hovertemplate\": \"Date=%{x}<br>Death_percentage=%{y}<br>Confirmed=%{customdata[0]}<br>Deaths=%{customdata[1]}<extra></extra>\", \"legendgroup\": \"2020-06-30 00:00:00\", \"marker\": {\"color\": \"#00cc96\"}, \"name\": \"2020-06-30 00:00:00\", \"offsetgroup\": \"2020-06-30 00:00:00\", \"orientation\": \"v\", \"showlegend\": true, \"textposition\": \"auto\", \"type\": \"bar\", \"x\": [\"2020-06-30T00:00:00\"], \"xaxis\": \"x\", \"y\": [3.027833641808862], \"yaxis\": \"y\"}, {\"alignmentgroup\": \"True\", \"customdata\": [[31726501, 793511]], \"hovertemplate\": \"Date=%{x}<br>Death_percentage=%{y}<br>Confirmed=%{customdata[0]}<br>Deaths=%{customdata[1]}<extra></extra>\", \"legendgroup\": \"2020-07-31 00:00:00\", \"marker\": {\"color\": \"#ab63fa\"}, \"name\": \"2020-07-31 00:00:00\", \"offsetgroup\": \"2020-07-31 00:00:00\", \"orientation\": \"v\", \"showlegend\": true, \"textposition\": \"auto\", \"type\": \"bar\", \"x\": [\"2020-07-31T00:00:00\"], \"xaxis\": \"x\", \"y\": [2.5010983719887676], \"yaxis\": \"y\"}, {\"alignmentgroup\": \"True\", \"customdata\": [[80749620, 1553468]], \"hovertemplate\": \"Date=%{x}<br>Death_percentage=%{y}<br>Confirmed=%{customdata[0]}<br>Deaths=%{customdata[1]}<extra></extra>\", \"legendgroup\": \"2020-08-31 00:00:00\", \"marker\": {\"color\": \"#FFA15A\"}, \"name\": \"2020-08-31 00:00:00\", \"offsetgroup\": \"2020-08-31 00:00:00\", \"orientation\": \"v\", \"showlegend\": true, \"textposition\": \"auto\", \"type\": \"bar\", \"x\": [\"2020-08-31T00:00:00\"], \"xaxis\": \"x\", \"y\": [1.9238084340211137], \"yaxis\": \"y\"}, {\"alignmentgroup\": \"True\", \"customdata\": [[149113758, 2443374]], \"hovertemplate\": \"Date=%{x}<br>Death_percentage=%{y}<br>Confirmed=%{customdata[0]}<br>Deaths=%{customdata[1]}<extra></extra>\", \"legendgroup\": \"2020-09-30 00:00:00\", \"marker\": {\"color\": \"#19d3f3\"}, \"name\": \"2020-09-30 00:00:00\", \"offsetgroup\": \"2020-09-30 00:00:00\", \"orientation\": \"v\", \"showlegend\": true, \"textposition\": \"auto\", \"type\": \"bar\", \"x\": [\"2020-09-30T00:00:00\"], \"xaxis\": \"x\", \"y\": [1.63859729160605], \"yaxis\": \"y\"}, {\"alignmentgroup\": \"True\", \"customdata\": [[226770312, 3457615]], \"hovertemplate\": \"Date=%{x}<br>Death_percentage=%{y}<br>Confirmed=%{customdata[0]}<br>Deaths=%{customdata[1]}<extra></extra>\", \"legendgroup\": \"2020-10-31 00:00:00\", \"marker\": {\"color\": \"#FF6692\"}, \"name\": \"2020-10-31 00:00:00\", \"offsetgroup\": \"2020-10-31 00:00:00\", \"orientation\": \"v\", \"showlegend\": true, \"textposition\": \"auto\", \"type\": \"bar\", \"x\": [\"2020-10-31T00:00:00\"], \"xaxis\": \"x\", \"y\": [1.5247211901353297], \"yaxis\": \"y\"}, {\"alignmentgroup\": \"True\", \"customdata\": [[264556412, 3894165]], \"hovertemplate\": \"Date=%{x}<br>Death_percentage=%{y}<br>Confirmed=%{customdata[0]}<br>Deaths=%{customdata[1]}<extra></extra>\", \"legendgroup\": \"2020-11-30 00:00:00\", \"marker\": {\"color\": \"#B6E880\"}, \"name\": \"2020-11-30 00:00:00\", \"offsetgroup\": \"2020-11-30 00:00:00\", \"orientation\": \"v\", \"showlegend\": true, \"textposition\": \"auto\", \"type\": \"bar\", \"x\": [\"2020-11-30T00:00:00\"], \"xaxis\": \"x\", \"y\": [1.4719601655317278], \"yaxis\": \"y\"}, {\"alignmentgroup\": \"True\", \"customdata\": [[307177353, 4457379]], \"hovertemplate\": \"Date=%{x}<br>Death_percentage=%{y}<br>Confirmed=%{customdata[0]}<br>Deaths=%{customdata[1]}<extra></extra>\", \"legendgroup\": \"2020-12-31 00:00:00\", \"marker\": {\"color\": \"#FF97FF\"}, \"name\": \"2020-12-31 00:00:00\", \"offsetgroup\": \"2020-12-31 00:00:00\", \"orientation\": \"v\", \"showlegend\": true, \"textposition\": \"auto\", \"type\": \"bar\", \"x\": [\"2020-12-31T00:00:00\"], \"xaxis\": \"x\", \"y\": [1.4510767009571828], \"yaxis\": \"y\"}, {\"alignmentgroup\": \"True\", \"customdata\": [[326469747, 4709167]], \"hovertemplate\": \"Date=%{x}<br>Death_percentage=%{y}<br>Confirmed=%{customdata[0]}<br>Deaths=%{customdata[1]}<extra></extra>\", \"legendgroup\": \"2021-01-31 00:00:00\", \"marker\": {\"color\": \"#FECB52\"}, \"name\": \"2021-01-31 00:00:00\", \"offsetgroup\": \"2021-01-31 00:00:00\", \"orientation\": \"v\", \"showlegend\": true, \"textposition\": \"auto\", \"type\": \"bar\", \"x\": [\"2021-01-31T00:00:00\"], \"xaxis\": \"x\", \"y\": [1.4424512663955966], \"yaxis\": \"y\"}, {\"alignmentgroup\": \"True\", \"customdata\": [[305631803, 4359434]], \"hovertemplate\": \"Date=%{x}<br>Death_percentage=%{y}<br>Confirmed=%{customdata[0]}<br>Deaths=%{customdata[1]}<extra></extra>\", \"legendgroup\": \"2021-02-28 00:00:00\", \"marker\": {\"color\": \"#636efa\"}, \"name\": \"2021-02-28 00:00:00\", \"offsetgroup\": \"2021-02-28 00:00:00\", \"orientation\": \"v\", \"showlegend\": true, \"textposition\": \"auto\", \"type\": \"bar\", \"x\": [\"2021-02-28T00:00:00\"], \"xaxis\": \"x\", \"y\": [1.426367922843422], \"yaxis\": \"y\"}, {\"alignmentgroup\": \"True\", \"customdata\": [[356305616, 4935253]], \"hovertemplate\": \"Date=%{x}<br>Death_percentage=%{y}<br>Confirmed=%{customdata[0]}<br>Deaths=%{customdata[1]}<extra></extra>\", \"legendgroup\": \"2021-03-31 00:00:00\", \"marker\": {\"color\": \"#EF553B\"}, \"name\": \"2021-03-31 00:00:00\", \"offsetgroup\": \"2021-03-31 00:00:00\", \"orientation\": \"v\", \"showlegend\": true, \"textposition\": \"auto\", \"type\": \"bar\", \"x\": [\"2021-03-31T00:00:00\"], \"xaxis\": \"x\", \"y\": [1.3851179376302618], \"yaxis\": \"y\"}, {\"alignmentgroup\": \"True\", \"customdata\": [[440660671, 5340298]], \"hovertemplate\": \"Date=%{x}<br>Death_percentage=%{y}<br>Confirmed=%{customdata[0]}<br>Deaths=%{customdata[1]}<extra></extra>\", \"legendgroup\": \"2021-04-30 00:00:00\", \"marker\": {\"color\": \"#00cc96\"}, \"name\": \"2021-04-30 00:00:00\", \"offsetgroup\": \"2021-04-30 00:00:00\", \"orientation\": \"v\", \"showlegend\": true, \"textposition\": \"auto\", \"type\": \"bar\", \"x\": [\"2021-04-30T00:00:00\"], \"xaxis\": \"x\", \"y\": [1.2118844161611146], \"yaxis\": \"y\"}, {\"alignmentgroup\": \"True\", \"customdata\": [[58648030, 646354]], \"hovertemplate\": \"Date=%{x}<br>Death_percentage=%{y}<br>Confirmed=%{customdata[0]}<br>Deaths=%{customdata[1]}<extra></extra>\", \"legendgroup\": \"2021-05-31 00:00:00\", \"marker\": {\"color\": \"#ab63fa\"}, \"name\": \"2021-05-31 00:00:00\", \"offsetgroup\": \"2021-05-31 00:00:00\", \"orientation\": \"v\", \"showlegend\": true, \"textposition\": \"auto\", \"type\": \"bar\", \"x\": [\"2021-05-31T00:00:00\"], \"xaxis\": \"x\", \"y\": [1.1020898741185339], \"yaxis\": \"y\"}],                        {\"barmode\": \"relative\", \"legend\": {\"title\": {\"text\": \"Date\"}, \"tracegroupgap\": 0}, \"template\": {\"data\": {\"bar\": [{\"error_x\": {\"color\": \"#2a3f5f\"}, \"error_y\": {\"color\": \"#2a3f5f\"}, \"marker\": {\"line\": {\"color\": \"#E5ECF6\", \"width\": 0.5}}, \"type\": \"bar\"}], \"barpolar\": [{\"marker\": {\"line\": {\"color\": \"#E5ECF6\", \"width\": 0.5}}, \"type\": \"barpolar\"}], \"carpet\": [{\"aaxis\": {\"endlinecolor\": \"#2a3f5f\", \"gridcolor\": \"white\", \"linecolor\": \"white\", \"minorgridcolor\": \"white\", \"startlinecolor\": \"#2a3f5f\"}, \"baxis\": {\"endlinecolor\": \"#2a3f5f\", \"gridcolor\": \"white\", \"linecolor\": \"white\", \"minorgridcolor\": \"white\", \"startlinecolor\": \"#2a3f5f\"}, \"type\": \"carpet\"}], \"choropleth\": [{\"colorbar\": {\"outlinewidth\": 0, \"ticks\": \"\"}, \"type\": \"choropleth\"}], \"contour\": [{\"colorbar\": {\"outlinewidth\": 0, \"ticks\": \"\"}, \"colorscale\": [[0.0, \"#0d0887\"], [0.1111111111111111, \"#46039f\"], [0.2222222222222222, \"#7201a8\"], [0.3333333333333333, \"#9c179e\"], [0.4444444444444444, \"#bd3786\"], [0.5555555555555556, \"#d8576b\"], [0.6666666666666666, \"#ed7953\"], [0.7777777777777778, \"#fb9f3a\"], [0.8888888888888888, \"#fdca26\"], [1.0, \"#f0f921\"]], \"type\": \"contour\"}], \"contourcarpet\": [{\"colorbar\": {\"outlinewidth\": 0, \"ticks\": \"\"}, \"type\": \"contourcarpet\"}], \"heatmap\": [{\"colorbar\": {\"outlinewidth\": 0, \"ticks\": \"\"}, \"colorscale\": [[0.0, \"#0d0887\"], [0.1111111111111111, \"#46039f\"], [0.2222222222222222, \"#7201a8\"], [0.3333333333333333, \"#9c179e\"], [0.4444444444444444, \"#bd3786\"], [0.5555555555555556, \"#d8576b\"], [0.6666666666666666, \"#ed7953\"], [0.7777777777777778, \"#fb9f3a\"], [0.8888888888888888, \"#fdca26\"], [1.0, \"#f0f921\"]], \"type\": \"heatmap\"}], \"heatmapgl\": [{\"colorbar\": {\"outlinewidth\": 0, \"ticks\": \"\"}, \"colorscale\": [[0.0, \"#0d0887\"], [0.1111111111111111, \"#46039f\"], [0.2222222222222222, \"#7201a8\"], [0.3333333333333333, \"#9c179e\"], [0.4444444444444444, \"#bd3786\"], [0.5555555555555556, \"#d8576b\"], [0.6666666666666666, \"#ed7953\"], [0.7777777777777778, \"#fb9f3a\"], [0.8888888888888888, \"#fdca26\"], [1.0, \"#f0f921\"]], \"type\": \"heatmapgl\"}], \"histogram\": [{\"marker\": {\"colorbar\": {\"outlinewidth\": 0, \"ticks\": \"\"}}, \"type\": \"histogram\"}], \"histogram2d\": [{\"colorbar\": {\"outlinewidth\": 0, \"ticks\": \"\"}, \"colorscale\": [[0.0, \"#0d0887\"], [0.1111111111111111, \"#46039f\"], [0.2222222222222222, \"#7201a8\"], [0.3333333333333333, \"#9c179e\"], [0.4444444444444444, \"#bd3786\"], [0.5555555555555556, \"#d8576b\"], [0.6666666666666666, \"#ed7953\"], [0.7777777777777778, \"#fb9f3a\"], [0.8888888888888888, \"#fdca26\"], [1.0, \"#f0f921\"]], \"type\": \"histogram2d\"}], \"histogram2dcontour\": [{\"colorbar\": {\"outlinewidth\": 0, \"ticks\": \"\"}, \"colorscale\": [[0.0, \"#0d0887\"], [0.1111111111111111, \"#46039f\"], [0.2222222222222222, \"#7201a8\"], [0.3333333333333333, \"#9c179e\"], [0.4444444444444444, \"#bd3786\"], [0.5555555555555556, \"#d8576b\"], [0.6666666666666666, \"#ed7953\"], [0.7777777777777778, \"#fb9f3a\"], [0.8888888888888888, \"#fdca26\"], [1.0, \"#f0f921\"]], \"type\": \"histogram2dcontour\"}], \"mesh3d\": [{\"colorbar\": {\"outlinewidth\": 0, \"ticks\": \"\"}, \"type\": \"mesh3d\"}], \"parcoords\": [{\"line\": {\"colorbar\": {\"outlinewidth\": 0, \"ticks\": \"\"}}, \"type\": \"parcoords\"}], \"pie\": [{\"automargin\": true, \"type\": \"pie\"}], \"scatter\": [{\"marker\": {\"colorbar\": {\"outlinewidth\": 0, \"ticks\": \"\"}}, \"type\": \"scatter\"}], \"scatter3d\": [{\"line\": {\"colorbar\": {\"outlinewidth\": 0, \"ticks\": \"\"}}, \"marker\": {\"colorbar\": {\"outlinewidth\": 0, \"ticks\": \"\"}}, \"type\": \"scatter3d\"}], \"scattercarpet\": [{\"marker\": {\"colorbar\": {\"outlinewidth\": 0, \"ticks\": \"\"}}, \"type\": \"scattercarpet\"}], \"scattergeo\": [{\"marker\": {\"colorbar\": {\"outlinewidth\": 0, \"ticks\": \"\"}}, \"type\": \"scattergeo\"}], \"scattergl\": [{\"marker\": {\"colorbar\": {\"outlinewidth\": 0, \"ticks\": \"\"}}, \"type\": \"scattergl\"}], \"scattermapbox\": [{\"marker\": {\"colorbar\": {\"outlinewidth\": 0, \"ticks\": \"\"}}, \"type\": \"scattermapbox\"}], \"scatterpolar\": [{\"marker\": {\"colorbar\": {\"outlinewidth\": 0, \"ticks\": \"\"}}, \"type\": \"scatterpolar\"}], \"scatterpolargl\": [{\"marker\": {\"colorbar\": {\"outlinewidth\": 0, \"ticks\": \"\"}}, \"type\": \"scatterpolargl\"}], \"scatterternary\": [{\"marker\": {\"colorbar\": {\"outlinewidth\": 0, \"ticks\": \"\"}}, \"type\": \"scatterternary\"}], \"surface\": [{\"colorbar\": {\"outlinewidth\": 0, \"ticks\": \"\"}, \"colorscale\": [[0.0, \"#0d0887\"], [0.1111111111111111, \"#46039f\"], [0.2222222222222222, \"#7201a8\"], [0.3333333333333333, \"#9c179e\"], [0.4444444444444444, \"#bd3786\"], [0.5555555555555556, \"#d8576b\"], [0.6666666666666666, \"#ed7953\"], [0.7777777777777778, \"#fb9f3a\"], [0.8888888888888888, \"#fdca26\"], [1.0, \"#f0f921\"]], \"type\": \"surface\"}], \"table\": [{\"cells\": {\"fill\": {\"color\": \"#EBF0F8\"}, \"line\": {\"color\": \"white\"}}, \"header\": {\"fill\": {\"color\": \"#C8D4E3\"}, \"line\": {\"color\": \"white\"}}, \"type\": \"table\"}]}, \"layout\": {\"annotationdefaults\": {\"arrowcolor\": \"#2a3f5f\", \"arrowhead\": 0, \"arrowwidth\": 1}, \"autotypenumbers\": \"strict\", \"coloraxis\": {\"colorbar\": {\"outlinewidth\": 0, \"ticks\": \"\"}}, \"colorscale\": {\"diverging\": [[0, \"#8e0152\"], [0.1, \"#c51b7d\"], [0.2, \"#de77ae\"], [0.3, \"#f1b6da\"], [0.4, \"#fde0ef\"], [0.5, \"#f7f7f7\"], [0.6, \"#e6f5d0\"], [0.7, \"#b8e186\"], [0.8, \"#7fbc41\"], [0.9, \"#4d9221\"], [1, \"#276419\"]], \"sequential\": [[0.0, \"#0d0887\"], [0.1111111111111111, \"#46039f\"], [0.2222222222222222, \"#7201a8\"], [0.3333333333333333, \"#9c179e\"], [0.4444444444444444, \"#bd3786\"], [0.5555555555555556, \"#d8576b\"], [0.6666666666666666, \"#ed7953\"], [0.7777777777777778, \"#fb9f3a\"], [0.8888888888888888, \"#fdca26\"], [1.0, \"#f0f921\"]], \"sequentialminus\": [[0.0, \"#0d0887\"], [0.1111111111111111, \"#46039f\"], [0.2222222222222222, \"#7201a8\"], [0.3333333333333333, \"#9c179e\"], [0.4444444444444444, \"#bd3786\"], [0.5555555555555556, \"#d8576b\"], [0.6666666666666666, \"#ed7953\"], [0.7777777777777778, \"#fb9f3a\"], [0.8888888888888888, \"#fdca26\"], [1.0, \"#f0f921\"]]}, \"colorway\": [\"#636efa\", \"#EF553B\", \"#00cc96\", \"#ab63fa\", \"#FFA15A\", \"#19d3f3\", \"#FF6692\", \"#B6E880\", \"#FF97FF\", \"#FECB52\"], \"font\": {\"color\": \"#2a3f5f\"}, \"geo\": {\"bgcolor\": \"white\", \"lakecolor\": \"white\", \"landcolor\": \"#E5ECF6\", \"showlakes\": true, \"showland\": true, \"subunitcolor\": \"white\"}, \"hoverlabel\": {\"align\": \"left\"}, \"hovermode\": \"closest\", \"mapbox\": {\"style\": \"light\"}, \"paper_bgcolor\": \"white\", \"plot_bgcolor\": \"#E5ECF6\", \"polar\": {\"angularaxis\": {\"gridcolor\": \"white\", \"linecolor\": \"white\", \"ticks\": \"\"}, \"bgcolor\": \"#E5ECF6\", \"radialaxis\": {\"gridcolor\": \"white\", \"linecolor\": \"white\", \"ticks\": \"\"}}, \"scene\": {\"xaxis\": {\"backgroundcolor\": \"#E5ECF6\", \"gridcolor\": \"white\", \"gridwidth\": 2, \"linecolor\": \"white\", \"showbackground\": true, \"ticks\": \"\", \"zerolinecolor\": \"white\"}, \"yaxis\": {\"backgroundcolor\": \"#E5ECF6\", \"gridcolor\": \"white\", \"gridwidth\": 2, \"linecolor\": \"white\", \"showbackground\": true, \"ticks\": \"\", \"zerolinecolor\": \"white\"}, \"zaxis\": {\"backgroundcolor\": \"#E5ECF6\", \"gridcolor\": \"white\", \"gridwidth\": 2, \"linecolor\": \"white\", \"showbackground\": true, \"ticks\": \"\", \"zerolinecolor\": \"white\"}}, \"shapedefaults\": {\"line\": {\"color\": \"#2a3f5f\"}}, \"ternary\": {\"aaxis\": {\"gridcolor\": \"white\", \"linecolor\": \"white\", \"ticks\": \"\"}, \"baxis\": {\"gridcolor\": \"white\", \"linecolor\": \"white\", \"ticks\": \"\"}, \"bgcolor\": \"#E5ECF6\", \"caxis\": {\"gridcolor\": \"white\", \"linecolor\": \"white\", \"ticks\": \"\"}}, \"title\": {\"x\": 0.05}, \"xaxis\": {\"automargin\": true, \"gridcolor\": \"white\", \"linecolor\": \"white\", \"ticks\": \"\", \"title\": {\"standoff\": 15}, \"zerolinecolor\": \"white\", \"zerolinewidth\": 2}, \"yaxis\": {\"automargin\": true, \"gridcolor\": \"white\", \"linecolor\": \"white\", \"ticks\": \"\", \"title\": {\"standoff\": 15}, \"zerolinecolor\": \"white\", \"zerolinewidth\": 2}}}, \"title\": {\"text\": \"states with highest number of death rate\"}, \"xaxis\": {\"anchor\": \"y\", \"categoryarray\": [1580428800000000000, 1582934400000000000, 1585612800000000000, 1588204800000000000, 1590883200000000000, 1593475200000000000, 1596153600000000000, 1598832000000000000, 1601424000000000000, 1604102400000000000, 1606694400000000000, 1609372800000000000, 1612051200000000000, 1614470400000000000, 1617148800000000000, 1619740800000000000, 1622419200000000000], \"categoryorder\": \"array\", \"domain\": [0.0, 1.0], \"title\": {\"text\": \"Date\"}}, \"yaxis\": {\"anchor\": \"x\", \"domain\": [0.0, 1.0], \"title\": {\"text\": \"Death_percentage\"}}},                        {\"responsive\": true}                    ).then(function(){\n",
       "                            \n",
       "var gd = document.getElementById('b5c90312-d4c5-4232-baba-07604ea745f8');\n",
       "var x = new MutationObserver(function (mutations, observer) {{\n",
       "        var display = window.getComputedStyle(gd).display;\n",
       "        if (!display || display === 'none') {{\n",
       "            console.log([gd, 'removed!']);\n",
       "            Plotly.purge(gd);\n",
       "            observer.disconnect();\n",
       "        }}\n",
       "}});\n",
       "\n",
       "// Listen for the removal of the full notebook cells\n",
       "var notebookContainer = gd.closest('#notebook-container');\n",
       "if (notebookContainer) {{\n",
       "    x.observe(notebookContainer, {childList: true});\n",
       "}}\n",
       "\n",
       "// Listen for the clearing of the current output cell\n",
       "var outputEl = gd.closest('.output');\n",
       "if (outputEl) {{\n",
       "    x.observe(outputEl, {childList: true});\n",
       "}}\n",
       "\n",
       "                        })                };                });            </script>        </div>"
      ]
     },
     "metadata": {},
     "output_type": "display_data"
    }
   ],
   "source": [
    "# Deaths percentage\n",
    "fig = px.bar(month_wise, x='Date', y='Death_percentage',\n",
    "            hover_data=['Confirmed', 'Deaths'],\n",
    "            color='Date',\n",
    "            labels='Date(monthwise)',\n",
    "            title='states with highest number of death rate')\n",
    "\n",
    "fig.show();"
   ]
  },
  {
   "cell_type": "markdown",
   "id": "e6aed8fc",
   "metadata": {},
   "source": [
    "## EDA of Statewise Testing Details dataset"
   ]
  },
  {
   "cell_type": "code",
   "execution_count": 54,
   "id": "1384f867",
   "metadata": {},
   "outputs": [
    {
     "data": {
      "text/html": [
       "<div>\n",
       "<style scoped>\n",
       "    .dataframe tbody tr th:only-of-type {\n",
       "        vertical-align: middle;\n",
       "    }\n",
       "\n",
       "    .dataframe tbody tr th {\n",
       "        vertical-align: top;\n",
       "    }\n",
       "\n",
       "    .dataframe thead th {\n",
       "        text-align: right;\n",
       "    }\n",
       "</style>\n",
       "<table border=\"1\" class=\"dataframe\">\n",
       "  <thead>\n",
       "    <tr style=\"text-align: right;\">\n",
       "      <th></th>\n",
       "      <th>Date</th>\n",
       "      <th>State</th>\n",
       "      <th>TotalSamples</th>\n",
       "      <th>Negative</th>\n",
       "      <th>Positive</th>\n",
       "    </tr>\n",
       "  </thead>\n",
       "  <tbody>\n",
       "    <tr>\n",
       "      <th>0</th>\n",
       "      <td>2020-04-17</td>\n",
       "      <td>Andaman and Nicobar Islands</td>\n",
       "      <td>1403.0</td>\n",
       "      <td>1210</td>\n",
       "      <td>12.0</td>\n",
       "    </tr>\n",
       "    <tr>\n",
       "      <th>1</th>\n",
       "      <td>2020-04-24</td>\n",
       "      <td>Andaman and Nicobar Islands</td>\n",
       "      <td>2679.0</td>\n",
       "      <td>NaN</td>\n",
       "      <td>27.0</td>\n",
       "    </tr>\n",
       "    <tr>\n",
       "      <th>2</th>\n",
       "      <td>2020-04-27</td>\n",
       "      <td>Andaman and Nicobar Islands</td>\n",
       "      <td>2848.0</td>\n",
       "      <td>NaN</td>\n",
       "      <td>33.0</td>\n",
       "    </tr>\n",
       "    <tr>\n",
       "      <th>3</th>\n",
       "      <td>2020-05-01</td>\n",
       "      <td>Andaman and Nicobar Islands</td>\n",
       "      <td>3754.0</td>\n",
       "      <td>NaN</td>\n",
       "      <td>33.0</td>\n",
       "    </tr>\n",
       "    <tr>\n",
       "      <th>4</th>\n",
       "      <td>2020-05-16</td>\n",
       "      <td>Andaman and Nicobar Islands</td>\n",
       "      <td>6677.0</td>\n",
       "      <td>NaN</td>\n",
       "      <td>33.0</td>\n",
       "    </tr>\n",
       "  </tbody>\n",
       "</table>\n",
       "</div>"
      ],
      "text/plain": [
       "         Date                        State  TotalSamples Negative  Positive\n",
       "0  2020-04-17  Andaman and Nicobar Islands        1403.0     1210      12.0\n",
       "1  2020-04-24  Andaman and Nicobar Islands        2679.0      NaN      27.0\n",
       "2  2020-04-27  Andaman and Nicobar Islands        2848.0      NaN      33.0\n",
       "3  2020-05-01  Andaman and Nicobar Islands        3754.0      NaN      33.0\n",
       "4  2020-05-16  Andaman and Nicobar Islands        6677.0      NaN      33.0"
      ]
     },
     "execution_count": 54,
     "metadata": {},
     "output_type": "execute_result"
    }
   ],
   "source": [
    "covid_testing = pd.read_csv('Data/StatewiseTestingDetails.csv')\n",
    "covid_testing.head()"
   ]
  },
  {
   "cell_type": "code",
   "execution_count": 55,
   "id": "dece7003",
   "metadata": {},
   "outputs": [
    {
     "data": {
      "text/plain": [
       "(12849, 5)"
      ]
     },
     "execution_count": 55,
     "metadata": {},
     "output_type": "execute_result"
    }
   ],
   "source": [
    "covid_testing.shape"
   ]
  },
  {
   "cell_type": "code",
   "execution_count": 56,
   "id": "727ceede",
   "metadata": {},
   "outputs": [
    {
     "data": {
      "text/html": [
       "<div>\n",
       "<style scoped>\n",
       "    .dataframe tbody tr th:only-of-type {\n",
       "        vertical-align: middle;\n",
       "    }\n",
       "\n",
       "    .dataframe tbody tr th {\n",
       "        vertical-align: top;\n",
       "    }\n",
       "\n",
       "    .dataframe thead th {\n",
       "        text-align: right;\n",
       "    }\n",
       "</style>\n",
       "<table border=\"1\" class=\"dataframe\">\n",
       "  <thead>\n",
       "    <tr style=\"text-align: right;\">\n",
       "      <th></th>\n",
       "      <th>Date</th>\n",
       "      <th>State</th>\n",
       "      <th>TotalSamples</th>\n",
       "      <th>Negative</th>\n",
       "      <th>Positive</th>\n",
       "    </tr>\n",
       "  </thead>\n",
       "  <tbody>\n",
       "    <tr>\n",
       "      <th>0</th>\n",
       "      <td>2020-04-17</td>\n",
       "      <td>Andaman and Nicobar Islands</td>\n",
       "      <td>1403.0</td>\n",
       "      <td>1210</td>\n",
       "      <td>12.0</td>\n",
       "    </tr>\n",
       "    <tr>\n",
       "      <th>1</th>\n",
       "      <td>2020-04-24</td>\n",
       "      <td>Andaman and Nicobar Islands</td>\n",
       "      <td>2679.0</td>\n",
       "      <td>NaN</td>\n",
       "      <td>27.0</td>\n",
       "    </tr>\n",
       "    <tr>\n",
       "      <th>2</th>\n",
       "      <td>2020-04-27</td>\n",
       "      <td>Andaman and Nicobar Islands</td>\n",
       "      <td>2848.0</td>\n",
       "      <td>NaN</td>\n",
       "      <td>33.0</td>\n",
       "    </tr>\n",
       "    <tr>\n",
       "      <th>3</th>\n",
       "      <td>2020-05-01</td>\n",
       "      <td>Andaman and Nicobar Islands</td>\n",
       "      <td>3754.0</td>\n",
       "      <td>NaN</td>\n",
       "      <td>33.0</td>\n",
       "    </tr>\n",
       "    <tr>\n",
       "      <th>4</th>\n",
       "      <td>2020-05-16</td>\n",
       "      <td>Andaman and Nicobar Islands</td>\n",
       "      <td>6677.0</td>\n",
       "      <td>NaN</td>\n",
       "      <td>33.0</td>\n",
       "    </tr>\n",
       "  </tbody>\n",
       "</table>\n",
       "</div>"
      ],
      "text/plain": [
       "        Date                        State  TotalSamples Negative  Positive\n",
       "0 2020-04-17  Andaman and Nicobar Islands        1403.0     1210      12.0\n",
       "1 2020-04-24  Andaman and Nicobar Islands        2679.0      NaN      27.0\n",
       "2 2020-04-27  Andaman and Nicobar Islands        2848.0      NaN      33.0\n",
       "3 2020-05-01  Andaman and Nicobar Islands        3754.0      NaN      33.0\n",
       "4 2020-05-16  Andaman and Nicobar Islands        6677.0      NaN      33.0"
      ]
     },
     "execution_count": 56,
     "metadata": {},
     "output_type": "execute_result"
    }
   ],
   "source": [
    "covid_testing['Date'] = covid_testing['Date'].astype('datetime64[ns]')\n",
    "covid_testing.head()"
   ]
  },
  {
   "cell_type": "code",
   "execution_count": 57,
   "id": "f5ee69e0",
   "metadata": {},
   "outputs": [
    {
     "name": "stdout",
     "output_type": "stream",
     "text": [
      "<class 'pandas.core.frame.DataFrame'>\n",
      "RangeIndex: 12849 entries, 0 to 12848\n",
      "Data columns (total 5 columns):\n",
      " #   Column        Non-Null Count  Dtype         \n",
      "---  ------        --------------  -----         \n",
      " 0   Date          12849 non-null  datetime64[ns]\n",
      " 1   State         12849 non-null  object        \n",
      " 2   TotalSamples  12849 non-null  float64       \n",
      " 3   Negative      5938 non-null   object        \n",
      " 4   Positive      5395 non-null   float64       \n",
      "dtypes: datetime64[ns](1), float64(2), object(2)\n",
      "memory usage: 502.0+ KB\n"
     ]
    }
   ],
   "source": [
    "covid_testing.info()"
   ]
  },
  {
   "cell_type": "code",
   "execution_count": 58,
   "id": "0c4c66c4",
   "metadata": {},
   "outputs": [
    {
     "data": {
      "text/html": [
       "<div>\n",
       "<style scoped>\n",
       "    .dataframe tbody tr th:only-of-type {\n",
       "        vertical-align: middle;\n",
       "    }\n",
       "\n",
       "    .dataframe tbody tr th {\n",
       "        vertical-align: top;\n",
       "    }\n",
       "\n",
       "    .dataframe thead th {\n",
       "        text-align: right;\n",
       "    }\n",
       "</style>\n",
       "<table border=\"1\" class=\"dataframe\">\n",
       "  <thead>\n",
       "    <tr style=\"text-align: right;\">\n",
       "      <th></th>\n",
       "      <th>TotalSamples</th>\n",
       "      <th>Positive</th>\n",
       "    </tr>\n",
       "  </thead>\n",
       "  <tbody>\n",
       "    <tr>\n",
       "      <th>count</th>\n",
       "      <td>1.284900e+04</td>\n",
       "      <td>5.395000e+03</td>\n",
       "    </tr>\n",
       "    <tr>\n",
       "      <th>mean</th>\n",
       "      <td>3.533036e+06</td>\n",
       "      <td>5.185209e+04</td>\n",
       "    </tr>\n",
       "    <tr>\n",
       "      <th>std</th>\n",
       "      <td>5.726012e+06</td>\n",
       "      <td>1.649730e+05</td>\n",
       "    </tr>\n",
       "    <tr>\n",
       "      <th>min</th>\n",
       "      <td>5.800000e+01</td>\n",
       "      <td>0.000000e+00</td>\n",
       "    </tr>\n",
       "    <tr>\n",
       "      <th>25%</th>\n",
       "      <td>1.069510e+05</td>\n",
       "      <td>4.750000e+02</td>\n",
       "    </tr>\n",
       "    <tr>\n",
       "      <th>50%</th>\n",
       "      <td>5.779410e+05</td>\n",
       "      <td>4.072000e+03</td>\n",
       "    </tr>\n",
       "    <tr>\n",
       "      <th>75%</th>\n",
       "      <td>5.097274e+06</td>\n",
       "      <td>3.262600e+04</td>\n",
       "    </tr>\n",
       "    <tr>\n",
       "      <th>max</th>\n",
       "      <td>4.136205e+07</td>\n",
       "      <td>1.638961e+06</td>\n",
       "    </tr>\n",
       "  </tbody>\n",
       "</table>\n",
       "</div>"
      ],
      "text/plain": [
       "       TotalSamples      Positive\n",
       "count  1.284900e+04  5.395000e+03\n",
       "mean   3.533036e+06  5.185209e+04\n",
       "std    5.726012e+06  1.649730e+05\n",
       "min    5.800000e+01  0.000000e+00\n",
       "25%    1.069510e+05  4.750000e+02\n",
       "50%    5.779410e+05  4.072000e+03\n",
       "75%    5.097274e+06  3.262600e+04\n",
       "max    4.136205e+07  1.638961e+06"
      ]
     },
     "execution_count": 58,
     "metadata": {},
     "output_type": "execute_result"
    }
   ],
   "source": [
    "covid_testing.describe()"
   ]
  },
  {
   "cell_type": "code",
   "execution_count": 59,
   "id": "d0c732e0",
   "metadata": {},
   "outputs": [
    {
     "data": {
      "text/html": [
       "<div>\n",
       "<style scoped>\n",
       "    .dataframe tbody tr th:only-of-type {\n",
       "        vertical-align: middle;\n",
       "    }\n",
       "\n",
       "    .dataframe tbody tr th {\n",
       "        vertical-align: top;\n",
       "    }\n",
       "\n",
       "    .dataframe thead th {\n",
       "        text-align: right;\n",
       "    }\n",
       "</style>\n",
       "<table border=\"1\" class=\"dataframe\">\n",
       "  <thead>\n",
       "    <tr style=\"text-align: right;\">\n",
       "      <th></th>\n",
       "      <th>Date</th>\n",
       "      <th>State</th>\n",
       "      <th>TotalSamples</th>\n",
       "      <th>Negative</th>\n",
       "      <th>Positive</th>\n",
       "    </tr>\n",
       "  </thead>\n",
       "  <tbody>\n",
       "    <tr>\n",
       "      <th>0</th>\n",
       "      <td>2020-04-17</td>\n",
       "      <td>Andaman and Nicobar Islands</td>\n",
       "      <td>1403.0</td>\n",
       "      <td>1391.0</td>\n",
       "      <td>12.0</td>\n",
       "    </tr>\n",
       "    <tr>\n",
       "      <th>1</th>\n",
       "      <td>2020-04-24</td>\n",
       "      <td>Andaman and Nicobar Islands</td>\n",
       "      <td>2679.0</td>\n",
       "      <td>2652.0</td>\n",
       "      <td>27.0</td>\n",
       "    </tr>\n",
       "    <tr>\n",
       "      <th>2</th>\n",
       "      <td>2020-04-27</td>\n",
       "      <td>Andaman and Nicobar Islands</td>\n",
       "      <td>2848.0</td>\n",
       "      <td>2815.0</td>\n",
       "      <td>33.0</td>\n",
       "    </tr>\n",
       "    <tr>\n",
       "      <th>3</th>\n",
       "      <td>2020-05-01</td>\n",
       "      <td>Andaman and Nicobar Islands</td>\n",
       "      <td>3754.0</td>\n",
       "      <td>3721.0</td>\n",
       "      <td>33.0</td>\n",
       "    </tr>\n",
       "    <tr>\n",
       "      <th>4</th>\n",
       "      <td>2020-05-16</td>\n",
       "      <td>Andaman and Nicobar Islands</td>\n",
       "      <td>6677.0</td>\n",
       "      <td>6644.0</td>\n",
       "      <td>33.0</td>\n",
       "    </tr>\n",
       "    <tr>\n",
       "      <th>5</th>\n",
       "      <td>2020-05-19</td>\n",
       "      <td>Andaman and Nicobar Islands</td>\n",
       "      <td>6965.0</td>\n",
       "      <td>6932.0</td>\n",
       "      <td>33.0</td>\n",
       "    </tr>\n",
       "    <tr>\n",
       "      <th>6</th>\n",
       "      <td>2020-05-20</td>\n",
       "      <td>Andaman and Nicobar Islands</td>\n",
       "      <td>7082.0</td>\n",
       "      <td>7049.0</td>\n",
       "      <td>33.0</td>\n",
       "    </tr>\n",
       "    <tr>\n",
       "      <th>7</th>\n",
       "      <td>2020-05-21</td>\n",
       "      <td>Andaman and Nicobar Islands</td>\n",
       "      <td>7167.0</td>\n",
       "      <td>7134.0</td>\n",
       "      <td>33.0</td>\n",
       "    </tr>\n",
       "    <tr>\n",
       "      <th>8</th>\n",
       "      <td>2020-05-22</td>\n",
       "      <td>Andaman and Nicobar Islands</td>\n",
       "      <td>7263.0</td>\n",
       "      <td>7230.0</td>\n",
       "      <td>33.0</td>\n",
       "    </tr>\n",
       "    <tr>\n",
       "      <th>9</th>\n",
       "      <td>2020-05-23</td>\n",
       "      <td>Andaman and Nicobar Islands</td>\n",
       "      <td>7327.0</td>\n",
       "      <td>7294.0</td>\n",
       "      <td>33.0</td>\n",
       "    </tr>\n",
       "    <tr>\n",
       "      <th>10</th>\n",
       "      <td>2020-05-24</td>\n",
       "      <td>Andaman and Nicobar Islands</td>\n",
       "      <td>7327.0</td>\n",
       "      <td>7294.0</td>\n",
       "      <td>33.0</td>\n",
       "    </tr>\n",
       "    <tr>\n",
       "      <th>11</th>\n",
       "      <td>2020-05-25</td>\n",
       "      <td>Andaman and Nicobar Islands</td>\n",
       "      <td>7363.0</td>\n",
       "      <td>7330.0</td>\n",
       "      <td>33.0</td>\n",
       "    </tr>\n",
       "    <tr>\n",
       "      <th>12</th>\n",
       "      <td>2020-05-26</td>\n",
       "      <td>Andaman and Nicobar Islands</td>\n",
       "      <td>7448.0</td>\n",
       "      <td>7415.0</td>\n",
       "      <td>33.0</td>\n",
       "    </tr>\n",
       "    <tr>\n",
       "      <th>13</th>\n",
       "      <td>2020-05-27</td>\n",
       "      <td>Andaman and Nicobar Islands</td>\n",
       "      <td>7499.0</td>\n",
       "      <td>7466.0</td>\n",
       "      <td>33.0</td>\n",
       "    </tr>\n",
       "    <tr>\n",
       "      <th>14</th>\n",
       "      <td>2020-05-28</td>\n",
       "      <td>Andaman and Nicobar Islands</td>\n",
       "      <td>7519.0</td>\n",
       "      <td>7486.0</td>\n",
       "      <td>33.0</td>\n",
       "    </tr>\n",
       "    <tr>\n",
       "      <th>15</th>\n",
       "      <td>2020-05-29</td>\n",
       "      <td>Andaman and Nicobar Islands</td>\n",
       "      <td>7567.0</td>\n",
       "      <td>7534.0</td>\n",
       "      <td>33.0</td>\n",
       "    </tr>\n",
       "    <tr>\n",
       "      <th>16</th>\n",
       "      <td>2020-05-30</td>\n",
       "      <td>Andaman and Nicobar Islands</td>\n",
       "      <td>7567.0</td>\n",
       "      <td>7534.0</td>\n",
       "      <td>33.0</td>\n",
       "    </tr>\n",
       "    <tr>\n",
       "      <th>17</th>\n",
       "      <td>2020-05-31</td>\n",
       "      <td>Andaman and Nicobar Islands</td>\n",
       "      <td>7706.0</td>\n",
       "      <td>7673.0</td>\n",
       "      <td>33.0</td>\n",
       "    </tr>\n",
       "    <tr>\n",
       "      <th>18</th>\n",
       "      <td>2020-06-01</td>\n",
       "      <td>Andaman and Nicobar Islands</td>\n",
       "      <td>7805.0</td>\n",
       "      <td>7772.0</td>\n",
       "      <td>33.0</td>\n",
       "    </tr>\n",
       "    <tr>\n",
       "      <th>19</th>\n",
       "      <td>2020-06-02</td>\n",
       "      <td>Andaman and Nicobar Islands</td>\n",
       "      <td>8086.0</td>\n",
       "      <td>8053.0</td>\n",
       "      <td>33.0</td>\n",
       "    </tr>\n",
       "  </tbody>\n",
       "</table>\n",
       "</div>"
      ],
      "text/plain": [
       "         Date                        State  TotalSamples  Negative  Positive\n",
       "0  2020-04-17  Andaman and Nicobar Islands        1403.0    1391.0      12.0\n",
       "1  2020-04-24  Andaman and Nicobar Islands        2679.0    2652.0      27.0\n",
       "2  2020-04-27  Andaman and Nicobar Islands        2848.0    2815.0      33.0\n",
       "3  2020-05-01  Andaman and Nicobar Islands        3754.0    3721.0      33.0\n",
       "4  2020-05-16  Andaman and Nicobar Islands        6677.0    6644.0      33.0\n",
       "5  2020-05-19  Andaman and Nicobar Islands        6965.0    6932.0      33.0\n",
       "6  2020-05-20  Andaman and Nicobar Islands        7082.0    7049.0      33.0\n",
       "7  2020-05-21  Andaman and Nicobar Islands        7167.0    7134.0      33.0\n",
       "8  2020-05-22  Andaman and Nicobar Islands        7263.0    7230.0      33.0\n",
       "9  2020-05-23  Andaman and Nicobar Islands        7327.0    7294.0      33.0\n",
       "10 2020-05-24  Andaman and Nicobar Islands        7327.0    7294.0      33.0\n",
       "11 2020-05-25  Andaman and Nicobar Islands        7363.0    7330.0      33.0\n",
       "12 2020-05-26  Andaman and Nicobar Islands        7448.0    7415.0      33.0\n",
       "13 2020-05-27  Andaman and Nicobar Islands        7499.0    7466.0      33.0\n",
       "14 2020-05-28  Andaman and Nicobar Islands        7519.0    7486.0      33.0\n",
       "15 2020-05-29  Andaman and Nicobar Islands        7567.0    7534.0      33.0\n",
       "16 2020-05-30  Andaman and Nicobar Islands        7567.0    7534.0      33.0\n",
       "17 2020-05-31  Andaman and Nicobar Islands        7706.0    7673.0      33.0\n",
       "18 2020-06-01  Andaman and Nicobar Islands        7805.0    7772.0      33.0\n",
       "19 2020-06-02  Andaman and Nicobar Islands        8086.0    8053.0      33.0"
      ]
     },
     "execution_count": 59,
     "metadata": {},
     "output_type": "execute_result"
    }
   ],
   "source": [
    "covid_testing['Negative'] = covid_testing['TotalSamples'] - covid_testing['Positive']\n",
    "covid_testing.head(20)"
   ]
  },
  {
   "cell_type": "code",
   "execution_count": 60,
   "id": "9b9c64e5",
   "metadata": {},
   "outputs": [
    {
     "name": "stdout",
     "output_type": "stream",
     "text": [
      "<class 'pandas.core.frame.DataFrame'>\n",
      "RangeIndex: 12849 entries, 0 to 12848\n",
      "Data columns (total 5 columns):\n",
      " #   Column        Non-Null Count  Dtype         \n",
      "---  ------        --------------  -----         \n",
      " 0   Date          12849 non-null  datetime64[ns]\n",
      " 1   State         12849 non-null  object        \n",
      " 2   TotalSamples  12849 non-null  float64       \n",
      " 3   Negative      5395 non-null   float64       \n",
      " 4   Positive      5395 non-null   float64       \n",
      "dtypes: datetime64[ns](1), float64(3), object(1)\n",
      "memory usage: 502.0+ KB\n"
     ]
    }
   ],
   "source": [
    "covid_testing.info()"
   ]
  },
  {
   "cell_type": "code",
   "execution_count": 61,
   "id": "38d85d5e",
   "metadata": {},
   "outputs": [],
   "source": [
    "# Check null values"
   ]
  },
  {
   "cell_type": "code",
   "execution_count": 62,
   "id": "ecd62e9d",
   "metadata": {},
   "outputs": [
    {
     "data": {
      "text/plain": [
       "Date               0\n",
       "State              0\n",
       "TotalSamples       0\n",
       "Negative        7454\n",
       "Positive        7454\n",
       "dtype: int64"
      ]
     },
     "execution_count": 62,
     "metadata": {},
     "output_type": "execute_result"
    }
   ],
   "source": [
    "covid_testing.isna().sum()"
   ]
  },
  {
   "cell_type": "code",
   "execution_count": 63,
   "id": "c817e3c2",
   "metadata": {},
   "outputs": [
    {
     "data": {
      "text/plain": [
       "Date            datetime64[ns]\n",
       "State                   object\n",
       "TotalSamples           float64\n",
       "Negative               float64\n",
       "Positive               float64\n",
       "dtype: object"
      ]
     },
     "execution_count": 63,
     "metadata": {},
     "output_type": "execute_result"
    }
   ],
   "source": [
    "covid_testing.dtypes"
   ]
  },
  {
   "cell_type": "code",
   "execution_count": 67,
   "id": "f50fb901",
   "metadata": {},
   "outputs": [],
   "source": [
    "# Drop null values\n",
    "covid_testing = covid_testing.dropna()"
   ]
  },
  {
   "cell_type": "code",
   "execution_count": 68,
   "id": "24fff005",
   "metadata": {},
   "outputs": [
    {
     "data": {
      "text/html": [
       "<div>\n",
       "<style scoped>\n",
       "    .dataframe tbody tr th:only-of-type {\n",
       "        vertical-align: middle;\n",
       "    }\n",
       "\n",
       "    .dataframe tbody tr th {\n",
       "        vertical-align: top;\n",
       "    }\n",
       "\n",
       "    .dataframe thead th {\n",
       "        text-align: right;\n",
       "    }\n",
       "</style>\n",
       "<table border=\"1\" class=\"dataframe\">\n",
       "  <thead>\n",
       "    <tr style=\"text-align: right;\">\n",
       "      <th></th>\n",
       "      <th>Date</th>\n",
       "      <th>State</th>\n",
       "      <th>TotalSamples</th>\n",
       "      <th>Negative</th>\n",
       "      <th>Positive</th>\n",
       "    </tr>\n",
       "  </thead>\n",
       "  <tbody>\n",
       "    <tr>\n",
       "      <th>0</th>\n",
       "      <td>2020-04-17</td>\n",
       "      <td>Andaman and Nicobar Islands</td>\n",
       "      <td>1403.0</td>\n",
       "      <td>1391.0</td>\n",
       "      <td>12.0</td>\n",
       "    </tr>\n",
       "    <tr>\n",
       "      <th>1</th>\n",
       "      <td>2020-04-24</td>\n",
       "      <td>Andaman and Nicobar Islands</td>\n",
       "      <td>2679.0</td>\n",
       "      <td>2652.0</td>\n",
       "      <td>27.0</td>\n",
       "    </tr>\n",
       "    <tr>\n",
       "      <th>2</th>\n",
       "      <td>2020-04-27</td>\n",
       "      <td>Andaman and Nicobar Islands</td>\n",
       "      <td>2848.0</td>\n",
       "      <td>2815.0</td>\n",
       "      <td>33.0</td>\n",
       "    </tr>\n",
       "    <tr>\n",
       "      <th>3</th>\n",
       "      <td>2020-05-01</td>\n",
       "      <td>Andaman and Nicobar Islands</td>\n",
       "      <td>3754.0</td>\n",
       "      <td>3721.0</td>\n",
       "      <td>33.0</td>\n",
       "    </tr>\n",
       "    <tr>\n",
       "      <th>4</th>\n",
       "      <td>2020-05-16</td>\n",
       "      <td>Andaman and Nicobar Islands</td>\n",
       "      <td>6677.0</td>\n",
       "      <td>6644.0</td>\n",
       "      <td>33.0</td>\n",
       "    </tr>\n",
       "  </tbody>\n",
       "</table>\n",
       "</div>"
      ],
      "text/plain": [
       "        Date                        State  TotalSamples  Negative  Positive\n",
       "0 2020-04-17  Andaman and Nicobar Islands        1403.0    1391.0      12.0\n",
       "1 2020-04-24  Andaman and Nicobar Islands        2679.0    2652.0      27.0\n",
       "2 2020-04-27  Andaman and Nicobar Islands        2848.0    2815.0      33.0\n",
       "3 2020-05-01  Andaman and Nicobar Islands        3754.0    3721.0      33.0\n",
       "4 2020-05-16  Andaman and Nicobar Islands        6677.0    6644.0      33.0"
      ]
     },
     "execution_count": 68,
     "metadata": {},
     "output_type": "execute_result"
    }
   ],
   "source": [
    "covid_testing.head()"
   ]
  },
  {
   "cell_type": "code",
   "execution_count": 69,
   "id": "884a1b52",
   "metadata": {},
   "outputs": [
    {
     "data": {
      "text/plain": [
       "(5395, 5)"
      ]
     },
     "execution_count": 69,
     "metadata": {},
     "output_type": "execute_result"
    }
   ],
   "source": [
    "covid_testing.shape\n"
   ]
  },
  {
   "cell_type": "markdown",
   "id": "d4e36999",
   "metadata": {},
   "source": [
    "## Statewise Analysis"
   ]
  },
  {
   "cell_type": "code",
   "execution_count": 70,
   "id": "8073676a",
   "metadata": {},
   "outputs": [
    {
     "name": "stderr",
     "output_type": "stream",
     "text": [
      "<ipython-input-70-290fa2cf2777>:1: FutureWarning:\n",
      "\n",
      "Indexing with multiple keys (implicitly converted to a tuple of keys) will be deprecated, use a list instead.\n",
      "\n"
     ]
    },
    {
     "data": {
      "text/html": [
       "<style  type=\"text/css\" >\n",
       "#T_addd7_row0_col1,#T_addd7_row12_col4{\n",
       "            background-color:  #faf2f8;\n",
       "            color:  #000000;\n",
       "        }#T_addd7_row0_col2,#T_addd7_row27_col3{\n",
       "            background-color:  #f9f2f8;\n",
       "            color:  #000000;\n",
       "        }#T_addd7_row0_col3,#T_addd7_row0_col4,#T_addd7_row2_col3,#T_addd7_row5_col1,#T_addd7_row5_col2,#T_addd7_row5_col3,#T_addd7_row7_col3,#T_addd7_row12_col3,#T_addd7_row17_col1,#T_addd7_row17_col3,#T_addd7_row20_col3,#T_addd7_row21_col3,#T_addd7_row22_col1,#T_addd7_row22_col2,#T_addd7_row22_col3,#T_addd7_row23_col1,#T_addd7_row23_col2,#T_addd7_row23_col3,#T_addd7_row28_col1,#T_addd7_row28_col2,#T_addd7_row28_col3{\n",
       "            background-color:  #fff7fb;\n",
       "            color:  #000000;\n",
       "        }#T_addd7_row1_col1{\n",
       "            background-color:  #cdd0e5;\n",
       "            color:  #000000;\n",
       "        }#T_addd7_row1_col2{\n",
       "            background-color:  #cccfe5;\n",
       "            color:  #000000;\n",
       "        }#T_addd7_row1_col3{\n",
       "            background-color:  #e8e4f0;\n",
       "            color:  #000000;\n",
       "        }#T_addd7_row1_col4{\n",
       "            background-color:  #8cb3d5;\n",
       "            color:  #000000;\n",
       "        }#T_addd7_row2_col1,#T_addd7_row2_col2,#T_addd7_row6_col3,#T_addd7_row20_col1,#T_addd7_row20_col2,#T_addd7_row33_col3{\n",
       "            background-color:  #fef6fa;\n",
       "            color:  #000000;\n",
       "        }#T_addd7_row2_col4{\n",
       "            background-color:  #faf3f9;\n",
       "            color:  #000000;\n",
       "        }#T_addd7_row3_col1{\n",
       "            background-color:  #dcdaeb;\n",
       "            color:  #000000;\n",
       "        }#T_addd7_row3_col2,#T_addd7_row27_col1{\n",
       "            background-color:  #d9d8ea;\n",
       "            color:  #000000;\n",
       "        }#T_addd7_row3_col3,#T_addd7_row4_col3{\n",
       "            background-color:  #f7f0f7;\n",
       "            color:  #000000;\n",
       "        }#T_addd7_row3_col4,#T_addd7_row11_col3{\n",
       "            background-color:  #e3e0ee;\n",
       "            color:  #000000;\n",
       "        }#T_addd7_row4_col1,#T_addd7_row8_col1{\n",
       "            background-color:  #ebe6f2;\n",
       "            color:  #000000;\n",
       "        }#T_addd7_row4_col2,#T_addd7_row32_col4{\n",
       "            background-color:  #eae6f1;\n",
       "            color:  #000000;\n",
       "        }#T_addd7_row4_col4{\n",
       "            background-color:  #bbc7e0;\n",
       "            color:  #000000;\n",
       "        }#T_addd7_row5_col4{\n",
       "            background-color:  #75a9cf;\n",
       "            color:  #000000;\n",
       "        }#T_addd7_row6_col1,#T_addd7_row6_col2,#T_addd7_row21_col4{\n",
       "            background-color:  #f8f1f8;\n",
       "            color:  #000000;\n",
       "        }#T_addd7_row6_col4,#T_addd7_row14_col3{\n",
       "            background-color:  #e7e3f0;\n",
       "            color:  #000000;\n",
       "        }#T_addd7_row7_col1,#T_addd7_row7_col2,#T_addd7_row9_col3,#T_addd7_row17_col2,#T_addd7_row21_col1,#T_addd7_row21_col2{\n",
       "            background-color:  #fef6fb;\n",
       "            color:  #000000;\n",
       "        }#T_addd7_row7_col4,#T_addd7_row34_col2{\n",
       "            background-color:  #e5e1ef;\n",
       "            color:  #000000;\n",
       "        }#T_addd7_row8_col2{\n",
       "            background-color:  #ece7f2;\n",
       "            color:  #000000;\n",
       "        }#T_addd7_row8_col3,#T_addd7_row13_col2{\n",
       "            background-color:  #f1ebf5;\n",
       "            color:  #000000;\n",
       "        }#T_addd7_row8_col4{\n",
       "            background-color:  #4c99c5;\n",
       "            color:  #000000;\n",
       "        }#T_addd7_row9_col1,#T_addd7_row9_col2,#T_addd7_row12_col1,#T_addd7_row12_col2,#T_addd7_row13_col3{\n",
       "            background-color:  #fdf5fa;\n",
       "            color:  #000000;\n",
       "        }#T_addd7_row9_col4,#T_addd7_row25_col4{\n",
       "            background-color:  #bfc9e1;\n",
       "            color:  #000000;\n",
       "        }#T_addd7_row10_col1{\n",
       "            background-color:  #88b1d4;\n",
       "            color:  #000000;\n",
       "        }#T_addd7_row10_col2{\n",
       "            background-color:  #7bacd1;\n",
       "            color:  #000000;\n",
       "        }#T_addd7_row10_col3,#T_addd7_row10_col4,#T_addd7_row13_col1,#T_addd7_row34_col3{\n",
       "            background-color:  #f2ecf5;\n",
       "            color:  #000000;\n",
       "        }#T_addd7_row11_col1{\n",
       "            background-color:  #3d93c2;\n",
       "            color:  #000000;\n",
       "        }#T_addd7_row11_col2{\n",
       "            background-color:  #2d8abd;\n",
       "            color:  #000000;\n",
       "        }#T_addd7_row11_col4{\n",
       "            background-color:  #e1dfed;\n",
       "            color:  #000000;\n",
       "        }#T_addd7_row13_col4{\n",
       "            background-color:  #ede8f3;\n",
       "            color:  #000000;\n",
       "        }#T_addd7_row14_col1{\n",
       "            background-color:  #1077b4;\n",
       "            color:  #f1f1f1;\n",
       "        }#T_addd7_row14_col2{\n",
       "            background-color:  #056caa;\n",
       "            color:  #f1f1f1;\n",
       "        }#T_addd7_row14_col4{\n",
       "            background-color:  #efe9f3;\n",
       "            color:  #000000;\n",
       "        }#T_addd7_row15_col1,#T_addd7_row26_col4{\n",
       "            background-color:  #d3d4e7;\n",
       "            color:  #000000;\n",
       "        }#T_addd7_row15_col2,#T_addd7_row26_col2{\n",
       "            background-color:  #d4d4e8;\n",
       "            color:  #000000;\n",
       "        }#T_addd7_row15_col3,#T_addd7_row18_col4{\n",
       "            background-color:  #e4e1ef;\n",
       "            color:  #000000;\n",
       "        }#T_addd7_row15_col4{\n",
       "            background-color:  #569dc8;\n",
       "            color:  #000000;\n",
       "        }#T_addd7_row16_col1,#T_addd7_row16_col2,#T_addd7_row19_col3,#T_addd7_row19_col4{\n",
       "            background-color:  #023858;\n",
       "            color:  #f1f1f1;\n",
       "        }#T_addd7_row16_col3{\n",
       "            background-color:  #529bc7;\n",
       "            color:  #000000;\n",
       "        }#T_addd7_row16_col4{\n",
       "            background-color:  #84b0d3;\n",
       "            color:  #000000;\n",
       "        }#T_addd7_row17_col4{\n",
       "            background-color:  #a9bfdc;\n",
       "            color:  #000000;\n",
       "        }#T_addd7_row18_col1{\n",
       "            background-color:  #eee8f3;\n",
       "            color:  #000000;\n",
       "        }#T_addd7_row18_col2{\n",
       "            background-color:  #ede7f2;\n",
       "            color:  #000000;\n",
       "        }#T_addd7_row18_col3{\n",
       "            background-color:  #fbf3f9;\n",
       "            color:  #000000;\n",
       "        }#T_addd7_row19_col1{\n",
       "            background-color:  #045788;\n",
       "            color:  #f1f1f1;\n",
       "        }#T_addd7_row19_col2{\n",
       "            background-color:  #0569a4;\n",
       "            color:  #f1f1f1;\n",
       "        }#T_addd7_row20_col4,#T_addd7_row30_col1,#T_addd7_row30_col2{\n",
       "            background-color:  #e9e5f1;\n",
       "            color:  #000000;\n",
       "        }#T_addd7_row22_col4,#T_addd7_row25_col1,#T_addd7_row25_col2{\n",
       "            background-color:  #f5eff6;\n",
       "            color:  #000000;\n",
       "        }#T_addd7_row23_col4{\n",
       "            background-color:  #c1cae2;\n",
       "            color:  #000000;\n",
       "        }#T_addd7_row24_col1{\n",
       "            background-color:  #e2dfee;\n",
       "            color:  #000000;\n",
       "        }#T_addd7_row24_col2{\n",
       "            background-color:  #e0deed;\n",
       "            color:  #000000;\n",
       "        }#T_addd7_row24_col3{\n",
       "            background-color:  #f6eff7;\n",
       "            color:  #000000;\n",
       "        }#T_addd7_row24_col4{\n",
       "            background-color:  #d2d2e7;\n",
       "            color:  #000000;\n",
       "        }#T_addd7_row25_col3{\n",
       "            background-color:  #fbf4f9;\n",
       "            color:  #000000;\n",
       "        }#T_addd7_row26_col1{\n",
       "            background-color:  #d7d6e9;\n",
       "            color:  #000000;\n",
       "        }#T_addd7_row26_col3,#T_addd7_row28_col4,#T_addd7_row30_col3,#T_addd7_row31_col2,#T_addd7_row32_col3{\n",
       "            background-color:  #f4edf6;\n",
       "            color:  #000000;\n",
       "        }#T_addd7_row27_col2{\n",
       "            background-color:  #d5d5e8;\n",
       "            color:  #000000;\n",
       "        }#T_addd7_row27_col4{\n",
       "            background-color:  #f1ebf4;\n",
       "            color:  #000000;\n",
       "        }#T_addd7_row29_col1{\n",
       "            background-color:  #94b6d7;\n",
       "            color:  #000000;\n",
       "        }#T_addd7_row29_col2,#T_addd7_row29_col4{\n",
       "            background-color:  #93b5d6;\n",
       "            color:  #000000;\n",
       "        }#T_addd7_row29_col3{\n",
       "            background-color:  #d6d6e9;\n",
       "            color:  #000000;\n",
       "        }#T_addd7_row30_col4{\n",
       "            background-color:  #91b5d6;\n",
       "            color:  #000000;\n",
       "        }#T_addd7_row31_col1,#T_addd7_row33_col1{\n",
       "            background-color:  #f4eef6;\n",
       "            color:  #000000;\n",
       "        }#T_addd7_row31_col3,#T_addd7_row33_col4{\n",
       "            background-color:  #fcf4fa;\n",
       "            color:  #000000;\n",
       "        }#T_addd7_row31_col4{\n",
       "            background-color:  #dddbec;\n",
       "            color:  #000000;\n",
       "        }#T_addd7_row32_col1{\n",
       "            background-color:  #b5c4df;\n",
       "            color:  #000000;\n",
       "        }#T_addd7_row32_col2{\n",
       "            background-color:  #adc1dd;\n",
       "            color:  #000000;\n",
       "        }#T_addd7_row33_col2{\n",
       "            background-color:  #f3edf5;\n",
       "            color:  #000000;\n",
       "        }#T_addd7_row34_col1{\n",
       "            background-color:  #e6e2ef;\n",
       "            color:  #000000;\n",
       "        }#T_addd7_row34_col4{\n",
       "            background-color:  #96b6d7;\n",
       "            color:  #000000;\n",
       "        }</style><table id=\"T_addd7_\" ><thead>    <tr>        <th class=\"blank level0\" ></th>        <th class=\"col_heading level0 col0\" >State</th>        <th class=\"col_heading level0 col1\" >TotalSamples</th>        <th class=\"col_heading level0 col2\" >Negative</th>        <th class=\"col_heading level0 col3\" >Positive</th>        <th class=\"col_heading level0 col4\" >Positive_percentage</th>    </tr></thead><tbody>\n",
       "                <tr>\n",
       "                        <th id=\"T_addd7_level0_row0\" class=\"row_heading level0 row0\" >0</th>\n",
       "                        <td id=\"T_addd7_row0_col0\" class=\"data row0 col0\" >Andaman and Nicobar Islands</td>\n",
       "                        <td id=\"T_addd7_row0_col1\" class=\"data row0 col1\" >370896.000000</td>\n",
       "                        <td id=\"T_addd7_row0_col2\" class=\"data row0 col2\" >364947.000000</td>\n",
       "                        <td id=\"T_addd7_row0_col3\" class=\"data row0 col3\" >5949.000000</td>\n",
       "                        <td id=\"T_addd7_row0_col4\" class=\"data row0 col4\" >1.603954</td>\n",
       "            </tr>\n",
       "            <tr>\n",
       "                        <th id=\"T_addd7_level0_row1\" class=\"row_heading level0 row1\" >1</th>\n",
       "                        <td id=\"T_addd7_row1_col0\" class=\"data row1 col0\" >Andhra Pradesh</td>\n",
       "                        <td id=\"T_addd7_row1_col1\" class=\"data row1 col1\" >2534304.000000</td>\n",
       "                        <td id=\"T_addd7_row1_col2\" class=\"data row1 col2\" >2298779.000000</td>\n",
       "                        <td id=\"T_addd7_row1_col3\" class=\"data row1 col3\" >235525.000000</td>\n",
       "                        <td id=\"T_addd7_row1_col4\" class=\"data row1 col4\" >9.293479</td>\n",
       "            </tr>\n",
       "            <tr>\n",
       "                        <th id=\"T_addd7_level0_row2\" class=\"row_heading level0 row2\" >2</th>\n",
       "                        <td id=\"T_addd7_row2_col0\" class=\"data row2 col0\" >Arunachal Pradesh</td>\n",
       "                        <td id=\"T_addd7_row2_col1\" class=\"data row2 col1\" >122854.000000</td>\n",
       "                        <td id=\"T_addd7_row2_col2\" class=\"data row2 col2\" >120196.000000</td>\n",
       "                        <td id=\"T_addd7_row2_col3\" class=\"data row2 col3\" >2658.000000</td>\n",
       "                        <td id=\"T_addd7_row2_col4\" class=\"data row2 col4\" >2.163544</td>\n",
       "            </tr>\n",
       "            <tr>\n",
       "                        <th id=\"T_addd7_level0_row3\" class=\"row_heading level0 row3\" >3</th>\n",
       "                        <td id=\"T_addd7_row3_col0\" class=\"data row3 col0\" >Assam</td>\n",
       "                        <td id=\"T_addd7_row3_col1\" class=\"data row3 col1\" >1930764.000000</td>\n",
       "                        <td id=\"T_addd7_row3_col2\" class=\"data row3 col2\" >1842856.000000</td>\n",
       "                        <td id=\"T_addd7_row3_col3\" class=\"data row3 col3\" >87908.000000</td>\n",
       "                        <td id=\"T_addd7_row3_col4\" class=\"data row3 col4\" >4.553016</td>\n",
       "            </tr>\n",
       "            <tr>\n",
       "                        <th id=\"T_addd7_level0_row4\" class=\"row_heading level0 row4\" >4</th>\n",
       "                        <td id=\"T_addd7_row4_col0\" class=\"data row4 col0\" >Bihar</td>\n",
       "                        <td id=\"T_addd7_row4_col1\" class=\"data row4 col1\" >1272980.000000</td>\n",
       "                        <td id=\"T_addd7_row4_col2\" class=\"data row4 col2\" >1182427.000000</td>\n",
       "                        <td id=\"T_addd7_row4_col3\" class=\"data row4 col3\" >90553.000000</td>\n",
       "                        <td id=\"T_addd7_row4_col4\" class=\"data row4 col4\" >7.113466</td>\n",
       "            </tr>\n",
       "            <tr>\n",
       "                        <th id=\"T_addd7_level0_row5\" class=\"row_heading level0 row5\" >5</th>\n",
       "                        <td id=\"T_addd7_row5_col0\" class=\"data row5 col0\" >Chandigarh</td>\n",
       "                        <td id=\"T_addd7_row5_col1\" class=\"data row5 col1\" >22198.000000</td>\n",
       "                        <td id=\"T_addd7_row5_col2\" class=\"data row5 col2\" >19893.000000</td>\n",
       "                        <td id=\"T_addd7_row5_col3\" class=\"data row5 col3\" >2305.000000</td>\n",
       "                        <td id=\"T_addd7_row5_col4\" class=\"data row5 col4\" >10.383818</td>\n",
       "            </tr>\n",
       "            <tr>\n",
       "                        <th id=\"T_addd7_level0_row6\" class=\"row_heading level0 row6\" >6</th>\n",
       "                        <td id=\"T_addd7_row6_col0\" class=\"data row6 col0\" >Chhattisgarh</td>\n",
       "                        <td id=\"T_addd7_row6_col1\" class=\"data row6 col1\" >468099.000000</td>\n",
       "                        <td id=\"T_addd7_row6_col2\" class=\"data row6 col2\" >448640.000000</td>\n",
       "                        <td id=\"T_addd7_row6_col3\" class=\"data row6 col3\" >19459.000000</td>\n",
       "                        <td id=\"T_addd7_row6_col4\" class=\"data row6 col4\" >4.157027</td>\n",
       "            </tr>\n",
       "            <tr>\n",
       "                        <th id=\"T_addd7_level0_row7\" class=\"row_heading level0 row7\" >7</th>\n",
       "                        <td id=\"T_addd7_row7_col0\" class=\"data row7 col0\" >Dadra and Nagar Haveli and Daman and Diu</td>\n",
       "                        <td id=\"T_addd7_row7_col1\" class=\"data row7 col1\" >72410.000000</td>\n",
       "                        <td id=\"T_addd7_row7_col2\" class=\"data row7 col2\" >69216.000000</td>\n",
       "                        <td id=\"T_addd7_row7_col3\" class=\"data row7 col3\" >3194.000000</td>\n",
       "                        <td id=\"T_addd7_row7_col4\" class=\"data row7 col4\" >4.410993</td>\n",
       "            </tr>\n",
       "            <tr>\n",
       "                        <th id=\"T_addd7_level0_row8\" class=\"row_heading level0 row8\" >8</th>\n",
       "                        <td id=\"T_addd7_row8_col0\" class=\"data row8 col0\" >Delhi</td>\n",
       "                        <td id=\"T_addd7_row8_col1\" class=\"data row8 col1\" >1291411.000000</td>\n",
       "                        <td id=\"T_addd7_row8_col2\" class=\"data row8 col2\" >1139483.000000</td>\n",
       "                        <td id=\"T_addd7_row8_col3\" class=\"data row8 col3\" >151928.000000</td>\n",
       "                        <td id=\"T_addd7_row8_col4\" class=\"data row8 col4\" >11.764496</td>\n",
       "            </tr>\n",
       "            <tr>\n",
       "                        <th id=\"T_addd7_level0_row9\" class=\"row_heading level0 row9\" >9</th>\n",
       "                        <td id=\"T_addd7_row9_col0\" class=\"data row9 col0\" >Goa</td>\n",
       "                        <td id=\"T_addd7_row9_col1\" class=\"data row9 col1\" >178175.000000</td>\n",
       "                        <td id=\"T_addd7_row9_col2\" class=\"data row9 col2\" >176827.000000</td>\n",
       "                        <td id=\"T_addd7_row9_col3\" class=\"data row9 col3\" >12333.000000</td>\n",
       "                        <td id=\"T_addd7_row9_col4\" class=\"data row9 col4\" >6.921846</td>\n",
       "            </tr>\n",
       "            <tr>\n",
       "                        <th id=\"T_addd7_level0_row10\" class=\"row_heading level0 row10\" >10</th>\n",
       "                        <td id=\"T_addd7_row10_col0\" class=\"data row10 col0\" >Gujarat</td>\n",
       "                        <td id=\"T_addd7_row10_col1\" class=\"data row10 col1\" >4356062.000000</td>\n",
       "                        <td id=\"T_addd7_row10_col2\" class=\"data row10 col2\" >4220058.000000</td>\n",
       "                        <td id=\"T_addd7_row10_col3\" class=\"data row10 col3\" >136004.000000</td>\n",
       "                        <td id=\"T_addd7_row10_col4\" class=\"data row10 col4\" >3.122178</td>\n",
       "            </tr>\n",
       "            <tr>\n",
       "                        <th id=\"T_addd7_level0_row11\" class=\"row_heading level0 row11\" >11</th>\n",
       "                        <td id=\"T_addd7_row11_col0\" class=\"data row11 col0\" >Haryana</td>\n",
       "                        <td id=\"T_addd7_row11_col1\" class=\"data row11 col1\" >5913873.000000</td>\n",
       "                        <td id=\"T_addd7_row11_col2\" class=\"data row11 col2\" >5638736.000000</td>\n",
       "                        <td id=\"T_addd7_row11_col3\" class=\"data row11 col3\" >275137.000000</td>\n",
       "                        <td id=\"T_addd7_row11_col4\" class=\"data row11 col4\" >4.652400</td>\n",
       "            </tr>\n",
       "            <tr>\n",
       "                        <th id=\"T_addd7_level0_row12\" class=\"row_heading level0 row12\" >12</th>\n",
       "                        <td id=\"T_addd7_row12_col0\" class=\"data row12 col0\" >Himachal Pradesh</td>\n",
       "                        <td id=\"T_addd7_row12_col1\" class=\"data row12 col1\" >178075.000000</td>\n",
       "                        <td id=\"T_addd7_row12_col2\" class=\"data row12 col2\" >174082.000000</td>\n",
       "                        <td id=\"T_addd7_row12_col3\" class=\"data row12 col3\" >3993.000000</td>\n",
       "                        <td id=\"T_addd7_row12_col4\" class=\"data row12 col4\" >2.242314</td>\n",
       "            </tr>\n",
       "            <tr>\n",
       "                        <th id=\"T_addd7_level0_row13\" class=\"row_heading level0 row13\" >13</th>\n",
       "                        <td id=\"T_addd7_row13_col0\" class=\"data row13 col0\" >Jammu and Kashmir</td>\n",
       "                        <td id=\"T_addd7_row13_col1\" class=\"data row13 col1\" >844641.000000</td>\n",
       "                        <td id=\"T_addd7_row13_col2\" class=\"data row13 col2\" >813270.000000</td>\n",
       "                        <td id=\"T_addd7_row13_col3\" class=\"data row13 col3\" >31371.000000</td>\n",
       "                        <td id=\"T_addd7_row13_col4\" class=\"data row13 col4\" >3.714122</td>\n",
       "            </tr>\n",
       "            <tr>\n",
       "                        <th id=\"T_addd7_level0_row14\" class=\"row_heading level0 row14\" >14</th>\n",
       "                        <td id=\"T_addd7_row14_col0\" class=\"data row14 col0\" >Jharkhand</td>\n",
       "                        <td id=\"T_addd7_row14_col1\" class=\"data row14 col1\" >6977983.000000</td>\n",
       "                        <td id=\"T_addd7_row14_col2\" class=\"data row14 col2\" >6733511.000000</td>\n",
       "                        <td id=\"T_addd7_row14_col3\" class=\"data row14 col3\" >244472.000000</td>\n",
       "                        <td id=\"T_addd7_row14_col4\" class=\"data row14 col4\" >3.503477</td>\n",
       "            </tr>\n",
       "            <tr>\n",
       "                        <th id=\"T_addd7_level0_row15\" class=\"row_heading level0 row15\" >15</th>\n",
       "                        <td id=\"T_addd7_row15_col0\" class=\"data row15 col0\" >Karnataka</td>\n",
       "                        <td id=\"T_addd7_row15_col1\" class=\"data row15 col1\" >2314485.000000</td>\n",
       "                        <td id=\"T_addd7_row15_col2\" class=\"data row15 col2\" >2049939.000000</td>\n",
       "                        <td id=\"T_addd7_row15_col3\" class=\"data row15 col3\" >264546.000000</td>\n",
       "                        <td id=\"T_addd7_row15_col4\" class=\"data row15 col4\" >11.430016</td>\n",
       "            </tr>\n",
       "            <tr>\n",
       "                        <th id=\"T_addd7_level0_row16\" class=\"row_heading level0 row16\" >16</th>\n",
       "                        <td id=\"T_addd7_row16_col0\" class=\"data row16 col0\" >Kerala</td>\n",
       "                        <td id=\"T_addd7_row16_col1\" class=\"data row16 col1\" >9659492.000000</td>\n",
       "                        <td id=\"T_addd7_row16_col2\" class=\"data row16 col2\" >8726853.000000</td>\n",
       "                        <td id=\"T_addd7_row16_col3\" class=\"data row16 col3\" >932639.000000</td>\n",
       "                        <td id=\"T_addd7_row16_col4\" class=\"data row16 col4\" >9.655156</td>\n",
       "            </tr>\n",
       "            <tr>\n",
       "                        <th id=\"T_addd7_level0_row17\" class=\"row_heading level0 row17\" >17</th>\n",
       "                        <td id=\"T_addd7_row17_col0\" class=\"data row17 col0\" >Ladakh</td>\n",
       "                        <td id=\"T_addd7_row17_col1\" class=\"data row17 col1\" >58978.000000</td>\n",
       "                        <td id=\"T_addd7_row17_col2\" class=\"data row17 col2\" >54258.000000</td>\n",
       "                        <td id=\"T_addd7_row17_col3\" class=\"data row17 col3\" >4720.000000</td>\n",
       "                        <td id=\"T_addd7_row17_col4\" class=\"data row17 col4\" >8.002984</td>\n",
       "            </tr>\n",
       "            <tr>\n",
       "                        <th id=\"T_addd7_level0_row18\" class=\"row_heading level0 row18\" >18</th>\n",
       "                        <td id=\"T_addd7_row18_col0\" class=\"data row18 col0\" >Madhya Pradesh</td>\n",
       "                        <td id=\"T_addd7_row18_col1\" class=\"data row18 col1\" >1133826.000000</td>\n",
       "                        <td id=\"T_addd7_row18_col2\" class=\"data row18 col2\" >1083186.000000</td>\n",
       "                        <td id=\"T_addd7_row18_col3\" class=\"data row18 col3\" >50640.000000</td>\n",
       "                        <td id=\"T_addd7_row18_col4\" class=\"data row18 col4\" >4.466294</td>\n",
       "            </tr>\n",
       "            <tr>\n",
       "                        <th id=\"T_addd7_level0_row19\" class=\"row_heading level0 row19\" >19</th>\n",
       "                        <td id=\"T_addd7_row19_col0\" class=\"data row19 col0\" >Maharashtra</td>\n",
       "                        <td id=\"T_addd7_row19_col1\" class=\"data row19 col1\" >8548036.000000</td>\n",
       "                        <td id=\"T_addd7_row19_col2\" class=\"data row19 col2\" >6909075.000000</td>\n",
       "                        <td id=\"T_addd7_row19_col3\" class=\"data row19 col3\" >1638961.000000</td>\n",
       "                        <td id=\"T_addd7_row19_col4\" class=\"data row19 col4\" >19.173539</td>\n",
       "            </tr>\n",
       "            <tr>\n",
       "                        <th id=\"T_addd7_level0_row20\" class=\"row_heading level0 row20\" >20</th>\n",
       "                        <td id=\"T_addd7_row20_col0\" class=\"data row20 col0\" >Manipur</td>\n",
       "                        <td id=\"T_addd7_row20_col1\" class=\"data row20 col1\" >117299.000000</td>\n",
       "                        <td id=\"T_addd7_row20_col2\" class=\"data row20 col2\" >112534.000000</td>\n",
       "                        <td id=\"T_addd7_row20_col3\" class=\"data row20 col3\" >4765.000000</td>\n",
       "                        <td id=\"T_addd7_row20_col4\" class=\"data row20 col4\" >4.062268</td>\n",
       "            </tr>\n",
       "            <tr>\n",
       "                        <th id=\"T_addd7_level0_row21\" class=\"row_heading level0 row21\" >21</th>\n",
       "                        <td id=\"T_addd7_row21_col0\" class=\"data row21 col0\" >Meghalaya</td>\n",
       "                        <td id=\"T_addd7_row21_col1\" class=\"data row21 col1\" >70413.000000</td>\n",
       "                        <td id=\"T_addd7_row21_col2\" class=\"data row21 col2\" >68695.000000</td>\n",
       "                        <td id=\"T_addd7_row21_col3\" class=\"data row21 col3\" >1718.000000</td>\n",
       "                        <td id=\"T_addd7_row21_col4\" class=\"data row21 col4\" >2.439890</td>\n",
       "            </tr>\n",
       "            <tr>\n",
       "                        <th id=\"T_addd7_level0_row22\" class=\"row_heading level0 row22\" >22</th>\n",
       "                        <td id=\"T_addd7_row22_col0\" class=\"data row22 col0\" >Mizoram</td>\n",
       "                        <td id=\"T_addd7_row22_col1\" class=\"data row22 col1\" >25929.000000</td>\n",
       "                        <td id=\"T_addd7_row22_col2\" class=\"data row22 col2\" >25216.000000</td>\n",
       "                        <td id=\"T_addd7_row22_col3\" class=\"data row22 col3\" >713.000000</td>\n",
       "                        <td id=\"T_addd7_row22_col4\" class=\"data row22 col4\" >2.749817</td>\n",
       "            </tr>\n",
       "            <tr>\n",
       "                        <th id=\"T_addd7_level0_row23\" class=\"row_heading level0 row23\" >23</th>\n",
       "                        <td id=\"T_addd7_row23_col0\" class=\"data row23 col0\" >Nagaland</td>\n",
       "                        <td id=\"T_addd7_row23_col1\" class=\"data row23 col1\" >52672.000000</td>\n",
       "                        <td id=\"T_addd7_row23_col2\" class=\"data row23 col2\" >49114.000000</td>\n",
       "                        <td id=\"T_addd7_row23_col3\" class=\"data row23 col3\" >3558.000000</td>\n",
       "                        <td id=\"T_addd7_row23_col4\" class=\"data row23 col4\" >6.755012</td>\n",
       "            </tr>\n",
       "            <tr>\n",
       "                        <th id=\"T_addd7_level0_row24\" class=\"row_heading level0 row24\" >24</th>\n",
       "                        <td id=\"T_addd7_row24_col0\" class=\"data row24 col0\" >Odisha</td>\n",
       "                        <td id=\"T_addd7_row24_col1\" class=\"data row24 col1\" >1670910.000000</td>\n",
       "                        <td id=\"T_addd7_row24_col2\" class=\"data row24 col2\" >1572990.000000</td>\n",
       "                        <td id=\"T_addd7_row24_col3\" class=\"data row24 col3\" >97920.000000</td>\n",
       "                        <td id=\"T_addd7_row24_col4\" class=\"data row24 col4\" >5.860280</td>\n",
       "            </tr>\n",
       "            <tr>\n",
       "                        <th id=\"T_addd7_level0_row25\" class=\"row_heading level0 row25\" >25</th>\n",
       "                        <td id=\"T_addd7_row25_col0\" class=\"data row25 col0\" >Puducherry</td>\n",
       "                        <td id=\"T_addd7_row25_col1\" class=\"data row25 col1\" >635847.000000</td>\n",
       "                        <td id=\"T_addd7_row25_col2\" class=\"data row25 col2\" >591810.000000</td>\n",
       "                        <td id=\"T_addd7_row25_col3\" class=\"data row25 col3\" >44037.000000</td>\n",
       "                        <td id=\"T_addd7_row25_col4\" class=\"data row25 col4\" >6.925723</td>\n",
       "            </tr>\n",
       "            <tr>\n",
       "                        <th id=\"T_addd7_level0_row26\" class=\"row_heading level0 row26\" >26</th>\n",
       "                        <td id=\"T_addd7_row26_col0\" class=\"data row26 col0\" >Punjab</td>\n",
       "                        <td id=\"T_addd7_row26_col1\" class=\"data row26 col1\" >2167731.000000</td>\n",
       "                        <td id=\"T_addd7_row26_col2\" class=\"data row26 col2\" >2043196.000000</td>\n",
       "                        <td id=\"T_addd7_row26_col3\" class=\"data row26 col3\" >124535.000000</td>\n",
       "                        <td id=\"T_addd7_row26_col4\" class=\"data row26 col4\" >5.744947</td>\n",
       "            </tr>\n",
       "            <tr>\n",
       "                        <th id=\"T_addd7_level0_row27\" class=\"row_heading level0 row27\" >27</th>\n",
       "                        <td id=\"T_addd7_row27_col0\" class=\"data row27 col0\" >Rajasthan</td>\n",
       "                        <td id=\"T_addd7_row27_col1\" class=\"data row27 col1\" >2062109.000000</td>\n",
       "                        <td id=\"T_addd7_row27_col2\" class=\"data row27 col2\" >1994155.000000</td>\n",
       "                        <td id=\"T_addd7_row27_col3\" class=\"data row27 col3\" >67954.000000</td>\n",
       "                        <td id=\"T_addd7_row27_col4\" class=\"data row27 col4\" >3.295364</td>\n",
       "            </tr>\n",
       "            <tr>\n",
       "                        <th id=\"T_addd7_level0_row28\" class=\"row_heading level0 row28\" >28</th>\n",
       "                        <td id=\"T_addd7_row28_col0\" class=\"data row28 col0\" >Sikkim</td>\n",
       "                        <td id=\"T_addd7_row28_col1\" class=\"data row28 col1\" >31193.000000</td>\n",
       "                        <td id=\"T_addd7_row28_col2\" class=\"data row28 col2\" >30283.000000</td>\n",
       "                        <td id=\"T_addd7_row28_col3\" class=\"data row28 col3\" >910.000000</td>\n",
       "                        <td id=\"T_addd7_row28_col4\" class=\"data row28 col4\" >2.917321</td>\n",
       "            </tr>\n",
       "            <tr>\n",
       "                        <th id=\"T_addd7_level0_row29\" class=\"row_heading level0 row29\" >29</th>\n",
       "                        <td id=\"T_addd7_row29_col0\" class=\"data row29 col0\" >Tamil Nadu</td>\n",
       "                        <td id=\"T_addd7_row29_col1\" class=\"data row29 col1\" >4062943.000000</td>\n",
       "                        <td id=\"T_addd7_row29_col2\" class=\"data row29 col2\" >3695513.000000</td>\n",
       "                        <td id=\"T_addd7_row29_col3\" class=\"data row29 col3\" >367430.000000</td>\n",
       "                        <td id=\"T_addd7_row29_col4\" class=\"data row29 col4\" >9.043445</td>\n",
       "            </tr>\n",
       "            <tr>\n",
       "                        <th id=\"T_addd7_level0_row30\" class=\"row_heading level0 row30\" >30</th>\n",
       "                        <td id=\"T_addd7_row30_col0\" class=\"data row30 col0\" >Telangana</td>\n",
       "                        <td id=\"T_addd7_row30_col1\" class=\"data row30 col1\" >1365582.000000</td>\n",
       "                        <td id=\"T_addd7_row30_col2\" class=\"data row30 col2\" >1240619.000000</td>\n",
       "                        <td id=\"T_addd7_row30_col3\" class=\"data row30 col3\" >124963.000000</td>\n",
       "                        <td id=\"T_addd7_row30_col4\" class=\"data row30 col4\" >9.150897</td>\n",
       "            </tr>\n",
       "            <tr>\n",
       "                        <th id=\"T_addd7_level0_row31\" class=\"row_heading level0 row31\" >31</th>\n",
       "                        <td id=\"T_addd7_row31_col0\" class=\"data row31 col0\" >Tripura</td>\n",
       "                        <td id=\"T_addd7_row31_col1\" class=\"data row31 col1\" >714957.000000</td>\n",
       "                        <td id=\"T_addd7_row31_col2\" class=\"data row31 col2\" >679371.000000</td>\n",
       "                        <td id=\"T_addd7_row31_col3\" class=\"data row31 col3\" >35586.000000</td>\n",
       "                        <td id=\"T_addd7_row31_col4\" class=\"data row31 col4\" >4.977362</td>\n",
       "            </tr>\n",
       "            <tr>\n",
       "                        <th id=\"T_addd7_level0_row32\" class=\"row_heading level0 row32\" >32</th>\n",
       "                        <td id=\"T_addd7_row32_col0\" class=\"data row32 col0\" >Uttar Pradesh</td>\n",
       "                        <td id=\"T_addd7_row32_col1\" class=\"data row32 col1\" >3209587.000000</td>\n",
       "                        <td id=\"T_addd7_row32_col2\" class=\"data row32 col2\" >3082865.000000</td>\n",
       "                        <td id=\"T_addd7_row32_col3\" class=\"data row32 col3\" >126722.000000</td>\n",
       "                        <td id=\"T_addd7_row32_col4\" class=\"data row32 col4\" >3.948234</td>\n",
       "            </tr>\n",
       "            <tr>\n",
       "                        <th id=\"T_addd7_level0_row33\" class=\"row_heading level0 row33\" >33</th>\n",
       "                        <td id=\"T_addd7_row33_col0\" class=\"data row33 col0\" >Uttarakhand</td>\n",
       "                        <td id=\"T_addd7_row33_col1\" class=\"data row33 col1\" >712124.000000</td>\n",
       "                        <td id=\"T_addd7_row33_col2\" class=\"data row33 col2\" >712059.000000</td>\n",
       "                        <td id=\"T_addd7_row33_col3\" class=\"data row33 col3\" >14083.000000</td>\n",
       "                        <td id=\"T_addd7_row33_col4\" class=\"data row33 col4\" >1.977605</td>\n",
       "            </tr>\n",
       "            <tr>\n",
       "                        <th id=\"T_addd7_level0_row34\" class=\"row_heading level0 row34\" >34</th>\n",
       "                        <td id=\"T_addd7_row34_col0\" class=\"data row34 col0\" >West Bengal</td>\n",
       "                        <td id=\"T_addd7_row34_col1\" class=\"data row34 col1\" >1524162.000000</td>\n",
       "                        <td id=\"T_addd7_row34_col2\" class=\"data row34 col2\" >1388566.000000</td>\n",
       "                        <td id=\"T_addd7_row34_col3\" class=\"data row34 col3\" >135596.000000</td>\n",
       "                        <td id=\"T_addd7_row34_col4\" class=\"data row34 col4\" >8.896430</td>\n",
       "            </tr>\n",
       "    </tbody></table>"
      ],
      "text/plain": [
       "<pandas.io.formats.style.Styler at 0x25df72a4700>"
      ]
     },
     "execution_count": 70,
     "metadata": {},
     "output_type": "execute_result"
    }
   ],
   "source": [
    "covid_testing_state = covid_testing.groupby('State')['TotalSamples', 'Negative', 'Positive'].max().reset_index()\n",
    "covid_testing_state['Positive_percentage'] = ((covid_testing_state['Positive']/covid_testing_state['TotalSamples'])*100)\n",
    "covid_testing_state.style.background_gradient(cmap='PuBu')"
   ]
  },
  {
   "cell_type": "code",
   "execution_count": 71,
   "id": "6d298ed5",
   "metadata": {},
   "outputs": [
    {
     "data": {
      "application/vnd.plotly.v1+json": {
       "config": {
        "plotlyServerURL": "https://plot.ly"
       },
       "data": [
        {
         "alignmentgroup": "True",
         "hovertemplate": "State=%{x}<br>TotalSamples=%{y}<extra></extra>",
         "legendgroup": "",
         "marker": {
          "color": "rgb(41, 24, 107)"
         },
         "name": "",
         "offsetgroup": "",
         "orientation": "v",
         "showlegend": false,
         "textposition": "auto",
         "type": "bar",
         "x": [
          "Kerala",
          "Maharashtra",
          "Jharkhand",
          "Haryana",
          "Gujarat",
          "Tamil Nadu",
          "Uttar Pradesh",
          "Andhra Pradesh",
          "Karnataka",
          "Punjab"
         ],
         "xaxis": "x",
         "y": [
          9659492,
          8548036,
          6977983,
          5913873,
          4356062,
          4062943,
          3209587,
          2534304,
          2314485,
          2167731
         ],
         "yaxis": "y"
        }
       ],
       "layout": {
        "barmode": "relative",
        "legend": {
         "tracegroupgap": 0
        },
        "template": {
         "data": {
          "bar": [
           {
            "error_x": {
             "color": "#2a3f5f"
            },
            "error_y": {
             "color": "#2a3f5f"
            },
            "marker": {
             "line": {
              "color": "#E5ECF6",
              "width": 0.5
             }
            },
            "type": "bar"
           }
          ],
          "barpolar": [
           {
            "marker": {
             "line": {
              "color": "#E5ECF6",
              "width": 0.5
             }
            },
            "type": "barpolar"
           }
          ],
          "carpet": [
           {
            "aaxis": {
             "endlinecolor": "#2a3f5f",
             "gridcolor": "white",
             "linecolor": "white",
             "minorgridcolor": "white",
             "startlinecolor": "#2a3f5f"
            },
            "baxis": {
             "endlinecolor": "#2a3f5f",
             "gridcolor": "white",
             "linecolor": "white",
             "minorgridcolor": "white",
             "startlinecolor": "#2a3f5f"
            },
            "type": "carpet"
           }
          ],
          "choropleth": [
           {
            "colorbar": {
             "outlinewidth": 0,
             "ticks": ""
            },
            "type": "choropleth"
           }
          ],
          "contour": [
           {
            "colorbar": {
             "outlinewidth": 0,
             "ticks": ""
            },
            "colorscale": [
             [
              0,
              "#0d0887"
             ],
             [
              0.1111111111111111,
              "#46039f"
             ],
             [
              0.2222222222222222,
              "#7201a8"
             ],
             [
              0.3333333333333333,
              "#9c179e"
             ],
             [
              0.4444444444444444,
              "#bd3786"
             ],
             [
              0.5555555555555556,
              "#d8576b"
             ],
             [
              0.6666666666666666,
              "#ed7953"
             ],
             [
              0.7777777777777778,
              "#fb9f3a"
             ],
             [
              0.8888888888888888,
              "#fdca26"
             ],
             [
              1,
              "#f0f921"
             ]
            ],
            "type": "contour"
           }
          ],
          "contourcarpet": [
           {
            "colorbar": {
             "outlinewidth": 0,
             "ticks": ""
            },
            "type": "contourcarpet"
           }
          ],
          "heatmap": [
           {
            "colorbar": {
             "outlinewidth": 0,
             "ticks": ""
            },
            "colorscale": [
             [
              0,
              "#0d0887"
             ],
             [
              0.1111111111111111,
              "#46039f"
             ],
             [
              0.2222222222222222,
              "#7201a8"
             ],
             [
              0.3333333333333333,
              "#9c179e"
             ],
             [
              0.4444444444444444,
              "#bd3786"
             ],
             [
              0.5555555555555556,
              "#d8576b"
             ],
             [
              0.6666666666666666,
              "#ed7953"
             ],
             [
              0.7777777777777778,
              "#fb9f3a"
             ],
             [
              0.8888888888888888,
              "#fdca26"
             ],
             [
              1,
              "#f0f921"
             ]
            ],
            "type": "heatmap"
           }
          ],
          "heatmapgl": [
           {
            "colorbar": {
             "outlinewidth": 0,
             "ticks": ""
            },
            "colorscale": [
             [
              0,
              "#0d0887"
             ],
             [
              0.1111111111111111,
              "#46039f"
             ],
             [
              0.2222222222222222,
              "#7201a8"
             ],
             [
              0.3333333333333333,
              "#9c179e"
             ],
             [
              0.4444444444444444,
              "#bd3786"
             ],
             [
              0.5555555555555556,
              "#d8576b"
             ],
             [
              0.6666666666666666,
              "#ed7953"
             ],
             [
              0.7777777777777778,
              "#fb9f3a"
             ],
             [
              0.8888888888888888,
              "#fdca26"
             ],
             [
              1,
              "#f0f921"
             ]
            ],
            "type": "heatmapgl"
           }
          ],
          "histogram": [
           {
            "marker": {
             "colorbar": {
              "outlinewidth": 0,
              "ticks": ""
             }
            },
            "type": "histogram"
           }
          ],
          "histogram2d": [
           {
            "colorbar": {
             "outlinewidth": 0,
             "ticks": ""
            },
            "colorscale": [
             [
              0,
              "#0d0887"
             ],
             [
              0.1111111111111111,
              "#46039f"
             ],
             [
              0.2222222222222222,
              "#7201a8"
             ],
             [
              0.3333333333333333,
              "#9c179e"
             ],
             [
              0.4444444444444444,
              "#bd3786"
             ],
             [
              0.5555555555555556,
              "#d8576b"
             ],
             [
              0.6666666666666666,
              "#ed7953"
             ],
             [
              0.7777777777777778,
              "#fb9f3a"
             ],
             [
              0.8888888888888888,
              "#fdca26"
             ],
             [
              1,
              "#f0f921"
             ]
            ],
            "type": "histogram2d"
           }
          ],
          "histogram2dcontour": [
           {
            "colorbar": {
             "outlinewidth": 0,
             "ticks": ""
            },
            "colorscale": [
             [
              0,
              "#0d0887"
             ],
             [
              0.1111111111111111,
              "#46039f"
             ],
             [
              0.2222222222222222,
              "#7201a8"
             ],
             [
              0.3333333333333333,
              "#9c179e"
             ],
             [
              0.4444444444444444,
              "#bd3786"
             ],
             [
              0.5555555555555556,
              "#d8576b"
             ],
             [
              0.6666666666666666,
              "#ed7953"
             ],
             [
              0.7777777777777778,
              "#fb9f3a"
             ],
             [
              0.8888888888888888,
              "#fdca26"
             ],
             [
              1,
              "#f0f921"
             ]
            ],
            "type": "histogram2dcontour"
           }
          ],
          "mesh3d": [
           {
            "colorbar": {
             "outlinewidth": 0,
             "ticks": ""
            },
            "type": "mesh3d"
           }
          ],
          "parcoords": [
           {
            "line": {
             "colorbar": {
              "outlinewidth": 0,
              "ticks": ""
             }
            },
            "type": "parcoords"
           }
          ],
          "pie": [
           {
            "automargin": true,
            "type": "pie"
           }
          ],
          "scatter": [
           {
            "marker": {
             "colorbar": {
              "outlinewidth": 0,
              "ticks": ""
             }
            },
            "type": "scatter"
           }
          ],
          "scatter3d": [
           {
            "line": {
             "colorbar": {
              "outlinewidth": 0,
              "ticks": ""
             }
            },
            "marker": {
             "colorbar": {
              "outlinewidth": 0,
              "ticks": ""
             }
            },
            "type": "scatter3d"
           }
          ],
          "scattercarpet": [
           {
            "marker": {
             "colorbar": {
              "outlinewidth": 0,
              "ticks": ""
             }
            },
            "type": "scattercarpet"
           }
          ],
          "scattergeo": [
           {
            "marker": {
             "colorbar": {
              "outlinewidth": 0,
              "ticks": ""
             }
            },
            "type": "scattergeo"
           }
          ],
          "scattergl": [
           {
            "marker": {
             "colorbar": {
              "outlinewidth": 0,
              "ticks": ""
             }
            },
            "type": "scattergl"
           }
          ],
          "scattermapbox": [
           {
            "marker": {
             "colorbar": {
              "outlinewidth": 0,
              "ticks": ""
             }
            },
            "type": "scattermapbox"
           }
          ],
          "scatterpolar": [
           {
            "marker": {
             "colorbar": {
              "outlinewidth": 0,
              "ticks": ""
             }
            },
            "type": "scatterpolar"
           }
          ],
          "scatterpolargl": [
           {
            "marker": {
             "colorbar": {
              "outlinewidth": 0,
              "ticks": ""
             }
            },
            "type": "scatterpolargl"
           }
          ],
          "scatterternary": [
           {
            "marker": {
             "colorbar": {
              "outlinewidth": 0,
              "ticks": ""
             }
            },
            "type": "scatterternary"
           }
          ],
          "surface": [
           {
            "colorbar": {
             "outlinewidth": 0,
             "ticks": ""
            },
            "colorscale": [
             [
              0,
              "#0d0887"
             ],
             [
              0.1111111111111111,
              "#46039f"
             ],
             [
              0.2222222222222222,
              "#7201a8"
             ],
             [
              0.3333333333333333,
              "#9c179e"
             ],
             [
              0.4444444444444444,
              "#bd3786"
             ],
             [
              0.5555555555555556,
              "#d8576b"
             ],
             [
              0.6666666666666666,
              "#ed7953"
             ],
             [
              0.7777777777777778,
              "#fb9f3a"
             ],
             [
              0.8888888888888888,
              "#fdca26"
             ],
             [
              1,
              "#f0f921"
             ]
            ],
            "type": "surface"
           }
          ],
          "table": [
           {
            "cells": {
             "fill": {
              "color": "#EBF0F8"
             },
             "line": {
              "color": "white"
             }
            },
            "header": {
             "fill": {
              "color": "#C8D4E3"
             },
             "line": {
              "color": "white"
             }
            },
            "type": "table"
           }
          ]
         },
         "layout": {
          "annotationdefaults": {
           "arrowcolor": "#2a3f5f",
           "arrowhead": 0,
           "arrowwidth": 1
          },
          "autotypenumbers": "strict",
          "coloraxis": {
           "colorbar": {
            "outlinewidth": 0,
            "ticks": ""
           }
          },
          "colorscale": {
           "diverging": [
            [
             0,
             "#8e0152"
            ],
            [
             0.1,
             "#c51b7d"
            ],
            [
             0.2,
             "#de77ae"
            ],
            [
             0.3,
             "#f1b6da"
            ],
            [
             0.4,
             "#fde0ef"
            ],
            [
             0.5,
             "#f7f7f7"
            ],
            [
             0.6,
             "#e6f5d0"
            ],
            [
             0.7,
             "#b8e186"
            ],
            [
             0.8,
             "#7fbc41"
            ],
            [
             0.9,
             "#4d9221"
            ],
            [
             1,
             "#276419"
            ]
           ],
           "sequential": [
            [
             0,
             "#0d0887"
            ],
            [
             0.1111111111111111,
             "#46039f"
            ],
            [
             0.2222222222222222,
             "#7201a8"
            ],
            [
             0.3333333333333333,
             "#9c179e"
            ],
            [
             0.4444444444444444,
             "#bd3786"
            ],
            [
             0.5555555555555556,
             "#d8576b"
            ],
            [
             0.6666666666666666,
             "#ed7953"
            ],
            [
             0.7777777777777778,
             "#fb9f3a"
            ],
            [
             0.8888888888888888,
             "#fdca26"
            ],
            [
             1,
             "#f0f921"
            ]
           ],
           "sequentialminus": [
            [
             0,
             "#0d0887"
            ],
            [
             0.1111111111111111,
             "#46039f"
            ],
            [
             0.2222222222222222,
             "#7201a8"
            ],
            [
             0.3333333333333333,
             "#9c179e"
            ],
            [
             0.4444444444444444,
             "#bd3786"
            ],
            [
             0.5555555555555556,
             "#d8576b"
            ],
            [
             0.6666666666666666,
             "#ed7953"
            ],
            [
             0.7777777777777778,
             "#fb9f3a"
            ],
            [
             0.8888888888888888,
             "#fdca26"
            ],
            [
             1,
             "#f0f921"
            ]
           ]
          },
          "colorway": [
           "#636efa",
           "#EF553B",
           "#00cc96",
           "#ab63fa",
           "#FFA15A",
           "#19d3f3",
           "#FF6692",
           "#B6E880",
           "#FF97FF",
           "#FECB52"
          ],
          "font": {
           "color": "#2a3f5f"
          },
          "geo": {
           "bgcolor": "white",
           "lakecolor": "white",
           "landcolor": "#E5ECF6",
           "showlakes": true,
           "showland": true,
           "subunitcolor": "white"
          },
          "hoverlabel": {
           "align": "left"
          },
          "hovermode": "closest",
          "mapbox": {
           "style": "light"
          },
          "paper_bgcolor": "white",
          "plot_bgcolor": "#E5ECF6",
          "polar": {
           "angularaxis": {
            "gridcolor": "white",
            "linecolor": "white",
            "ticks": ""
           },
           "bgcolor": "#E5ECF6",
           "radialaxis": {
            "gridcolor": "white",
            "linecolor": "white",
            "ticks": ""
           }
          },
          "scene": {
           "xaxis": {
            "backgroundcolor": "#E5ECF6",
            "gridcolor": "white",
            "gridwidth": 2,
            "linecolor": "white",
            "showbackground": true,
            "ticks": "",
            "zerolinecolor": "white"
           },
           "yaxis": {
            "backgroundcolor": "#E5ECF6",
            "gridcolor": "white",
            "gridwidth": 2,
            "linecolor": "white",
            "showbackground": true,
            "ticks": "",
            "zerolinecolor": "white"
           },
           "zaxis": {
            "backgroundcolor": "#E5ECF6",
            "gridcolor": "white",
            "gridwidth": 2,
            "linecolor": "white",
            "showbackground": true,
            "ticks": "",
            "zerolinecolor": "white"
           }
          },
          "shapedefaults": {
           "line": {
            "color": "#2a3f5f"
           }
          },
          "ternary": {
           "aaxis": {
            "gridcolor": "white",
            "linecolor": "white",
            "ticks": ""
           },
           "baxis": {
            "gridcolor": "white",
            "linecolor": "white",
            "ticks": ""
           },
           "bgcolor": "#E5ECF6",
           "caxis": {
            "gridcolor": "white",
            "linecolor": "white",
            "ticks": ""
           }
          },
          "title": {
           "x": 0.05
          },
          "xaxis": {
           "automargin": true,
           "gridcolor": "white",
           "linecolor": "white",
           "ticks": "",
           "title": {
            "standoff": 15
           },
           "zerolinecolor": "white",
           "zerolinewidth": 2
          },
          "yaxis": {
           "automargin": true,
           "gridcolor": "white",
           "linecolor": "white",
           "ticks": "",
           "title": {
            "standoff": 15
           },
           "zerolinecolor": "white",
           "zerolinewidth": 2
          }
         }
        },
        "title": {
         "text": "Top 10 States with Highest TotalSamples"
        },
        "xaxis": {
         "anchor": "y",
         "domain": [
          0,
          1
         ],
         "title": {
          "text": "State"
         }
        },
        "yaxis": {
         "anchor": "x",
         "domain": [
          0,
          1
         ],
         "title": {
          "text": "TotalSamples"
         }
        }
       }
      },
      "text/html": [
       "<div>                            <div id=\"044d9693-d3c3-428d-9154-d18c7f7c28be\" class=\"plotly-graph-div\" style=\"height:525px; width:100%;\"></div>            <script type=\"text/javascript\">                require([\"plotly\"], function(Plotly) {                    window.PLOTLYENV=window.PLOTLYENV || {};                                    if (document.getElementById(\"044d9693-d3c3-428d-9154-d18c7f7c28be\")) {                    Plotly.newPlot(                        \"044d9693-d3c3-428d-9154-d18c7f7c28be\",                        [{\"alignmentgroup\": \"True\", \"hovertemplate\": \"State=%{x}<br>TotalSamples=%{y}<extra></extra>\", \"legendgroup\": \"\", \"marker\": {\"color\": \"rgb(41, 24, 107)\"}, \"name\": \"\", \"offsetgroup\": \"\", \"orientation\": \"v\", \"showlegend\": false, \"textposition\": \"auto\", \"type\": \"bar\", \"x\": [\"Kerala\", \"Maharashtra\", \"Jharkhand\", \"Haryana\", \"Gujarat\", \"Tamil Nadu\", \"Uttar Pradesh\", \"Andhra Pradesh\", \"Karnataka\", \"Punjab\"], \"xaxis\": \"x\", \"y\": [9659492.0, 8548036.0, 6977983.0, 5913873.0, 4356062.0, 4062943.0, 3209587.0, 2534304.0, 2314485.0, 2167731.0], \"yaxis\": \"y\"}],                        {\"barmode\": \"relative\", \"legend\": {\"tracegroupgap\": 0}, \"template\": {\"data\": {\"bar\": [{\"error_x\": {\"color\": \"#2a3f5f\"}, \"error_y\": {\"color\": \"#2a3f5f\"}, \"marker\": {\"line\": {\"color\": \"#E5ECF6\", \"width\": 0.5}}, \"type\": \"bar\"}], \"barpolar\": [{\"marker\": {\"line\": {\"color\": \"#E5ECF6\", \"width\": 0.5}}, \"type\": \"barpolar\"}], \"carpet\": [{\"aaxis\": {\"endlinecolor\": \"#2a3f5f\", \"gridcolor\": \"white\", \"linecolor\": \"white\", \"minorgridcolor\": \"white\", \"startlinecolor\": \"#2a3f5f\"}, \"baxis\": {\"endlinecolor\": \"#2a3f5f\", \"gridcolor\": \"white\", \"linecolor\": \"white\", \"minorgridcolor\": \"white\", \"startlinecolor\": \"#2a3f5f\"}, \"type\": \"carpet\"}], \"choropleth\": [{\"colorbar\": {\"outlinewidth\": 0, \"ticks\": \"\"}, \"type\": \"choropleth\"}], \"contour\": [{\"colorbar\": {\"outlinewidth\": 0, \"ticks\": \"\"}, \"colorscale\": [[0.0, \"#0d0887\"], [0.1111111111111111, \"#46039f\"], [0.2222222222222222, \"#7201a8\"], [0.3333333333333333, \"#9c179e\"], [0.4444444444444444, \"#bd3786\"], [0.5555555555555556, \"#d8576b\"], [0.6666666666666666, \"#ed7953\"], [0.7777777777777778, \"#fb9f3a\"], [0.8888888888888888, \"#fdca26\"], [1.0, \"#f0f921\"]], \"type\": \"contour\"}], \"contourcarpet\": [{\"colorbar\": {\"outlinewidth\": 0, \"ticks\": \"\"}, \"type\": \"contourcarpet\"}], \"heatmap\": [{\"colorbar\": {\"outlinewidth\": 0, \"ticks\": \"\"}, \"colorscale\": [[0.0, \"#0d0887\"], [0.1111111111111111, \"#46039f\"], [0.2222222222222222, \"#7201a8\"], [0.3333333333333333, \"#9c179e\"], [0.4444444444444444, \"#bd3786\"], [0.5555555555555556, \"#d8576b\"], [0.6666666666666666, \"#ed7953\"], [0.7777777777777778, \"#fb9f3a\"], [0.8888888888888888, \"#fdca26\"], [1.0, \"#f0f921\"]], \"type\": \"heatmap\"}], \"heatmapgl\": [{\"colorbar\": {\"outlinewidth\": 0, \"ticks\": \"\"}, \"colorscale\": [[0.0, \"#0d0887\"], [0.1111111111111111, \"#46039f\"], [0.2222222222222222, \"#7201a8\"], [0.3333333333333333, \"#9c179e\"], [0.4444444444444444, \"#bd3786\"], [0.5555555555555556, \"#d8576b\"], [0.6666666666666666, \"#ed7953\"], [0.7777777777777778, \"#fb9f3a\"], [0.8888888888888888, \"#fdca26\"], [1.0, \"#f0f921\"]], \"type\": \"heatmapgl\"}], \"histogram\": [{\"marker\": {\"colorbar\": {\"outlinewidth\": 0, \"ticks\": \"\"}}, \"type\": \"histogram\"}], \"histogram2d\": [{\"colorbar\": {\"outlinewidth\": 0, \"ticks\": \"\"}, \"colorscale\": [[0.0, \"#0d0887\"], [0.1111111111111111, \"#46039f\"], [0.2222222222222222, \"#7201a8\"], [0.3333333333333333, \"#9c179e\"], [0.4444444444444444, \"#bd3786\"], [0.5555555555555556, \"#d8576b\"], [0.6666666666666666, \"#ed7953\"], [0.7777777777777778, \"#fb9f3a\"], [0.8888888888888888, \"#fdca26\"], [1.0, \"#f0f921\"]], \"type\": \"histogram2d\"}], \"histogram2dcontour\": [{\"colorbar\": {\"outlinewidth\": 0, \"ticks\": \"\"}, \"colorscale\": [[0.0, \"#0d0887\"], [0.1111111111111111, \"#46039f\"], [0.2222222222222222, \"#7201a8\"], [0.3333333333333333, \"#9c179e\"], [0.4444444444444444, \"#bd3786\"], [0.5555555555555556, \"#d8576b\"], [0.6666666666666666, \"#ed7953\"], [0.7777777777777778, \"#fb9f3a\"], [0.8888888888888888, \"#fdca26\"], [1.0, \"#f0f921\"]], \"type\": \"histogram2dcontour\"}], \"mesh3d\": [{\"colorbar\": {\"outlinewidth\": 0, \"ticks\": \"\"}, \"type\": \"mesh3d\"}], \"parcoords\": [{\"line\": {\"colorbar\": {\"outlinewidth\": 0, \"ticks\": \"\"}}, \"type\": \"parcoords\"}], \"pie\": [{\"automargin\": true, \"type\": \"pie\"}], \"scatter\": [{\"marker\": {\"colorbar\": {\"outlinewidth\": 0, \"ticks\": \"\"}}, \"type\": \"scatter\"}], \"scatter3d\": [{\"line\": {\"colorbar\": {\"outlinewidth\": 0, \"ticks\": \"\"}}, \"marker\": {\"colorbar\": {\"outlinewidth\": 0, \"ticks\": \"\"}}, \"type\": \"scatter3d\"}], \"scattercarpet\": [{\"marker\": {\"colorbar\": {\"outlinewidth\": 0, \"ticks\": \"\"}}, \"type\": \"scattercarpet\"}], \"scattergeo\": [{\"marker\": {\"colorbar\": {\"outlinewidth\": 0, \"ticks\": \"\"}}, \"type\": \"scattergeo\"}], \"scattergl\": [{\"marker\": {\"colorbar\": {\"outlinewidth\": 0, \"ticks\": \"\"}}, \"type\": \"scattergl\"}], \"scattermapbox\": [{\"marker\": {\"colorbar\": {\"outlinewidth\": 0, \"ticks\": \"\"}}, \"type\": \"scattermapbox\"}], \"scatterpolar\": [{\"marker\": {\"colorbar\": {\"outlinewidth\": 0, \"ticks\": \"\"}}, \"type\": \"scatterpolar\"}], \"scatterpolargl\": [{\"marker\": {\"colorbar\": {\"outlinewidth\": 0, \"ticks\": \"\"}}, \"type\": \"scatterpolargl\"}], \"scatterternary\": [{\"marker\": {\"colorbar\": {\"outlinewidth\": 0, \"ticks\": \"\"}}, \"type\": \"scatterternary\"}], \"surface\": [{\"colorbar\": {\"outlinewidth\": 0, \"ticks\": \"\"}, \"colorscale\": [[0.0, \"#0d0887\"], [0.1111111111111111, \"#46039f\"], [0.2222222222222222, \"#7201a8\"], [0.3333333333333333, \"#9c179e\"], [0.4444444444444444, \"#bd3786\"], [0.5555555555555556, \"#d8576b\"], [0.6666666666666666, \"#ed7953\"], [0.7777777777777778, \"#fb9f3a\"], [0.8888888888888888, \"#fdca26\"], [1.0, \"#f0f921\"]], \"type\": \"surface\"}], \"table\": [{\"cells\": {\"fill\": {\"color\": \"#EBF0F8\"}, \"line\": {\"color\": \"white\"}}, \"header\": {\"fill\": {\"color\": \"#C8D4E3\"}, \"line\": {\"color\": \"white\"}}, \"type\": \"table\"}]}, \"layout\": {\"annotationdefaults\": {\"arrowcolor\": \"#2a3f5f\", \"arrowhead\": 0, \"arrowwidth\": 1}, \"autotypenumbers\": \"strict\", \"coloraxis\": {\"colorbar\": {\"outlinewidth\": 0, \"ticks\": \"\"}}, \"colorscale\": {\"diverging\": [[0, \"#8e0152\"], [0.1, \"#c51b7d\"], [0.2, \"#de77ae\"], [0.3, \"#f1b6da\"], [0.4, \"#fde0ef\"], [0.5, \"#f7f7f7\"], [0.6, \"#e6f5d0\"], [0.7, \"#b8e186\"], [0.8, \"#7fbc41\"], [0.9, \"#4d9221\"], [1, \"#276419\"]], \"sequential\": [[0.0, \"#0d0887\"], [0.1111111111111111, \"#46039f\"], [0.2222222222222222, \"#7201a8\"], [0.3333333333333333, \"#9c179e\"], [0.4444444444444444, \"#bd3786\"], [0.5555555555555556, \"#d8576b\"], [0.6666666666666666, \"#ed7953\"], [0.7777777777777778, \"#fb9f3a\"], [0.8888888888888888, \"#fdca26\"], [1.0, \"#f0f921\"]], \"sequentialminus\": [[0.0, \"#0d0887\"], [0.1111111111111111, \"#46039f\"], [0.2222222222222222, \"#7201a8\"], [0.3333333333333333, \"#9c179e\"], [0.4444444444444444, \"#bd3786\"], [0.5555555555555556, \"#d8576b\"], [0.6666666666666666, \"#ed7953\"], [0.7777777777777778, \"#fb9f3a\"], [0.8888888888888888, \"#fdca26\"], [1.0, \"#f0f921\"]]}, \"colorway\": [\"#636efa\", \"#EF553B\", \"#00cc96\", \"#ab63fa\", \"#FFA15A\", \"#19d3f3\", \"#FF6692\", \"#B6E880\", \"#FF97FF\", \"#FECB52\"], \"font\": {\"color\": \"#2a3f5f\"}, \"geo\": {\"bgcolor\": \"white\", \"lakecolor\": \"white\", \"landcolor\": \"#E5ECF6\", \"showlakes\": true, \"showland\": true, \"subunitcolor\": \"white\"}, \"hoverlabel\": {\"align\": \"left\"}, \"hovermode\": \"closest\", \"mapbox\": {\"style\": \"light\"}, \"paper_bgcolor\": \"white\", \"plot_bgcolor\": \"#E5ECF6\", \"polar\": {\"angularaxis\": {\"gridcolor\": \"white\", \"linecolor\": \"white\", \"ticks\": \"\"}, \"bgcolor\": \"#E5ECF6\", \"radialaxis\": {\"gridcolor\": \"white\", \"linecolor\": \"white\", \"ticks\": \"\"}}, \"scene\": {\"xaxis\": {\"backgroundcolor\": \"#E5ECF6\", \"gridcolor\": \"white\", \"gridwidth\": 2, \"linecolor\": \"white\", \"showbackground\": true, \"ticks\": \"\", \"zerolinecolor\": \"white\"}, \"yaxis\": {\"backgroundcolor\": \"#E5ECF6\", \"gridcolor\": \"white\", \"gridwidth\": 2, \"linecolor\": \"white\", \"showbackground\": true, \"ticks\": \"\", \"zerolinecolor\": \"white\"}, \"zaxis\": {\"backgroundcolor\": \"#E5ECF6\", \"gridcolor\": \"white\", \"gridwidth\": 2, \"linecolor\": \"white\", \"showbackground\": true, \"ticks\": \"\", \"zerolinecolor\": \"white\"}}, \"shapedefaults\": {\"line\": {\"color\": \"#2a3f5f\"}}, \"ternary\": {\"aaxis\": {\"gridcolor\": \"white\", \"linecolor\": \"white\", \"ticks\": \"\"}, \"baxis\": {\"gridcolor\": \"white\", \"linecolor\": \"white\", \"ticks\": \"\"}, \"bgcolor\": \"#E5ECF6\", \"caxis\": {\"gridcolor\": \"white\", \"linecolor\": \"white\", \"ticks\": \"\"}}, \"title\": {\"x\": 0.05}, \"xaxis\": {\"automargin\": true, \"gridcolor\": \"white\", \"linecolor\": \"white\", \"ticks\": \"\", \"title\": {\"standoff\": 15}, \"zerolinecolor\": \"white\", \"zerolinewidth\": 2}, \"yaxis\": {\"automargin\": true, \"gridcolor\": \"white\", \"linecolor\": \"white\", \"ticks\": \"\", \"title\": {\"standoff\": 15}, \"zerolinecolor\": \"white\", \"zerolinewidth\": 2}}}, \"title\": {\"text\": \"Top 10 States with Highest TotalSamples\"}, \"xaxis\": {\"anchor\": \"y\", \"domain\": [0.0, 1.0], \"title\": {\"text\": \"State\"}}, \"yaxis\": {\"anchor\": \"x\", \"domain\": [0.0, 1.0], \"title\": {\"text\": \"TotalSamples\"}}},                        {\"responsive\": true}                    ).then(function(){\n",
       "                            \n",
       "var gd = document.getElementById('044d9693-d3c3-428d-9154-d18c7f7c28be');\n",
       "var x = new MutationObserver(function (mutations, observer) {{\n",
       "        var display = window.getComputedStyle(gd).display;\n",
       "        if (!display || display === 'none') {{\n",
       "            console.log([gd, 'removed!']);\n",
       "            Plotly.purge(gd);\n",
       "            observer.disconnect();\n",
       "        }}\n",
       "}});\n",
       "\n",
       "// Listen for the removal of the full notebook cells\n",
       "var notebookContainer = gd.closest('#notebook-container');\n",
       "if (notebookContainer) {{\n",
       "    x.observe(notebookContainer, {childList: true});\n",
       "}}\n",
       "\n",
       "// Listen for the clearing of the current output cell\n",
       "var outputEl = gd.closest('.output');\n",
       "if (outputEl) {{\n",
       "    x.observe(outputEl, {childList: true});\n",
       "}}\n",
       "\n",
       "                        })                };                });            </script>        </div>"
      ]
     },
     "metadata": {},
     "output_type": "display_data"
    }
   ],
   "source": [
    "# Top 10 states with highest no. of Totalsamples\n",
    "px.bar(x=covid_testing_state.nlargest(10, 'TotalSamples')['State'],\n",
    "       y=covid_testing_state.nlargest(10, 'TotalSamples')['TotalSamples'],\n",
    "       labels={'y': 'TotalSamples', 'x': 'State'},\n",
    "       color_discrete_sequence=px.colors.sequential.haline,\n",
    "       title='Top 10 States with Highest TotalSamples')\n",
    "                                                          "
   ]
  },
  {
   "cell_type": "code",
   "execution_count": 72,
   "id": "50f07bdf",
   "metadata": {},
   "outputs": [
    {
     "data": {
      "application/vnd.plotly.v1+json": {
       "config": {
        "plotlyServerURL": "https://plot.ly"
       },
       "data": [
        {
         "alignmentgroup": "True",
         "hovertemplate": "States=%{x}<br>Total Negative cases=%{y}<extra></extra>",
         "legendgroup": "",
         "marker": {
          "color": "rgb(232, 245, 171)"
         },
         "name": "",
         "offsetgroup": "",
         "orientation": "v",
         "showlegend": false,
         "textposition": "auto",
         "type": "bar",
         "x": [
          "Kerala",
          "Maharashtra",
          "Jharkhand",
          "Haryana",
          "Gujarat",
          "Tamil Nadu",
          "Uttar Pradesh",
          "Andhra Pradesh",
          "Karnataka",
          "Punjab"
         ],
         "xaxis": "x",
         "y": [
          8726853,
          6909075,
          6733511,
          5638736,
          4220058,
          3695513,
          3082865,
          2298779,
          2049939,
          2043196
         ],
         "yaxis": "y"
        }
       ],
       "layout": {
        "barmode": "relative",
        "legend": {
         "tracegroupgap": 0
        },
        "template": {
         "data": {
          "bar": [
           {
            "error_x": {
             "color": "#2a3f5f"
            },
            "error_y": {
             "color": "#2a3f5f"
            },
            "marker": {
             "line": {
              "color": "#E5ECF6",
              "width": 0.5
             }
            },
            "type": "bar"
           }
          ],
          "barpolar": [
           {
            "marker": {
             "line": {
              "color": "#E5ECF6",
              "width": 0.5
             }
            },
            "type": "barpolar"
           }
          ],
          "carpet": [
           {
            "aaxis": {
             "endlinecolor": "#2a3f5f",
             "gridcolor": "white",
             "linecolor": "white",
             "minorgridcolor": "white",
             "startlinecolor": "#2a3f5f"
            },
            "baxis": {
             "endlinecolor": "#2a3f5f",
             "gridcolor": "white",
             "linecolor": "white",
             "minorgridcolor": "white",
             "startlinecolor": "#2a3f5f"
            },
            "type": "carpet"
           }
          ],
          "choropleth": [
           {
            "colorbar": {
             "outlinewidth": 0,
             "ticks": ""
            },
            "type": "choropleth"
           }
          ],
          "contour": [
           {
            "colorbar": {
             "outlinewidth": 0,
             "ticks": ""
            },
            "colorscale": [
             [
              0,
              "#0d0887"
             ],
             [
              0.1111111111111111,
              "#46039f"
             ],
             [
              0.2222222222222222,
              "#7201a8"
             ],
             [
              0.3333333333333333,
              "#9c179e"
             ],
             [
              0.4444444444444444,
              "#bd3786"
             ],
             [
              0.5555555555555556,
              "#d8576b"
             ],
             [
              0.6666666666666666,
              "#ed7953"
             ],
             [
              0.7777777777777778,
              "#fb9f3a"
             ],
             [
              0.8888888888888888,
              "#fdca26"
             ],
             [
              1,
              "#f0f921"
             ]
            ],
            "type": "contour"
           }
          ],
          "contourcarpet": [
           {
            "colorbar": {
             "outlinewidth": 0,
             "ticks": ""
            },
            "type": "contourcarpet"
           }
          ],
          "heatmap": [
           {
            "colorbar": {
             "outlinewidth": 0,
             "ticks": ""
            },
            "colorscale": [
             [
              0,
              "#0d0887"
             ],
             [
              0.1111111111111111,
              "#46039f"
             ],
             [
              0.2222222222222222,
              "#7201a8"
             ],
             [
              0.3333333333333333,
              "#9c179e"
             ],
             [
              0.4444444444444444,
              "#bd3786"
             ],
             [
              0.5555555555555556,
              "#d8576b"
             ],
             [
              0.6666666666666666,
              "#ed7953"
             ],
             [
              0.7777777777777778,
              "#fb9f3a"
             ],
             [
              0.8888888888888888,
              "#fdca26"
             ],
             [
              1,
              "#f0f921"
             ]
            ],
            "type": "heatmap"
           }
          ],
          "heatmapgl": [
           {
            "colorbar": {
             "outlinewidth": 0,
             "ticks": ""
            },
            "colorscale": [
             [
              0,
              "#0d0887"
             ],
             [
              0.1111111111111111,
              "#46039f"
             ],
             [
              0.2222222222222222,
              "#7201a8"
             ],
             [
              0.3333333333333333,
              "#9c179e"
             ],
             [
              0.4444444444444444,
              "#bd3786"
             ],
             [
              0.5555555555555556,
              "#d8576b"
             ],
             [
              0.6666666666666666,
              "#ed7953"
             ],
             [
              0.7777777777777778,
              "#fb9f3a"
             ],
             [
              0.8888888888888888,
              "#fdca26"
             ],
             [
              1,
              "#f0f921"
             ]
            ],
            "type": "heatmapgl"
           }
          ],
          "histogram": [
           {
            "marker": {
             "colorbar": {
              "outlinewidth": 0,
              "ticks": ""
             }
            },
            "type": "histogram"
           }
          ],
          "histogram2d": [
           {
            "colorbar": {
             "outlinewidth": 0,
             "ticks": ""
            },
            "colorscale": [
             [
              0,
              "#0d0887"
             ],
             [
              0.1111111111111111,
              "#46039f"
             ],
             [
              0.2222222222222222,
              "#7201a8"
             ],
             [
              0.3333333333333333,
              "#9c179e"
             ],
             [
              0.4444444444444444,
              "#bd3786"
             ],
             [
              0.5555555555555556,
              "#d8576b"
             ],
             [
              0.6666666666666666,
              "#ed7953"
             ],
             [
              0.7777777777777778,
              "#fb9f3a"
             ],
             [
              0.8888888888888888,
              "#fdca26"
             ],
             [
              1,
              "#f0f921"
             ]
            ],
            "type": "histogram2d"
           }
          ],
          "histogram2dcontour": [
           {
            "colorbar": {
             "outlinewidth": 0,
             "ticks": ""
            },
            "colorscale": [
             [
              0,
              "#0d0887"
             ],
             [
              0.1111111111111111,
              "#46039f"
             ],
             [
              0.2222222222222222,
              "#7201a8"
             ],
             [
              0.3333333333333333,
              "#9c179e"
             ],
             [
              0.4444444444444444,
              "#bd3786"
             ],
             [
              0.5555555555555556,
              "#d8576b"
             ],
             [
              0.6666666666666666,
              "#ed7953"
             ],
             [
              0.7777777777777778,
              "#fb9f3a"
             ],
             [
              0.8888888888888888,
              "#fdca26"
             ],
             [
              1,
              "#f0f921"
             ]
            ],
            "type": "histogram2dcontour"
           }
          ],
          "mesh3d": [
           {
            "colorbar": {
             "outlinewidth": 0,
             "ticks": ""
            },
            "type": "mesh3d"
           }
          ],
          "parcoords": [
           {
            "line": {
             "colorbar": {
              "outlinewidth": 0,
              "ticks": ""
             }
            },
            "type": "parcoords"
           }
          ],
          "pie": [
           {
            "automargin": true,
            "type": "pie"
           }
          ],
          "scatter": [
           {
            "marker": {
             "colorbar": {
              "outlinewidth": 0,
              "ticks": ""
             }
            },
            "type": "scatter"
           }
          ],
          "scatter3d": [
           {
            "line": {
             "colorbar": {
              "outlinewidth": 0,
              "ticks": ""
             }
            },
            "marker": {
             "colorbar": {
              "outlinewidth": 0,
              "ticks": ""
             }
            },
            "type": "scatter3d"
           }
          ],
          "scattercarpet": [
           {
            "marker": {
             "colorbar": {
              "outlinewidth": 0,
              "ticks": ""
             }
            },
            "type": "scattercarpet"
           }
          ],
          "scattergeo": [
           {
            "marker": {
             "colorbar": {
              "outlinewidth": 0,
              "ticks": ""
             }
            },
            "type": "scattergeo"
           }
          ],
          "scattergl": [
           {
            "marker": {
             "colorbar": {
              "outlinewidth": 0,
              "ticks": ""
             }
            },
            "type": "scattergl"
           }
          ],
          "scattermapbox": [
           {
            "marker": {
             "colorbar": {
              "outlinewidth": 0,
              "ticks": ""
             }
            },
            "type": "scattermapbox"
           }
          ],
          "scatterpolar": [
           {
            "marker": {
             "colorbar": {
              "outlinewidth": 0,
              "ticks": ""
             }
            },
            "type": "scatterpolar"
           }
          ],
          "scatterpolargl": [
           {
            "marker": {
             "colorbar": {
              "outlinewidth": 0,
              "ticks": ""
             }
            },
            "type": "scatterpolargl"
           }
          ],
          "scatterternary": [
           {
            "marker": {
             "colorbar": {
              "outlinewidth": 0,
              "ticks": ""
             }
            },
            "type": "scatterternary"
           }
          ],
          "surface": [
           {
            "colorbar": {
             "outlinewidth": 0,
             "ticks": ""
            },
            "colorscale": [
             [
              0,
              "#0d0887"
             ],
             [
              0.1111111111111111,
              "#46039f"
             ],
             [
              0.2222222222222222,
              "#7201a8"
             ],
             [
              0.3333333333333333,
              "#9c179e"
             ],
             [
              0.4444444444444444,
              "#bd3786"
             ],
             [
              0.5555555555555556,
              "#d8576b"
             ],
             [
              0.6666666666666666,
              "#ed7953"
             ],
             [
              0.7777777777777778,
              "#fb9f3a"
             ],
             [
              0.8888888888888888,
              "#fdca26"
             ],
             [
              1,
              "#f0f921"
             ]
            ],
            "type": "surface"
           }
          ],
          "table": [
           {
            "cells": {
             "fill": {
              "color": "#EBF0F8"
             },
             "line": {
              "color": "white"
             }
            },
            "header": {
             "fill": {
              "color": "#C8D4E3"
             },
             "line": {
              "color": "white"
             }
            },
            "type": "table"
           }
          ]
         },
         "layout": {
          "annotationdefaults": {
           "arrowcolor": "#2a3f5f",
           "arrowhead": 0,
           "arrowwidth": 1
          },
          "autotypenumbers": "strict",
          "coloraxis": {
           "colorbar": {
            "outlinewidth": 0,
            "ticks": ""
           }
          },
          "colorscale": {
           "diverging": [
            [
             0,
             "#8e0152"
            ],
            [
             0.1,
             "#c51b7d"
            ],
            [
             0.2,
             "#de77ae"
            ],
            [
             0.3,
             "#f1b6da"
            ],
            [
             0.4,
             "#fde0ef"
            ],
            [
             0.5,
             "#f7f7f7"
            ],
            [
             0.6,
             "#e6f5d0"
            ],
            [
             0.7,
             "#b8e186"
            ],
            [
             0.8,
             "#7fbc41"
            ],
            [
             0.9,
             "#4d9221"
            ],
            [
             1,
             "#276419"
            ]
           ],
           "sequential": [
            [
             0,
             "#0d0887"
            ],
            [
             0.1111111111111111,
             "#46039f"
            ],
            [
             0.2222222222222222,
             "#7201a8"
            ],
            [
             0.3333333333333333,
             "#9c179e"
            ],
            [
             0.4444444444444444,
             "#bd3786"
            ],
            [
             0.5555555555555556,
             "#d8576b"
            ],
            [
             0.6666666666666666,
             "#ed7953"
            ],
            [
             0.7777777777777778,
             "#fb9f3a"
            ],
            [
             0.8888888888888888,
             "#fdca26"
            ],
            [
             1,
             "#f0f921"
            ]
           ],
           "sequentialminus": [
            [
             0,
             "#0d0887"
            ],
            [
             0.1111111111111111,
             "#46039f"
            ],
            [
             0.2222222222222222,
             "#7201a8"
            ],
            [
             0.3333333333333333,
             "#9c179e"
            ],
            [
             0.4444444444444444,
             "#bd3786"
            ],
            [
             0.5555555555555556,
             "#d8576b"
            ],
            [
             0.6666666666666666,
             "#ed7953"
            ],
            [
             0.7777777777777778,
             "#fb9f3a"
            ],
            [
             0.8888888888888888,
             "#fdca26"
            ],
            [
             1,
             "#f0f921"
            ]
           ]
          },
          "colorway": [
           "#636efa",
           "#EF553B",
           "#00cc96",
           "#ab63fa",
           "#FFA15A",
           "#19d3f3",
           "#FF6692",
           "#B6E880",
           "#FF97FF",
           "#FECB52"
          ],
          "font": {
           "color": "#2a3f5f"
          },
          "geo": {
           "bgcolor": "white",
           "lakecolor": "white",
           "landcolor": "#E5ECF6",
           "showlakes": true,
           "showland": true,
           "subunitcolor": "white"
          },
          "hoverlabel": {
           "align": "left"
          },
          "hovermode": "closest",
          "mapbox": {
           "style": "light"
          },
          "paper_bgcolor": "white",
          "plot_bgcolor": "#E5ECF6",
          "polar": {
           "angularaxis": {
            "gridcolor": "white",
            "linecolor": "white",
            "ticks": ""
           },
           "bgcolor": "#E5ECF6",
           "radialaxis": {
            "gridcolor": "white",
            "linecolor": "white",
            "ticks": ""
           }
          },
          "scene": {
           "xaxis": {
            "backgroundcolor": "#E5ECF6",
            "gridcolor": "white",
            "gridwidth": 2,
            "linecolor": "white",
            "showbackground": true,
            "ticks": "",
            "zerolinecolor": "white"
           },
           "yaxis": {
            "backgroundcolor": "#E5ECF6",
            "gridcolor": "white",
            "gridwidth": 2,
            "linecolor": "white",
            "showbackground": true,
            "ticks": "",
            "zerolinecolor": "white"
           },
           "zaxis": {
            "backgroundcolor": "#E5ECF6",
            "gridcolor": "white",
            "gridwidth": 2,
            "linecolor": "white",
            "showbackground": true,
            "ticks": "",
            "zerolinecolor": "white"
           }
          },
          "shapedefaults": {
           "line": {
            "color": "#2a3f5f"
           }
          },
          "ternary": {
           "aaxis": {
            "gridcolor": "white",
            "linecolor": "white",
            "ticks": ""
           },
           "baxis": {
            "gridcolor": "white",
            "linecolor": "white",
            "ticks": ""
           },
           "bgcolor": "#E5ECF6",
           "caxis": {
            "gridcolor": "white",
            "linecolor": "white",
            "ticks": ""
           }
          },
          "title": {
           "x": 0.05
          },
          "xaxis": {
           "automargin": true,
           "gridcolor": "white",
           "linecolor": "white",
           "ticks": "",
           "title": {
            "standoff": 15
           },
           "zerolinecolor": "white",
           "zerolinewidth": 2
          },
          "yaxis": {
           "automargin": true,
           "gridcolor": "white",
           "linecolor": "white",
           "ticks": "",
           "title": {
            "standoff": 15
           },
           "zerolinecolor": "white",
           "zerolinewidth": 2
          }
         }
        },
        "title": {
         "text": "Top 10 States with highest Negative cases"
        },
        "xaxis": {
         "anchor": "y",
         "domain": [
          0,
          1
         ],
         "title": {
          "text": "States"
         }
        },
        "yaxis": {
         "anchor": "x",
         "domain": [
          0,
          1
         ],
         "title": {
          "text": "Total Negative cases"
         }
        }
       }
      },
      "text/html": [
       "<div>                            <div id=\"5d1c8ea9-756a-49c2-903f-501c57004b27\" class=\"plotly-graph-div\" style=\"height:525px; width:100%;\"></div>            <script type=\"text/javascript\">                require([\"plotly\"], function(Plotly) {                    window.PLOTLYENV=window.PLOTLYENV || {};                                    if (document.getElementById(\"5d1c8ea9-756a-49c2-903f-501c57004b27\")) {                    Plotly.newPlot(                        \"5d1c8ea9-756a-49c2-903f-501c57004b27\",                        [{\"alignmentgroup\": \"True\", \"hovertemplate\": \"States=%{x}<br>Total Negative cases=%{y}<extra></extra>\", \"legendgroup\": \"\", \"marker\": {\"color\": \"rgb(232, 245, 171)\"}, \"name\": \"\", \"offsetgroup\": \"\", \"orientation\": \"v\", \"showlegend\": false, \"textposition\": \"auto\", \"type\": \"bar\", \"x\": [\"Kerala\", \"Maharashtra\", \"Jharkhand\", \"Haryana\", \"Gujarat\", \"Tamil Nadu\", \"Uttar Pradesh\", \"Andhra Pradesh\", \"Karnataka\", \"Punjab\"], \"xaxis\": \"x\", \"y\": [8726853.0, 6909075.0, 6733511.0, 5638736.0, 4220058.0, 3695513.0, 3082865.0, 2298779.0, 2049939.0, 2043196.0], \"yaxis\": \"y\"}],                        {\"barmode\": \"relative\", \"legend\": {\"tracegroupgap\": 0}, \"template\": {\"data\": {\"bar\": [{\"error_x\": {\"color\": \"#2a3f5f\"}, \"error_y\": {\"color\": \"#2a3f5f\"}, \"marker\": {\"line\": {\"color\": \"#E5ECF6\", \"width\": 0.5}}, \"type\": \"bar\"}], \"barpolar\": [{\"marker\": {\"line\": {\"color\": \"#E5ECF6\", \"width\": 0.5}}, \"type\": \"barpolar\"}], \"carpet\": [{\"aaxis\": {\"endlinecolor\": \"#2a3f5f\", \"gridcolor\": \"white\", \"linecolor\": \"white\", \"minorgridcolor\": \"white\", \"startlinecolor\": \"#2a3f5f\"}, \"baxis\": {\"endlinecolor\": \"#2a3f5f\", \"gridcolor\": \"white\", \"linecolor\": \"white\", \"minorgridcolor\": \"white\", \"startlinecolor\": \"#2a3f5f\"}, \"type\": \"carpet\"}], \"choropleth\": [{\"colorbar\": {\"outlinewidth\": 0, \"ticks\": \"\"}, \"type\": \"choropleth\"}], \"contour\": [{\"colorbar\": {\"outlinewidth\": 0, \"ticks\": \"\"}, \"colorscale\": [[0.0, \"#0d0887\"], [0.1111111111111111, \"#46039f\"], [0.2222222222222222, \"#7201a8\"], [0.3333333333333333, \"#9c179e\"], [0.4444444444444444, \"#bd3786\"], [0.5555555555555556, \"#d8576b\"], [0.6666666666666666, \"#ed7953\"], [0.7777777777777778, \"#fb9f3a\"], [0.8888888888888888, \"#fdca26\"], [1.0, \"#f0f921\"]], \"type\": \"contour\"}], \"contourcarpet\": [{\"colorbar\": {\"outlinewidth\": 0, \"ticks\": \"\"}, \"type\": \"contourcarpet\"}], \"heatmap\": [{\"colorbar\": {\"outlinewidth\": 0, \"ticks\": \"\"}, \"colorscale\": [[0.0, \"#0d0887\"], [0.1111111111111111, \"#46039f\"], [0.2222222222222222, \"#7201a8\"], [0.3333333333333333, \"#9c179e\"], [0.4444444444444444, \"#bd3786\"], [0.5555555555555556, \"#d8576b\"], [0.6666666666666666, \"#ed7953\"], [0.7777777777777778, \"#fb9f3a\"], [0.8888888888888888, \"#fdca26\"], [1.0, \"#f0f921\"]], \"type\": \"heatmap\"}], \"heatmapgl\": [{\"colorbar\": {\"outlinewidth\": 0, \"ticks\": \"\"}, \"colorscale\": [[0.0, \"#0d0887\"], [0.1111111111111111, \"#46039f\"], [0.2222222222222222, \"#7201a8\"], [0.3333333333333333, \"#9c179e\"], [0.4444444444444444, \"#bd3786\"], [0.5555555555555556, \"#d8576b\"], [0.6666666666666666, \"#ed7953\"], [0.7777777777777778, \"#fb9f3a\"], [0.8888888888888888, \"#fdca26\"], [1.0, \"#f0f921\"]], \"type\": \"heatmapgl\"}], \"histogram\": [{\"marker\": {\"colorbar\": {\"outlinewidth\": 0, \"ticks\": \"\"}}, \"type\": \"histogram\"}], \"histogram2d\": [{\"colorbar\": {\"outlinewidth\": 0, \"ticks\": \"\"}, \"colorscale\": [[0.0, \"#0d0887\"], [0.1111111111111111, \"#46039f\"], [0.2222222222222222, \"#7201a8\"], [0.3333333333333333, \"#9c179e\"], [0.4444444444444444, \"#bd3786\"], [0.5555555555555556, \"#d8576b\"], [0.6666666666666666, \"#ed7953\"], [0.7777777777777778, \"#fb9f3a\"], [0.8888888888888888, \"#fdca26\"], [1.0, \"#f0f921\"]], \"type\": \"histogram2d\"}], \"histogram2dcontour\": [{\"colorbar\": {\"outlinewidth\": 0, \"ticks\": \"\"}, \"colorscale\": [[0.0, \"#0d0887\"], [0.1111111111111111, \"#46039f\"], [0.2222222222222222, \"#7201a8\"], [0.3333333333333333, \"#9c179e\"], [0.4444444444444444, \"#bd3786\"], [0.5555555555555556, \"#d8576b\"], [0.6666666666666666, \"#ed7953\"], [0.7777777777777778, \"#fb9f3a\"], [0.8888888888888888, \"#fdca26\"], [1.0, \"#f0f921\"]], \"type\": \"histogram2dcontour\"}], \"mesh3d\": [{\"colorbar\": {\"outlinewidth\": 0, \"ticks\": \"\"}, \"type\": \"mesh3d\"}], \"parcoords\": [{\"line\": {\"colorbar\": {\"outlinewidth\": 0, \"ticks\": \"\"}}, \"type\": \"parcoords\"}], \"pie\": [{\"automargin\": true, \"type\": \"pie\"}], \"scatter\": [{\"marker\": {\"colorbar\": {\"outlinewidth\": 0, \"ticks\": \"\"}}, \"type\": \"scatter\"}], \"scatter3d\": [{\"line\": {\"colorbar\": {\"outlinewidth\": 0, \"ticks\": \"\"}}, \"marker\": {\"colorbar\": {\"outlinewidth\": 0, \"ticks\": \"\"}}, \"type\": \"scatter3d\"}], \"scattercarpet\": [{\"marker\": {\"colorbar\": {\"outlinewidth\": 0, \"ticks\": \"\"}}, \"type\": \"scattercarpet\"}], \"scattergeo\": [{\"marker\": {\"colorbar\": {\"outlinewidth\": 0, \"ticks\": \"\"}}, \"type\": \"scattergeo\"}], \"scattergl\": [{\"marker\": {\"colorbar\": {\"outlinewidth\": 0, \"ticks\": \"\"}}, \"type\": \"scattergl\"}], \"scattermapbox\": [{\"marker\": {\"colorbar\": {\"outlinewidth\": 0, \"ticks\": \"\"}}, \"type\": \"scattermapbox\"}], \"scatterpolar\": [{\"marker\": {\"colorbar\": {\"outlinewidth\": 0, \"ticks\": \"\"}}, \"type\": \"scatterpolar\"}], \"scatterpolargl\": [{\"marker\": {\"colorbar\": {\"outlinewidth\": 0, \"ticks\": \"\"}}, \"type\": \"scatterpolargl\"}], \"scatterternary\": [{\"marker\": {\"colorbar\": {\"outlinewidth\": 0, \"ticks\": \"\"}}, \"type\": \"scatterternary\"}], \"surface\": [{\"colorbar\": {\"outlinewidth\": 0, \"ticks\": \"\"}, \"colorscale\": [[0.0, \"#0d0887\"], [0.1111111111111111, \"#46039f\"], [0.2222222222222222, \"#7201a8\"], [0.3333333333333333, \"#9c179e\"], [0.4444444444444444, \"#bd3786\"], [0.5555555555555556, \"#d8576b\"], [0.6666666666666666, \"#ed7953\"], [0.7777777777777778, \"#fb9f3a\"], [0.8888888888888888, \"#fdca26\"], [1.0, \"#f0f921\"]], \"type\": \"surface\"}], \"table\": [{\"cells\": {\"fill\": {\"color\": \"#EBF0F8\"}, \"line\": {\"color\": \"white\"}}, \"header\": {\"fill\": {\"color\": \"#C8D4E3\"}, \"line\": {\"color\": \"white\"}}, \"type\": \"table\"}]}, \"layout\": {\"annotationdefaults\": {\"arrowcolor\": \"#2a3f5f\", \"arrowhead\": 0, \"arrowwidth\": 1}, \"autotypenumbers\": \"strict\", \"coloraxis\": {\"colorbar\": {\"outlinewidth\": 0, \"ticks\": \"\"}}, \"colorscale\": {\"diverging\": [[0, \"#8e0152\"], [0.1, \"#c51b7d\"], [0.2, \"#de77ae\"], [0.3, \"#f1b6da\"], [0.4, \"#fde0ef\"], [0.5, \"#f7f7f7\"], [0.6, \"#e6f5d0\"], [0.7, \"#b8e186\"], [0.8, \"#7fbc41\"], [0.9, \"#4d9221\"], [1, \"#276419\"]], \"sequential\": [[0.0, \"#0d0887\"], [0.1111111111111111, \"#46039f\"], [0.2222222222222222, \"#7201a8\"], [0.3333333333333333, \"#9c179e\"], [0.4444444444444444, \"#bd3786\"], [0.5555555555555556, \"#d8576b\"], [0.6666666666666666, \"#ed7953\"], [0.7777777777777778, \"#fb9f3a\"], [0.8888888888888888, \"#fdca26\"], [1.0, \"#f0f921\"]], \"sequentialminus\": [[0.0, \"#0d0887\"], [0.1111111111111111, \"#46039f\"], [0.2222222222222222, \"#7201a8\"], [0.3333333333333333, \"#9c179e\"], [0.4444444444444444, \"#bd3786\"], [0.5555555555555556, \"#d8576b\"], [0.6666666666666666, \"#ed7953\"], [0.7777777777777778, \"#fb9f3a\"], [0.8888888888888888, \"#fdca26\"], [1.0, \"#f0f921\"]]}, \"colorway\": [\"#636efa\", \"#EF553B\", \"#00cc96\", \"#ab63fa\", \"#FFA15A\", \"#19d3f3\", \"#FF6692\", \"#B6E880\", \"#FF97FF\", \"#FECB52\"], \"font\": {\"color\": \"#2a3f5f\"}, \"geo\": {\"bgcolor\": \"white\", \"lakecolor\": \"white\", \"landcolor\": \"#E5ECF6\", \"showlakes\": true, \"showland\": true, \"subunitcolor\": \"white\"}, \"hoverlabel\": {\"align\": \"left\"}, \"hovermode\": \"closest\", \"mapbox\": {\"style\": \"light\"}, \"paper_bgcolor\": \"white\", \"plot_bgcolor\": \"#E5ECF6\", \"polar\": {\"angularaxis\": {\"gridcolor\": \"white\", \"linecolor\": \"white\", \"ticks\": \"\"}, \"bgcolor\": \"#E5ECF6\", \"radialaxis\": {\"gridcolor\": \"white\", \"linecolor\": \"white\", \"ticks\": \"\"}}, \"scene\": {\"xaxis\": {\"backgroundcolor\": \"#E5ECF6\", \"gridcolor\": \"white\", \"gridwidth\": 2, \"linecolor\": \"white\", \"showbackground\": true, \"ticks\": \"\", \"zerolinecolor\": \"white\"}, \"yaxis\": {\"backgroundcolor\": \"#E5ECF6\", \"gridcolor\": \"white\", \"gridwidth\": 2, \"linecolor\": \"white\", \"showbackground\": true, \"ticks\": \"\", \"zerolinecolor\": \"white\"}, \"zaxis\": {\"backgroundcolor\": \"#E5ECF6\", \"gridcolor\": \"white\", \"gridwidth\": 2, \"linecolor\": \"white\", \"showbackground\": true, \"ticks\": \"\", \"zerolinecolor\": \"white\"}}, \"shapedefaults\": {\"line\": {\"color\": \"#2a3f5f\"}}, \"ternary\": {\"aaxis\": {\"gridcolor\": \"white\", \"linecolor\": \"white\", \"ticks\": \"\"}, \"baxis\": {\"gridcolor\": \"white\", \"linecolor\": \"white\", \"ticks\": \"\"}, \"bgcolor\": \"#E5ECF6\", \"caxis\": {\"gridcolor\": \"white\", \"linecolor\": \"white\", \"ticks\": \"\"}}, \"title\": {\"x\": 0.05}, \"xaxis\": {\"automargin\": true, \"gridcolor\": \"white\", \"linecolor\": \"white\", \"ticks\": \"\", \"title\": {\"standoff\": 15}, \"zerolinecolor\": \"white\", \"zerolinewidth\": 2}, \"yaxis\": {\"automargin\": true, \"gridcolor\": \"white\", \"linecolor\": \"white\", \"ticks\": \"\", \"title\": {\"standoff\": 15}, \"zerolinecolor\": \"white\", \"zerolinewidth\": 2}}}, \"title\": {\"text\": \"Top 10 States with highest Negative cases\"}, \"xaxis\": {\"anchor\": \"y\", \"domain\": [0.0, 1.0], \"title\": {\"text\": \"States\"}}, \"yaxis\": {\"anchor\": \"x\", \"domain\": [0.0, 1.0], \"title\": {\"text\": \"Total Negative cases\"}}},                        {\"responsive\": true}                    ).then(function(){\n",
       "                            \n",
       "var gd = document.getElementById('5d1c8ea9-756a-49c2-903f-501c57004b27');\n",
       "var x = new MutationObserver(function (mutations, observer) {{\n",
       "        var display = window.getComputedStyle(gd).display;\n",
       "        if (!display || display === 'none') {{\n",
       "            console.log([gd, 'removed!']);\n",
       "            Plotly.purge(gd);\n",
       "            observer.disconnect();\n",
       "        }}\n",
       "}});\n",
       "\n",
       "// Listen for the removal of the full notebook cells\n",
       "var notebookContainer = gd.closest('#notebook-container');\n",
       "if (notebookContainer) {{\n",
       "    x.observe(notebookContainer, {childList: true});\n",
       "}}\n",
       "\n",
       "// Listen for the clearing of the current output cell\n",
       "var outputEl = gd.closest('.output');\n",
       "if (outputEl) {{\n",
       "    x.observe(outputEl, {childList: true});\n",
       "}}\n",
       "\n",
       "                        })                };                });            </script>        </div>"
      ]
     },
     "metadata": {},
     "output_type": "display_data"
    }
   ],
   "source": [
    "# Top 10 states with highest no. of negative cases\n",
    "px.bar(x=covid_testing_state.nlargest(10, 'Negative')['State'],\n",
    "      y=covid_testing_state.nlargest(10, 'Negative')['Negative'],\n",
    "      labels={'y': 'Total Negative cases', 'x': 'States'},\n",
    "      color_discrete_sequence=px.colors.sequential.turbid,\n",
    "      title='Top 10 States with highest Negative cases')"
   ]
  },
  {
   "cell_type": "code",
   "execution_count": 73,
   "id": "4321d42d",
   "metadata": {},
   "outputs": [
    {
     "data": {
      "application/vnd.plotly.v1+json": {
       "config": {
        "plotlyServerURL": "https://plot.ly"
       },
       "data": [
        {
         "alignmentgroup": "True",
         "hovertemplate": "State=%{x}<br>Total No. of Positive cases=%{y}<extra></extra>",
         "legendgroup": "",
         "marker": {
          "color": "rgb(51, 19, 23)"
         },
         "name": "",
         "offsetgroup": "",
         "orientation": "v",
         "showlegend": false,
         "textposition": "auto",
         "type": "bar",
         "x": [
          "Maharashtra",
          "Kerala",
          "Tamil Nadu",
          "Haryana",
          "Karnataka",
          "Jharkhand",
          "Andhra Pradesh",
          "Delhi",
          "Gujarat",
          "West Bengal"
         ],
         "xaxis": "x",
         "y": [
          1638961,
          932639,
          367430,
          275137,
          264546,
          244472,
          235525,
          151928,
          136004,
          135596
         ],
         "yaxis": "y"
        }
       ],
       "layout": {
        "barmode": "relative",
        "legend": {
         "tracegroupgap": 0
        },
        "margin": {
         "t": 60
        },
        "template": {
         "data": {
          "bar": [
           {
            "error_x": {
             "color": "#2a3f5f"
            },
            "error_y": {
             "color": "#2a3f5f"
            },
            "marker": {
             "line": {
              "color": "#E5ECF6",
              "width": 0.5
             }
            },
            "type": "bar"
           }
          ],
          "barpolar": [
           {
            "marker": {
             "line": {
              "color": "#E5ECF6",
              "width": 0.5
             }
            },
            "type": "barpolar"
           }
          ],
          "carpet": [
           {
            "aaxis": {
             "endlinecolor": "#2a3f5f",
             "gridcolor": "white",
             "linecolor": "white",
             "minorgridcolor": "white",
             "startlinecolor": "#2a3f5f"
            },
            "baxis": {
             "endlinecolor": "#2a3f5f",
             "gridcolor": "white",
             "linecolor": "white",
             "minorgridcolor": "white",
             "startlinecolor": "#2a3f5f"
            },
            "type": "carpet"
           }
          ],
          "choropleth": [
           {
            "colorbar": {
             "outlinewidth": 0,
             "ticks": ""
            },
            "type": "choropleth"
           }
          ],
          "contour": [
           {
            "colorbar": {
             "outlinewidth": 0,
             "ticks": ""
            },
            "colorscale": [
             [
              0,
              "#0d0887"
             ],
             [
              0.1111111111111111,
              "#46039f"
             ],
             [
              0.2222222222222222,
              "#7201a8"
             ],
             [
              0.3333333333333333,
              "#9c179e"
             ],
             [
              0.4444444444444444,
              "#bd3786"
             ],
             [
              0.5555555555555556,
              "#d8576b"
             ],
             [
              0.6666666666666666,
              "#ed7953"
             ],
             [
              0.7777777777777778,
              "#fb9f3a"
             ],
             [
              0.8888888888888888,
              "#fdca26"
             ],
             [
              1,
              "#f0f921"
             ]
            ],
            "type": "contour"
           }
          ],
          "contourcarpet": [
           {
            "colorbar": {
             "outlinewidth": 0,
             "ticks": ""
            },
            "type": "contourcarpet"
           }
          ],
          "heatmap": [
           {
            "colorbar": {
             "outlinewidth": 0,
             "ticks": ""
            },
            "colorscale": [
             [
              0,
              "#0d0887"
             ],
             [
              0.1111111111111111,
              "#46039f"
             ],
             [
              0.2222222222222222,
              "#7201a8"
             ],
             [
              0.3333333333333333,
              "#9c179e"
             ],
             [
              0.4444444444444444,
              "#bd3786"
             ],
             [
              0.5555555555555556,
              "#d8576b"
             ],
             [
              0.6666666666666666,
              "#ed7953"
             ],
             [
              0.7777777777777778,
              "#fb9f3a"
             ],
             [
              0.8888888888888888,
              "#fdca26"
             ],
             [
              1,
              "#f0f921"
             ]
            ],
            "type": "heatmap"
           }
          ],
          "heatmapgl": [
           {
            "colorbar": {
             "outlinewidth": 0,
             "ticks": ""
            },
            "colorscale": [
             [
              0,
              "#0d0887"
             ],
             [
              0.1111111111111111,
              "#46039f"
             ],
             [
              0.2222222222222222,
              "#7201a8"
             ],
             [
              0.3333333333333333,
              "#9c179e"
             ],
             [
              0.4444444444444444,
              "#bd3786"
             ],
             [
              0.5555555555555556,
              "#d8576b"
             ],
             [
              0.6666666666666666,
              "#ed7953"
             ],
             [
              0.7777777777777778,
              "#fb9f3a"
             ],
             [
              0.8888888888888888,
              "#fdca26"
             ],
             [
              1,
              "#f0f921"
             ]
            ],
            "type": "heatmapgl"
           }
          ],
          "histogram": [
           {
            "marker": {
             "colorbar": {
              "outlinewidth": 0,
              "ticks": ""
             }
            },
            "type": "histogram"
           }
          ],
          "histogram2d": [
           {
            "colorbar": {
             "outlinewidth": 0,
             "ticks": ""
            },
            "colorscale": [
             [
              0,
              "#0d0887"
             ],
             [
              0.1111111111111111,
              "#46039f"
             ],
             [
              0.2222222222222222,
              "#7201a8"
             ],
             [
              0.3333333333333333,
              "#9c179e"
             ],
             [
              0.4444444444444444,
              "#bd3786"
             ],
             [
              0.5555555555555556,
              "#d8576b"
             ],
             [
              0.6666666666666666,
              "#ed7953"
             ],
             [
              0.7777777777777778,
              "#fb9f3a"
             ],
             [
              0.8888888888888888,
              "#fdca26"
             ],
             [
              1,
              "#f0f921"
             ]
            ],
            "type": "histogram2d"
           }
          ],
          "histogram2dcontour": [
           {
            "colorbar": {
             "outlinewidth": 0,
             "ticks": ""
            },
            "colorscale": [
             [
              0,
              "#0d0887"
             ],
             [
              0.1111111111111111,
              "#46039f"
             ],
             [
              0.2222222222222222,
              "#7201a8"
             ],
             [
              0.3333333333333333,
              "#9c179e"
             ],
             [
              0.4444444444444444,
              "#bd3786"
             ],
             [
              0.5555555555555556,
              "#d8576b"
             ],
             [
              0.6666666666666666,
              "#ed7953"
             ],
             [
              0.7777777777777778,
              "#fb9f3a"
             ],
             [
              0.8888888888888888,
              "#fdca26"
             ],
             [
              1,
              "#f0f921"
             ]
            ],
            "type": "histogram2dcontour"
           }
          ],
          "mesh3d": [
           {
            "colorbar": {
             "outlinewidth": 0,
             "ticks": ""
            },
            "type": "mesh3d"
           }
          ],
          "parcoords": [
           {
            "line": {
             "colorbar": {
              "outlinewidth": 0,
              "ticks": ""
             }
            },
            "type": "parcoords"
           }
          ],
          "pie": [
           {
            "automargin": true,
            "type": "pie"
           }
          ],
          "scatter": [
           {
            "marker": {
             "colorbar": {
              "outlinewidth": 0,
              "ticks": ""
             }
            },
            "type": "scatter"
           }
          ],
          "scatter3d": [
           {
            "line": {
             "colorbar": {
              "outlinewidth": 0,
              "ticks": ""
             }
            },
            "marker": {
             "colorbar": {
              "outlinewidth": 0,
              "ticks": ""
             }
            },
            "type": "scatter3d"
           }
          ],
          "scattercarpet": [
           {
            "marker": {
             "colorbar": {
              "outlinewidth": 0,
              "ticks": ""
             }
            },
            "type": "scattercarpet"
           }
          ],
          "scattergeo": [
           {
            "marker": {
             "colorbar": {
              "outlinewidth": 0,
              "ticks": ""
             }
            },
            "type": "scattergeo"
           }
          ],
          "scattergl": [
           {
            "marker": {
             "colorbar": {
              "outlinewidth": 0,
              "ticks": ""
             }
            },
            "type": "scattergl"
           }
          ],
          "scattermapbox": [
           {
            "marker": {
             "colorbar": {
              "outlinewidth": 0,
              "ticks": ""
             }
            },
            "type": "scattermapbox"
           }
          ],
          "scatterpolar": [
           {
            "marker": {
             "colorbar": {
              "outlinewidth": 0,
              "ticks": ""
             }
            },
            "type": "scatterpolar"
           }
          ],
          "scatterpolargl": [
           {
            "marker": {
             "colorbar": {
              "outlinewidth": 0,
              "ticks": ""
             }
            },
            "type": "scatterpolargl"
           }
          ],
          "scatterternary": [
           {
            "marker": {
             "colorbar": {
              "outlinewidth": 0,
              "ticks": ""
             }
            },
            "type": "scatterternary"
           }
          ],
          "surface": [
           {
            "colorbar": {
             "outlinewidth": 0,
             "ticks": ""
            },
            "colorscale": [
             [
              0,
              "#0d0887"
             ],
             [
              0.1111111111111111,
              "#46039f"
             ],
             [
              0.2222222222222222,
              "#7201a8"
             ],
             [
              0.3333333333333333,
              "#9c179e"
             ],
             [
              0.4444444444444444,
              "#bd3786"
             ],
             [
              0.5555555555555556,
              "#d8576b"
             ],
             [
              0.6666666666666666,
              "#ed7953"
             ],
             [
              0.7777777777777778,
              "#fb9f3a"
             ],
             [
              0.8888888888888888,
              "#fdca26"
             ],
             [
              1,
              "#f0f921"
             ]
            ],
            "type": "surface"
           }
          ],
          "table": [
           {
            "cells": {
             "fill": {
              "color": "#EBF0F8"
             },
             "line": {
              "color": "white"
             }
            },
            "header": {
             "fill": {
              "color": "#C8D4E3"
             },
             "line": {
              "color": "white"
             }
            },
            "type": "table"
           }
          ]
         },
         "layout": {
          "annotationdefaults": {
           "arrowcolor": "#2a3f5f",
           "arrowhead": 0,
           "arrowwidth": 1
          },
          "autotypenumbers": "strict",
          "coloraxis": {
           "colorbar": {
            "outlinewidth": 0,
            "ticks": ""
           }
          },
          "colorscale": {
           "diverging": [
            [
             0,
             "#8e0152"
            ],
            [
             0.1,
             "#c51b7d"
            ],
            [
             0.2,
             "#de77ae"
            ],
            [
             0.3,
             "#f1b6da"
            ],
            [
             0.4,
             "#fde0ef"
            ],
            [
             0.5,
             "#f7f7f7"
            ],
            [
             0.6,
             "#e6f5d0"
            ],
            [
             0.7,
             "#b8e186"
            ],
            [
             0.8,
             "#7fbc41"
            ],
            [
             0.9,
             "#4d9221"
            ],
            [
             1,
             "#276419"
            ]
           ],
           "sequential": [
            [
             0,
             "#0d0887"
            ],
            [
             0.1111111111111111,
             "#46039f"
            ],
            [
             0.2222222222222222,
             "#7201a8"
            ],
            [
             0.3333333333333333,
             "#9c179e"
            ],
            [
             0.4444444444444444,
             "#bd3786"
            ],
            [
             0.5555555555555556,
             "#d8576b"
            ],
            [
             0.6666666666666666,
             "#ed7953"
            ],
            [
             0.7777777777777778,
             "#fb9f3a"
            ],
            [
             0.8888888888888888,
             "#fdca26"
            ],
            [
             1,
             "#f0f921"
            ]
           ],
           "sequentialminus": [
            [
             0,
             "#0d0887"
            ],
            [
             0.1111111111111111,
             "#46039f"
            ],
            [
             0.2222222222222222,
             "#7201a8"
            ],
            [
             0.3333333333333333,
             "#9c179e"
            ],
            [
             0.4444444444444444,
             "#bd3786"
            ],
            [
             0.5555555555555556,
             "#d8576b"
            ],
            [
             0.6666666666666666,
             "#ed7953"
            ],
            [
             0.7777777777777778,
             "#fb9f3a"
            ],
            [
             0.8888888888888888,
             "#fdca26"
            ],
            [
             1,
             "#f0f921"
            ]
           ]
          },
          "colorway": [
           "#636efa",
           "#EF553B",
           "#00cc96",
           "#ab63fa",
           "#FFA15A",
           "#19d3f3",
           "#FF6692",
           "#B6E880",
           "#FF97FF",
           "#FECB52"
          ],
          "font": {
           "color": "#2a3f5f"
          },
          "geo": {
           "bgcolor": "white",
           "lakecolor": "white",
           "landcolor": "#E5ECF6",
           "showlakes": true,
           "showland": true,
           "subunitcolor": "white"
          },
          "hoverlabel": {
           "align": "left"
          },
          "hovermode": "closest",
          "mapbox": {
           "style": "light"
          },
          "paper_bgcolor": "white",
          "plot_bgcolor": "#E5ECF6",
          "polar": {
           "angularaxis": {
            "gridcolor": "white",
            "linecolor": "white",
            "ticks": ""
           },
           "bgcolor": "#E5ECF6",
           "radialaxis": {
            "gridcolor": "white",
            "linecolor": "white",
            "ticks": ""
           }
          },
          "scene": {
           "xaxis": {
            "backgroundcolor": "#E5ECF6",
            "gridcolor": "white",
            "gridwidth": 2,
            "linecolor": "white",
            "showbackground": true,
            "ticks": "",
            "zerolinecolor": "white"
           },
           "yaxis": {
            "backgroundcolor": "#E5ECF6",
            "gridcolor": "white",
            "gridwidth": 2,
            "linecolor": "white",
            "showbackground": true,
            "ticks": "",
            "zerolinecolor": "white"
           },
           "zaxis": {
            "backgroundcolor": "#E5ECF6",
            "gridcolor": "white",
            "gridwidth": 2,
            "linecolor": "white",
            "showbackground": true,
            "ticks": "",
            "zerolinecolor": "white"
           }
          },
          "shapedefaults": {
           "line": {
            "color": "#2a3f5f"
           }
          },
          "ternary": {
           "aaxis": {
            "gridcolor": "white",
            "linecolor": "white",
            "ticks": ""
           },
           "baxis": {
            "gridcolor": "white",
            "linecolor": "white",
            "ticks": ""
           },
           "bgcolor": "#E5ECF6",
           "caxis": {
            "gridcolor": "white",
            "linecolor": "white",
            "ticks": ""
           }
          },
          "title": {
           "x": 0.05
          },
          "xaxis": {
           "automargin": true,
           "gridcolor": "white",
           "linecolor": "white",
           "ticks": "",
           "title": {
            "standoff": 15
           },
           "zerolinecolor": "white",
           "zerolinewidth": 2
          },
          "yaxis": {
           "automargin": true,
           "gridcolor": "white",
           "linecolor": "white",
           "ticks": "",
           "title": {
            "standoff": 15
           },
           "zerolinecolor": "white",
           "zerolinewidth": 2
          }
         }
        },
        "xaxis": {
         "anchor": "y",
         "domain": [
          0,
          1
         ],
         "title": {
          "text": "State"
         }
        },
        "yaxis": {
         "anchor": "x",
         "domain": [
          0,
          1
         ],
         "title": {
          "text": "Total No. of Positive cases"
         }
        }
       }
      },
      "text/html": [
       "<div>                            <div id=\"001f319b-124a-43a7-b5c8-70df4c215b98\" class=\"plotly-graph-div\" style=\"height:525px; width:100%;\"></div>            <script type=\"text/javascript\">                require([\"plotly\"], function(Plotly) {                    window.PLOTLYENV=window.PLOTLYENV || {};                                    if (document.getElementById(\"001f319b-124a-43a7-b5c8-70df4c215b98\")) {                    Plotly.newPlot(                        \"001f319b-124a-43a7-b5c8-70df4c215b98\",                        [{\"alignmentgroup\": \"True\", \"hovertemplate\": \"State=%{x}<br>Total No. of Positive cases=%{y}<extra></extra>\", \"legendgroup\": \"\", \"marker\": {\"color\": \"rgb(51, 19, 23)\"}, \"name\": \"\", \"offsetgroup\": \"\", \"orientation\": \"v\", \"showlegend\": false, \"textposition\": \"auto\", \"type\": \"bar\", \"x\": [\"Maharashtra\", \"Kerala\", \"Tamil Nadu\", \"Haryana\", \"Karnataka\", \"Jharkhand\", \"Andhra Pradesh\", \"Delhi\", \"Gujarat\", \"West Bengal\"], \"xaxis\": \"x\", \"y\": [1638961.0, 932639.0, 367430.0, 275137.0, 264546.0, 244472.0, 235525.0, 151928.0, 136004.0, 135596.0], \"yaxis\": \"y\"}],                        {\"barmode\": \"relative\", \"legend\": {\"tracegroupgap\": 0}, \"margin\": {\"t\": 60}, \"template\": {\"data\": {\"bar\": [{\"error_x\": {\"color\": \"#2a3f5f\"}, \"error_y\": {\"color\": \"#2a3f5f\"}, \"marker\": {\"line\": {\"color\": \"#E5ECF6\", \"width\": 0.5}}, \"type\": \"bar\"}], \"barpolar\": [{\"marker\": {\"line\": {\"color\": \"#E5ECF6\", \"width\": 0.5}}, \"type\": \"barpolar\"}], \"carpet\": [{\"aaxis\": {\"endlinecolor\": \"#2a3f5f\", \"gridcolor\": \"white\", \"linecolor\": \"white\", \"minorgridcolor\": \"white\", \"startlinecolor\": \"#2a3f5f\"}, \"baxis\": {\"endlinecolor\": \"#2a3f5f\", \"gridcolor\": \"white\", \"linecolor\": \"white\", \"minorgridcolor\": \"white\", \"startlinecolor\": \"#2a3f5f\"}, \"type\": \"carpet\"}], \"choropleth\": [{\"colorbar\": {\"outlinewidth\": 0, \"ticks\": \"\"}, \"type\": \"choropleth\"}], \"contour\": [{\"colorbar\": {\"outlinewidth\": 0, \"ticks\": \"\"}, \"colorscale\": [[0.0, \"#0d0887\"], [0.1111111111111111, \"#46039f\"], [0.2222222222222222, \"#7201a8\"], [0.3333333333333333, \"#9c179e\"], [0.4444444444444444, \"#bd3786\"], [0.5555555555555556, \"#d8576b\"], [0.6666666666666666, \"#ed7953\"], [0.7777777777777778, \"#fb9f3a\"], [0.8888888888888888, \"#fdca26\"], [1.0, \"#f0f921\"]], \"type\": \"contour\"}], \"contourcarpet\": [{\"colorbar\": {\"outlinewidth\": 0, \"ticks\": \"\"}, \"type\": \"contourcarpet\"}], \"heatmap\": [{\"colorbar\": {\"outlinewidth\": 0, \"ticks\": \"\"}, \"colorscale\": [[0.0, \"#0d0887\"], [0.1111111111111111, \"#46039f\"], [0.2222222222222222, \"#7201a8\"], [0.3333333333333333, \"#9c179e\"], [0.4444444444444444, \"#bd3786\"], [0.5555555555555556, \"#d8576b\"], [0.6666666666666666, \"#ed7953\"], [0.7777777777777778, \"#fb9f3a\"], [0.8888888888888888, \"#fdca26\"], [1.0, \"#f0f921\"]], \"type\": \"heatmap\"}], \"heatmapgl\": [{\"colorbar\": {\"outlinewidth\": 0, \"ticks\": \"\"}, \"colorscale\": [[0.0, \"#0d0887\"], [0.1111111111111111, \"#46039f\"], [0.2222222222222222, \"#7201a8\"], [0.3333333333333333, \"#9c179e\"], [0.4444444444444444, \"#bd3786\"], [0.5555555555555556, \"#d8576b\"], [0.6666666666666666, \"#ed7953\"], [0.7777777777777778, \"#fb9f3a\"], [0.8888888888888888, \"#fdca26\"], [1.0, \"#f0f921\"]], \"type\": \"heatmapgl\"}], \"histogram\": [{\"marker\": {\"colorbar\": {\"outlinewidth\": 0, \"ticks\": \"\"}}, \"type\": \"histogram\"}], \"histogram2d\": [{\"colorbar\": {\"outlinewidth\": 0, \"ticks\": \"\"}, \"colorscale\": [[0.0, \"#0d0887\"], [0.1111111111111111, \"#46039f\"], [0.2222222222222222, \"#7201a8\"], [0.3333333333333333, \"#9c179e\"], [0.4444444444444444, \"#bd3786\"], [0.5555555555555556, \"#d8576b\"], [0.6666666666666666, \"#ed7953\"], [0.7777777777777778, \"#fb9f3a\"], [0.8888888888888888, \"#fdca26\"], [1.0, \"#f0f921\"]], \"type\": \"histogram2d\"}], \"histogram2dcontour\": [{\"colorbar\": {\"outlinewidth\": 0, \"ticks\": \"\"}, \"colorscale\": [[0.0, \"#0d0887\"], [0.1111111111111111, \"#46039f\"], [0.2222222222222222, \"#7201a8\"], [0.3333333333333333, \"#9c179e\"], [0.4444444444444444, \"#bd3786\"], [0.5555555555555556, \"#d8576b\"], [0.6666666666666666, \"#ed7953\"], [0.7777777777777778, \"#fb9f3a\"], [0.8888888888888888, \"#fdca26\"], [1.0, \"#f0f921\"]], \"type\": \"histogram2dcontour\"}], \"mesh3d\": [{\"colorbar\": {\"outlinewidth\": 0, \"ticks\": \"\"}, \"type\": \"mesh3d\"}], \"parcoords\": [{\"line\": {\"colorbar\": {\"outlinewidth\": 0, \"ticks\": \"\"}}, \"type\": \"parcoords\"}], \"pie\": [{\"automargin\": true, \"type\": \"pie\"}], \"scatter\": [{\"marker\": {\"colorbar\": {\"outlinewidth\": 0, \"ticks\": \"\"}}, \"type\": \"scatter\"}], \"scatter3d\": [{\"line\": {\"colorbar\": {\"outlinewidth\": 0, \"ticks\": \"\"}}, \"marker\": {\"colorbar\": {\"outlinewidth\": 0, \"ticks\": \"\"}}, \"type\": \"scatter3d\"}], \"scattercarpet\": [{\"marker\": {\"colorbar\": {\"outlinewidth\": 0, \"ticks\": \"\"}}, \"type\": \"scattercarpet\"}], \"scattergeo\": [{\"marker\": {\"colorbar\": {\"outlinewidth\": 0, \"ticks\": \"\"}}, \"type\": \"scattergeo\"}], \"scattergl\": [{\"marker\": {\"colorbar\": {\"outlinewidth\": 0, \"ticks\": \"\"}}, \"type\": \"scattergl\"}], \"scattermapbox\": [{\"marker\": {\"colorbar\": {\"outlinewidth\": 0, \"ticks\": \"\"}}, \"type\": \"scattermapbox\"}], \"scatterpolar\": [{\"marker\": {\"colorbar\": {\"outlinewidth\": 0, \"ticks\": \"\"}}, \"type\": \"scatterpolar\"}], \"scatterpolargl\": [{\"marker\": {\"colorbar\": {\"outlinewidth\": 0, \"ticks\": \"\"}}, \"type\": \"scatterpolargl\"}], \"scatterternary\": [{\"marker\": {\"colorbar\": {\"outlinewidth\": 0, \"ticks\": \"\"}}, \"type\": \"scatterternary\"}], \"surface\": [{\"colorbar\": {\"outlinewidth\": 0, \"ticks\": \"\"}, \"colorscale\": [[0.0, \"#0d0887\"], [0.1111111111111111, \"#46039f\"], [0.2222222222222222, \"#7201a8\"], [0.3333333333333333, \"#9c179e\"], [0.4444444444444444, \"#bd3786\"], [0.5555555555555556, \"#d8576b\"], [0.6666666666666666, \"#ed7953\"], [0.7777777777777778, \"#fb9f3a\"], [0.8888888888888888, \"#fdca26\"], [1.0, \"#f0f921\"]], \"type\": \"surface\"}], \"table\": [{\"cells\": {\"fill\": {\"color\": \"#EBF0F8\"}, \"line\": {\"color\": \"white\"}}, \"header\": {\"fill\": {\"color\": \"#C8D4E3\"}, \"line\": {\"color\": \"white\"}}, \"type\": \"table\"}]}, \"layout\": {\"annotationdefaults\": {\"arrowcolor\": \"#2a3f5f\", \"arrowhead\": 0, \"arrowwidth\": 1}, \"autotypenumbers\": \"strict\", \"coloraxis\": {\"colorbar\": {\"outlinewidth\": 0, \"ticks\": \"\"}}, \"colorscale\": {\"diverging\": [[0, \"#8e0152\"], [0.1, \"#c51b7d\"], [0.2, \"#de77ae\"], [0.3, \"#f1b6da\"], [0.4, \"#fde0ef\"], [0.5, \"#f7f7f7\"], [0.6, \"#e6f5d0\"], [0.7, \"#b8e186\"], [0.8, \"#7fbc41\"], [0.9, \"#4d9221\"], [1, \"#276419\"]], \"sequential\": [[0.0, \"#0d0887\"], [0.1111111111111111, \"#46039f\"], [0.2222222222222222, \"#7201a8\"], [0.3333333333333333, \"#9c179e\"], [0.4444444444444444, \"#bd3786\"], [0.5555555555555556, \"#d8576b\"], [0.6666666666666666, \"#ed7953\"], [0.7777777777777778, \"#fb9f3a\"], [0.8888888888888888, \"#fdca26\"], [1.0, \"#f0f921\"]], \"sequentialminus\": [[0.0, \"#0d0887\"], [0.1111111111111111, \"#46039f\"], [0.2222222222222222, \"#7201a8\"], [0.3333333333333333, \"#9c179e\"], [0.4444444444444444, \"#bd3786\"], [0.5555555555555556, \"#d8576b\"], [0.6666666666666666, \"#ed7953\"], [0.7777777777777778, \"#fb9f3a\"], [0.8888888888888888, \"#fdca26\"], [1.0, \"#f0f921\"]]}, \"colorway\": [\"#636efa\", \"#EF553B\", \"#00cc96\", \"#ab63fa\", \"#FFA15A\", \"#19d3f3\", \"#FF6692\", \"#B6E880\", \"#FF97FF\", \"#FECB52\"], \"font\": {\"color\": \"#2a3f5f\"}, \"geo\": {\"bgcolor\": \"white\", \"lakecolor\": \"white\", \"landcolor\": \"#E5ECF6\", \"showlakes\": true, \"showland\": true, \"subunitcolor\": \"white\"}, \"hoverlabel\": {\"align\": \"left\"}, \"hovermode\": \"closest\", \"mapbox\": {\"style\": \"light\"}, \"paper_bgcolor\": \"white\", \"plot_bgcolor\": \"#E5ECF6\", \"polar\": {\"angularaxis\": {\"gridcolor\": \"white\", \"linecolor\": \"white\", \"ticks\": \"\"}, \"bgcolor\": \"#E5ECF6\", \"radialaxis\": {\"gridcolor\": \"white\", \"linecolor\": \"white\", \"ticks\": \"\"}}, \"scene\": {\"xaxis\": {\"backgroundcolor\": \"#E5ECF6\", \"gridcolor\": \"white\", \"gridwidth\": 2, \"linecolor\": \"white\", \"showbackground\": true, \"ticks\": \"\", \"zerolinecolor\": \"white\"}, \"yaxis\": {\"backgroundcolor\": \"#E5ECF6\", \"gridcolor\": \"white\", \"gridwidth\": 2, \"linecolor\": \"white\", \"showbackground\": true, \"ticks\": \"\", \"zerolinecolor\": \"white\"}, \"zaxis\": {\"backgroundcolor\": \"#E5ECF6\", \"gridcolor\": \"white\", \"gridwidth\": 2, \"linecolor\": \"white\", \"showbackground\": true, \"ticks\": \"\", \"zerolinecolor\": \"white\"}}, \"shapedefaults\": {\"line\": {\"color\": \"#2a3f5f\"}}, \"ternary\": {\"aaxis\": {\"gridcolor\": \"white\", \"linecolor\": \"white\", \"ticks\": \"\"}, \"baxis\": {\"gridcolor\": \"white\", \"linecolor\": \"white\", \"ticks\": \"\"}, \"bgcolor\": \"#E5ECF6\", \"caxis\": {\"gridcolor\": \"white\", \"linecolor\": \"white\", \"ticks\": \"\"}}, \"title\": {\"x\": 0.05}, \"xaxis\": {\"automargin\": true, \"gridcolor\": \"white\", \"linecolor\": \"white\", \"ticks\": \"\", \"title\": {\"standoff\": 15}, \"zerolinecolor\": \"white\", \"zerolinewidth\": 2}, \"yaxis\": {\"automargin\": true, \"gridcolor\": \"white\", \"linecolor\": \"white\", \"ticks\": \"\", \"title\": {\"standoff\": 15}, \"zerolinecolor\": \"white\", \"zerolinewidth\": 2}}}, \"xaxis\": {\"anchor\": \"y\", \"domain\": [0.0, 1.0], \"title\": {\"text\": \"State\"}}, \"yaxis\": {\"anchor\": \"x\", \"domain\": [0.0, 1.0], \"title\": {\"text\": \"Total No. of Positive cases\"}}},                        {\"responsive\": true}                    ).then(function(){\n",
       "                            \n",
       "var gd = document.getElementById('001f319b-124a-43a7-b5c8-70df4c215b98');\n",
       "var x = new MutationObserver(function (mutations, observer) {{\n",
       "        var display = window.getComputedStyle(gd).display;\n",
       "        if (!display || display === 'none') {{\n",
       "            console.log([gd, 'removed!']);\n",
       "            Plotly.purge(gd);\n",
       "            observer.disconnect();\n",
       "        }}\n",
       "}});\n",
       "\n",
       "// Listen for the removal of the full notebook cells\n",
       "var notebookContainer = gd.closest('#notebook-container');\n",
       "if (notebookContainer) {{\n",
       "    x.observe(notebookContainer, {childList: true});\n",
       "}}\n",
       "\n",
       "// Listen for the clearing of the current output cell\n",
       "var outputEl = gd.closest('.output');\n",
       "if (outputEl) {{\n",
       "    x.observe(outputEl, {childList: true});\n",
       "}}\n",
       "\n",
       "                        })                };                });            </script>        </div>"
      ]
     },
     "metadata": {},
     "output_type": "display_data"
    }
   ],
   "source": [
    "# Top 10 states with highes Positive cases\n",
    "px.bar(x=covid_testing_state.nlargest(10, 'Positive')['State'],\n",
    "      y=covid_testing_state.nlargest(10, 'Positive')['Positive'],\n",
    "      labels={'y': 'Total No. of Positive cases', 'x': 'State'},\n",
    "      color_discrete_sequence=px.colors.sequential.solar)"
   ]
  },
  {
   "cell_type": "code",
   "execution_count": 74,
   "id": "179dfa5b",
   "metadata": {},
   "outputs": [
    {
     "data": {
      "image/png": "[encoded data removed]",
      "text/plain": [
       "<Figure size 799.625x540 with 12 Axes>"
      ]
     },
     "metadata": {
      "needs_background": "light"
     },
     "output_type": "display_data"
    }
   ],
   "source": [
    "sns.pairplot(covid_testing, hue='State');\n"
   ]
  },
  {
   "cell_type": "markdown",
   "id": "95a1f658",
   "metadata": {},
   "source": [
    "## EDA of Covid india Vaccine Statewise"
   ]
  },
  {
   "cell_type": "code",
   "execution_count": 75,
   "id": "2eb4589a",
   "metadata": {},
   "outputs": [
    {
     "data": {
      "text/html": [
       "<div>\n",
       "<style scoped>\n",
       "    .dataframe tbody tr th:only-of-type {\n",
       "        vertical-align: middle;\n",
       "    }\n",
       "\n",
       "    .dataframe tbody tr th {\n",
       "        vertical-align: top;\n",
       "    }\n",
       "\n",
       "    .dataframe thead th {\n",
       "        text-align: right;\n",
       "    }\n",
       "</style>\n",
       "<table border=\"1\" class=\"dataframe\">\n",
       "  <thead>\n",
       "    <tr style=\"text-align: right;\">\n",
       "      <th></th>\n",
       "      <th>Updated On</th>\n",
       "      <th>State</th>\n",
       "      <th>Total Individuals Vaccinated</th>\n",
       "      <th>Total Sessions Conducted</th>\n",
       "      <th>Total Sites</th>\n",
       "      <th>First Dose Administered</th>\n",
       "      <th>Second Dose Administered</th>\n",
       "      <th>Male(Individuals Vaccinated)</th>\n",
       "      <th>Female(Individuals Vaccinated)</th>\n",
       "      <th>Transgender(Individuals Vaccinated)</th>\n",
       "      <th>Total Covaxin Administered</th>\n",
       "      <th>Total CoviShield Administered</th>\n",
       "      <th>AEFI</th>\n",
       "      <th>18-30 years(Age)</th>\n",
       "      <th>30-45 years(Age)</th>\n",
       "      <th>45-60 years(Age)</th>\n",
       "      <th>60+ years(Age)</th>\n",
       "      <th>Total Doses Administered</th>\n",
       "    </tr>\n",
       "  </thead>\n",
       "  <tbody>\n",
       "    <tr>\n",
       "      <th>0</th>\n",
       "      <td>16/01/2021</td>\n",
       "      <td>India</td>\n",
       "      <td>48276.0</td>\n",
       "      <td>3455.0</td>\n",
       "      <td>2957.0</td>\n",
       "      <td>48276.0</td>\n",
       "      <td>0.0</td>\n",
       "      <td>23757.0</td>\n",
       "      <td>24517.0</td>\n",
       "      <td>2.0</td>\n",
       "      <td>579.0</td>\n",
       "      <td>47697.0</td>\n",
       "      <td>NaN</td>\n",
       "      <td>NaN</td>\n",
       "      <td>NaN</td>\n",
       "      <td>NaN</td>\n",
       "      <td>NaN</td>\n",
       "      <td>48276</td>\n",
       "    </tr>\n",
       "    <tr>\n",
       "      <th>1</th>\n",
       "      <td>17/01/2021</td>\n",
       "      <td>India</td>\n",
       "      <td>58604.0</td>\n",
       "      <td>8532.0</td>\n",
       "      <td>4954.0</td>\n",
       "      <td>58604.0</td>\n",
       "      <td>0.0</td>\n",
       "      <td>27348.0</td>\n",
       "      <td>31252.0</td>\n",
       "      <td>4.0</td>\n",
       "      <td>635.0</td>\n",
       "      <td>57969.0</td>\n",
       "      <td>NaN</td>\n",
       "      <td>NaN</td>\n",
       "      <td>NaN</td>\n",
       "      <td>NaN</td>\n",
       "      <td>NaN</td>\n",
       "      <td>58604</td>\n",
       "    </tr>\n",
       "    <tr>\n",
       "      <th>2</th>\n",
       "      <td>18/01/2021</td>\n",
       "      <td>India</td>\n",
       "      <td>99449.0</td>\n",
       "      <td>13611.0</td>\n",
       "      <td>6583.0</td>\n",
       "      <td>99449.0</td>\n",
       "      <td>0.0</td>\n",
       "      <td>41361.0</td>\n",
       "      <td>58083.0</td>\n",
       "      <td>5.0</td>\n",
       "      <td>1299.0</td>\n",
       "      <td>98150.0</td>\n",
       "      <td>NaN</td>\n",
       "      <td>NaN</td>\n",
       "      <td>NaN</td>\n",
       "      <td>NaN</td>\n",
       "      <td>NaN</td>\n",
       "      <td>99449</td>\n",
       "    </tr>\n",
       "    <tr>\n",
       "      <th>3</th>\n",
       "      <td>19/01/2021</td>\n",
       "      <td>India</td>\n",
       "      <td>195525.0</td>\n",
       "      <td>17855.0</td>\n",
       "      <td>7951.0</td>\n",
       "      <td>195525.0</td>\n",
       "      <td>0.0</td>\n",
       "      <td>81901.0</td>\n",
       "      <td>113613.0</td>\n",
       "      <td>11.0</td>\n",
       "      <td>3017.0</td>\n",
       "      <td>192508.0</td>\n",
       "      <td>NaN</td>\n",
       "      <td>NaN</td>\n",
       "      <td>NaN</td>\n",
       "      <td>NaN</td>\n",
       "      <td>NaN</td>\n",
       "      <td>195525</td>\n",
       "    </tr>\n",
       "    <tr>\n",
       "      <th>4</th>\n",
       "      <td>20/01/2021</td>\n",
       "      <td>India</td>\n",
       "      <td>251280.0</td>\n",
       "      <td>25472.0</td>\n",
       "      <td>10504.0</td>\n",
       "      <td>251280.0</td>\n",
       "      <td>0.0</td>\n",
       "      <td>98111.0</td>\n",
       "      <td>153145.0</td>\n",
       "      <td>24.0</td>\n",
       "      <td>3946.0</td>\n",
       "      <td>247334.0</td>\n",
       "      <td>NaN</td>\n",
       "      <td>NaN</td>\n",
       "      <td>NaN</td>\n",
       "      <td>NaN</td>\n",
       "      <td>NaN</td>\n",
       "      <td>251280</td>\n",
       "    </tr>\n",
       "  </tbody>\n",
       "</table>\n",
       "</div>"
      ],
      "text/plain": [
       "   Updated On  State  Total Individuals Vaccinated  Total Sessions Conducted  \\\n",
       "0  16/01/2021  India                       48276.0                    3455.0   \n",
       "1  17/01/2021  India                       58604.0                    8532.0   \n",
       "2  18/01/2021  India                       99449.0                   13611.0   \n",
       "3  19/01/2021  India                      195525.0                   17855.0   \n",
       "4  20/01/2021  India                      251280.0                   25472.0   \n",
       "\n",
       "   Total Sites   First Dose Administered  Second Dose Administered  \\\n",
       "0        2957.0                  48276.0                       0.0   \n",
       "1        4954.0                  58604.0                       0.0   \n",
       "2        6583.0                  99449.0                       0.0   \n",
       "3        7951.0                 195525.0                       0.0   \n",
       "4       10504.0                 251280.0                       0.0   \n",
       "\n",
       "   Male(Individuals Vaccinated)  Female(Individuals Vaccinated)  \\\n",
       "0                       23757.0                         24517.0   \n",
       "1                       27348.0                         31252.0   \n",
       "2                       41361.0                         58083.0   \n",
       "3                       81901.0                        113613.0   \n",
       "4                       98111.0                        153145.0   \n",
       "\n",
       "   Transgender(Individuals Vaccinated)  Total Covaxin Administered  \\\n",
       "0                                  2.0                       579.0   \n",
       "1                                  4.0                       635.0   \n",
       "2                                  5.0                      1299.0   \n",
       "3                                 11.0                      3017.0   \n",
       "4                                 24.0                      3946.0   \n",
       "\n",
       "   Total CoviShield Administered  AEFI  18-30 years(Age)  30-45 years(Age)  \\\n",
       "0                        47697.0   NaN               NaN               NaN   \n",
       "1                        57969.0   NaN               NaN               NaN   \n",
       "2                        98150.0   NaN               NaN               NaN   \n",
       "3                       192508.0   NaN               NaN               NaN   \n",
       "4                       247334.0   NaN               NaN               NaN   \n",
       "\n",
       "   45-60 years(Age)  60+ years(Age)  Total Doses Administered  \n",
       "0               NaN             NaN                     48276  \n",
       "1               NaN             NaN                     58604  \n",
       "2               NaN             NaN                     99449  \n",
       "3               NaN             NaN                    195525  \n",
       "4               NaN             NaN                    251280  "
      ]
     },
     "execution_count": 75,
     "metadata": {},
     "output_type": "execute_result"
    }
   ],
   "source": [
    "covid_vaccine = pd.read_csv('Data/covid_vaccine_statewise.csv')\n",
    "covid_vaccine.head()"
   ]
  },
  {
   "cell_type": "code",
   "execution_count": 76,
   "id": "c1933b00",
   "metadata": {},
   "outputs": [
    {
     "data": {
      "text/plain": [
       "(3996, 18)"
      ]
     },
     "execution_count": 76,
     "metadata": {},
     "output_type": "execute_result"
    }
   ],
   "source": [
    "covid_vaccine.shape"
   ]
  },
  {
   "cell_type": "code",
   "execution_count": 77,
   "id": "bf127224",
   "metadata": {},
   "outputs": [
    {
     "name": "stdout",
     "output_type": "stream",
     "text": [
      "<class 'pandas.core.frame.DataFrame'>\n",
      "RangeIndex: 3996 entries, 0 to 3995\n",
      "Data columns (total 18 columns):\n",
      " #   Column                               Non-Null Count  Dtype  \n",
      "---  ------                               --------------  -----  \n",
      " 0   Updated On                           3996 non-null   object \n",
      " 1   State                                3996 non-null   object \n",
      " 2   Total Individuals Vaccinated         3952 non-null   float64\n",
      " 3   Total Sessions Conducted             3952 non-null   float64\n",
      " 4   Total Sites                          3952 non-null   float64\n",
      " 5   First Dose Administered              3952 non-null   float64\n",
      " 6   Second Dose Administered             3952 non-null   float64\n",
      " 7   Male(Individuals Vaccinated)         3952 non-null   float64\n",
      " 8   Female(Individuals Vaccinated)       3952 non-null   float64\n",
      " 9   Transgender(Individuals Vaccinated)  3952 non-null   float64\n",
      " 10  Total Covaxin Administered           3952 non-null   float64\n",
      " 11  Total CoviShield Administered        3952 non-null   float64\n",
      " 12  AEFI                                 117 non-null    float64\n",
      " 13  18-30 years(Age)                     74 non-null     float64\n",
      " 14  30-45 years(Age)                     74 non-null     float64\n",
      " 15  45-60 years(Age)                     74 non-null     float64\n",
      " 16  60+ years(Age)                       74 non-null     float64\n",
      " 17  Total Doses Administered             3996 non-null   int64  \n",
      "dtypes: float64(15), int64(1), object(2)\n",
      "memory usage: 562.1+ KB\n"
     ]
    }
   ],
   "source": [
    "covid_vaccine.info()"
   ]
  },
  {
   "cell_type": "code",
   "execution_count": 78,
   "id": "50bf2950",
   "metadata": {},
   "outputs": [
    {
     "data": {
      "text/plain": [
       "Updated On                                0\n",
       "State                                     0\n",
       "Total Individuals Vaccinated             44\n",
       "Total Sessions Conducted                 44\n",
       "Total Sites                              44\n",
       "First Dose Administered                  44\n",
       "Second Dose Administered                 44\n",
       "Male(Individuals Vaccinated)             44\n",
       "Female(Individuals Vaccinated)           44\n",
       "Transgender(Individuals Vaccinated)      44\n",
       "Total Covaxin Administered               44\n",
       "Total CoviShield Administered            44\n",
       "AEFI                                   3879\n",
       "18-30 years(Age)                       3922\n",
       "30-45 years(Age)                       3922\n",
       "45-60 years(Age)                       3922\n",
       "60+ years(Age)                         3922\n",
       "Total Doses Administered                  0\n",
       "dtype: int64"
      ]
     },
     "execution_count": 78,
     "metadata": {},
     "output_type": "execute_result"
    }
   ],
   "source": [
    "covid_vaccine.isna().sum()"
   ]
  },
  {
   "cell_type": "code",
   "execution_count": null,
   "id": "67501258",
   "metadata": {},
   "outputs": [],
   "source": []
  },
  {
   "cell_type": "code",
   "execution_count": null,
   "id": "3e43cd8c",
   "metadata": {},
   "outputs": [],
   "source": []
  }
 ],
 "metadata": {
  "kernelspec": {
   "display_name": "Python 3",
   "language": "python",
   "name": "python3"
  },
  "language_info": {
   "codemirror_mode": {
    "name": "ipython",
    "version": 3
   },
   "file_extension": ".py",
   "mimetype": "text/x-python",
   "name": "python",
   "nbconvert_exporter": "python",
   "pygments_lexer": "ipython3",
   "version": "3.9.4"
  }
 },
 "nbformat": 4,
 "nbformat_minor": 5
}
